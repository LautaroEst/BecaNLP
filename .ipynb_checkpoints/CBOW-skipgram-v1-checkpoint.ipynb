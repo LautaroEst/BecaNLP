{
 "cells": [
  {
   "cell_type": "markdown",
   "metadata": {},
   "source": [
    "# Implementación de CBOW y Skip-Gram\n",
    "\n",
    "\n",
    "Vamos a implementar los algoritmos de `word2vec` con un corpus de prueba."
   ]
  },
  {
   "cell_type": "code",
   "execution_count": 2,
   "metadata": {},
   "outputs": [],
   "source": [
    "import torch\n",
    "from torch.utils.data import Dataset, DataLoader\n",
    "import torch.nn as nn\n",
    "import torch.functional as F\n",
    "\n"
   ]
  },
  {
   "cell_type": "code",
   "execution_count": 20,
   "metadata": {},
   "outputs": [
    {
     "data": {
      "text/plain": [
       "[1, 2, 3]"
      ]
     },
     "execution_count": 20,
     "metadata": {},
     "output_type": "execute_result"
    }
   ],
   "source": [
    "l = [1,2,3,4]\n",
    "l.pop(3)\n",
    "l"
   ]
  },
  {
   "cell_type": "code",
   "execution_count": 39,
   "metadata": {},
   "outputs": [
    {
     "name": "stdout",
     "output_type": "stream",
     "text": [
      "['La', 'historia', 'de', 'la', 'pizza', 'comienza', 'probablemente', 'hace', 'tiempo', 'con']\n",
      "('La', ['historia', 'de', 'la'])\n"
     ]
    }
   ],
   "source": [
    "import re \n",
    "\n",
    "class CorpusDataset(Dataset):\n",
    "    \n",
    "    def __init__(self, filename, delimiters, window_size):\n",
    "        \n",
    "        f = open(filename, 'r')\n",
    "        text = f.read()\n",
    "        f.close()\n",
    "        d_list = '|'.join(map(re.escape, delimiters))\n",
    "        parsed_text = re.split(d_list,text)\n",
    "        self.corpus = parsed_text\n",
    "        self.corpus_words = sorted(list(set([item for item in self.corpus])))\n",
    "        self.num_corpus_words = len(self.corpus_words)\n",
    "        self.window_size = window_size\n",
    "        \n",
    "    def __len__(self):\n",
    "        return len(self.corpus)\n",
    "    \n",
    "    def __getitem__(self, idx):\n",
    "        l = len(self.corpus)\n",
    "        word = self.corpus[idx]\n",
    "        if idx - self.window_size >= 0 and idx + self.window_size < l:\n",
    "            context = [w for w in self.corpus[idx-self.window_size:idx+self.window_size+1]]\n",
    "            context.pop(self.window_size)\n",
    "        elif idx - self.window_size >= 0 and idx < l:\n",
    "            context = [w for w in self.corpus[idx - self.window_size:]]\n",
    "            context.pop(-1)\n",
    "        elif idx + window_size < l and idx >=0:\n",
    "            context = [w for w in self.corpus[:idx+self.window_size+1]]\n",
    "            context.pop(0)\n",
    "        else:\n",
    "            print('Índice no encontrado')\n",
    "            return\n",
    "        return word, context\n",
    "    \n",
    "    \n",
    "delimiters = [' ', ',', '.', '?', '¿', '<', '>', ':', ';', '\"', '-', '(', ')']    \n",
    "window_size = 3\n",
    "data = CorpusDataset('historia_de_la_pizza.txt', delimiters, window_size)\n",
    "print(data.corpus[:10])\n",
    "print(data[0])"
   ]
  }
 ],
 "metadata": {
  "kernelspec": {
   "display_name": "Python 3",
   "language": "python",
   "name": "python3"
  },
  "language_info": {
   "codemirror_mode": {
    "name": "ipython",
    "version": 3
   },
   "file_extension": ".py",
   "mimetype": "text/x-python",
   "name": "python",
   "nbconvert_exporter": "python",
   "pygments_lexer": "ipython3",
   "version": "3.7.3"
  }
 },
 "nbformat": 4,
 "nbformat_minor": 2
}
