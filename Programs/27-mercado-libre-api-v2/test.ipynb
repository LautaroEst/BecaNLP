{
 "cells": [
  {
   "cell_type": "code",
   "execution_count": 4,
   "metadata": {},
   "outputs": [],
   "source": [
    "import os\n",
    "import pandas as pd\n",
    "import numpy as np\n",
    "import re"
   ]
  },
  {
   "cell_type": "code",
   "execution_count": 25,
   "metadata": {},
   "outputs": [],
   "source": [
    "data1_countries = ['Argentina','Colombia']\n",
    "data1 = pd.concat([pd.read_csv('./products/{}.csv'.format(country)) for country in data1_countries]).drop_duplicates(subset=['prod_id'])\n",
    "\n",
    "data2_countries = ['Chile','Mexico']\n",
    "data2 = pd.concat([pd.read_csv('./products/{}.csv'.format(country)) for country in data2_countries]).drop_duplicates(subset=['prod_id'])\n",
    "\n",
    "data3_countries = ['Perú','Uruguay']\n",
    "data3 = pd.concat([pd.read_csv('./products/{}.csv'.format(country)) for country in data3_countries]).drop_duplicates(subset=['prod_id'])\n",
    "\n",
    "data4_countries = ['Venezuela','Brasil']\n",
    "data4 = pd.concat([pd.read_csv('./products/{}.csv'.format(country)) for country in data4_countries]).drop_duplicates(subset=['prod_id'])"
   ]
  },
  {
   "cell_type": "code",
   "execution_count": 38,
   "metadata": {},
   "outputs": [
    {
     "name": "stdout",
     "output_type": "stream",
     "text": [
      "True True\n",
      "True True\n",
      "True True\n",
      "True True\n"
     ]
    }
   ],
   "source": [
    "data = '-'.join(sorted(os.listdir('./parts')))\n",
    "\n",
    "for i, df in enumerate([data1, data2, data3, data4],1):\n",
    "    pattern = re.compile(r'reviews_data{}_part(\\d+)'.format(i))\n",
    "    data_list = [int(match.group(1)) for match in pattern.finditer(data)]\n",
    "    max_data = max(data_list)\n",
    "    print(max_data / 200 == len(data_list), len(df) - (len(df) % 200) == max_data)"
   ]
  }
 ],
 "metadata": {
  "kernelspec": {
   "display_name": "Python 3",
   "language": "python",
   "name": "python3"
  },
  "language_info": {
   "codemirror_mode": {
    "name": "ipython",
    "version": 3
   },
   "file_extension": ".py",
   "mimetype": "text/x-python",
   "name": "python",
   "nbconvert_exporter": "python",
   "pygments_lexer": "ipython3",
   "version": "3.8.3"
  }
 },
 "nbformat": 4,
 "nbformat_minor": 4
}
