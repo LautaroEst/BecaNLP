{
 "cells": [
  {
   "cell_type": "markdown",
   "metadata": {},
   "source": [
    "# Hoy es 18 de agosto y se terminaron de bajar los comentarios de ML"
   ]
  },
  {
   "cell_type": "code",
   "execution_count": 3,
   "metadata": {},
   "outputs": [],
   "source": [
    "import os\n",
    "import pandas as pd\n",
    "import numpy as np\n",
    "import string\n",
    "import re\n",
    "#import fasttext"
   ]
  },
  {
   "cell_type": "code",
   "execution_count": 5,
   "metadata": {},
   "outputs": [
    {
     "name": "stdout",
     "output_type": "stream",
     "text": [
      "leyendo los datos...\n"
     ]
    },
    {
     "data": {
      "text/html": [
       "<div>\n",
       "<style scoped>\n",
       "    .dataframe tbody tr th:only-of-type {\n",
       "        vertical-align: middle;\n",
       "    }\n",
       "\n",
       "    .dataframe tbody tr th {\n",
       "        vertical-align: top;\n",
       "    }\n",
       "\n",
       "    .dataframe thead th {\n",
       "        text-align: right;\n",
       "    }\n",
       "</style>\n",
       "<table border=\"1\" class=\"dataframe\">\n",
       "  <thead>\n",
       "    <tr style=\"text-align: right;\">\n",
       "      <th></th>\n",
       "      <th>prod_id</th>\n",
       "      <th>cat_id</th>\n",
       "      <th>review_id</th>\n",
       "      <th>country</th>\n",
       "      <th>prod_title</th>\n",
       "      <th>reviewer_id</th>\n",
       "      <th>review_date</th>\n",
       "      <th>review_status</th>\n",
       "      <th>review_title</th>\n",
       "      <th>review_content</th>\n",
       "      <th>review_rate</th>\n",
       "      <th>review_likes</th>\n",
       "      <th>review_dislikes</th>\n",
       "    </tr>\n",
       "  </thead>\n",
       "  <tbody>\n",
       "    <tr>\n",
       "      <th>0</th>\n",
       "      <td>MLA739744701</td>\n",
       "      <td>MLA432788</td>\n",
       "      <td>69293174</td>\n",
       "      <td>MLA</td>\n",
       "      <td>Granza - Grava Para Peceras Acuarios X 3 Kilos...</td>\n",
       "      <td>183875093</td>\n",
       "      <td>2020-07-09T11:55:12.000-04:00</td>\n",
       "      <td>published</td>\n",
       "      <td>Muy bueno</td>\n",
       "      <td>Todo como debe ser. Lo recomiendo.</td>\n",
       "      <td>4</td>\n",
       "      <td>0</td>\n",
       "      <td>0</td>\n",
       "    </tr>\n",
       "    <tr>\n",
       "      <th>1</th>\n",
       "      <td>MLA739744701</td>\n",
       "      <td>MLA432788</td>\n",
       "      <td>56800912</td>\n",
       "      <td>MLA</td>\n",
       "      <td>Granza - Grava Para Peceras Acuarios X 3 Kilos...</td>\n",
       "      <td>175171274</td>\n",
       "      <td>2020-02-27T12:45:24.000-04:00</td>\n",
       "      <td>published</td>\n",
       "      <td>Mis peces agradecen mucho sus piedritas :D</td>\n",
       "      <td>Buenísimo el producto! no traten de comerlo ig...</td>\n",
       "      <td>5</td>\n",
       "      <td>0</td>\n",
       "      <td>0</td>\n",
       "    </tr>\n",
       "    <tr>\n",
       "      <th>2</th>\n",
       "      <td>MLA739744701</td>\n",
       "      <td>MLA432788</td>\n",
       "      <td>52758737</td>\n",
       "      <td>MLA</td>\n",
       "      <td>Granza - Grava Para Peceras Acuarios X 3 Kilos...</td>\n",
       "      <td>135187285</td>\n",
       "      <td>2020-01-02T14:44:52.000-04:00</td>\n",
       "      <td>published</td>\n",
       "      <td>Excelente</td>\n",
       "      <td>Excelente, las uso para macetas de suculentas,...</td>\n",
       "      <td>5</td>\n",
       "      <td>0</td>\n",
       "      <td>0</td>\n",
       "    </tr>\n",
       "    <tr>\n",
       "      <th>3</th>\n",
       "      <td>MLA751596868</td>\n",
       "      <td>MLA432788</td>\n",
       "      <td>66792680</td>\n",
       "      <td>MLA</td>\n",
       "      <td>Grava Negra Acuarios-hidroponia Por Litro (nuevo)</td>\n",
       "      <td>115756469</td>\n",
       "      <td>2020-06-21T01:30:10.000-04:00</td>\n",
       "      <td>published</td>\n",
       "      <td>Excelente</td>\n",
       "      <td>Muy buena grava, queda muy lindo en acuarios y...</td>\n",
       "      <td>5</td>\n",
       "      <td>0</td>\n",
       "      <td>0</td>\n",
       "    </tr>\n",
       "    <tr>\n",
       "      <th>4</th>\n",
       "      <td>MLA641214779</td>\n",
       "      <td>MLA432788</td>\n",
       "      <td>22434109</td>\n",
       "      <td>MLA</td>\n",
       "      <td>Arena De Marmol Negro Super Fina Grava Acuario...</td>\n",
       "      <td>5999479</td>\n",
       "      <td>2018-01-19T16:42:07.000-04:00</td>\n",
       "      <td>published</td>\n",
       "      <td>Excelente</td>\n",
       "      <td>Muy bueno para peceras de ciclidos.</td>\n",
       "      <td>5</td>\n",
       "      <td>0</td>\n",
       "      <td>0</td>\n",
       "    </tr>\n",
       "  </tbody>\n",
       "</table>\n",
       "</div>"
      ],
      "text/plain": [
       "        prod_id     cat_id  review_id country  \\\n",
       "0  MLA739744701  MLA432788   69293174     MLA   \n",
       "1  MLA739744701  MLA432788   56800912     MLA   \n",
       "2  MLA739744701  MLA432788   52758737     MLA   \n",
       "3  MLA751596868  MLA432788   66792680     MLA   \n",
       "4  MLA641214779  MLA432788   22434109     MLA   \n",
       "\n",
       "                                          prod_title  reviewer_id  \\\n",
       "0  Granza - Grava Para Peceras Acuarios X 3 Kilos...    183875093   \n",
       "1  Granza - Grava Para Peceras Acuarios X 3 Kilos...    175171274   \n",
       "2  Granza - Grava Para Peceras Acuarios X 3 Kilos...    135187285   \n",
       "3  Grava Negra Acuarios-hidroponia Por Litro (nuevo)    115756469   \n",
       "4  Arena De Marmol Negro Super Fina Grava Acuario...      5999479   \n",
       "\n",
       "                     review_date review_status  \\\n",
       "0  2020-07-09T11:55:12.000-04:00     published   \n",
       "1  2020-02-27T12:45:24.000-04:00     published   \n",
       "2  2020-01-02T14:44:52.000-04:00     published   \n",
       "3  2020-06-21T01:30:10.000-04:00     published   \n",
       "4  2018-01-19T16:42:07.000-04:00     published   \n",
       "\n",
       "                                 review_title  \\\n",
       "0                                   Muy bueno   \n",
       "1  Mis peces agradecen mucho sus piedritas :D   \n",
       "2                                   Excelente   \n",
       "3                                   Excelente   \n",
       "4                                   Excelente   \n",
       "\n",
       "                                      review_content  review_rate  \\\n",
       "0                 Todo como debe ser. Lo recomiendo.            4   \n",
       "1  Buenísimo el producto! no traten de comerlo ig...            5   \n",
       "2  Excelente, las uso para macetas de suculentas,...            5   \n",
       "3  Muy buena grava, queda muy lindo en acuarios y...            5   \n",
       "4                Muy bueno para peceras de ciclidos.            5   \n",
       "\n",
       "   review_likes  review_dislikes  \n",
       "0             0                0  \n",
       "1             0                0  \n",
       "2             0                0  \n",
       "3             0                0  \n",
       "4             0                0  "
      ]
     },
     "execution_count": 5,
     "metadata": {},
     "output_type": "execute_result"
    }
   ],
   "source": [
    "# Leo los datos:\n",
    "print('leyendo los datos...')\n",
    "df = pd.concat([pd.read_csv('./parts/{}'.format(filename)) for filename in os.listdir('./parts/')[:3]])\n",
    "df.head(5)"
   ]
  },
  {
   "cell_type": "code",
   "execution_count": 6,
   "metadata": {},
   "outputs": [
    {
     "data": {
      "text/plain": [
       "802"
      ]
     },
     "execution_count": 6,
     "metadata": {},
     "output_type": "execute_result"
    }
   ],
   "source": [
    "len(df)"
   ]
  },
  {
   "cell_type": "code",
   "execution_count": 4,
   "metadata": {},
   "outputs": [
    {
     "name": "stdout",
     "output_type": "stream",
     "text": [
      "eliminando duplicados...\n",
      "limpiando espacios...\n"
     ]
    }
   ],
   "source": [
    "# Elimino los duplicados:\n",
    "print('eliminando duplicados...')\n",
    "df = df.drop_duplicates(subset=['review_content']).reset_index(drop=True)\n",
    "\n",
    "# Cambio todos los espacios por espacios simples:\n",
    "print('limpiando espacios...')\n",
    "df['review_content'] = df['review_content'].str.replace(r'\\s+',' ',regex=True)"
   ]
  },
  {
   "cell_type": "code",
   "execution_count": 5,
   "metadata": {},
   "outputs": [
    {
     "data": {
      "text/plain": [
       "3827478"
      ]
     },
     "execution_count": 5,
     "metadata": {},
     "output_type": "execute_result"
    }
   ],
   "source": [
    "len(df)"
   ]
  },
  {
   "cell_type": "code",
   "execution_count": 6,
   "metadata": {},
   "outputs": [
    {
     "name": "stdout",
     "output_type": "stream",
     "text": [
      "eliminando comentarios con caracteres raros...\n",
      "separando por país...\n",
      "eliminando por idioma...\n",
      "eliminando por idioma...\n"
     ]
    }
   ],
   "source": [
    "# Defino los caracteres con los que me voy a quedar y elimino \n",
    "# los comentarios que tienen caracteres que no van:\n",
    "print('eliminando comentarios con caracteres raros...')\n",
    "non_ascii = 'áàâãäÁÀÂÃÄéèêëÉÈÊẼËíìîĩïÍÌÎĨÏóòôõöÓÒÔÕÖúùûũüÚÙÛŨÜñÑçÇ'\n",
    "chars_vocab = string.digits + string.ascii_letters + string.punctuation + string.whitespace + non_ascii\n",
    "all_chars = df['review_content'].str.split('').explode().value_counts().index\n",
    "chars_to_remove = list(set(all_chars) - set(chars_vocab) - {''})\n",
    "chars_to_remove_regex = '|'.join(sorted([re.escape(c) for c in chars_to_remove]))\n",
    "df = df[-df['review_content'].str.contains(chars_to_remove_regex,regex=True,na=True)].reset_index(drop=True)\n",
    "\n",
    "# Separo por país:\n",
    "print('separando por país...')\n",
    "df_por = df[df['country'] == 'MLB'].reset_index(drop=True)\n",
    "df_esp = df[df['country'] != 'MLB'].reset_index(drop=True)\n",
    "\n",
    "# Elimino comentarios en otros idiomas:\n",
    "model_predict = fasttext.load_model('./lid.176.bin').predict\n",
    "def detect_language(s):\n",
    "    l, _ = next(zip(*model_predict(s, k=1)))\n",
    "    return l\n",
    "print('eliminando por idioma...')\n",
    "df_por = df_por[df_por['review_content'].apply(detect_language) == '__label__pt'].reset_index(drop=True)\n",
    "print('eliminando por idioma...')\n",
    "df_esp = df_esp[df_esp['review_content'].apply(detect_language) == '__label__es'].reset_index(drop=True)"
   ]
  },
  {
   "cell_type": "code",
   "execution_count": 12,
   "metadata": {},
   "outputs": [
    {
     "data": {
      "text/plain": [
       "2477372"
      ]
     },
     "execution_count": 12,
     "metadata": {},
     "output_type": "execute_result"
    }
   ],
   "source": [
    "len(df[df['country'] != 'MLB'])"
   ]
  },
  {
   "cell_type": "code",
   "execution_count": 7,
   "metadata": {},
   "outputs": [
    {
     "data": {
      "text/plain": [
       "(1317260, 2462107)"
      ]
     },
     "execution_count": 7,
     "metadata": {},
     "output_type": "execute_result"
    }
   ],
   "source": [
    "len(df_por), len(df_esp)"
   ]
  },
  {
   "cell_type": "markdown",
   "metadata": {},
   "source": [
    "Ver longitud de comentarios"
   ]
  },
  {
   "cell_type": "code",
   "execution_count": 8,
   "metadata": {},
   "outputs": [
    {
     "name": "stdout",
     "output_type": "stream",
     "text": [
      "5.0    1371660\n",
      "4.0     395016\n",
      "3.0     132461\n",
      "1.0      62504\n",
      "2.0      44498\n",
      "Name: review_rate, dtype: int64\n",
      "5.0    652203\n",
      "4.0    174461\n",
      "3.0     72922\n",
      "1.0     46556\n",
      "2.0     30623\n",
      "Name: review_rate, dtype: int64\n",
      "guardando resultados...\n"
     ]
    }
   ],
   "source": [
    "max_comments = 30 # cantidad máxima de comentarios por producto\n",
    "n = 30000 # cantidad de comentarios por calificación\n",
    "    \n",
    "def filter_by_importance(df,max_comments,n):\n",
    "\n",
    "    # Pesos de cada característica\n",
    "    w_rate = 1.\n",
    "    w_like = .5\n",
    "    w_dislike = .1\n",
    "    w_country = 1.\n",
    "\n",
    "    # Puntuación parcial de cada característica\n",
    "    score_rate = 1/df['review_rate']\n",
    "    score_rate = (score_rate-min(score_rate))/(max(score_rate)-min(score_rate))\n",
    "    score_like = (df['review_likes']-min(df['review_likes']))/(max(df['review_likes'])-min(df['review_likes']))\n",
    "    score_dislike = (df['review_dislikes']-min(df['review_dislikes']))/(max(df['review_dislikes'])-min(df['review_dislikes']))\n",
    "    countries = df['country'].value_counts()\n",
    "    total_counts = sum(countries)\n",
    "    country2score = {country: countries[country] / total_counts for country in countries.index}\n",
    "    score_country = df['country'].map(country2score)\n",
    "    score_country = (score_country-min(score_country))/(max(score_country)-min(score_country))\n",
    "    score_country.fillna(0,inplace=True)\n",
    "\n",
    "    # Puntuación total\n",
    "    total_score = w_rate*score_rate + w_like*score_like + w_dislike*score_dislike - w_country*score_country\n",
    "\n",
    "    # Reordeno los comentarios por importancia y me quedo con,\n",
    "    # a lo sumo, max_comments por comentario\n",
    "    indices = total_score.sort_values(ascending=False).index\n",
    "    df = df.loc[indices,:].reset_index(drop=True)\n",
    "    df = df.groupby('prod_id').head(max_comments)\n",
    "\n",
    "    print(df['review_rate'].value_counts())\n",
    "    # Muestreamos aleatoriamente para quedarnos con n comentarios por rate, y mezclamos:\n",
    "    random_state = 1234\n",
    "    random_state = np.random.RandomState(random_state)\n",
    "    df = df.iloc[np.hstack([random_state.choice(arr, n, replace=False) \n",
    "                           for arr in df.groupby('review_rate').indices.values()]),:].reset_index(drop=True)\n",
    "    df = df.iloc[random_state.permutation(len(df)),:].reset_index(drop=True)\n",
    "\n",
    "    return df\n",
    "\n",
    "df_esp_filtered = filter_by_importance(df_esp,max_comments,n)\n",
    "df_por_filtered = filter_by_importance(df_por,max_comments,n)\n",
    "\n",
    "print('guardando resultados...')\n",
    "df_esp_filtered.to_csv('data_esp.csv',index=False)\n",
    "df_por_filtered.to_csv('data_por.csv',index=False)"
   ]
  },
  {
   "cell_type": "markdown",
   "metadata": {},
   "source": [
    "# TO DO:\n",
    "\n",
    "* Terminar de filtrar los comentarios:\n",
    "    * Ver longitud de los comentarios\n",
    "    * Revisar diferencias entre rate y calificación\n",
    "    * ...\n",
    "* Trabajar en paralelo con un dataset en inglés: \n",
    "    * juntar un dataset parecido (amazon?) y probar los modelos entrenados para uno y para otro. \n",
    "    * Probar performance de un modelo multilingüe\n",
    "    * ...\n",
    "    \n",
    "* Hacer el github y empezar a subir archivos."
   ]
  }
 ],
 "metadata": {
  "kernelspec": {
   "display_name": "Python 3",
   "language": "python",
   "name": "python3"
  },
  "language_info": {
   "codemirror_mode": {
    "name": "ipython",
    "version": 3
   },
   "file_extension": ".py",
   "mimetype": "text/x-python",
   "name": "python",
   "nbconvert_exporter": "python",
   "pygments_lexer": "ipython3",
   "version": "3.7.6"
  }
 },
 "nbformat": 4,
 "nbformat_minor": 4
}
