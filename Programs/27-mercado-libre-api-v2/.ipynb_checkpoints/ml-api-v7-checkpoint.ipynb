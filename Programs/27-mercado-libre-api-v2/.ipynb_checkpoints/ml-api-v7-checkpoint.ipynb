{
 "cells": [
  {
   "cell_type": "markdown",
   "metadata": {},
   "source": [
    "# Hoy es 18 de agosto y se terminaron de bajar los comentarios de ML"
   ]
  },
  {
   "cell_type": "code",
   "execution_count": 1,
   "metadata": {},
   "outputs": [],
   "source": [
    "import os\n",
    "import pandas as pd\n",
    "import numpy as np\n",
    "import string\n",
    "import re\n",
    "import fasttext"
   ]
  },
  {
   "cell_type": "code",
   "execution_count": 2,
   "metadata": {},
   "outputs": [
    {
     "name": "stdout",
     "output_type": "stream",
     "text": [
      "leyendo los datos...\n"
     ]
    },
    {
     "data": {
      "text/html": [
       "<div>\n",
       "<style scoped>\n",
       "    .dataframe tbody tr th:only-of-type {\n",
       "        vertical-align: middle;\n",
       "    }\n",
       "\n",
       "    .dataframe tbody tr th {\n",
       "        vertical-align: top;\n",
       "    }\n",
       "\n",
       "    .dataframe thead th {\n",
       "        text-align: right;\n",
       "    }\n",
       "</style>\n",
       "<table border=\"1\" class=\"dataframe\">\n",
       "  <thead>\n",
       "    <tr style=\"text-align: right;\">\n",
       "      <th></th>\n",
       "      <th>prod_id</th>\n",
       "      <th>cat_id</th>\n",
       "      <th>review_id</th>\n",
       "      <th>country</th>\n",
       "      <th>prod_title</th>\n",
       "      <th>reviewer_id</th>\n",
       "      <th>review_date</th>\n",
       "      <th>review_status</th>\n",
       "      <th>review_title</th>\n",
       "      <th>review_content</th>\n",
       "      <th>review_rate</th>\n",
       "      <th>review_likes</th>\n",
       "      <th>review_dislikes</th>\n",
       "    </tr>\n",
       "  </thead>\n",
       "  <tbody>\n",
       "    <tr>\n",
       "      <th>0</th>\n",
       "      <td>MCO562854985</td>\n",
       "      <td>MCO414161</td>\n",
       "      <td>69670704</td>\n",
       "      <td>MCO</td>\n",
       "      <td>Brochas De Silicon Kitchen-art Para Cocina</td>\n",
       "      <td>102967489.0</td>\n",
       "      <td>2020-07-12T08:49:20.000-04:00</td>\n",
       "      <td>published</td>\n",
       "      <td>Excelente</td>\n",
       "      <td>Buen precio y excelente calidad.</td>\n",
       "      <td>5.0</td>\n",
       "      <td>0.0</td>\n",
       "      <td>0.0</td>\n",
       "    </tr>\n",
       "    <tr>\n",
       "      <th>1</th>\n",
       "      <td>MCO562854985</td>\n",
       "      <td>MCO414161</td>\n",
       "      <td>63638095</td>\n",
       "      <td>MCO</td>\n",
       "      <td>Brochas De Silicon Kitchen-art Para Cocina</td>\n",
       "      <td>187817503.0</td>\n",
       "      <td>2020-05-28T09:55:50.000-04:00</td>\n",
       "      <td>published</td>\n",
       "      <td>Cumple con las expectativas</td>\n",
       "      <td>Cumple con las características informadas en e...</td>\n",
       "      <td>5.0</td>\n",
       "      <td>0.0</td>\n",
       "      <td>0.0</td>\n",
       "    </tr>\n",
       "    <tr>\n",
       "      <th>2</th>\n",
       "      <td>MCO562854985</td>\n",
       "      <td>MCO414161</td>\n",
       "      <td>72276686</td>\n",
       "      <td>MCO</td>\n",
       "      <td>Brochas De Silicon Kitchen-art Para Cocina</td>\n",
       "      <td>292154249.0</td>\n",
       "      <td>2020-07-30T06:10:29.000-04:00</td>\n",
       "      <td>published</td>\n",
       "      <td>Buena</td>\n",
       "      <td>La brocha me ha sido de utilidad, me gusto!.</td>\n",
       "      <td>5.0</td>\n",
       "      <td>0.0</td>\n",
       "      <td>0.0</td>\n",
       "    </tr>\n",
       "    <tr>\n",
       "      <th>3</th>\n",
       "      <td>MCO562854985</td>\n",
       "      <td>MCO414161</td>\n",
       "      <td>65251315</td>\n",
       "      <td>MCO</td>\n",
       "      <td>Brochas De Silicon Kitchen-art Para Cocina</td>\n",
       "      <td>87759276.0</td>\n",
       "      <td>2020-06-09T16:15:40.000-04:00</td>\n",
       "      <td>published</td>\n",
       "      <td>Excelente.</td>\n",
       "      <td>Excelente calidad, fácil de lavar.</td>\n",
       "      <td>5.0</td>\n",
       "      <td>0.0</td>\n",
       "      <td>0.0</td>\n",
       "    </tr>\n",
       "    <tr>\n",
       "      <th>4</th>\n",
       "      <td>MCO562854985</td>\n",
       "      <td>MCO414161</td>\n",
       "      <td>69112317</td>\n",
       "      <td>MCO</td>\n",
       "      <td>Brochas De Silicon Kitchen-art Para Cocina</td>\n",
       "      <td>64548045.0</td>\n",
       "      <td>2020-07-08T09:15:42.000-04:00</td>\n",
       "      <td>published</td>\n",
       "      <td>Excelente</td>\n",
       "      <td>Funciona correctamente y el tamaño es ideal.</td>\n",
       "      <td>5.0</td>\n",
       "      <td>0.0</td>\n",
       "      <td>0.0</td>\n",
       "    </tr>\n",
       "  </tbody>\n",
       "</table>\n",
       "</div>"
      ],
      "text/plain": [
       "        prod_id     cat_id review_id country  \\\n",
       "0  MCO562854985  MCO414161  69670704     MCO   \n",
       "1  MCO562854985  MCO414161  63638095     MCO   \n",
       "2  MCO562854985  MCO414161  72276686     MCO   \n",
       "3  MCO562854985  MCO414161  65251315     MCO   \n",
       "4  MCO562854985  MCO414161  69112317     MCO   \n",
       "\n",
       "                                   prod_title  reviewer_id  \\\n",
       "0  Brochas De Silicon Kitchen-art Para Cocina  102967489.0   \n",
       "1  Brochas De Silicon Kitchen-art Para Cocina  187817503.0   \n",
       "2  Brochas De Silicon Kitchen-art Para Cocina  292154249.0   \n",
       "3  Brochas De Silicon Kitchen-art Para Cocina   87759276.0   \n",
       "4  Brochas De Silicon Kitchen-art Para Cocina   64548045.0   \n",
       "\n",
       "                     review_date review_status                 review_title  \\\n",
       "0  2020-07-12T08:49:20.000-04:00     published                    Excelente   \n",
       "1  2020-05-28T09:55:50.000-04:00     published  Cumple con las expectativas   \n",
       "2  2020-07-30T06:10:29.000-04:00     published                        Buena   \n",
       "3  2020-06-09T16:15:40.000-04:00     published                   Excelente.   \n",
       "4  2020-07-08T09:15:42.000-04:00     published                    Excelente   \n",
       "\n",
       "                                      review_content  review_rate  \\\n",
       "0                   Buen precio y excelente calidad.          5.0   \n",
       "1  Cumple con las características informadas en e...          5.0   \n",
       "2       La brocha me ha sido de utilidad, me gusto!.          5.0   \n",
       "3                 Excelente calidad, fácil de lavar.          5.0   \n",
       "4       Funciona correctamente y el tamaño es ideal.          5.0   \n",
       "\n",
       "   review_likes  review_dislikes  \n",
       "0           0.0              0.0  \n",
       "1           0.0              0.0  \n",
       "2           0.0              0.0  \n",
       "3           0.0              0.0  \n",
       "4           0.0              0.0  "
      ]
     },
     "execution_count": 2,
     "metadata": {},
     "output_type": "execute_result"
    }
   ],
   "source": [
    "# Leo los datos:\n",
    "print('leyendo los datos...')\n",
    "df = pd.concat([pd.read_csv('./parts/{}'.format(filename)) for filename in os.listdir('./parts/')])\n",
    "df.head(5)"
   ]
  },
  {
   "cell_type": "code",
   "execution_count": 3,
   "metadata": {},
   "outputs": [
    {
     "data": {
      "text/plain": [
       "4419589"
      ]
     },
     "execution_count": 3,
     "metadata": {},
     "output_type": "execute_result"
    }
   ],
   "source": [
    "len(df)"
   ]
  },
  {
   "cell_type": "code",
   "execution_count": 4,
   "metadata": {},
   "outputs": [
    {
     "name": "stdout",
     "output_type": "stream",
     "text": [
      "eliminando duplicados...\n",
      "limpiando espacios...\n"
     ]
    }
   ],
   "source": [
    "# Elimino los duplicados:\n",
    "print('eliminando duplicados...')\n",
    "df = df.drop_duplicates(subset=['review_content']).reset_index(drop=True)\n",
    "\n",
    "# Cambio todos los espacios por espacios simples:\n",
    "print('limpiando espacios...')\n",
    "df['review_content'] = df['review_content'].str.replace(r'\\s+',' ',regex=True)"
   ]
  },
  {
   "cell_type": "code",
   "execution_count": 5,
   "metadata": {},
   "outputs": [
    {
     "data": {
      "text/plain": [
       "3827478"
      ]
     },
     "execution_count": 5,
     "metadata": {},
     "output_type": "execute_result"
    }
   ],
   "source": [
    "len(df)"
   ]
  },
  {
   "cell_type": "code",
   "execution_count": 6,
   "metadata": {},
   "outputs": [
    {
     "name": "stdout",
     "output_type": "stream",
     "text": [
      "eliminando comentarios con caracteres raros...\n",
      "separando por país...\n",
      "eliminando por idioma...\n",
      "eliminando por idioma...\n"
     ]
    }
   ],
   "source": [
    "# Defino los caracteres con los que me voy a quedar y elimino \n",
    "# los comentarios que tienen caracteres que no van:\n",
    "print('eliminando comentarios con caracteres raros...')\n",
    "non_ascii = 'áàâãäÁÀÂÃÄéèêëÉÈÊẼËíìîĩïÍÌÎĨÏóòôõöÓÒÔÕÖúùûũüÚÙÛŨÜñÑçÇ'\n",
    "chars_vocab = string.digits + string.ascii_letters + string.punctuation + string.whitespace + non_ascii\n",
    "all_chars = df['review_content'].str.split('').explode().value_counts().index\n",
    "chars_to_remove = list(set(all_chars) - set(chars_vocab) - {''})\n",
    "chars_to_remove_regex = '|'.join(sorted([re.escape(c) for c in chars_to_remove]))\n",
    "df = df[-df['review_content'].str.contains(chars_to_remove_regex,regex=True,na=True)].reset_index(drop=True)\n",
    "\n",
    "# Separo por país:\n",
    "print('separando por país...')\n",
    "df_por = df[df['country'] == 'MLB'].reset_index(drop=True)\n",
    "df_esp = df[df['country'] != 'MLB'].reset_index(drop=True)\n",
    "\n",
    "# Elimino comentarios en otros idiomas:\n",
    "model_predict = fasttext.load_model('./lid.176.bin').predict\n",
    "def detect_language(s):\n",
    "    l, _ = next(zip(*model_predict(s, k=1)))\n",
    "    return l\n",
    "print('eliminando por idioma...')\n",
    "df_por = df_por[df_por['review_content'].apply(detect_language) == '__label__pt'].reset_index(drop=True)\n",
    "print('eliminando por idioma...')\n",
    "df_esp = df_esp[df_esp['review_content'].apply(detect_language) == '__label__es'].reset_index(drop=True)"
   ]
  },
  {
   "cell_type": "code",
   "execution_count": 12,
   "metadata": {},
   "outputs": [
    {
     "data": {
      "text/plain": [
       "2477372"
      ]
     },
     "execution_count": 12,
     "metadata": {},
     "output_type": "execute_result"
    }
   ],
   "source": [
    "len(df[df['country'] != 'MLB'])"
   ]
  },
  {
   "cell_type": "code",
   "execution_count": 7,
   "metadata": {},
   "outputs": [
    {
     "data": {
      "text/plain": [
       "(1317260, 2462107)"
      ]
     },
     "execution_count": 7,
     "metadata": {},
     "output_type": "execute_result"
    }
   ],
   "source": [
    "len(df_por), len(df_esp)"
   ]
  },
  {
   "cell_type": "markdown",
   "metadata": {},
   "source": [
    "Ver longitud de comentarios"
   ]
  },
  {
   "cell_type": "code",
   "execution_count": 8,
   "metadata": {},
   "outputs": [
    {
     "name": "stdout",
     "output_type": "stream",
     "text": [
      "5.0    1371660\n",
      "4.0     395016\n",
      "3.0     132461\n",
      "1.0      62504\n",
      "2.0      44498\n",
      "Name: review_rate, dtype: int64\n",
      "5.0    652203\n",
      "4.0    174461\n",
      "3.0     72922\n",
      "1.0     46556\n",
      "2.0     30623\n",
      "Name: review_rate, dtype: int64\n",
      "guardando resultados...\n"
     ]
    }
   ],
   "source": [
    "max_comments = 30 # cantidad máxima de comentarios por producto\n",
    "n = 30000 # cantidad de comentarios por calificación\n",
    "    \n",
    "def filter_by_importance(df,max_comments,n):\n",
    "\n",
    "    # Pesos de cada característica\n",
    "    w_rate = 1.\n",
    "    w_like = .5\n",
    "    w_dislike = .1\n",
    "    w_country = 1.\n",
    "\n",
    "    # Puntuación parcial de cada característica\n",
    "    score_rate = 1/df['review_rate']\n",
    "    score_rate = (score_rate-min(score_rate))/(max(score_rate)-min(score_rate))\n",
    "    score_like = (df['review_likes']-min(df['review_likes']))/(max(df['review_likes'])-min(df['review_likes']))\n",
    "    score_dislike = (df['review_dislikes']-min(df['review_dislikes']))/(max(df['review_dislikes'])-min(df['review_dislikes']))\n",
    "    countries = df['country'].value_counts()\n",
    "    total_counts = sum(countries)\n",
    "    country2score = {country: countries[country] / total_counts for country in countries.index}\n",
    "    score_country = df['country'].map(country2score)\n",
    "    score_country = (score_country-min(score_country))/(max(score_country)-min(score_country))\n",
    "    score_country.fillna(0,inplace=True)\n",
    "\n",
    "    # Puntuación total\n",
    "    total_score = w_rate*score_rate + w_like*score_like + w_dislike*score_dislike - w_country*score_country\n",
    "\n",
    "    # Reordeno los comentarios por importancia y me quedo con,\n",
    "    # a lo sumo, max_comments por comentario\n",
    "    indices = total_score.sort_values(ascending=False).index\n",
    "    df = df.loc[indices,:].reset_index(drop=True)\n",
    "    df = df.groupby('prod_id').head(max_comments)\n",
    "\n",
    "    print(df['review_rate'].value_counts())\n",
    "    # Muestreamos aleatoriamente para quedarnos con n comentarios por rate, y mezclamos:\n",
    "    random_state = 1234\n",
    "    random_state = np.random.RandomState(random_state)\n",
    "    df = df.iloc[np.hstack([random_state.choice(arr, n, replace=False) \n",
    "                           for arr in df.groupby('review_rate').indices.values()]),:].reset_index(drop=True)\n",
    "    df = df.iloc[random_state.permutation(len(df)),:].reset_index(drop=True)\n",
    "\n",
    "    return df\n",
    "\n",
    "df_esp_filtered = filter_by_importance(df_esp,max_comments,n)\n",
    "df_por_filtered = filter_by_importance(df_por,max_comments,n)\n",
    "\n",
    "print('guardando resultados...')\n",
    "df_esp_filtered.to_csv('data_esp.csv',index=False)\n",
    "df_por_filtered.to_csv('data_por.csv',index=False)"
   ]
  },
  {
   "cell_type": "markdown",
   "metadata": {},
   "source": [
    "# TO DO:\n",
    "\n",
    "* Terminar de filtrar los comentarios:\n",
    "    * Ver longitud de los comentarios\n",
    "    * Revisar diferencias entre rate y calificación\n",
    "    * ...\n",
    "* Trabajar en paralelo con un dataset en inglés: \n",
    "    * juntar un dataset parecido (amazon?) y probar los modelos entrenados para uno y para otro. \n",
    "    * Probar performance de un modelo multilingüe\n",
    "    * ...\n",
    "    \n",
    "* Hacer el github y empezar a subir archivos."
   ]
  }
 ],
 "metadata": {
  "kernelspec": {
   "display_name": "Python 3",
   "language": "python",
   "name": "python3"
  },
  "language_info": {
   "codemirror_mode": {
    "name": "ipython",
    "version": 3
   },
   "file_extension": ".py",
   "mimetype": "text/x-python",
   "name": "python",
   "nbconvert_exporter": "python",
   "pygments_lexer": "ipython3",
   "version": "3.8.3"
  }
 },
 "nbformat": 4,
 "nbformat_minor": 4
}
