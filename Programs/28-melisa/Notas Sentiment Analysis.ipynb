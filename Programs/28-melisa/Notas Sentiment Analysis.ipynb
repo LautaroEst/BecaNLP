{
 "cells": [
  {
   "cell_type": "markdown",
   "metadata": {},
   "source": [
    "# Notas generales de Sentiment Analysis\n",
    "---"
   ]
  },
  {
   "cell_type": "markdown",
   "metadata": {},
   "source": [
    "## Introducción\n",
    "\n",
    "Introducción al tema..."
   ]
  },
  {
   "cell_type": "markdown",
   "metadata": {},
   "source": [
    "## Problemas a tener en cuenta\n",
    "\n",
    "* En los reviews de productos suele haber una tendencia al sesgo de los comentarios positivos (p 100 P&L)\n",
    "\n",
    "* P&L recomiendan extraer las frases subjetivas y no incluir las objetivas pero yo creo que eso es hacer un poco de trampa.\n",
    "\n",
    "* Una posibilidad es seleccionar por tópicos o tipos de productos\n",
    "\n",
    "* Podría considerarse el problema de resumen de sentimientos, además de la categorización, y para eso usar el título del review.\n",
    "\n",
    "* Considerar diferentes momentos para obtener los reviews [ver](https://www.aaai.org/Papers/Symposia/Spring/2004/SS-04-07/SS04-07-003.pdf) "
   ]
  },
  {
   "cell_type": "markdown",
   "metadata": {},
   "source": [
    "## TO DO list:\n",
    "\n",
    "* Armar el datasheet del dataset MeLiSA e ir definiendo las características del mismo a partir de éste. Para eso, sería recomendable leer P&L, el paper de IMDb y el paper de datasheets for datasets\n",
    "\n",
    "* Ver la [clase de sesgos en NLP](https://www.youtube.com/watch?v=XR8YSRcuVLE&feature=youtu.be) y las de evaluation metrics [1](https://youtu.be/3UGti9Ju5j8) y [2](https://youtu.be/YygGzfkhtJc) y estudiarlas bien bien.\n",
    "\n",
    "* Analizar los posibles sesgos del dataset y modificar el datasheet del primer punto hasta que quede bien armado.\n",
    "\n",
    "* Ir armando el paper. Tratar de separar las tareas para darle cosas para hacer a Mati y a Leo."
   ]
  }
 ],
 "metadata": {
  "kernelspec": {
   "display_name": "Python 3",
   "language": "python",
   "name": "python3"
  },
  "language_info": {
   "codemirror_mode": {
    "name": "ipython",
    "version": 3
   },
   "file_extension": ".py",
   "mimetype": "text/x-python",
   "name": "python",
   "nbconvert_exporter": "python",
   "pygments_lexer": "ipython3",
   "version": "3.7.6"
  }
 },
 "nbformat": 4,
 "nbformat_minor": 4
}
