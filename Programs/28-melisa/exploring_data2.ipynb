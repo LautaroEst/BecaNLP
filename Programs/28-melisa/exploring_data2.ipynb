{
 "metadata": {
  "language_info": {
   "codemirror_mode": {
    "name": "ipython",
    "version": 3
   },
   "file_extension": ".py",
   "mimetype": "text/x-python",
   "name": "python",
   "nbconvert_exporter": "python",
   "pygments_lexer": "ipython3",
   "version": "3.8.5-final"
  },
  "orig_nbformat": 2,
  "kernelspec": {
   "name": "python3",
   "display_name": "Python 3",
   "language": "python"
  }
 },
 "nbformat": 4,
 "nbformat_minor": 2,
 "cells": [
  {
   "cell_type": "code",
   "execution_count": 1,
   "metadata": {},
   "outputs": [],
   "source": [
    "import pandas as pd\n",
    "import numpy as np\n",
    "import re\n",
    "import string\n",
    "\n",
    "%matplotlib notebook\n",
    "import matplotlib.pyplot as plt"
   ]
  },
  {
   "source": [
    "Hago una limpieza básica de los reviews descargados:"
   ],
   "cell_type": "markdown",
   "metadata": {}
  },
  {
   "cell_type": "code",
   "execution_count": 2,
   "metadata": {},
   "outputs": [
    {
     "output_type": "stream",
     "name": "stdout",
     "text": [
      "Cantidad de reviews descargados: 14594217\n"
     ]
    },
    {
     "output_type": "execute_result",
     "data": {
      "text/plain": [
       "        prod_id    cat_id review_id country  \\\n",
       "0  MLA882956549  MLA10200  37332886     MLA   \n",
       "1  MLA882956549  MLA10200  36795845     MLA   \n",
       "2  MLA882956549  MLA10200  21871450     MLA   \n",
       "3  MLA882956549  MLA10200  26445411     MLA   \n",
       "4  MLA882956549  MLA10200  21665685     MLA   \n",
       "\n",
       "                                          prod_title reviewer_id  \\\n",
       "0  Alquiler Inflables Zona Norte, Pelotero, Plaza...    13116850   \n",
       "1  Alquiler Inflables Zona Norte, Pelotero, Plaza...    23888292   \n",
       "2  Alquiler Inflables Zona Norte, Pelotero, Plaza...    66883442   \n",
       "3  Alquiler Inflables Zona Norte, Pelotero, Plaza...   239377732   \n",
       "4  Alquiler Inflables Zona Norte, Pelotero, Plaza...    10984535   \n",
       "\n",
       "                     review_date review_status  \\\n",
       "0  2019-01-02T12:42:00.000-04:00     published   \n",
       "1  2018-12-15T20:53:14.000-04:00     published   \n",
       "2  2018-01-12T00:26:28.000-04:00     published   \n",
       "3  2018-03-28T13:44:52.000-04:00     published   \n",
       "4  2018-01-09T15:54:40.000-04:00     published   \n",
       "\n",
       "                        review_title  \\\n",
       "0                          Excelente   \n",
       "1  Excelente, bebés y chicos felices   \n",
       "2           Optimo, muy recomendable   \n",
       "3                          Muy bueno   \n",
       "4                 super recomendable   \n",
       "\n",
       "                                      review_content review_rate review_likes  \\\n",
       "0  Súper puntuales, material de primera calidad, ...           5            3   \n",
       "1  Excelente y rápida atención desde el principio...           5            3   \n",
       "2  El material es de muy buena calidady los chico...           5            2   \n",
       "3  Servicio de calidad, puntuales, y los inflable...           5            2   \n",
       "4  Llegaron a tiempo y el castillo que trajeron n...           5            2   \n",
       "\n",
       "  review_dislikes  \n",
       "0               0  \n",
       "1               0  \n",
       "2               0  \n",
       "3               0  \n",
       "4               0  "
      ],
      "text/html": "<div>\n<style scoped>\n    .dataframe tbody tr th:only-of-type {\n        vertical-align: middle;\n    }\n\n    .dataframe tbody tr th {\n        vertical-align: top;\n    }\n\n    .dataframe thead th {\n        text-align: right;\n    }\n</style>\n<table border=\"1\" class=\"dataframe\">\n  <thead>\n    <tr style=\"text-align: right;\">\n      <th></th>\n      <th>prod_id</th>\n      <th>cat_id</th>\n      <th>review_id</th>\n      <th>country</th>\n      <th>prod_title</th>\n      <th>reviewer_id</th>\n      <th>review_date</th>\n      <th>review_status</th>\n      <th>review_title</th>\n      <th>review_content</th>\n      <th>review_rate</th>\n      <th>review_likes</th>\n      <th>review_dislikes</th>\n    </tr>\n  </thead>\n  <tbody>\n    <tr>\n      <th>0</th>\n      <td>MLA882956549</td>\n      <td>MLA10200</td>\n      <td>37332886</td>\n      <td>MLA</td>\n      <td>Alquiler Inflables Zona Norte, Pelotero, Plaza...</td>\n      <td>13116850</td>\n      <td>2019-01-02T12:42:00.000-04:00</td>\n      <td>published</td>\n      <td>Excelente</td>\n      <td>Súper puntuales, material de primera calidad, ...</td>\n      <td>5</td>\n      <td>3</td>\n      <td>0</td>\n    </tr>\n    <tr>\n      <th>1</th>\n      <td>MLA882956549</td>\n      <td>MLA10200</td>\n      <td>36795845</td>\n      <td>MLA</td>\n      <td>Alquiler Inflables Zona Norte, Pelotero, Plaza...</td>\n      <td>23888292</td>\n      <td>2018-12-15T20:53:14.000-04:00</td>\n      <td>published</td>\n      <td>Excelente, bebés y chicos felices</td>\n      <td>Excelente y rápida atención desde el principio...</td>\n      <td>5</td>\n      <td>3</td>\n      <td>0</td>\n    </tr>\n    <tr>\n      <th>2</th>\n      <td>MLA882956549</td>\n      <td>MLA10200</td>\n      <td>21871450</td>\n      <td>MLA</td>\n      <td>Alquiler Inflables Zona Norte, Pelotero, Plaza...</td>\n      <td>66883442</td>\n      <td>2018-01-12T00:26:28.000-04:00</td>\n      <td>published</td>\n      <td>Optimo, muy recomendable</td>\n      <td>El material es de muy buena calidady los chico...</td>\n      <td>5</td>\n      <td>2</td>\n      <td>0</td>\n    </tr>\n    <tr>\n      <th>3</th>\n      <td>MLA882956549</td>\n      <td>MLA10200</td>\n      <td>26445411</td>\n      <td>MLA</td>\n      <td>Alquiler Inflables Zona Norte, Pelotero, Plaza...</td>\n      <td>239377732</td>\n      <td>2018-03-28T13:44:52.000-04:00</td>\n      <td>published</td>\n      <td>Muy bueno</td>\n      <td>Servicio de calidad, puntuales, y los inflable...</td>\n      <td>5</td>\n      <td>2</td>\n      <td>0</td>\n    </tr>\n    <tr>\n      <th>4</th>\n      <td>MLA882956549</td>\n      <td>MLA10200</td>\n      <td>21665685</td>\n      <td>MLA</td>\n      <td>Alquiler Inflables Zona Norte, Pelotero, Plaza...</td>\n      <td>10984535</td>\n      <td>2018-01-09T15:54:40.000-04:00</td>\n      <td>published</td>\n      <td>super recomendable</td>\n      <td>Llegaron a tiempo y el castillo que trajeron n...</td>\n      <td>5</td>\n      <td>2</td>\n      <td>0</td>\n    </tr>\n  </tbody>\n</table>\n</div>"
     },
     "metadata": {},
     "execution_count": 2
    }
   ],
   "source": [
    "# # Leo los datos:\n",
    "# rs = np.random.RandomState(127361824)\n",
    "# # list_parts = np.array(os.listdir('./parts/')) \n",
    "# # num_parts = len(list_parts)\n",
    "# # df = pd.concat([pd.read_csv('./parts/{}'.format(filename),lineterminator='\\n') for filename in rs.choice(list_parts,num_parts,replace=False)])\n",
    "\n",
    "# # list_parts = np.array(os.listdir('../29-mercado-libre-api-v3/parts/')) \n",
    "# # num_parts = len(list_parts)\n",
    "# # dfs_list = []\n",
    "# # for filename in rs.choice(list_parts,num_parts,replace=False):\n",
    "# #     try:\n",
    "# #         df = pd.read_csv('../29-mercado-libre-api-v3/parts/{}'.format(filename))\n",
    "# #         dfs_list.append(df)\n",
    "# #     except:\n",
    "# #         print(filename)\n",
    "\n",
    "# # df = pd.concat(dfs_list)\n",
    "\n",
    "# list_parts1 = np.array(os.listdir('../29-mercado-libre-api-v3/parts/')) \n",
    "# num_parts1 = len(list_parts1)\n",
    "# df1 = pd.concat([pd.read_csv('../29-mercado-libre-api-v3/parts/{}'.format(filename),lineterminator='\\n') for filename in rs.choice(list_parts1,num_parts1,replace=False)])\n",
    "\n",
    "# list_parts2 = np.array(os.listdir('./parts/')) \n",
    "# num_parts2 = len(list_parts2)\n",
    "# df2 = pd.concat([pd.read_csv('./parts/{}'.format(filename),lineterminator='\\n') for filename in rs.choice(list_parts2,num_parts2,replace=False)])\n",
    "\n",
    "# df = pd.concat([df1, df2])\n",
    "\n",
    "# print('Cantidad de reviews descargados:',len(df))\n",
    "# df.head(5)"
   ]
  },
  {
   "cell_type": "code",
   "execution_count": 3,
   "metadata": {},
   "outputs": [
    {
     "output_type": "stream",
     "name": "stdout",
     "text": [
      "Cantidad de reviews únicos descargados: 7874526\n"
     ]
    }
   ],
   "source": [
    "# # Elimino los duplicados:\n",
    "# df['review_id'] = df['review_id'].astype(np.int)\n",
    "# df = df.drop_duplicates(subset=['review_id']).reset_index(drop=True)\n",
    "# print('Cantidad de reviews únicos descargados:',len(df))"
   ]
  },
  {
   "cell_type": "code",
   "execution_count": 2,
   "metadata": {},
   "outputs": [
    {
     "output_type": "stream",
     "name": "stdout",
     "text": [
      "Cantidad de reviews únicos descargados: 7899951\n"
     ]
    }
   ],
   "source": [
    "#df.to_csv('./unique_reviews_24-12-2020.csv',index=False)\n",
    "df = pd.read_csv('./unique_reviews_24-12-2020.csv')\n",
    "print('Cantidad de reviews únicos descargados:',len(df))"
   ]
  },
  {
   "cell_type": "code",
   "execution_count": 3,
   "metadata": {},
   "outputs": [
    {
     "output_type": "stream",
     "name": "stdout",
     "text": [
      "Cantidad de reviews únicos y correctamente descargados: 7873143\n"
     ]
    }
   ],
   "source": [
    "# Elimino los que se descargaron mal por algún motivo\n",
    "df = df[df['country'].isin(['MLB', 'MLA', 'MLM', 'MLU', 'MCO', 'MLC', 'MLV', 'MPE'])].reset_index(drop=True)\n",
    "df = df[df['review_rate'].isin([1., 2., 3., 4., 5.])].reset_index(drop=True)\n",
    "df = df[df['review_title'].apply(type).eq(str)].reset_index(drop=True)\n",
    "df = df[df['review_content'].apply(type).eq(str)].reset_index(drop=True)\n",
    "print('Cantidad de reviews únicos y correctamente descargados:',len(df))"
   ]
  },
  {
   "cell_type": "code",
   "execution_count": 4,
   "metadata": {},
   "outputs": [
    {
     "output_type": "stream",
     "name": "stdout",
     "text": [
      "Cantidad de reviews con contenido, título y rate únicos: 7311556\n"
     ]
    },
    {
     "output_type": "execute_result",
     "data": {
      "text/plain": [
       "  country                                     review_content  \\\n",
       "0     MLA  Súper puntuales, material de primera calidad, ...   \n",
       "1     MLA  Excelente y rápida atención desde el principio...   \n",
       "2     MLA  El material es de muy buena calidady los chico...   \n",
       "3     MLA  Servicio de calidad, puntuales, y los inflable...   \n",
       "4     MLA  Llegaron a tiempo y el castillo que trajeron n...   \n",
       "\n",
       "                        review_title  review_rate  \n",
       "0                          Excelente            5  \n",
       "1  Excelente, bebés y chicos felices            5  \n",
       "2           Optimo, muy recomendable            5  \n",
       "3                          Muy bueno            5  \n",
       "4                 super recomendable            5  "
      ],
      "text/html": "<div>\n<style scoped>\n    .dataframe tbody tr th:only-of-type {\n        vertical-align: middle;\n    }\n\n    .dataframe tbody tr th {\n        vertical-align: top;\n    }\n\n    .dataframe thead th {\n        text-align: right;\n    }\n</style>\n<table border=\"1\" class=\"dataframe\">\n  <thead>\n    <tr style=\"text-align: right;\">\n      <th></th>\n      <th>country</th>\n      <th>review_content</th>\n      <th>review_title</th>\n      <th>review_rate</th>\n    </tr>\n  </thead>\n  <tbody>\n    <tr>\n      <th>0</th>\n      <td>MLA</td>\n      <td>Súper puntuales, material de primera calidad, ...</td>\n      <td>Excelente</td>\n      <td>5</td>\n    </tr>\n    <tr>\n      <th>1</th>\n      <td>MLA</td>\n      <td>Excelente y rápida atención desde el principio...</td>\n      <td>Excelente, bebés y chicos felices</td>\n      <td>5</td>\n    </tr>\n    <tr>\n      <th>2</th>\n      <td>MLA</td>\n      <td>El material es de muy buena calidady los chico...</td>\n      <td>Optimo, muy recomendable</td>\n      <td>5</td>\n    </tr>\n    <tr>\n      <th>3</th>\n      <td>MLA</td>\n      <td>Servicio de calidad, puntuales, y los inflable...</td>\n      <td>Muy bueno</td>\n      <td>5</td>\n    </tr>\n    <tr>\n      <th>4</th>\n      <td>MLA</td>\n      <td>Llegaron a tiempo y el castillo que trajeron n...</td>\n      <td>super recomendable</td>\n      <td>5</td>\n    </tr>\n  </tbody>\n</table>\n</div>"
     },
     "metadata": {},
     "execution_count": 4
    }
   ],
   "source": [
    "# Cambio todos los espacios por espacios simples y vuelvo a eliminar duplicados\n",
    "df['review_content'] = df['review_content'].astype(np.str).str.replace(r'\\s+',' ',regex=True)\n",
    "df['review_title'] = df['review_title'].astype(np.str).str.replace(r'\\s+',' ',regex=True)\n",
    "df['review_rate'] = df['review_rate'].astype(np.int)\n",
    "df = df.drop_duplicates(subset=['review_content','review_title','review_rate']).reset_index(drop=True)\n",
    "print('Cantidad de reviews con contenido, título y rate únicos:',len(df))\n",
    "\n",
    "# Dataframe con país, contenido, título y rate únicamente:\n",
    "df['country'] = df['country'].astype(np.str)\n",
    "df = df.loc[:,['country','review_content','review_title','review_rate']]\n",
    "df.head(5)"
   ]
  },
  {
   "source": [
    "**NOTA IMPORTANTE: FALTA PONER UNA COTA POR PRODUCTO (ES DECIR, LIMITAR LA CANTIDAD MÁXIMA DE REVIEWS POR PRODUCTO) ANTES DE REDUCIR LOS DATOS BAJADOS AL CONTENIDO, TÍTULO Y RATE**"
   ],
   "cell_type": "markdown",
   "metadata": {}
  },
  {
   "cell_type": "code",
   "execution_count": 8,
   "metadata": {},
   "outputs": [],
   "source": [
    "# Genero un programa para eliminar los reviews que están en otro idioma:\n",
    "# NOTA: NO DESCOMENTAR. TARDA MUCHO EN CORRER EL SCRIPT\n",
    "# df.to_csv('./reviews_full_raw.csv',index=False)\n",
    "# !python lang_detect.py\n",
    "\n",
    "df = pd.read_csv('./reviews_full_raw.csv')\n",
    "mask_spacy_es = pd.read_csv('./mask_spacy_es.csv',squeeze=True)\n",
    "# mask_spacy_pt = pd.read_csv('./mask_spacy_pt.csv',squeeze=True)\n",
    "# mask_langdetect = pd.read_csv('./mask_langdetect.csv',squeeze=True)\n",
    "# mask_langid = pd.read_csv('./mask_langid.csv',squeeze=True)\n",
    "# mask_fasttext = pd.read_csv('./mask_fasttext.csv',squeeze=True)\n",
    "mask = mask_spacy_es #& mask_spacy_pt & mask_langdetect & mask_langid & mask_fasttext\n",
    "df = df[mask].reset_index(drop=True)"
   ]
  },
  {
   "cell_type": "code",
   "execution_count": 9,
   "metadata": {},
   "outputs": [
    {
     "output_type": "execute_result",
     "data": {
      "text/plain": [
       "{' ': 50525427,\n",
       " 'e': 37894001,\n",
       " 'o': 28394694,\n",
       " 'a': 27221960,\n",
       " 'n': 17499418,\n",
       " 'r': 15572056,\n",
       " 'i': 15533243,\n",
       " 't': 15120601,\n",
       " 'u': 15033729,\n",
       " 'c': 14615010,\n",
       " 's': 13384402,\n",
       " 'l': 13108490,\n",
       " 'd': 12964260,\n",
       " 'm': 11167065,\n",
       " 'p': 8565006,\n",
       " '.': 6388381,\n",
       " 'b': 5465403,\n",
       " 'y': 3612265,\n",
       " ',': 3139345,\n",
       " 'x': 2724694,\n",
       " 'E': 2718257,\n",
       " 'f': 2591888,\n",
       " 'q': 2274213,\n",
       " 'v': 2027611,\n",
       " 'g': 1948443,\n",
       " 'M': 1881410,\n",
       " '!': 1731769,\n",
       " 'h': 1671438,\n",
       " 'ó': 984525,\n",
       " 'B': 933847,\n",
       " 'á': 912691,\n",
       " 'P': 736890,\n",
       " 'j': 720573,\n",
       " 'é': 588883,\n",
       " 'ã': 483034,\n",
       " 'í': 469658,\n",
       " 'z': 462401,\n",
       " 'A': 407263,\n",
       " 'L': 406578,\n",
       " 'S': 404953,\n",
       " 'R': 392817,\n",
       " '0': 383108,\n",
       " 'C': 362545,\n",
       " 'T': 338554,\n",
       " 'O': 303112,\n",
       " 'N': 281507,\n",
       " 'ç': 280949,\n",
       " '1': 235206,\n",
       " 'ñ': 214117,\n",
       " 'Ó': 208230,\n",
       " 'F': 192006,\n",
       " 'ú': 190696,\n",
       " 'G': 179802,\n",
       " 'D': 165390,\n",
       " 'U': 131020,\n",
       " 'k': 128789,\n",
       " 'I': 125292,\n",
       " '%': 101913,\n",
       " '?': 85457,\n",
       " 'V': 84736,\n",
       " 'H': 81340,\n",
       " '2': 81303,\n",
       " '-': 71194,\n",
       " '5': 58146,\n",
       " '3': 57477,\n",
       " ')': 55412,\n",
       " 'Y': 51913,\n",
       " 'w': 48558,\n",
       " 'Q': 47031,\n",
       " 'ê': 46234,\n",
       " '(': 45934,\n",
       " '4': 44597,\n",
       " '/': 36624,\n",
       " 'J': 35390,\n",
       " ':': 27746,\n",
       " '\"': 27595,\n",
       " 'õ': 26435,\n",
       " 'É': 26369,\n",
       " '6': 24759,\n",
       " 'X': 24213,\n",
       " '8': 21911,\n",
       " '¡': 19018,\n",
       " '7': 17260,\n",
       " ';': 17085,\n",
       " '9': 15535,\n",
       " 'à': 14722,\n",
       " 'â': 10627,\n",
       " 'ô': 7501,\n",
       " 'Ú': 7373,\n",
       " '*': 6867,\n",
       " '+': 6101,\n",
       " 'K': 5337,\n",
       " \"'\": 4026,\n",
       " 'ò': 3176,\n",
       " '$': 2992,\n",
       " 'Z': 2474,\n",
       " 'W': 1885,\n",
       " '°': 1881,\n",
       " '=': 1772,\n",
       " '_': 1569,\n",
       " 'Á': 1475,\n",
       " '#': 1456,\n",
       " '@': 1381,\n",
       " '´': 1220,\n",
       " 'Ã': 1147,\n",
       " 'ì': 1035,\n",
       " 'è': 1010,\n",
       " 'Í': 959,\n",
       " '…': 953,\n",
       " 'Ñ': 934,\n",
       " '&': 902,\n",
       " '”': 814,\n",
       " '“': 764,\n",
       " 'º': 741,\n",
       " 'Ò': 724,\n",
       " 'Ç': 693,\n",
       " '¿': 599,\n",
       " 'ü': 588,\n",
       " '^': 459,\n",
       " 'ù': 360,\n",
       " 'ª': 351,\n",
       " '—': 332,\n",
       " '~': 272,\n",
       " '`': 255,\n",
       " '×': 237,\n",
       " '’': 223,\n",
       " '|': 204,\n",
       " '[': 203,\n",
       " ']': 202,\n",
       " '\\\\': 202,\n",
       " '{': 192,\n",
       " 'À': 179,\n",
       " 'È': 176,\n",
       " '•': 133,\n",
       " '¨': 121,\n",
       " '}': 99,\n",
       " '²': 91,\n",
       " 'Ê': 90,\n",
       " '®': 74,\n",
       " '<': 63,\n",
       " '>': 52,\n",
       " '÷': 48,\n",
       " 'ö': 47,\n",
       " 'Ô': 46,\n",
       " 'å': 45,\n",
       " 'ä': 43,\n",
       " 'ë': 40,\n",
       " 'Â': 38,\n",
       " '»': 30,\n",
       " '·': 30,\n",
       " '‘': 30,\n",
       " 'Õ': 29,\n",
       " '«': 28,\n",
       " 'ø': 27,\n",
       " '€': 25,\n",
       " 'ï': 24,\n",
       " '¹': 23,\n",
       " '©': 22,\n",
       " 'ý': 22,\n",
       " '–': 21,\n",
       " '�': 21,\n",
       " 'Ù': 20,\n",
       " '¬': 20,\n",
       " '³': 18,\n",
       " '±': 16,\n",
       " 'Ö': 16,\n",
       " 'ß': 15,\n",
       " '£': 14,\n",
       " 'Ü': 13,\n",
       " 'î': 12,\n",
       " 'û': 12,\n",
       " '™': 10,\n",
       " '†': 9,\n",
       " 'µ': 9,\n",
       " 'Ì': 8,\n",
       " '½': 8,\n",
       " '¯': 8,\n",
       " 'Ë': 8,\n",
       " '‰': 7,\n",
       " '¢': 7,\n",
       " 'þ': 5,\n",
       " 'ˆ': 5,\n",
       " '\\x08': 4,\n",
       " '¼': 3,\n",
       " 'æ': 3,\n",
       " '˜': 3,\n",
       " '§': 3,\n",
       " '¥': 3,\n",
       " '\\x10': 2,\n",
       " 'Ø': 2,\n",
       " 'Ý': 2,\n",
       " 'œ': 2,\n",
       " '¾': 2,\n",
       " '„': 2,\n",
       " '¤': 1,\n",
       " '¶': 1,\n",
       " 'š': 1,\n",
       " 'Œ': 1,\n",
       " 'ÿ': 1,\n",
       " 'Ä': 1,\n",
       " '\\x7f': 1,\n",
       " 'Ï': 1}"
      ]
     },
     "metadata": {},
     "execution_count": 9
    }
   ],
   "source": [
    "from collections import Counter\n",
    "chars_vocab = dict(Counter((df['review_content'] + df['review_title']).str.cat(sep='')))\n",
    "idx = np.argsort(list(chars_vocab.values()))[::-1]\n",
    "chars_vocab = {list(chars_vocab.keys())[i]:list(chars_vocab.values())[i] for i in idx}\n",
    "chars_vocab"
   ]
  },
  {
   "cell_type": "code",
   "execution_count": 12,
   "metadata": {},
   "outputs": [
    {
     "output_type": "execute_result",
     "data": {
      "text/plain": [
       "        country                                     review_content  \\\n",
       "944966      MLB  Horrível. Não pode amarrar dos dois lados e ti...   \n",
       "971274      MLB                      %©®®™?[]{}=°^¥€¢£~`|•??÷×¶?\\.   \n",
       "1100567     MLM     *mu¥* buena calidad *de* producto *grasias*??.   \n",
       "\n",
       "                                              review_title  review_rate  \n",
       "944966   o que posso achar de um produto desse nível?#%...            1  \n",
       "971274                                           Muito bom            4  \n",
       "1100567    una muy buena iluminación y me gusto mucho bien            5  "
      ],
      "text/html": "<div>\n<style scoped>\n    .dataframe tbody tr th:only-of-type {\n        vertical-align: middle;\n    }\n\n    .dataframe tbody tr th {\n        vertical-align: top;\n    }\n\n    .dataframe thead th {\n        text-align: right;\n    }\n</style>\n<table border=\"1\" class=\"dataframe\">\n  <thead>\n    <tr style=\"text-align: right;\">\n      <th></th>\n      <th>country</th>\n      <th>review_content</th>\n      <th>review_title</th>\n      <th>review_rate</th>\n    </tr>\n  </thead>\n  <tbody>\n    <tr>\n      <th>944966</th>\n      <td>MLB</td>\n      <td>Horrível. Não pode amarrar dos dois lados e ti...</td>\n      <td>o que posso achar de um produto desse nível?#%...</td>\n      <td>1</td>\n    </tr>\n    <tr>\n      <th>971274</th>\n      <td>MLB</td>\n      <td>%©®®™?[]{}=°^¥€¢£~`|•??÷×¶?\\.</td>\n      <td>Muito bom</td>\n      <td>4</td>\n    </tr>\n    <tr>\n      <th>1100567</th>\n      <td>MLM</td>\n      <td>*mu¥* buena calidad *de* producto *grasias*??.</td>\n      <td>una muy buena iluminación y me gusto mucho bien</td>\n      <td>5</td>\n    </tr>\n  </tbody>\n</table>\n</div>"
     },
     "metadata": {},
     "execution_count": 12
    }
   ],
   "source": [
    "df[(df['review_content']+df['review_title']).str.contains('¥',regex=False)]\n",
    "\n",
    "#* (df['country'] != 'MLB')]"
   ]
  },
  {
   "source": [
    "Separo por idioma los reviews. Para eso, primero separo por país (en todo lo que es Brasil y lo que no es Brasil) y después me fijo si alguno de los vocabularios contiene palabras que no son del idioma que le corresponde. Si este fuera el caso, voy a buscar el review en el que aparece la palabra y si está en otro idioma."
   ],
   "cell_type": "markdown",
   "metadata": {}
  },
  {
   "cell_type": "code",
   "execution_count": 5,
   "metadata": {},
   "outputs": [
    {
     "output_type": "stream",
     "name": "stdout",
     "text": [
      "Muestras por país:\n",
      "MLB    2399883\n",
      "MLA    2124356\n",
      "MLM    1525680\n",
      "MCO     454351\n",
      "MLC     364761\n",
      "MLU     325120\n",
      "MLV      83270\n",
      "MPE      34135\n",
      "Name: country, dtype: int64\n",
      "\n",
      "Muestras por idioma:\n",
      "Portugués: 2399883\n",
      "Español: 4911673\n",
      "\n",
      "Vocabulario de palabras en español:\n"
     ]
    },
    {
     "output_type": "error",
     "ename": "KeyboardInterrupt",
     "evalue": "",
     "traceback": [
      "\u001b[0;31m---------------------------------------------------------------------------\u001b[0m",
      "\u001b[0;31mKeyboardInterrupt\u001b[0m                         Traceback (most recent call last)",
      "\u001b[0;32m<ipython-input-5-12718d6a7040>\u001b[0m in \u001b[0;36m<module>\u001b[0;34m\u001b[0m\n\u001b[1;32m     14\u001b[0m \u001b[0;31m# Obtengo los vocabularios:\u001b[0m\u001b[0;34m\u001b[0m\u001b[0;34m\u001b[0m\u001b[0;34m\u001b[0m\u001b[0m\n\u001b[1;32m     15\u001b[0m \u001b[0mprint\u001b[0m\u001b[0;34m(\u001b[0m\u001b[0;34m'Vocabulario de palabras en español:'\u001b[0m\u001b[0;34m)\u001b[0m\u001b[0;34m\u001b[0m\u001b[0;34m\u001b[0m\u001b[0m\n\u001b[0;32m---> 16\u001b[0;31m \u001b[0msplitted_esp\u001b[0m \u001b[0;34m=\u001b[0m \u001b[0;34m(\u001b[0m\u001b[0mdf_esp\u001b[0m\u001b[0;34m[\u001b[0m\u001b[0;34m'review_content'\u001b[0m\u001b[0;34m]\u001b[0m \u001b[0;34m+\u001b[0m \u001b[0mdf_esp\u001b[0m\u001b[0;34m[\u001b[0m\u001b[0;34m'review_title'\u001b[0m\u001b[0;34m]\u001b[0m\u001b[0;34m)\u001b[0m\u001b[0;34m.\u001b[0m\u001b[0mstr\u001b[0m\u001b[0;34m.\u001b[0m\u001b[0mlower\u001b[0m\u001b[0;34m(\u001b[0m\u001b[0;34m)\u001b[0m\u001b[0;34m.\u001b[0m\u001b[0mstr\u001b[0m\u001b[0;34m.\u001b[0m\u001b[0msplit\u001b[0m\u001b[0;34m(\u001b[0m\u001b[0;34mr'[0-9 {}]+'\u001b[0m\u001b[0;34m.\u001b[0m\u001b[0mformat\u001b[0m\u001b[0;34m(\u001b[0m\u001b[0mre\u001b[0m\u001b[0;34m.\u001b[0m\u001b[0mescape\u001b[0m\u001b[0;34m(\u001b[0m\u001b[0mstring\u001b[0m\u001b[0;34m.\u001b[0m\u001b[0mpunctuation\u001b[0m\u001b[0;34m)\u001b[0m\u001b[0;34m)\u001b[0m\u001b[0;34m)\u001b[0m\u001b[0;34m\u001b[0m\u001b[0;34m\u001b[0m\u001b[0m\n\u001b[0m\u001b[1;32m     17\u001b[0m \u001b[0mvocab_esp\u001b[0m \u001b[0;34m=\u001b[0m \u001b[0msplitted_esp\u001b[0m\u001b[0;34m.\u001b[0m\u001b[0mexplode\u001b[0m\u001b[0;34m(\u001b[0m\u001b[0;34m)\u001b[0m\u001b[0;34m.\u001b[0m\u001b[0mvalue_counts\u001b[0m\u001b[0;34m(\u001b[0m\u001b[0;34m)\u001b[0m\u001b[0;34m\u001b[0m\u001b[0;34m\u001b[0m\u001b[0m\n\u001b[1;32m     18\u001b[0m \u001b[0mprint\u001b[0m\u001b[0;34m(\u001b[0m\u001b[0mvocab_esp\u001b[0m\u001b[0;34m)\u001b[0m\u001b[0;34m\u001b[0m\u001b[0;34m\u001b[0m\u001b[0m\n",
      "\u001b[0;32m~/anaconda3/envs/nlpenv/lib/python3.8/site-packages/pandas/core/strings.py\u001b[0m in \u001b[0;36mwrapper\u001b[0;34m(self, *args, **kwargs)\u001b[0m\n\u001b[1;32m   1999\u001b[0m                 )\n\u001b[1;32m   2000\u001b[0m                 \u001b[0;32mraise\u001b[0m \u001b[0mTypeError\u001b[0m\u001b[0;34m(\u001b[0m\u001b[0mmsg\u001b[0m\u001b[0;34m)\u001b[0m\u001b[0;34m\u001b[0m\u001b[0;34m\u001b[0m\u001b[0m\n\u001b[0;32m-> 2001\u001b[0;31m             \u001b[0;32mreturn\u001b[0m \u001b[0mfunc\u001b[0m\u001b[0;34m(\u001b[0m\u001b[0mself\u001b[0m\u001b[0;34m,\u001b[0m \u001b[0;34m*\u001b[0m\u001b[0margs\u001b[0m\u001b[0;34m,\u001b[0m \u001b[0;34m**\u001b[0m\u001b[0mkwargs\u001b[0m\u001b[0;34m)\u001b[0m\u001b[0;34m\u001b[0m\u001b[0;34m\u001b[0m\u001b[0m\n\u001b[0m\u001b[1;32m   2002\u001b[0m \u001b[0;34m\u001b[0m\u001b[0m\n\u001b[1;32m   2003\u001b[0m         \u001b[0mwrapper\u001b[0m\u001b[0;34m.\u001b[0m\u001b[0m__name__\u001b[0m \u001b[0;34m=\u001b[0m \u001b[0mfunc_name\u001b[0m\u001b[0;34m\u001b[0m\u001b[0;34m\u001b[0m\u001b[0m\n",
      "\u001b[0;32m~/anaconda3/envs/nlpenv/lib/python3.8/site-packages/pandas/core/strings.py\u001b[0m in \u001b[0;36mwrapper\u001b[0;34m(self)\u001b[0m\n\u001b[1;32m   2017\u001b[0m     \u001b[0;34m@\u001b[0m\u001b[0mforbid_nonstring_types\u001b[0m\u001b[0;34m(\u001b[0m\u001b[0mforbidden_types\u001b[0m\u001b[0;34m,\u001b[0m \u001b[0mname\u001b[0m\u001b[0;34m=\u001b[0m\u001b[0mname\u001b[0m\u001b[0;34m)\u001b[0m\u001b[0;34m\u001b[0m\u001b[0;34m\u001b[0m\u001b[0m\n\u001b[1;32m   2018\u001b[0m     \u001b[0;32mdef\u001b[0m \u001b[0mwrapper\u001b[0m\u001b[0;34m(\u001b[0m\u001b[0mself\u001b[0m\u001b[0;34m)\u001b[0m\u001b[0;34m:\u001b[0m\u001b[0;34m\u001b[0m\u001b[0;34m\u001b[0m\u001b[0m\n\u001b[0;32m-> 2019\u001b[0;31m         \u001b[0mresult\u001b[0m \u001b[0;34m=\u001b[0m \u001b[0m_na_map\u001b[0m\u001b[0;34m(\u001b[0m\u001b[0mf\u001b[0m\u001b[0;34m,\u001b[0m \u001b[0mself\u001b[0m\u001b[0;34m.\u001b[0m\u001b[0m_parent\u001b[0m\u001b[0;34m,\u001b[0m \u001b[0;34m**\u001b[0m\u001b[0mkwargs\u001b[0m\u001b[0;34m)\u001b[0m\u001b[0;34m\u001b[0m\u001b[0;34m\u001b[0m\u001b[0m\n\u001b[0m\u001b[1;32m   2020\u001b[0m         \u001b[0;32mreturn\u001b[0m \u001b[0mself\u001b[0m\u001b[0;34m.\u001b[0m\u001b[0m_wrap_result\u001b[0m\u001b[0;34m(\u001b[0m\u001b[0mresult\u001b[0m\u001b[0;34m,\u001b[0m \u001b[0mreturns_string\u001b[0m\u001b[0;34m=\u001b[0m\u001b[0mreturns_string\u001b[0m\u001b[0;34m)\u001b[0m\u001b[0;34m\u001b[0m\u001b[0;34m\u001b[0m\u001b[0m\n\u001b[1;32m   2021\u001b[0m \u001b[0;34m\u001b[0m\u001b[0m\n",
      "\u001b[0;32m~/anaconda3/envs/nlpenv/lib/python3.8/site-packages/pandas/core/strings.py\u001b[0m in \u001b[0;36m_na_map\u001b[0;34m(f, arr, na_result, dtype)\u001b[0m\n\u001b[1;32m    128\u001b[0m     \u001b[0;32mif\u001b[0m \u001b[0mna_result\u001b[0m \u001b[0;32mis\u001b[0m \u001b[0;32mNone\u001b[0m\u001b[0;34m:\u001b[0m\u001b[0;34m\u001b[0m\u001b[0;34m\u001b[0m\u001b[0m\n\u001b[1;32m    129\u001b[0m         \u001b[0mna_result\u001b[0m \u001b[0;34m=\u001b[0m \u001b[0mnp\u001b[0m\u001b[0;34m.\u001b[0m\u001b[0mnan\u001b[0m\u001b[0;34m\u001b[0m\u001b[0;34m\u001b[0m\u001b[0m\n\u001b[0;32m--> 130\u001b[0;31m     \u001b[0;32mreturn\u001b[0m \u001b[0m_map_object\u001b[0m\u001b[0;34m(\u001b[0m\u001b[0mf\u001b[0m\u001b[0;34m,\u001b[0m \u001b[0marr\u001b[0m\u001b[0;34m,\u001b[0m \u001b[0mna_mask\u001b[0m\u001b[0;34m=\u001b[0m\u001b[0;32mTrue\u001b[0m\u001b[0;34m,\u001b[0m \u001b[0mna_value\u001b[0m\u001b[0;34m=\u001b[0m\u001b[0mna_result\u001b[0m\u001b[0;34m,\u001b[0m \u001b[0mdtype\u001b[0m\u001b[0;34m=\u001b[0m\u001b[0mdtype\u001b[0m\u001b[0;34m)\u001b[0m\u001b[0;34m\u001b[0m\u001b[0;34m\u001b[0m\u001b[0m\n\u001b[0m\u001b[1;32m    131\u001b[0m \u001b[0;34m\u001b[0m\u001b[0m\n\u001b[1;32m    132\u001b[0m \u001b[0;34m\u001b[0m\u001b[0m\n",
      "\u001b[0;32m~/anaconda3/envs/nlpenv/lib/python3.8/site-packages/pandas/core/strings.py\u001b[0m in \u001b[0;36m_map_object\u001b[0;34m(f, arr, na_mask, na_value, dtype)\u001b[0m\n\u001b[1;32m    213\u001b[0m         \u001b[0mconvert\u001b[0m \u001b[0;34m=\u001b[0m \u001b[0;32mnot\u001b[0m \u001b[0mnp\u001b[0m\u001b[0;34m.\u001b[0m\u001b[0mall\u001b[0m\u001b[0;34m(\u001b[0m\u001b[0mmask\u001b[0m\u001b[0;34m)\u001b[0m\u001b[0;34m\u001b[0m\u001b[0;34m\u001b[0m\u001b[0m\n\u001b[1;32m    214\u001b[0m         \u001b[0;32mtry\u001b[0m\u001b[0;34m:\u001b[0m\u001b[0;34m\u001b[0m\u001b[0;34m\u001b[0m\u001b[0m\n\u001b[0;32m--> 215\u001b[0;31m             \u001b[0mresult\u001b[0m \u001b[0;34m=\u001b[0m \u001b[0mlib\u001b[0m\u001b[0;34m.\u001b[0m\u001b[0mmap_infer_mask\u001b[0m\u001b[0;34m(\u001b[0m\u001b[0marr\u001b[0m\u001b[0;34m,\u001b[0m \u001b[0mf\u001b[0m\u001b[0;34m,\u001b[0m \u001b[0mmask\u001b[0m\u001b[0;34m.\u001b[0m\u001b[0mview\u001b[0m\u001b[0;34m(\u001b[0m\u001b[0mnp\u001b[0m\u001b[0;34m.\u001b[0m\u001b[0muint8\u001b[0m\u001b[0;34m)\u001b[0m\u001b[0;34m,\u001b[0m \u001b[0mconvert\u001b[0m\u001b[0;34m)\u001b[0m\u001b[0;34m\u001b[0m\u001b[0;34m\u001b[0m\u001b[0m\n\u001b[0m\u001b[1;32m    216\u001b[0m         \u001b[0;32mexcept\u001b[0m \u001b[0;34m(\u001b[0m\u001b[0mTypeError\u001b[0m\u001b[0;34m,\u001b[0m \u001b[0mAttributeError\u001b[0m\u001b[0;34m)\u001b[0m \u001b[0;32mas\u001b[0m \u001b[0me\u001b[0m\u001b[0;34m:\u001b[0m\u001b[0;34m\u001b[0m\u001b[0;34m\u001b[0m\u001b[0m\n\u001b[1;32m    217\u001b[0m             \u001b[0;31m# Reraise the exception if callable `f` got wrong number of args.\u001b[0m\u001b[0;34m\u001b[0m\u001b[0;34m\u001b[0m\u001b[0;34m\u001b[0m\u001b[0m\n",
      "\u001b[0;32mpandas/_libs/lib.pyx\u001b[0m in \u001b[0;36mpandas._libs.lib.map_infer_mask\u001b[0;34m()\u001b[0m\n",
      "\u001b[0;32m~/anaconda3/envs/nlpenv/lib/python3.8/site-packages/pandas/core/strings.py\u001b[0m in \u001b[0;36m<lambda>\u001b[0;34m(x)\u001b[0m\n\u001b[1;32m   3396\u001b[0m     )\n\u001b[1;32m   3397\u001b[0m     lower = _noarg_wrapper(\n\u001b[0;32m-> 3398\u001b[0;31m         \u001b[0;32mlambda\u001b[0m \u001b[0mx\u001b[0m\u001b[0;34m:\u001b[0m \u001b[0mx\u001b[0m\u001b[0;34m.\u001b[0m\u001b[0mlower\u001b[0m\u001b[0;34m(\u001b[0m\u001b[0;34m)\u001b[0m\u001b[0;34m,\u001b[0m\u001b[0;34m\u001b[0m\u001b[0;34m\u001b[0m\u001b[0m\n\u001b[0m\u001b[1;32m   3399\u001b[0m         \u001b[0mname\u001b[0m\u001b[0;34m=\u001b[0m\u001b[0;34m\"lower\"\u001b[0m\u001b[0;34m,\u001b[0m\u001b[0;34m\u001b[0m\u001b[0;34m\u001b[0m\u001b[0m\n\u001b[1;32m   3400\u001b[0m         \u001b[0mdocstring\u001b[0m\u001b[0;34m=\u001b[0m\u001b[0m_shared_docs\u001b[0m\u001b[0;34m[\u001b[0m\u001b[0;34m\"casemethods\"\u001b[0m\u001b[0;34m]\u001b[0m \u001b[0;34m%\u001b[0m \u001b[0m_doc_args\u001b[0m\u001b[0;34m[\u001b[0m\u001b[0;34m\"lower\"\u001b[0m\u001b[0;34m]\u001b[0m\u001b[0;34m,\u001b[0m\u001b[0;34m\u001b[0m\u001b[0;34m\u001b[0m\u001b[0m\n",
      "\u001b[0;31mKeyboardInterrupt\u001b[0m: "
     ]
    }
   ],
   "source": [
    "# Cuento las muestras por país\n",
    "print('Muestras por país:')\n",
    "print(df['country'].value_counts())\n",
    "print()\n",
    "\n",
    "# Cuento las muestras por idioma, a partir del país\n",
    "print('Muestras por idioma:')\n",
    "df_por = df[df['country'] == 'MLB'].reset_index(drop=True)\n",
    "df_esp = df[df['country'] != 'MLB'].reset_index(drop=True)\n",
    "print('Portugués:', len(df_por))\n",
    "print('Español:', len(df_esp))\n",
    "print()\n",
    "\n",
    "# Obtengo los vocabularios:\n",
    "print('Vocabulario de palabras en español:')\n",
    "splitted_esp = (df_esp['review_content'] + df_esp['review_title']).str.lower().str.split(r'[0-9 {}]+'.format(re.escape(string.punctuation)))\n",
    "vocab_esp = splitted_esp.explode().value_counts()\n",
    "print(vocab_esp)\n",
    "print()\n",
    "\n",
    "print('Vocabulario de palabras en portugués:')\n",
    "splitted_por = (df_por['review_content'] + df_por['review_title']).str.lower().str.split(r'[0-9 {}]+'.format(re.escape(string.punctuation)))\n",
    "vocab_por = splitted_por.explode().value_counts()\n",
    "print(vocab_por)\n",
    "\n",
    "with open('./words_esp_full.txt','w') as file:\n",
    "    for word in vocab_esp.index:\n",
    "        file.write(word)\n",
    "        file.write('\\n')\n",
    "\n",
    "with open('./words_por_full.txt','w') as file:\n",
    "    for word in vocab_por.index:\n",
    "        file.write(word)\n",
    "        file.write('\\n')"
   ]
  },
  {
   "cell_type": "code",
   "execution_count": 7,
   "metadata": {},
   "outputs": [
    {
     "output_type": "execute_result",
     "data": {
      "text/plain": [
       "5    1801394\n",
       "4     324174\n",
       "3     130169\n",
       "1      88651\n",
       "2      55495\n",
       "Name: review_rate, dtype: int64"
      ]
     },
     "metadata": {},
     "execution_count": 7
    }
   ],
   "source": [
    "df_por['review_rate'].value_counts()"
   ]
  },
  {
   "cell_type": "code",
   "execution_count": 23,
   "metadata": {},
   "outputs": [
    {
     "output_type": "stream",
     "name": "stdout",
     "text": [
      "[[ 19773  17658  62912 205802 741560]\n [ 21226  13431  36958 116324 636250]\n [  5146   3634  13161  43404 167505]\n [  6166   4364  10302  35537 172633]\n [  6041   3544   7557  17807 120825]\n [  1117    609   2859   8215  45449]\n [   670    368   1304   4000  17208]]\n"
     ]
    }
   ],
   "source": [
    "countries = ['MLA','MLM','MLU','MCO','MLC','MLV','MPE']\n",
    "rates = np.arange(5)+1\n",
    "matrix = np.zeros((len(countries),len(rates)),dtype=np.int)\n",
    "for i,country in enumerate(countries):\n",
    "    for j,rate in enumerate(rates):\n",
    "        mymask = (df_esp['review_rate'] == rate) & (df_esp['country'] == country)\n",
    "        matrix[i,j] = len(df_esp[mymask])\n",
    "\n",
    "print(matrix)"
   ]
  },
  {
   "cell_type": "code",
   "execution_count": 6,
   "metadata": {},
   "outputs": [
    {
     "output_type": "stream",
     "name": "stdout",
     "text": [
      "[[  46618   38504  128580  407944 1502710]\n [  44132   26385   68360  209257 1177546]\n [   7634    5297   18495   59676  234018]\n [  13159    9024   20402   68681  343085]\n [  16056    8828   17801   40526  281550]\n [   1671     889    4025   11278   65407]\n [    997     504    1843    5720   25071]]\n"
     ]
    }
   ],
   "source": [
    "countries = ['MLA','MLM','MLU','MCO','MLC','MLV','MPE']\n",
    "rates = np.arange(5)+1\n",
    "matrix = np.zeros((len(countries),len(rates)),dtype=np.int)\n",
    "for i,country in enumerate(countries):\n",
    "    for j,rate in enumerate(rates):\n",
    "        mymask = (df_esp['review_rate'] == rate) & (df_esp['country'] == country)\n",
    "        matrix[i,j] = len(df_esp[mymask])\n",
    "\n",
    "print(matrix)"
   ]
  },
  {
   "cell_type": "code",
   "execution_count": 2,
   "metadata": {},
   "outputs": [
    {
     "output_type": "stream",
     "name": "stdout",
     "text": [
      "Muestras por idioma:\nPortugués: 1540355\nEspañol: 2879234\n"
     ]
    },
    {
     "output_type": "execute_result",
     "data": {
      "text/plain": [
       "                                      review_content  review_rate\n",
       "0                 Todo ok. Sin ningún inconveniente.          5.0\n",
       "1  Bueno hasta ahorita, solo la calidad del plást...          4.0\n",
       "2  Perfecto repuesto para una tornamesa en restau...          5.0\n",
       "3  Excelente aguja, funciona muy bien en mi torna...          5.0\n",
       "4  Muy buenas agujas, el desempeño es casi igual ...          5.0"
      ],
      "text/html": "<div>\n<style scoped>\n    .dataframe tbody tr th:only-of-type {\n        vertical-align: middle;\n    }\n\n    .dataframe tbody tr th {\n        vertical-align: top;\n    }\n\n    .dataframe thead th {\n        text-align: right;\n    }\n</style>\n<table border=\"1\" class=\"dataframe\">\n  <thead>\n    <tr style=\"text-align: right;\">\n      <th></th>\n      <th>review_content</th>\n      <th>review_rate</th>\n    </tr>\n  </thead>\n  <tbody>\n    <tr>\n      <th>0</th>\n      <td>Todo ok. Sin ningún inconveniente.</td>\n      <td>5.0</td>\n    </tr>\n    <tr>\n      <th>1</th>\n      <td>Bueno hasta ahorita, solo la calidad del plást...</td>\n      <td>4.0</td>\n    </tr>\n    <tr>\n      <th>2</th>\n      <td>Perfecto repuesto para una tornamesa en restau...</td>\n      <td>5.0</td>\n    </tr>\n    <tr>\n      <th>3</th>\n      <td>Excelente aguja, funciona muy bien en mi torna...</td>\n      <td>5.0</td>\n    </tr>\n    <tr>\n      <th>4</th>\n      <td>Muy buenas agujas, el desempeño es casi igual ...</td>\n      <td>5.0</td>\n    </tr>\n  </tbody>\n</table>\n</div>"
     },
     "metadata": {},
     "execution_count": 2
    }
   ],
   "source": [
    "# # Cuento las muestras por país\n",
    "# print('Muestras por país:')\n",
    "# print(df['country'].value_counts())\n",
    "# print()\n",
    "\n",
    "# # Cuento las muestras por idioma, a partir del país\n",
    "# print('Muestras por idioma:')\n",
    "# df_por = df[df['country'] == 'MLB'].reset_index(drop=True)\n",
    "# df_esp = df[df['country'] != 'MLB'].reset_index(drop=True)\n",
    "# print('Portugués:', len(df_por))\n",
    "# print('Español:', len(df_esp))\n",
    "\n",
    "# df_esp.loc[:,['review_content','review_rate']].to_csv('./data_esp_full.csv',index=False)\n",
    "# df_por.loc[:,['review_content','review_rate']].to_csv('./data_por_full.csv',index=False)\n",
    "\n",
    "# df_esp = pd.read_csv('./data_esp_full.csv')\n",
    "# df_por = pd.read_csv('./data_por_full.csv')\n",
    "\n",
    "# print('Muestras por idioma:')\n",
    "# print('Portugués:', len(df_por))\n",
    "# print('Español:', len(df_esp))\n",
    "\n",
    "# df_esp.head(5)"
   ]
  }
 ]
}