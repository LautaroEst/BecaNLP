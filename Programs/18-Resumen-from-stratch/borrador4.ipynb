{
 "cells": [
  {
   "cell_type": "code",
   "execution_count": 1,
   "metadata": {},
   "outputs": [],
   "source": [
    "from Utils import *\n",
    "import pickle\n",
    "\n",
    "%load_ext autoreload\n",
    "%autoreload 2"
   ]
  },
  {
   "cell_type": "code",
   "execution_count": 2,
   "metadata": {},
   "outputs": [],
   "source": [
    "with open('trainers1.bin', 'rb') as trainers_file:\n",
    "    trainers1 = pickle.load(trainers_file)\n",
    "\n",
    "with open('trainers2.bin', 'rb') as trainers_file:\n",
    "    trainers2 = pickle.load(trainers_file)"
   ]
  },
  {
   "cell_type": "code",
   "execution_count": 3,
   "metadata": {},
   "outputs": [],
   "source": [
    "hp = [(2,50),(2,100),(2,200),(2,300),\n",
    "      (3,50),(3,100),(3,200),(3,300),\n",
    "      (4,50),(4,100),(4,200),(4,300),\n",
    "      (5,50),(5,100),(5,200),(5,300)]\n",
    "\n",
    "train_corpus = Corpus.from_text_files(['./wiki-corpus/{}_cleaned.txt'.format(i) for i in range(1,1)] \\\n",
    "                                      + ['./promptsl40_train_cleaned.txt'], r'[ \\s]+', 3)\n",
    "\n",
    "for i, trainer in enumerate(trainers1):\n",
    "    ws, ed = hp[i]\n",
    "    output_file = '../../../../final/lm/segunda-tanda/lm_trainers1_ws_{}_ed_{}'.format(ws,ed)\n",
    "    GetARPAFile(trainer, train_corpus, output_file)"
   ]
  },
  {
   "cell_type": "code",
   "execution_count": 4,
   "metadata": {},
   "outputs": [],
   "source": [
    "train_corpus = Corpus.from_text_files(['./wiki-corpus/{}_cleaned.txt'.format(i) for i in range(1,2)] \\\n",
    "                                      + ['./promptsl40_train_cleaned.txt'], r'[ \\s]+', 3)\n",
    "\n",
    "for i, trainer in enumerate(trainers2):\n",
    "    ws, ed = hp[i]\n",
    "    output_file = '../../../../final/lm/segunda-tanda/lm_trainers2_ws_{}_ed_{}'.format(ws,ed)\n",
    "    GetARPAFile(trainer, train_corpus, output_file)"
   ]
  }
 ],
 "metadata": {
  "kernelspec": {
   "display_name": "Python 3",
   "language": "python",
   "name": "python3"
  },
  "language_info": {
   "codemirror_mode": {
    "name": "ipython",
    "version": 3
   },
   "file_extension": ".py",
   "mimetype": "text/x-python",
   "name": "python",
   "nbconvert_exporter": "python",
   "pygments_lexer": "ipython3",
   "version": "3.7.3"
  }
 },
 "nbformat": 4,
 "nbformat_minor": 2
}
