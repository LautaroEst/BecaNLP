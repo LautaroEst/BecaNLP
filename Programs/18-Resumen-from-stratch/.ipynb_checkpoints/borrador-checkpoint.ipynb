{
 "cells": [
  {
   "cell_type": "code",
   "execution_count": 1,
   "metadata": {},
   "outputs": [],
   "source": [
    "from utils import *\n",
    "\n",
    "%load_ext autoreload\n",
    "%autoreload 2"
   ]
  },
  {
   "cell_type": "code",
   "execution_count": 14,
   "metadata": {},
   "outputs": [
    {
     "data": {
      "text/plain": [
       "[<re.Match object; span=(0, 14), match='hOla como 4 va'>]"
      ]
     },
     "execution_count": 14,
     "metadata": {},
     "output_type": "execute_result"
    }
   ],
   "source": [
    "t = \"hOla como 4 va\"\n",
    "it = list(re.finditer(r'[\\w ]+',t))\n",
    "it"
   ]
  },
  {
   "cell_type": "code",
   "execution_count": 61,
   "metadata": {},
   "outputs": [
    {
     "name": "stdout",
     "output_type": "stream",
     "text": [
      "2 0\n",
      "<s> !NULL\n"
     ]
    }
   ],
   "source": [
    "with open('./wdnet_train_corpus_test_vocab', 'rb') as wdnetfile:\n",
    "    text = wdnetfile.read().decode('iso-8859-1')\n",
    "    arc = re.search(r'J=\\d+\\s+S=(\\d+)\\s+E=(\\d+)\\s+l=([\\-\\d\\.]*)',text)\n",
    "    w1, w2 = arc.groups()[0], arc.groups()[1]\n",
    "    log_prob = arc.groups()[2]\n",
    "    node_w1 = re.search(r'I={}\\s+W=([</>\\d\\w!]*)'.format(w1),text)\n",
    "    node_w2 = re.search(r'I={}\\s+W=([</>\\d\\w!]*)'.format(w2),text)\n",
    "    print(node_w1.groups()[0], node_w2.groups()[0])"
   ]
  },
  {
   "cell_type": "code",
   "execution_count": 79,
   "metadata": {},
   "outputs": [
    {
     "name": "stdout",
     "output_type": "stream",
     "text": [
      "('-0.95',)\n"
     ]
    }
   ],
   "source": [
    "with open('./wdnet_train_corpus_test_vocab', 'rb') as wdnetfile:\n",
    "    text = wdnetfile.read().decode('iso-8859-1')\n",
    "\n",
    "with open('./wdnet_train_corpus_test_vocab', 'rb') as wdnetfile:\n",
    "    text = wdnetfile.read().decode('iso-8859-1')\n",
    "    "
   ]
  },
  {
   "cell_type": "code",
   "execution_count": 62,
   "metadata": {},
   "outputs": [],
   "source": [
    "import pickle\n",
    " \n",
    "config_dictionary = {'remote_hostname': 'google.com', 'remote_port': 80}\n",
    "with open('config.dictionary', 'wb') as config_dictionary_file:\n",
    "    pickle.dump(config_dictionary, config_dictionary_file)"
   ]
  },
  {
   "cell_type": "code",
   "execution_count": 64,
   "metadata": {},
   "outputs": [
    {
     "name": "stdout",
     "output_type": "stream",
     "text": [
      "{'remote_hostname': 'google.com', 'remote_port': 80}\n"
     ]
    }
   ],
   "source": [
    "with open('config.dictionary', 'rb') as config_dictionary_file:\n",
    "    config_dictionar = pickle.load(config_dictionary_file)\n",
    "    print(config_dictionar)"
   ]
  }
 ],
 "metadata": {
  "kernelspec": {
   "display_name": "Python 3",
   "language": "python",
   "name": "python3"
  },
  "language_info": {
   "codemirror_mode": {
    "name": "ipython",
    "version": 3
   },
   "file_extension": ".py",
   "mimetype": "text/x-python",
   "name": "python",
   "nbconvert_exporter": "python",
   "pygments_lexer": "ipython3",
   "version": "3.7.3"
  }
 },
 "nbformat": 4,
 "nbformat_minor": 2
}
