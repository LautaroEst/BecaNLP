{
 "cells": [
  {
   "cell_type": "code",
   "execution_count": 68,
   "metadata": {},
   "outputs": [
    {
     "name": "stdout",
     "output_type": "stream",
     "text": [
      "The autoreload extension is already loaded. To reload it, use:\n",
      "  %reload_ext autoreload\n"
     ]
    }
   ],
   "source": [
    "from utils import *\n",
    "\n",
    "%load_ext autoreload\n",
    "%autoreload 2"
   ]
  },
  {
   "cell_type": "markdown",
   "metadata": {},
   "source": [
    "# Modelos de lenguaje Neuronales"
   ]
  },
  {
   "cell_type": "code",
   "execution_count": 63,
   "metadata": {},
   "outputs": [
    {
     "name": "stdout",
     "output_type": "stream",
     "text": [
      "SkipGram trainer created:\n",
      "Window size: 2\n",
      "Number of samples: 16\n",
      "Vocabulary Size: 4\n",
      "Number of batches: 1\n",
      "Number of samples per batch: 64\n",
      "\n",
      "Dispositivo seleccionado: cpu\n",
      "Dimensión del espacio de los embeddings: 10\n"
     ]
    }
   ],
   "source": [
    "#corpus = [['w1', 'w2', 'w3', 'w4'], ['w1', 'w3', 'w3', 'w3'], ['w1'], ['w1', 'w2', 'w3', 'w4', 'w1', 'w2', 'w3', 'w4']]\n",
    "corpus = GetTrainCorpus('./promptsl40.train')\n",
    "cutoff_freq = 0\n",
    "window_size = 2\n",
    "batch_size = 64\n",
    "\n",
    "state_dict = None\n",
    "device = 'cpu'\n",
    "paralelize = False\n",
    "embedding_dim = 10\n",
    "\n",
    "sk_trainer = SkipGramTrainer(corpus, cutoff_freq, window_size, batch_size)\n",
    "sk_trainer.InitModel(state_dict=None, device='cpu', paralelize=False, embedding_dim=embedding_dim)"
   ]
  },
  {
   "cell_type": "code",
   "execution_count": 66,
   "metadata": {},
   "outputs": [
    {
     "name": "stdout",
     "output_type": "stream",
     "text": [
      "Resuming training...\n",
      "Optimization method: SGD\n",
      "Learning Rate: 0.001\n",
      "Number of epochs: 10\n",
      "Running on device (cpu)\n",
      "\n",
      "Epoch: 1, Batch number: 0, Loss: 67.53102111816406\n",
      "Epoch: 2, Batch number: 0, Loss: 67.04255676269531\n",
      "Epoch: 3, Batch number: 0, Loss: 66.58919525146484\n",
      "Epoch: 4, Batch number: 0, Loss: 66.1677474975586\n",
      "Epoch: 5, Batch number: 0, Loss: 65.77525329589844\n",
      "Epoch: 6, Batch number: 0, Loss: 65.40904235839844\n",
      "Epoch: 7, Batch number: 0, Loss: 65.06669616699219\n",
      "Epoch: 8, Batch number: 0, Loss: 64.7459487915039\n",
      "Epoch: 9, Batch number: 0, Loss: 64.44477081298828\n",
      "Epoch: 10, Batch number: 0, Loss: 64.16132354736328\n",
      "Training finished\n",
      "\n"
     ]
    }
   ],
   "source": [
    "algorithm = 'SGD'\n",
    "epochs = 10\n",
    "sample_loss_every=1\n",
    "learning_rate = 1e-3\n",
    "\n",
    "sk_trainer.Train(algorithm=algorithm, epochs=epochs, sample_loss_every=sample_loss_every, lr=learning_rate)"
   ]
  },
  {
   "cell_type": "code",
   "execution_count": 76,
   "metadata": {},
   "outputs": [
    {
     "data": {
      "text/plain": [
       "{'w1': (tensor([ 0.7257, -0.0043, -0.6926, -0.8328,  0.1634, -0.5858,  0.8518, -0.4614,\n",
       "           0.7571,  0.0205], grad_fn=<EmbeddingBackward>),\n",
       "  tensor([-0.1365,  0.0729, -0.1610,  0.2844,  0.0909, -0.0898, -0.1401,  0.1726,\n",
       "          -0.3084,  0.2614])),\n",
       " 'w3': (tensor([ 1.8515,  0.6254,  2.3238, -0.4881, -2.8213,  0.1302, -0.1847,  0.2043,\n",
       "          -0.5164, -0.1444], grad_fn=<EmbeddingBackward>),\n",
       "  tensor([ 0.0632, -0.1596,  0.0444,  0.0741,  0.2879, -0.3192, -0.1807,  0.1954,\n",
       "          -0.2369, -0.0670])),\n",
       " 'w5': (tensor([ 0.8531, -0.7890, -0.5680, -1.4491, -1.1984,  1.5608, -0.3590, -0.3189,\n",
       "           1.0457, -0.3496]),\n",
       "  tensor([-2.2006, -2.0032, -0.5274,  1.3890,  0.4959, -0.7020,  0.3965,  0.3296,\n",
       "           0.2028, -0.8204]))}"
      ]
     },
     "execution_count": 76,
     "metadata": {},
     "output_type": "execute_result"
    }
   ],
   "source": [
    "GetEmbeddings('./promptsl40.test',sk_trainer)"
   ]
  },
  {
   "cell_type": "code",
   "execution_count": 44,
   "metadata": {},
   "outputs": [
    {
     "name": "stdout",
     "output_type": "stream",
     "text": [
      "CBOW trainer created:\n",
      "Window size: 2\n",
      "Number of samples: 10\n",
      "Vocabulary Size: 2\n",
      "Number of batches: 1\n",
      "Number of samples per batch: 64\n",
      "\n",
      "Dispositivo seleccionado: cpu\n",
      "Dimensión del espacio de los embeddings: 10\n"
     ]
    }
   ],
   "source": [
    "corpus = [['w1', 'w2', 'w3', 'w4'], ['w1', 'w3', 'w3', 'w3'], ['w1'], ['w1', 'w2', 'w3', 'w4', 'w1', 'w2', 'w3', 'w4']]\n",
    "cutoff_freq = 3\n",
    "window_size = 2\n",
    "batch_size = 64\n",
    "\n",
    "state_dict = None\n",
    "device = 'cpu'\n",
    "paralelize = False\n",
    "embedding_dim = 10\n",
    "\n",
    "cbow_trainer = CBOWTrainer(corpus, cutoff_freq, window_size, batch_size)\n",
    "cbow_trainer.InitModel(state_dict=None, device='cpu', paralelize=False, embedding_dim=embedding_dim)"
   ]
  },
  {
   "cell_type": "code",
   "execution_count": 45,
   "metadata": {},
   "outputs": [
    {
     "name": "stdout",
     "output_type": "stream",
     "text": [
      "Starting training...\n",
      "Optimization method: SGD\n",
      "Learning Rate: 0.001\n",
      "Number of epochs: 1\n",
      "Running on device (cpu)\n",
      "\n",
      "Epoch: 1, Batch number: 0, Loss: 7.79583740234375\n",
      "Training finished\n",
      "\n"
     ]
    }
   ],
   "source": [
    "algorithm = 'SGD'\n",
    "epochs = 1\n",
    "sample_loss_every=100\n",
    "learning_rate = 1e-3\n",
    "\n",
    "cbow_trainer.Train(algorithm=algorithm, epochs=epochs, sample_loss_every=sample_loss_every, lr=learning_rate)"
   ]
  },
  {
   "cell_type": "code",
   "execution_count": null,
   "metadata": {},
   "outputs": [],
   "source": []
  }
 ],
 "metadata": {
  "kernelspec": {
   "display_name": "Python 3",
   "language": "python",
   "name": "python3"
  },
  "language_info": {
   "codemirror_mode": {
    "name": "ipython",
    "version": 3
   },
   "file_extension": ".py",
   "mimetype": "text/x-python",
   "name": "python",
   "nbconvert_exporter": "python",
   "pygments_lexer": "ipython3",
   "version": "3.7.3"
  }
 },
 "nbformat": 4,
 "nbformat_minor": 2
}
