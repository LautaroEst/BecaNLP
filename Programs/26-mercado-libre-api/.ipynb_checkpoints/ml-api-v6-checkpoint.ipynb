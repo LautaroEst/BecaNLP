{
 "cells": [
  {
   "cell_type": "code",
   "execution_count": 19,
   "metadata": {},
   "outputs": [],
   "source": [
    "import pandas as pd\n",
    "import numpy as np\n",
    "import string\n",
    "import re\n",
    "import fasttext"
   ]
  },
  {
   "cell_type": "markdown",
   "metadata": {},
   "source": [
    "# Dataset ML para análisis de sentimientos"
   ]
  },
  {
   "cell_type": "markdown",
   "metadata": {},
   "source": [
    "1era parte: limpieza de los datos"
   ]
  },
  {
   "cell_type": "code",
   "execution_count": 135,
   "metadata": {},
   "outputs": [
    {
     "name": "stdout",
     "output_type": "stream",
     "text": [
      "leyendo los datos...\n",
      "eliminando comentarios con caracteres raros...\n",
      "separando por país...\n",
      "eliminando por idioma...\n",
      "eliminando por idioma...\n"
     ]
    }
   ],
   "source": [
    "# Leo los datos:\n",
    "print('leyendo los datos...')\n",
    "df = pd.read_csv('data_all2.csv')\n",
    "\n",
    "# Elimino los duplicados:\n",
    "df = df.drop_duplicates(subset=['review_content']).reset_index(drop=True)\n",
    "\n",
    "# Cambio todos los espacios por espacios simples:\n",
    "df['review_content'] = df['review_content'].str.replace(r'\\s+',' ',regex=True)\n",
    "\n",
    "# Defino los caracteres con los que me voy a quedar y elimino \n",
    "# los comentarios que tienen caracteres que no van:\n",
    "print('eliminando comentarios con caracteres raros...')\n",
    "non_ascii = 'áàâãäÁÀÂÃÄéèêëÉÈÊẼËíìîĩïÍÌÎĨÏóòôõöÓÒÔÕÖúùûũüÚÙÛŨÜñÑçÇ'\n",
    "chars_vocab = string.digits + string.ascii_letters + string.punctuation + string.whitespace + non_ascii\n",
    "all_chars = df['review_content'].str.split('').explode().value_counts().index\n",
    "chars_to_remove = list(set(all_chars) - set(chars_vocab) - {''})\n",
    "chars_to_remove_regex = '|'.join(sorted([re.escape(c) for c in chars_to_remove]))\n",
    "df = df[-df['review_content'].str.contains(chars_to_remove_regex,regex=True,na=True)].reset_index(drop=True)\n",
    "\n",
    "# Separo por país:\n",
    "print('separando por país...')\n",
    "df_por = df[df['country'] == 'MLB'].reset_index(drop=True)\n",
    "df_esp = df[df['country'] != 'MLB'].reset_index(drop=True)\n",
    "\n",
    "# Elimino comentarios en otros idiomas:\n",
    "model_predict = fasttext.load_model('./lid.176.bin').predict\n",
    "def detect_language(s):\n",
    "    l, _ = next(zip(*model_predict(s, k=1)))\n",
    "    return l\n",
    "print('eliminando por idioma...')\n",
    "df_por = df_por[df_por['review_content'].apply(detect_language) == '__label__pt'].reset_index(drop=True)\n",
    "print('eliminando por idioma...')\n",
    "df_esp = df_esp[df_esp['review_content'].apply(detect_language) == '__label__es'].reset_index(drop=True)"
   ]
  },
  {
   "cell_type": "markdown",
   "metadata": {},
   "source": [
    "2da parte: filtro de comentarios por orden de importancia"
   ]
  },
  {
   "cell_type": "code",
   "execution_count": 148,
   "metadata": {},
   "outputs": [
    {
     "name": "stdout",
     "output_type": "stream",
     "text": [
      "5    791520\n",
      "4    184402\n",
      "3     62877\n",
      "1     33017\n",
      "2     22824\n",
      "Name: review_rate, dtype: int64\n"
     ]
    },
    {
     "ename": "ValueError",
     "evalue": "Cannot take a larger sample than population when 'replace=False'",
     "output_type": "error",
     "traceback": [
      "\u001b[0;31m---------------------------------------------------------------------------\u001b[0m",
      "\u001b[0;31mValueError\u001b[0m                                Traceback (most recent call last)",
      "\u001b[0;32m<ipython-input-148-3de56ce874be>\u001b[0m in \u001b[0;36m<module>\u001b[0;34m\u001b[0m\n\u001b[1;32m     41\u001b[0m     \u001b[0;32mreturn\u001b[0m \u001b[0mdf\u001b[0m\u001b[0;34m\u001b[0m\u001b[0;34m\u001b[0m\u001b[0m\n\u001b[1;32m     42\u001b[0m \u001b[0;34m\u001b[0m\u001b[0m\n\u001b[0;32m---> 43\u001b[0;31m \u001b[0mdf_esp_filtered\u001b[0m \u001b[0;34m=\u001b[0m \u001b[0mfilter_by_importance\u001b[0m\u001b[0;34m(\u001b[0m\u001b[0mdf_esp\u001b[0m\u001b[0;34m,\u001b[0m\u001b[0mmax_comments\u001b[0m\u001b[0;34m,\u001b[0m\u001b[0mn\u001b[0m\u001b[0;34m)\u001b[0m\u001b[0;34m\u001b[0m\u001b[0;34m\u001b[0m\u001b[0m\n\u001b[0m\u001b[1;32m     44\u001b[0m \u001b[0mdf_por_filtered\u001b[0m \u001b[0;34m=\u001b[0m \u001b[0mfilter_by_importance\u001b[0m\u001b[0;34m(\u001b[0m\u001b[0mdf_por\u001b[0m\u001b[0;34m,\u001b[0m\u001b[0mmax_comments\u001b[0m\u001b[0;34m,\u001b[0m\u001b[0mn\u001b[0m\u001b[0;34m)\u001b[0m\u001b[0;34m\u001b[0m\u001b[0;34m\u001b[0m\u001b[0m\n\u001b[1;32m     45\u001b[0m \u001b[0;34m\u001b[0m\u001b[0m\n",
      "\u001b[0;32m<ipython-input-148-3de56ce874be>\u001b[0m in \u001b[0;36mfilter_by_importance\u001b[0;34m(df, max_comments, n)\u001b[0m\n\u001b[1;32m     35\u001b[0m     \u001b[0mrandom_state\u001b[0m \u001b[0;34m=\u001b[0m \u001b[0;36m1234\u001b[0m\u001b[0;34m\u001b[0m\u001b[0;34m\u001b[0m\u001b[0m\n\u001b[1;32m     36\u001b[0m     \u001b[0mrandom_state\u001b[0m \u001b[0;34m=\u001b[0m \u001b[0mnp\u001b[0m\u001b[0;34m.\u001b[0m\u001b[0mrandom\u001b[0m\u001b[0;34m.\u001b[0m\u001b[0mRandomState\u001b[0m\u001b[0;34m(\u001b[0m\u001b[0mrandom_state\u001b[0m\u001b[0;34m)\u001b[0m\u001b[0;34m\u001b[0m\u001b[0;34m\u001b[0m\u001b[0m\n\u001b[0;32m---> 37\u001b[0;31m     df = df.iloc[np.hstack([random_state.choice(arr, n, replace=False) \n\u001b[0m\u001b[1;32m     38\u001b[0m                            for arr in df.groupby('review_rate').indices.values()]),:].reset_index(drop=True)\n\u001b[1;32m     39\u001b[0m     \u001b[0mdf\u001b[0m \u001b[0;34m=\u001b[0m \u001b[0mdf\u001b[0m\u001b[0;34m.\u001b[0m\u001b[0miloc\u001b[0m\u001b[0;34m[\u001b[0m\u001b[0mrandom_state\u001b[0m\u001b[0;34m.\u001b[0m\u001b[0mpermutation\u001b[0m\u001b[0;34m(\u001b[0m\u001b[0mlen\u001b[0m\u001b[0;34m(\u001b[0m\u001b[0mdf\u001b[0m\u001b[0;34m)\u001b[0m\u001b[0;34m)\u001b[0m\u001b[0;34m,\u001b[0m\u001b[0;34m:\u001b[0m\u001b[0;34m]\u001b[0m\u001b[0;34m.\u001b[0m\u001b[0mreset_index\u001b[0m\u001b[0;34m(\u001b[0m\u001b[0mdrop\u001b[0m\u001b[0;34m=\u001b[0m\u001b[0;32mTrue\u001b[0m\u001b[0;34m)\u001b[0m\u001b[0;34m\u001b[0m\u001b[0;34m\u001b[0m\u001b[0m\n",
      "\u001b[0;32m<ipython-input-148-3de56ce874be>\u001b[0m in \u001b[0;36m<listcomp>\u001b[0;34m(.0)\u001b[0m\n\u001b[1;32m     35\u001b[0m     \u001b[0mrandom_state\u001b[0m \u001b[0;34m=\u001b[0m \u001b[0;36m1234\u001b[0m\u001b[0;34m\u001b[0m\u001b[0;34m\u001b[0m\u001b[0m\n\u001b[1;32m     36\u001b[0m     \u001b[0mrandom_state\u001b[0m \u001b[0;34m=\u001b[0m \u001b[0mnp\u001b[0m\u001b[0;34m.\u001b[0m\u001b[0mrandom\u001b[0m\u001b[0;34m.\u001b[0m\u001b[0mRandomState\u001b[0m\u001b[0;34m(\u001b[0m\u001b[0mrandom_state\u001b[0m\u001b[0;34m)\u001b[0m\u001b[0;34m\u001b[0m\u001b[0;34m\u001b[0m\u001b[0m\n\u001b[0;32m---> 37\u001b[0;31m     df = df.iloc[np.hstack([random_state.choice(arr, n, replace=False) \n\u001b[0m\u001b[1;32m     38\u001b[0m                            for arr in df.groupby('review_rate').indices.values()]),:].reset_index(drop=True)\n\u001b[1;32m     39\u001b[0m     \u001b[0mdf\u001b[0m \u001b[0;34m=\u001b[0m \u001b[0mdf\u001b[0m\u001b[0;34m.\u001b[0m\u001b[0miloc\u001b[0m\u001b[0;34m[\u001b[0m\u001b[0mrandom_state\u001b[0m\u001b[0;34m.\u001b[0m\u001b[0mpermutation\u001b[0m\u001b[0;34m(\u001b[0m\u001b[0mlen\u001b[0m\u001b[0;34m(\u001b[0m\u001b[0mdf\u001b[0m\u001b[0;34m)\u001b[0m\u001b[0;34m)\u001b[0m\u001b[0;34m,\u001b[0m\u001b[0;34m:\u001b[0m\u001b[0;34m]\u001b[0m\u001b[0;34m.\u001b[0m\u001b[0mreset_index\u001b[0m\u001b[0;34m(\u001b[0m\u001b[0mdrop\u001b[0m\u001b[0;34m=\u001b[0m\u001b[0;32mTrue\u001b[0m\u001b[0;34m)\u001b[0m\u001b[0;34m\u001b[0m\u001b[0;34m\u001b[0m\u001b[0m\n",
      "\u001b[0;32mmtrand.pyx\u001b[0m in \u001b[0;36mnumpy.random.mtrand.RandomState.choice\u001b[0;34m()\u001b[0m\n",
      "\u001b[0;31mValueError\u001b[0m: Cannot take a larger sample than population when 'replace=False'"
     ]
    }
   ],
   "source": [
    "max_comments = 30 # cantidad máxima de comentarios por producto\n",
    "n = 25000 # cantidad de comentarios por calificación\n",
    "    \n",
    "def filter_by_importance(df,max_comments,n):\n",
    "\n",
    "    # Pesos de cada característica\n",
    "    w_rate = 0.0\n",
    "    w_like = .0\n",
    "    w_dislike = .0\n",
    "    w_country = .0\n",
    "\n",
    "    # Puntuación parcial de cada característica\n",
    "    score_rate = 1/df['review_rate']\n",
    "    score_rate = (score_rate-min(score_rate))/(max(score_rate)-min(score_rate))\n",
    "    score_like = (df['review_likes']-min(df['review_likes']))/(max(df['review_likes'])-min(df['review_likes']))\n",
    "    score_dislike = (df['review_dislikes']-min(df['review_dislikes']))/(max(df['review_dislikes'])-min(df['review_dislikes']))\n",
    "    countries = df['country'].value_counts()\n",
    "    total_counts = sum(countries)\n",
    "    country2score = {country: countries[country] / total_counts for country in countries.index}\n",
    "    score_country = df['country'].map(country2score)\n",
    "    score_country = (score_country-min(score_country))/(max(score_country)-min(score_country))\n",
    "    score_country.fillna(0,inplace=True)\n",
    "\n",
    "    # Puntuación total\n",
    "    total_score = w_rate*score_rate + w_like*score_like + w_dislike*score_dislike - w_country*score_country\n",
    "\n",
    "    # Reordeno los comentarios por importancia y me quedo con,\n",
    "    # a lo sumo, max_comments por comentario\n",
    "    indices = total_score.sort_values(ascending=False).index\n",
    "    df = df.loc[indices,:].reset_index(drop=True)\n",
    "    df = df.groupby('prod_id').head(max_comments)\n",
    "\n",
    "    print(df['review_rate'].value_counts())\n",
    "    # Muestreamos aleatoriamente para quedarnos con n comentarios por rate, y mezclamos:\n",
    "    random_state = 1234\n",
    "    random_state = np.random.RandomState(random_state)\n",
    "    df = df.iloc[np.hstack([random_state.choice(arr, n, replace=False) \n",
    "                           for arr in df.groupby('review_rate').indices.values()]),:].reset_index(drop=True)\n",
    "    df = df.iloc[random_state.permutation(len(df)),:].reset_index(drop=True)\n",
    "\n",
    "    return df\n",
    "\n",
    "df_esp_filtered = filter_by_importance(df_esp,max_comments,n)\n",
    "df_por_filtered = filter_by_importance(df_por,max_comments,n)\n",
    "\n",
    "print('guardando resultados...')\n",
    "df_esp_filtered.to_csv('data_esp.csv',index=False)\n",
    "df_por_filtered.to_csv('data_por.csv',index=False)"
   ]
  },
  {
   "cell_type": "code",
   "execution_count": 30,
   "metadata": {},
   "outputs": [
    {
     "name": "stdout",
     "output_type": "stream",
     "text": [
      "MLA    51489\n",
      "MLM    41290\n",
      "MLU    11386\n",
      "MCO    10287\n",
      "MLC     7618\n",
      "MLV     2108\n",
      "MPE      822\n",
      "Name: country, dtype: int64\n",
      "\n",
      "5    25000\n",
      "4    25000\n",
      "3    25000\n",
      "2    25000\n",
      "1    25000\n",
      "Name: review_rate, dtype: int64\n",
      "\n",
      "MLA    51489\n",
      "MLM    41290\n",
      "MLU    11386\n",
      "MCO    10287\n",
      "MLC     7618\n",
      "MLV     2108\n",
      "MPE      822\n",
      "Name: country, dtype: int64\n"
     ]
    }
   ],
   "source": [
    "print(df['country'].value_counts())\n",
    "print()\n",
    "print(df['review_rate'].value_counts())"
   ]
  },
  {
   "cell_type": "code",
   "execution_count": 111,
   "metadata": {},
   "outputs": [],
   "source": [
    "df_esp = pd.read_csv('data_esp.csv')\n",
    "samples = {key: len(value) for key, value in df_esp.groupby(['country','review_rate']).indices.items()}\n",
    "country2idx = {country: idx for idx, country in enumerate(df_esp['country'].unique().tolist())}\n",
    "rates2idx = {rate: idx for idx, rate in enumerate([1,2,3,4,5])}\n",
    "sample_matrix = np.zeros((len(country2idx),len(rates2idx)))\n",
    "for (country, rate), val in samples.items():\n",
    "    sample_matrix[country2idx[country],rates2idx[rate]] =  val\n",
    "\n",
    "df_hist_esp = pd.DataFrame(sample_matrix,columns=rates2idx.keys(),index=country2idx.keys())\n",
    "df_hist_esp"
   ]
  },
  {
   "cell_type": "code",
   "execution_count": 131,
   "metadata": {},
   "outputs": [
    {
     "data": {
      "image/png": "[encoded data removed]",
      "text/plain": [
       "<Figure size 432x288 with 1 Axes>"
      ]
     },
     "metadata": {
      "needs_background": "light"
     },
     "output_type": "display_data"
    }
   ],
   "source": [
    "import matplotlib.pyplot as plt\n",
    "\n",
    "#plt.scatter(df_hist_esp.sum(axis))\n",
    "#plt.yticks(np.arange(0.5, len(df_hist_esp.index), 1), df_hist_esp.index)\n",
    "#plt.xticks(np.arange(0.5, len(df_hist_esp.index), 1), df_hist_esp.index)\n",
    "#plt.show()\n",
    "\n",
    "for rate, i in rates2idx.items():\n",
    "    #plt.scatter(country2idx.values(),sample_matrix[:,i])\n",
    "    plt.plot(sample_matrix[:,i])\n",
    "    plt.xticks(list(country2idx.values()), list(country2idx.keys()))"
   ]
  },
  {
   "cell_type": "markdown",
   "metadata": {},
   "source": [
    "# "
   ]
  }
 ],
 "metadata": {
  "kernelspec": {
   "display_name": "Python 3",
   "language": "python",
   "name": "python3"
  },
  "language_info": {
   "codemirror_mode": {
    "name": "ipython",
    "version": 3
   },
   "file_extension": ".py",
   "mimetype": "text/x-python",
   "name": "python",
   "nbconvert_exporter": "python",
   "pygments_lexer": "ipython3",
   "version": "3.8.3"
  }
 },
 "nbformat": 4,
 "nbformat_minor": 4
}
