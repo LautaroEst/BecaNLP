{
 "cells": [
  {
   "cell_type": "code",
   "execution_count": 14,
   "metadata": {},
   "outputs": [
    {
     "name": "stdout",
     "output_type": "stream",
     "text": [
      "The autoreload extension is already loaded. To reload it, use:\n",
      "  %reload_ext autoreload\n"
     ]
    }
   ],
   "source": [
    "import numpy as np\n",
    "import pandas as pd\n",
    "import re\n",
    "import langdetect\n",
    "\n",
    "%load_ext autoreload\n",
    "%autoreload 2"
   ]
  },
  {
   "cell_type": "code",
   "execution_count": 2,
   "metadata": {},
   "outputs": [],
   "source": [
    "df_esp = pd.read_csv('./reviews_esp.csv').loc[:,['review_content', 'review_rate']]\n",
    "df_por = pd.read_csv('./reviews_por.csv').loc[:,['review_content', 'review_rate']]"
   ]
  },
  {
   "cell_type": "code",
   "execution_count": 3,
   "metadata": {},
   "outputs": [
    {
     "data": {
      "text/html": [
       "<div>\n",
       "<style scoped>\n",
       "    .dataframe tbody tr th:only-of-type {\n",
       "        vertical-align: middle;\n",
       "    }\n",
       "\n",
       "    .dataframe tbody tr th {\n",
       "        vertical-align: top;\n",
       "    }\n",
       "\n",
       "    .dataframe thead th {\n",
       "        text-align: right;\n",
       "    }\n",
       "</style>\n",
       "<table border=\"1\" class=\"dataframe\">\n",
       "  <thead>\n",
       "    <tr style=\"text-align: right;\">\n",
       "      <th></th>\n",
       "      <th>review_content</th>\n",
       "      <th>review_rate</th>\n",
       "    </tr>\n",
       "  </thead>\n",
       "  <tbody>\n",
       "    <tr>\n",
       "      <th>0</th>\n",
       "      <td>Menor resolucion a la esperada, satisface de f...</td>\n",
       "      <td>2</td>\n",
       "    </tr>\n",
       "    <tr>\n",
       "      <th>1</th>\n",
       "      <td>Muy buena calidad!!! estoy muy  conforme con e...</td>\n",
       "      <td>5</td>\n",
       "    </tr>\n",
       "    <tr>\n",
       "      <th>2</th>\n",
       "      <td>Buenas sillas. Son cómodas, practicas a la hor...</td>\n",
       "      <td>4</td>\n",
       "    </tr>\n",
       "    <tr>\n",
       "      <th>3</th>\n",
       "      <td>En el uno normal los numeros 6 y 9 estan subra...</td>\n",
       "      <td>2</td>\n",
       "    </tr>\n",
       "    <tr>\n",
       "      <th>4</th>\n",
       "      <td>Excelente ayuda bastante y te evitas de estart...</td>\n",
       "      <td>5</td>\n",
       "    </tr>\n",
       "    <tr>\n",
       "      <th>...</th>\n",
       "      <td>...</td>\n",
       "      <td>...</td>\n",
       "    </tr>\n",
       "    <tr>\n",
       "      <th>124995</th>\n",
       "      <td>El producto es el indicado!!! el precio y la c...</td>\n",
       "      <td>5</td>\n",
       "    </tr>\n",
       "    <tr>\n",
       "      <th>124996</th>\n",
       "      <td>El producto ha salido bueno no me quejo.</td>\n",
       "      <td>1</td>\n",
       "    </tr>\n",
       "    <tr>\n",
       "      <th>124997</th>\n",
       "      <td>El producto me salió malo se le sale toda la p...</td>\n",
       "      <td>2</td>\n",
       "    </tr>\n",
       "    <tr>\n",
       "      <th>124998</th>\n",
       "      <td>Excelente juego. Hace los días más amenos.</td>\n",
       "      <td>5</td>\n",
       "    </tr>\n",
       "    <tr>\n",
       "      <th>124999</th>\n",
       "      <td>Es muy grande noches cómodo y por tanto no es ...</td>\n",
       "      <td>2</td>\n",
       "    </tr>\n",
       "  </tbody>\n",
       "</table>\n",
       "<p>125000 rows × 2 columns</p>\n",
       "</div>"
      ],
      "text/plain": [
       "                                           review_content  review_rate\n",
       "0       Menor resolucion a la esperada, satisface de f...            2\n",
       "1       Muy buena calidad!!! estoy muy  conforme con e...            5\n",
       "2       Buenas sillas. Son cómodas, practicas a la hor...            4\n",
       "3       En el uno normal los numeros 6 y 9 estan subra...            2\n",
       "4       Excelente ayuda bastante y te evitas de estart...            5\n",
       "...                                                   ...          ...\n",
       "124995  El producto es el indicado!!! el precio y la c...            5\n",
       "124996           El producto ha salido bueno no me quejo.            1\n",
       "124997  El producto me salió malo se le sale toda la p...            2\n",
       "124998         Excelente juego. Hace los días más amenos.            5\n",
       "124999  Es muy grande noches cómodo y por tanto no es ...            2\n",
       "\n",
       "[125000 rows x 2 columns]"
      ]
     },
     "execution_count": 3,
     "metadata": {},
     "output_type": "execute_result"
    }
   ],
   "source": [
    "df_esp"
   ]
  },
  {
   "cell_type": "code",
   "execution_count": 11,
   "metadata": {},
   "outputs": [
    {
     "data": {
      "text/plain": [
       "1    25000\n",
       "2    25000\n",
       "3    25000\n",
       "4    25000\n",
       "5    25000\n",
       "Name: review_rate, dtype: int64"
      ]
     },
     "execution_count": 11,
     "metadata": {},
     "output_type": "execute_result"
    }
   ],
   "source": [
    "df_esp['review_rate'].value_counts().sort_values(ascending=False)"
   ]
  },
  {
   "cell_type": "code",
   "execution_count": 60,
   "metadata": {
    "scrolled": true
   },
   "outputs": [
    {
     "name": "stdout",
     "output_type": "stream",
     "text": [
      "['!', '\"', '%', \"'\", ',', '/', '0', '1', '2', '3', '4', '5', '6', '7', '8', '9', ':', ';', 'A', 'B', 'C', 'D', 'E', 'F', 'G', 'H', 'I', 'J', 'K', 'L', 'M', 'N', 'O', 'P', 'Q', 'R', 'S', 'T', 'U', 'V', 'W', 'X', 'Y', 'Z', '\\\\\\n', '\\\\ ', '\\\\$', '\\\\&', '\\\\(', '\\\\)', '\\\\-', '\\\\.', '\\\\?', '\\\\\\\\', 'a', 'b', 'c', 'd', 'e', 'f', 'g', 'h', 'i', 'j', 'k', 'l', 'm', 'n', 'o', 'p', 'q', 'r', 's', 't', 'u', 'v', 'w', 'x', 'y', 'z', '¡', '¿', 'Á', 'É', 'Ñ', 'Ó', 'Ú', 'à', 'á', 'ç', 'è', 'é', 'ë', 'ì', 'í', 'î', 'ï', 'ñ', 'ò', 'ó', 'ô', 'ù', 'ú', 'ü']\n"
     ]
    }
   ],
   "source": [
    "chars_vocab = sorted([re.escape(c) for c in set(df_esp['review_content'].to_string()) - {''}])\n",
    "print(chars_vocab)"
   ]
  },
  {
   "cell_type": "code",
   "execution_count": 86,
   "metadata": {},
   "outputs": [
    {
     "data": {
      "text/html": [
       "<div>\n",
       "<style scoped>\n",
       "    .dataframe tbody tr th:only-of-type {\n",
       "        vertical-align: middle;\n",
       "    }\n",
       "\n",
       "    .dataframe tbody tr th {\n",
       "        vertical-align: top;\n",
       "    }\n",
       "\n",
       "    .dataframe thead th {\n",
       "        text-align: right;\n",
       "    }\n",
       "</style>\n",
       "<table border=\"1\" class=\"dataframe\">\n",
       "  <thead>\n",
       "    <tr style=\"text-align: right;\">\n",
       "      <th></th>\n",
       "      <th>review_content</th>\n",
       "      <th>review_rate</th>\n",
       "    </tr>\n",
       "  </thead>\n",
       "  <tbody>\n",
       "    <tr>\n",
       "      <th>0</th>\n",
       "      <td>[Menor, resolucion, a, la, esperada, ,, satisf...</td>\n",
       "      <td>2</td>\n",
       "    </tr>\n",
       "    <tr>\n",
       "      <th>1</th>\n",
       "      <td>[Muy, buena, calidad, !, !, !, estoy, muy, con...</td>\n",
       "      <td>5</td>\n",
       "    </tr>\n",
       "    <tr>\n",
       "      <th>2</th>\n",
       "      <td>[Buenas, sillas, ., Son, cómodas, ,, practicas...</td>\n",
       "      <td>4</td>\n",
       "    </tr>\n",
       "    <tr>\n",
       "      <th>3</th>\n",
       "      <td>[En, el, uno, normal, los, numeros, 6, y, 9, e...</td>\n",
       "      <td>2</td>\n",
       "    </tr>\n",
       "    <tr>\n",
       "      <th>4</th>\n",
       "      <td>[Excelente, ayuda, bastante, y, te, evitas, de...</td>\n",
       "      <td>5</td>\n",
       "    </tr>\n",
       "    <tr>\n",
       "      <th>...</th>\n",
       "      <td>...</td>\n",
       "      <td>...</td>\n",
       "    </tr>\n",
       "    <tr>\n",
       "      <th>124995</th>\n",
       "      <td>[El, producto, es, el, indicado, !, !, !, el, ...</td>\n",
       "      <td>5</td>\n",
       "    </tr>\n",
       "    <tr>\n",
       "      <th>124996</th>\n",
       "      <td>[El, producto, ha, salido, bueno, no, me, quej...</td>\n",
       "      <td>1</td>\n",
       "    </tr>\n",
       "    <tr>\n",
       "      <th>124997</th>\n",
       "      <td>[El, producto, me, salió, malo, se, le, sale, ...</td>\n",
       "      <td>2</td>\n",
       "    </tr>\n",
       "    <tr>\n",
       "      <th>124998</th>\n",
       "      <td>[Excelente, juego, ., Hace, los, días, más, am...</td>\n",
       "      <td>5</td>\n",
       "    </tr>\n",
       "    <tr>\n",
       "      <th>124999</th>\n",
       "      <td>[Es, muy, grande, noches, cómodo, y, por, tant...</td>\n",
       "      <td>2</td>\n",
       "    </tr>\n",
       "  </tbody>\n",
       "</table>\n",
       "<p>125000 rows × 2 columns</p>\n",
       "</div>"
      ],
      "text/plain": [
       "                                           review_content  review_rate\n",
       "0       [Menor, resolucion, a, la, esperada, ,, satisf...            2\n",
       "1       [Muy, buena, calidad, !, !, !, estoy, muy, con...            5\n",
       "2       [Buenas, sillas, ., Son, cómodas, ,, practicas...            4\n",
       "3       [En, el, uno, normal, los, numeros, 6, y, 9, e...            2\n",
       "4       [Excelente, ayuda, bastante, y, te, evitas, de...            5\n",
       "...                                                   ...          ...\n",
       "124995  [El, producto, es, el, indicado, !, !, !, el, ...            5\n",
       "124996  [El, producto, ha, salido, bueno, no, me, quej...            1\n",
       "124997  [El, producto, me, salió, malo, se, le, sale, ...            2\n",
       "124998  [Excelente, juego, ., Hace, los, días, más, am...            5\n",
       "124999  [Es, muy, grande, noches, cómodo, y, por, tant...            2\n",
       "\n",
       "[125000 rows x 2 columns]"
      ]
     },
     "execution_count": 86,
     "metadata": {},
     "output_type": "execute_result"
    }
   ],
   "source": [
    "df_esp = pd.read_csv('./reviews_esp.csv').loc[:,['review_content', 'review_rate']]\n",
    "#df_esp['review_content'] = df_esp['review_content'].str.lower()\n",
    "df_esp['review_content'] = df_esp['review_content'].str.findall(pattern)\n",
    "df_esp"
   ]
  },
  {
   "cell_type": "code",
   "execution_count": 87,
   "metadata": {
    "scrolled": true
   },
   "outputs": [
    {
     "data": {
      "text/plain": [
       ".             204461\n",
       ",             111860\n",
       "de             70212\n",
       "que            66553\n",
       "y              65883\n",
       "la             60160\n",
       "no             55052\n",
       "el             53172\n",
       "es             44869\n",
       "se             36568\n",
       "muy            36477\n",
       "lo             36246\n",
       "en             30426\n",
       "producto       28965\n",
       "para           27888\n",
       "a              24856\n",
       "un             23356\n",
       "calidad        23218\n",
       "pero           23034\n",
       "!              22699\n",
       "con            22039\n",
       "me             21323\n",
       "bien           20686\n",
       "No             19848\n",
       "Muy            18592\n",
       "los            17839\n",
       "las            16292\n",
       "por            13411\n",
       "una            13079\n",
       "buena          12375\n",
       "al             11440\n",
       "precio         11414\n",
       "El             11315\n",
       "bueno          11057\n",
       "Es              9847\n",
       "buen            9819\n",
       "como            9681\n",
       "del             9357\n",
       "La              8546\n",
       "son             7952\n",
       "si              7942\n",
       "mi              7921\n",
       "Excelente       7611\n",
       "más             7340\n",
       "poco            7143\n",
       "ya              7050\n",
       "tiene           6680\n",
       "su              6645\n",
       "le              6619\n",
       "recomiendo      6566\n",
       "Name: review_content, dtype: int64"
      ]
     },
     "execution_count": 87,
     "metadata": {},
     "output_type": "execute_result"
    }
   ],
   "source": [
    "vocab = df_esp['review_content'].explode().value_counts()\n",
    "#vocab[vocab < 2]\n",
    "#vocab.plot(loglog=True)\n",
    "vocab[:50]"
   ]
  },
  {
   "cell_type": "code",
   "execution_count": 104,
   "metadata": {},
   "outputs": [
    {
     "name": "stdout",
     "output_type": "stream",
     "text": [
      "/mnt/home/lestien/Documents/BecaNLP/Programs/26-mercado-libre-api\r\n"
     ]
    }
   ],
   "source": [
    "!pwd"
   ]
  },
  {
   "cell_type": "code",
   "execution_count": 124,
   "metadata": {},
   "outputs": [
    {
     "name": "stdout",
     "output_type": "stream",
     "text": [
      "17.6 ns ± 0.317 ns per loop (mean ± std. dev. of 7 runs, 100000000 loops each)\n",
      "20.8 ns ± 3.82 ns per loop (mean ± std. dev. of 7 runs, 100000000 loops each)\n"
     ]
    }
   ],
   "source": [
    "import fasttext\n",
    "\n",
    "model = fasttext.load_model('./lid.176.bin')\n",
    "\n",
    "def r1():\n",
    "    l, a = next(zip(*model.predict('Muito bom e bonito', k=1)))\n",
    "    return l\n",
    "\n",
    "r2 = lambda l: next(zip(*model.predict('Muito bom e bonito', k=1)))[0]\n",
    "\n",
    "%timeit r1\n",
    "%timeit r2"
   ]
  },
  {
   "cell_type": "code",
   "execution_count": 107,
   "metadata": {},
   "outputs": [
    {
     "data": {
      "text/html": [
       "<div>\n",
       "<style scoped>\n",
       "    .dataframe tbody tr th:only-of-type {\n",
       "        vertical-align: middle;\n",
       "    }\n",
       "\n",
       "    .dataframe tbody tr th {\n",
       "        vertical-align: top;\n",
       "    }\n",
       "\n",
       "    .dataframe thead th {\n",
       "        text-align: right;\n",
       "    }\n",
       "</style>\n",
       "<table border=\"1\" class=\"dataframe\">\n",
       "  <thead>\n",
       "    <tr style=\"text-align: right;\">\n",
       "      <th></th>\n",
       "      <th>review_content</th>\n",
       "      <th>review_rate</th>\n",
       "    </tr>\n",
       "  </thead>\n",
       "  <tbody>\n",
       "    <tr>\n",
       "      <th>0</th>\n",
       "      <td>Muito bom e bonito, recomendo.</td>\n",
       "      <td>5</td>\n",
       "    </tr>\n",
       "    <tr>\n",
       "      <th>1</th>\n",
       "      <td>Ótimo produto, realmente cumpre o que promete.</td>\n",
       "      <td>4</td>\n",
       "    </tr>\n",
       "    <tr>\n",
       "      <th>2</th>\n",
       "      <td>Só não gostei da base de fixação do tampão da ...</td>\n",
       "      <td>4</td>\n",
       "    </tr>\n",
       "    <tr>\n",
       "      <th>3</th>\n",
       "      <td>Meio frágil, difícil de acoplar ao flash mas é...</td>\n",
       "      <td>3</td>\n",
       "    </tr>\n",
       "    <tr>\n",
       "      <th>4</th>\n",
       "      <td>Ficou apertado. Mas dá pra usar  por  poucas h...</td>\n",
       "      <td>3</td>\n",
       "    </tr>\n",
       "    <tr>\n",
       "      <th>...</th>\n",
       "      <td>...</td>\n",
       "      <td>...</td>\n",
       "    </tr>\n",
       "    <tr>\n",
       "      <th>124995</th>\n",
       "      <td>Não  gostei muito  fraquinho e pequenas.</td>\n",
       "      <td>1</td>\n",
       "    </tr>\n",
       "    <tr>\n",
       "      <th>124996</th>\n",
       "      <td>Muito leve e versátil a única coisa que poderi...</td>\n",
       "      <td>4</td>\n",
       "    </tr>\n",
       "    <tr>\n",
       "      <th>124997</th>\n",
       "      <td>Muito bom. Porém é preciso ser dito o tamanho ...</td>\n",
       "      <td>5</td>\n",
       "    </tr>\n",
       "    <tr>\n",
       "      <th>124998</th>\n",
       "      <td>As bolsas tem uma ótima qualidade minha esposa...</td>\n",
       "      <td>5</td>\n",
       "    </tr>\n",
       "    <tr>\n",
       "      <th>124999</th>\n",
       "      <td>Achei quê seria pinos macho!e me mandam pinos ...</td>\n",
       "      <td>1</td>\n",
       "    </tr>\n",
       "  </tbody>\n",
       "</table>\n",
       "<p>125000 rows × 2 columns</p>\n",
       "</div>"
      ],
      "text/plain": [
       "                                           review_content  review_rate\n",
       "0                          Muito bom e bonito, recomendo.            5\n",
       "1          Ótimo produto, realmente cumpre o que promete.            4\n",
       "2       Só não gostei da base de fixação do tampão da ...            4\n",
       "3       Meio frágil, difícil de acoplar ao flash mas é...            3\n",
       "4       Ficou apertado. Mas dá pra usar  por  poucas h...            3\n",
       "...                                                   ...          ...\n",
       "124995           Não  gostei muito  fraquinho e pequenas.            1\n",
       "124996  Muito leve e versátil a única coisa que poderi...            4\n",
       "124997  Muito bom. Porém é preciso ser dito o tamanho ...            5\n",
       "124998  As bolsas tem uma ótima qualidade minha esposa...            5\n",
       "124999  Achei quê seria pinos macho!e me mandam pinos ...            1\n",
       "\n",
       "[125000 rows x 2 columns]"
      ]
     },
     "execution_count": 107,
     "metadata": {},
     "output_type": "execute_result"
    }
   ],
   "source": [
    "df_por"
   ]
  },
  {
   "cell_type": "code",
   "execution_count": null,
   "metadata": {},
   "outputs": [],
   "source": [
    "import pandas as pd\n",
    "import string\n",
    "import re\n",
    "import fasttext\n",
    "\n",
    "\n",
    "def filter_by_rates(df,max_comments,n,random_state):\n",
    "    \n",
    "    # Limitamos la cantidad de comentarios por producto:\n",
    "    print('ordenando por importancia...')\n",
    "    scores = -(df['review_rate']-1)/4 + \\\n",
    "    .5 * (df['review_likes']-min(df['review_likes']))/(max(df['review_likes'])-min(df['review_likes'])) + \\\n",
    "    .1 * (df['review_dislikes']-min(df['review_dislikes']))/(max(df['review_dislikes'])-min(df['review_dislikes']))\n",
    "    indices = scores.sort_values(ascending=False).index\n",
    "    df = df.loc[indices,:].groupby('prod_id').head(max_comments)\n",
    "    \n",
    "    # Muestreamos aleatoriamente y mezclamos:\n",
    "    print('sampleando...')\n",
    "    random_state = np.random.RandomState(random_state)\n",
    "    df = df.iloc[np.hstack([random_state.choice(arr, n, replace=False) \n",
    "                           for arr in df.groupby('review_rate').indices.values()]),:]\n",
    "    df = df.reset_index(drop=True)\n",
    "    df = df.iloc[random_state.permutation(len(df)),:]\n",
    "    df = df.reset_index(drop=True)\n",
    "    return df\n",
    "\n",
    "\n",
    "# def filter_reviews():\n",
    "    \n",
    "# Leo los datos:\n",
    "print('leyendo los datos...')\n",
    "df = pd.read_csv('data_all2.csv')\n",
    "\n",
    "# Elimino los duplicados:\n",
    "df = df.drop_duplicates(subset=['review_content']).reset_index(drop=True)\n",
    "\n",
    "# Cambio todos los espacios por espacios simples:\n",
    "df['review_content'] = df['review_content'].str.replace(r'\\s+',' ',regex=True)\n",
    "\n",
    "# Defino los caracteres con los que me voy a quedar y elimino \n",
    "# los comentarios que tienen caracteres que no van:\n",
    "print('eliminando comentarios con caracteres raros...')\n",
    "non_ascii = 'áàâãäÁÀÂÃÄéèêëÉÈÊẼËíìîĩïÍÌÎĨÏóòôõöÓÒÔÕÖúùûũüÚÙÛŨÜñÑçÇ'\n",
    "chars_vocab = string.digits + string.ascii_letters + string.punctuation + string.whitespace + non_ascii\n",
    "all_chars = df['review_content'].str.split('').explode().value_counts().index\n",
    "chars_to_remove = list(set(all_chars) - set(chars_vocab) - {''})\n",
    "chars_to_remove_regex = '|'.join(sorted([re.escape(c) for c in chars_to_remove]))\n",
    "df = df[-df['review_content'].str.contains(chars_to_remove_regex,regex=True,na=True)].reset_index(drop=True)\n",
    "\n",
    "# Separo por país:\n",
    "print('separando por país...')\n",
    "df_por = df[df['country'] == 'MLB'].reset_index(drop=True)\n",
    "df_esp = df[df['country'] != 'MLB'].reset_index(drop=True)\n",
    "\n",
    "# Elimino comentarios en otros idiomas:\n",
    "model_predict = fasttext.load_model('./lid.176.bin').predict\n",
    "def detect_language(s):\n",
    "    l, _ = next(zip(*model_predict(s, k=1)))\n",
    "    return l\n",
    "print('eliminando por idioma...')\n",
    "df_por = df_por[df_por['review_content'].apply(detect_language) == '__label__pt'].reset_index(drop=True)\n",
    "print('eliminando por idioma...')\n",
    "df_esp = df_esp[df_esp['review_content'].apply(detect_language) == '__label__es'].reset_index(drop=True)"
   ]
  },
  {
   "cell_type": "code",
   "execution_count": 236,
   "metadata": {},
   "outputs": [],
   "source": [
    "# Filtramos los comentarios por valorización:\n",
    "max_comments = 30\n",
    "random_state = 1234\n",
    "n = 25000\n",
    "df = df_esp"
   ]
  },
  {
   "cell_type": "code",
   "execution_count": 196,
   "metadata": {},
   "outputs": [
    {
     "data": {
      "text/plain": [
       "5    1102144\n",
       "4     258598\n",
       "3      86130\n",
       "1      42971\n",
       "2      30082\n",
       "Name: review_rate, dtype: int64"
      ]
     },
     "execution_count": 196,
     "metadata": {},
     "output_type": "execute_result"
    }
   ],
   "source": [
    "df.loc[:,['review_content','review_rate']]['review_rate'].value_counts()"
   ]
  },
  {
   "cell_type": "code",
   "execution_count": 204,
   "metadata": {},
   "outputs": [
    {
     "name": "stdout",
     "output_type": "stream",
     "text": [
      "ordenando por importancia...\n"
     ]
    }
   ],
   "source": [
    "# Limitamos la cantidad de comentarios por producto:\n",
    "print('ordenando por importancia...')\n",
    "scores = -1 * (df['review_rate']-1)/4 + \\\n",
    ".5 * (df['review_likes']-min(df['review_likes']))/(max(df['review_likes'])-min(df['review_likes'])) + \\\n",
    ".1 * (df['review_dislikes']-min(df['review_dislikes']))/(max(df['review_dislikes'])-min(df['review_dislikes']))\n",
    "indices = scores.sort_values(ascending=False).index\n",
    "df = df.loc[indices,:].groupby('prod_id').head(max_comments).reset_index(drop=True)"
   ]
  },
  {
   "cell_type": "code",
   "execution_count": 149,
   "metadata": {},
   "outputs": [
    {
     "data": {
      "text/plain": [
       "<matplotlib.axes._subplots.AxesSubplot at 0x7f2b0dfa8130>"
      ]
     },
     "execution_count": 149,
     "metadata": {},
     "output_type": "execute_result"
    },
    {
     "data": {
      "image/png": "[encoded data removed]",
      "text/plain": [
       "<Figure size 432x288 with 1 Axes>"
      ]
     },
     "metadata": {
      "needs_background": "light"
     },
     "output_type": "display_data"
    }
   ],
   "source": [
    "((df['review_rate']-1)/4).hist()"
   ]
  },
  {
   "cell_type": "code",
   "execution_count": 158,
   "metadata": {},
   "outputs": [
    {
     "data": {
      "image/png": "[encoded data removed]",
      "text/plain": [
       "<Figure size 432x288 with 1 Axes>"
      ]
     },
     "metadata": {
      "needs_background": "light"
     },
     "output_type": "display_data"
    }
   ],
   "source": [
    "import matplotlib.pyplot as plt\n",
    "\n",
    "fig, ax = plt.subplots()\n",
    "((df['review_dislikes']-min(df['review_dislikes']))/(max(df['review_dislikes'])-min(df['review_dislikes']))).hist(ax=ax,bins=100)\n",
    "ax.set_yscale('log')"
   ]
  },
  {
   "cell_type": "code",
   "execution_count": 200,
   "metadata": {},
   "outputs": [
    {
     "data": {
      "text/plain": [
       "5    687765\n",
       "4    248622\n",
       "3     85431\n",
       "1     42921\n",
       "2     29901\n",
       "Name: review_rate, dtype: int64"
      ]
     },
     "execution_count": 200,
     "metadata": {},
     "output_type": "execute_result"
    }
   ],
   "source": [
    "df1['review_rate'].value_counts()"
   ]
  },
  {
   "cell_type": "code",
   "execution_count": 198,
   "metadata": {},
   "outputs": [
    {
     "data": {
      "text/plain": [
       "1    0.998836\n",
       "2    0.993983\n",
       "3    0.991884\n",
       "4    0.961423\n",
       "5    0.624025\n",
       "Name: review_rate, dtype: float64"
      ]
     },
     "execution_count": 198,
     "metadata": {},
     "output_type": "execute_result"
    }
   ],
   "source": [
    "df1['review_rate'].value_counts().sort_index() / df['review_rate'].value_counts().sort_index()"
   ]
  },
  {
   "cell_type": "code",
   "execution_count": 216,
   "metadata": {},
   "outputs": [
    {
     "data": {
      "text/plain": [
       "{1: array([     1,      4,      6, ..., 124958, 124971, 124995]),\n",
       " 2: array([     3,     10,     30, ..., 124987, 124989, 124998]),\n",
       " 3: array([     0,      7,     11, ..., 124992, 124997, 124999]),\n",
       " 4: array([     2,      5,      9, ..., 124982, 124984, 124994]),\n",
       " 5: array([     8,     17,     28, ..., 124990, 124993, 124996])}"
      ]
     },
     "execution_count": 216,
     "metadata": {},
     "output_type": "execute_result"
    }
   ],
   "source": [
    "df.groupby(['review_rate']).indices"
   ]
  },
  {
   "cell_type": "code",
   "execution_count": 257,
   "metadata": {},
   "outputs": [],
   "source": [
    "dff = df.sample(n=100).copy().reset_index(drop=True).loc[:,['country','review_content','review_rate']]"
   ]
  },
  {
   "cell_type": "code",
   "execution_count": 205,
   "metadata": {},
   "outputs": [
    {
     "name": "stdout",
     "output_type": "stream",
     "text": [
      "sampleando...\n"
     ]
    }
   ],
   "source": [
    "# Muestreamos aleatoriamente y mezclamos:\n",
    "print('sampleando...')\n",
    "random_state = np.random.RandomState(random_state)\n",
    "df = df1.iloc[np.hstack([random_state.choice(arr, n, replace=False) \n",
    "                       for arr in df.groupby('review_rate').indices.values()]),:]\n",
    "df = df.reset_index(drop=True)\n",
    "df = df.iloc[random_state.permutation(len(df)),:]\n",
    "df = df.reset_index(drop=True)"
   ]
  },
  {
   "cell_type": "code",
   "execution_count": 208,
   "metadata": {},
   "outputs": [
    {
     "data": {
      "text/plain": [
       "MLA    51699\n",
       "MLM    41152\n",
       "MLU    11164\n",
       "MCO    10521\n",
       "MLC     7502\n",
       "MLV     2099\n",
       "MPE      863\n",
       "Name: country, dtype: int64"
      ]
     },
     "execution_count": 208,
     "metadata": {},
     "output_type": "execute_result"
    }
   ],
   "source": [
    "df['country'].value_counts()"
   ]
  },
  {
   "cell_type": "code",
   "execution_count": 127,
   "metadata": {
    "scrolled": true
   },
   "outputs": [
    {
     "name": "stdout",
     "output_type": "stream",
     "text": [
      "leyendo los datos...\n",
      "eliminando comentarios con caracteres raros...\n",
      "separando por país...\n",
      "eliminando por idioma...\n",
      "eliminando por idioma...\n",
      "ordenando por importancia...\n",
      "sampleando...\n"
     ]
    },
    {
     "ename": "ValueError",
     "evalue": "Cannot take a larger sample than population when 'replace=False'",
     "output_type": "error",
     "traceback": [
      "\u001b[0;31m---------------------------------------------------------------------------\u001b[0m",
      "\u001b[0;31mValueError\u001b[0m                                Traceback (most recent call last)",
      "\u001b[0;32m<ipython-input-127-a34391d449c2>\u001b[0m in \u001b[0;36m<module>\u001b[0;34m\u001b[0m\n\u001b[1;32m     80\u001b[0m \u001b[0mprint\u001b[0m\u001b[0;34m(\u001b[0m\u001b[0;34m'sampleando...'\u001b[0m\u001b[0;34m)\u001b[0m\u001b[0;34m\u001b[0m\u001b[0;34m\u001b[0m\u001b[0m\n\u001b[1;32m     81\u001b[0m \u001b[0mrandom_state\u001b[0m \u001b[0;34m=\u001b[0m \u001b[0mnp\u001b[0m\u001b[0;34m.\u001b[0m\u001b[0mrandom\u001b[0m\u001b[0;34m.\u001b[0m\u001b[0mRandomState\u001b[0m\u001b[0;34m(\u001b[0m\u001b[0mrandom_state\u001b[0m\u001b[0;34m)\u001b[0m\u001b[0;34m\u001b[0m\u001b[0;34m\u001b[0m\u001b[0m\n\u001b[0;32m---> 82\u001b[0;31m df = df.iloc[np.hstack([random_state.choice(arr, n, replace=False) \n\u001b[0m\u001b[1;32m     83\u001b[0m                        for arr in df.groupby('review_rate').indices.values()]),:]\n\u001b[1;32m     84\u001b[0m \u001b[0mdf\u001b[0m \u001b[0;34m=\u001b[0m \u001b[0mdf\u001b[0m\u001b[0;34m.\u001b[0m\u001b[0mreset_index\u001b[0m\u001b[0;34m(\u001b[0m\u001b[0mdrop\u001b[0m\u001b[0;34m=\u001b[0m\u001b[0;32mTrue\u001b[0m\u001b[0;34m)\u001b[0m\u001b[0;34m\u001b[0m\u001b[0;34m\u001b[0m\u001b[0m\n",
      "\u001b[0;32m<ipython-input-127-a34391d449c2>\u001b[0m in \u001b[0;36m<listcomp>\u001b[0;34m(.0)\u001b[0m\n\u001b[1;32m     80\u001b[0m \u001b[0mprint\u001b[0m\u001b[0;34m(\u001b[0m\u001b[0;34m'sampleando...'\u001b[0m\u001b[0;34m)\u001b[0m\u001b[0;34m\u001b[0m\u001b[0;34m\u001b[0m\u001b[0m\n\u001b[1;32m     81\u001b[0m \u001b[0mrandom_state\u001b[0m \u001b[0;34m=\u001b[0m \u001b[0mnp\u001b[0m\u001b[0;34m.\u001b[0m\u001b[0mrandom\u001b[0m\u001b[0;34m.\u001b[0m\u001b[0mRandomState\u001b[0m\u001b[0;34m(\u001b[0m\u001b[0mrandom_state\u001b[0m\u001b[0;34m)\u001b[0m\u001b[0;34m\u001b[0m\u001b[0;34m\u001b[0m\u001b[0m\n\u001b[0;32m---> 82\u001b[0;31m df = df.iloc[np.hstack([random_state.choice(arr, n, replace=False) \n\u001b[0m\u001b[1;32m     83\u001b[0m                        for arr in df.groupby('review_rate').indices.values()]),:]\n\u001b[1;32m     84\u001b[0m \u001b[0mdf\u001b[0m \u001b[0;34m=\u001b[0m \u001b[0mdf\u001b[0m\u001b[0;34m.\u001b[0m\u001b[0mreset_index\u001b[0m\u001b[0;34m(\u001b[0m\u001b[0mdrop\u001b[0m\u001b[0;34m=\u001b[0m\u001b[0;32mTrue\u001b[0m\u001b[0;34m)\u001b[0m\u001b[0;34m\u001b[0m\u001b[0;34m\u001b[0m\u001b[0m\n",
      "\u001b[0;32mmtrand.pyx\u001b[0m in \u001b[0;36mnumpy.random.mtrand.RandomState.choice\u001b[0;34m()\u001b[0m\n",
      "\u001b[0;31mValueError\u001b[0m: Cannot take a larger sample than population when 'replace=False'"
     ]
    }
   ],
   "source": [
    "# df_por = filter_by_rates(df_por,max_comments,n,random_state)\n",
    "# df_esp = filter_by_rates(df_esp,max_comments,n,random_state)\n",
    "\n",
    "print('guardando resultados...')\n",
    "df_esp.to_csv('data_esp.csv',index=False)\n",
    "df_por.to_csv('data_por.csv',index=False)\n",
    "    \n",
    "filter_reviews()"
   ]
  },
  {
   "cell_type": "code",
   "execution_count": 87,
   "metadata": {},
   "outputs": [],
   "source": [
    "df_esp = pd.read_csv('data_esp.csv').loc[:,['review_content','review_rate']]\n",
    "df_por = pd.read_csv('data_por.csv').loc[:,['review_content','review_rate']]"
   ]
  },
  {
   "cell_type": "code",
   "execution_count": 90,
   "metadata": {},
   "outputs": [
    {
     "data": {
      "text/plain": [
       "5    25000\n",
       "4    25000\n",
       "3    25000\n",
       "2    25000\n",
       "1    25000\n",
       "Name: review_rate, dtype: int64"
      ]
     },
     "execution_count": 90,
     "metadata": {},
     "output_type": "execute_result"
    }
   ],
   "source": [
    "df_por['review_rate'].value_counts()"
   ]
  }
 ],
 "metadata": {
  "kernelspec": {
   "display_name": "Python 3",
   "language": "python",
   "name": "python3"
  },
  "language_info": {
   "codemirror_mode": {
    "name": "ipython",
    "version": 3
   },
   "file_extension": ".py",
   "mimetype": "text/x-python",
   "name": "python",
   "nbconvert_exporter": "python",
   "pygments_lexer": "ipython3",
   "version": "3.8.3"
  }
 },
 "nbformat": 4,
 "nbformat_minor": 4
}
