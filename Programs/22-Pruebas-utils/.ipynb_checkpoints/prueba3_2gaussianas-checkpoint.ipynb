{
 "cells": [
  {
   "cell_type": "code",
   "execution_count": 1,
   "metadata": {},
   "outputs": [],
   "source": [
    "import sys, os\n",
    "sys.path.append(os.path.join(sys.path[0].split('BecaNLP')[0],'BecaNLP/Utils'))\n",
    "\n",
    "import NLPUtils as nlp\n",
    "import numpy as np\n",
    "import pandas as pd\n",
    "import matplotlib.pyplot as plt\n",
    "\n",
    "%load_ext autoreload\n",
    "%autoreload 2"
   ]
  },
  {
   "cell_type": "code",
   "execution_count": 41,
   "metadata": {
    "scrolled": true
   },
   "outputs": [
    {
     "name": "stdout",
     "output_type": "stream",
     "text": [
      "Starting training...\n",
      "Epoch 1 finished. Approximate loss: 4.2783\n",
      "Training finished\n",
      "\n",
      "Total accuracy: 500/1000 (50.00%)\n",
      "\n",
      "Resuming training from epoch 2...\n",
      "Epoch 2 finished. Approximate loss: 3.2567\n",
      "Training finished\n",
      "\n",
      "Total accuracy: 500/1000 (50.00%)\n",
      "\n",
      "Resuming training from epoch 3...\n",
      "Epoch 3 finished. Approximate loss: 2.5145\n",
      "Training finished\n",
      "\n",
      "Total accuracy: 500/1000 (50.00%)\n",
      "\n",
      "Resuming training from epoch 4...\n",
      "Epoch 4 finished. Approximate loss: 1.5418\n",
      "Training finished\n",
      "\n",
      "Total accuracy: 500/1000 (50.00%)\n",
      "\n",
      "Resuming training from epoch 5...\n",
      "Epoch 5 finished. Approximate loss: 0.8472\n",
      "Training finished\n",
      "\n",
      "Total accuracy: 500/1000 (50.00%)\n",
      "\n",
      "Resuming training from epoch 6...\n",
      "Epoch 6 finished. Approximate loss: 0.4374\n",
      "Training finished\n",
      "\n",
      "Total accuracy: 603/1000 (60.30%)\n",
      "\n",
      "Resuming training from epoch 7...\n",
      "Epoch 7 finished. Approximate loss: 0.2592\n",
      "Training finished\n",
      "\n",
      "Total accuracy: 1000/1000 (100.00%)\n",
      "\n",
      "Resuming training from epoch 8...\n",
      "Epoch 8 finished. Approximate loss: 0.1786\n",
      "Training finished\n",
      "\n",
      "Total accuracy: 1000/1000 (100.00%)\n",
      "\n",
      "Resuming training from epoch 9...\n",
      "Epoch 9 finished. Approximate loss: 0.1354\n",
      "Training finished\n",
      "\n",
      "Total accuracy: 1000/1000 (100.00%)\n",
      "\n",
      "Resuming training from epoch 10...\n",
      "Epoch 10 finished. Approximate loss: 0.1129\n",
      "Training finished\n",
      "\n",
      "Total accuracy: 1000/1000 (100.00%)\n",
      "\n"
     ]
    },
    {
     "data": {
      "text/plain": [
       "(-20, 20)"
      ]
     },
     "execution_count": 41,
     "metadata": {},
     "output_type": "execute_result"
    },
    {
     "data": {
      "image/png": "[encoded data removed]",
      "text/plain": [
       "<Figure size 432x288 with 1 Axes>"
      ]
     },
     "metadata": {
      "needs_background": "light"
     },
     "output_type": "display_data"
    }
   ],
   "source": [
    "import torch\n",
    "from torch.utils.data import Dataset\n",
    "\n",
    "class toyDataset(Dataset):\n",
    "    \n",
    "    def __init__(self,N,random_state=0):\n",
    "        rs = np.random.RandomState(random_state)\n",
    "        rand_idx = rs.permutation(N)\n",
    "        X = np.vstack((rs.randn(N//2,2) + np.array([-10,-20]),\n",
    "                       rs.randn(N//2,2) + np.array([10,-10])))\n",
    "        y = np.vstack((np.ones((N//2,1)),\n",
    "                       np.zeros((N//2,1))))\n",
    "        self.X = torch.from_numpy(X[rand_idx,:]).type(torch.float)\n",
    "        self.y = torch.from_numpy(y[rand_idx,:]).type(torch.float)\n",
    "        \n",
    "    def __getitem__(self,idx):\n",
    "        return self.X[idx,:], self.y[idx]\n",
    "    \n",
    "    def __len__(self):\n",
    "        return len(self.y)\n",
    "    \n",
    "train_set = toyDataset(9000,12738)\n",
    "dev_set = toyDataset(1000,72374)\n",
    "\n",
    "\n",
    "from NLPUtils.classifiers import LogisticRegressionClassifier as LR\n",
    "in_features = train_set[0][0].size(0)\n",
    "classifier = LR(in_features,bias=True)\n",
    "\n",
    "epochs = 10\n",
    "fig, ax = plt.subplots()\n",
    "for e in range(epochs):\n",
    "    classifier.train(train_set, \n",
    "                     optim_algorithm='SGD', \n",
    "                     epochs=1, \n",
    "                     batch_size=512, \n",
    "                     lr=1e-3)\n",
    "    classifier.predict(dev_set)\n",
    "    print()\n",
    "    parameters = classifier.model.parameters()\n",
    "    w = np.array(next(parameters).data).reshape(-1)\n",
    "    b = np.array(next(parameters).data).reshape(-1)\n",
    "    x = np.array([-10, 10])\n",
    "    y = -b/w[1] - x * w[0]/w[1]\n",
    "    ax.plot(x,y,'--')\n",
    "    \n",
    "ax.scatter(train_set.X[:,0],train_set.X[:,1])\n",
    "ax.set_ylim([-30,0])\n",
    "ax.set_xlim([-20,20])"
   ]
  }
 ],
 "metadata": {
  "kernelspec": {
   "display_name": "Python 3",
   "language": "python",
   "name": "python3"
  },
  "language_info": {
   "codemirror_mode": {
    "name": "ipython",
    "version": 3
   },
   "file_extension": ".py",
   "mimetype": "text/x-python",
   "name": "python",
   "nbconvert_exporter": "python",
   "pygments_lexer": "ipython3",
   "version": "3.7.3"
  }
 },
 "nbformat": 4,
 "nbformat_minor": 2
}
