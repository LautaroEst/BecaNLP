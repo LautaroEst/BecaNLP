{
 "cells": [
  {
   "cell_type": "code",
   "execution_count": 2,
   "metadata": {},
   "outputs": [],
   "source": [
    "import sys, os\n",
    "sys.path.append(os.path.join(sys.path[0].split('BecaNLP')[0],'BecaNLP/Utils'))\n",
    "\n",
    "import NLPUtils as nlp\n",
    "\n",
    "import numpy as np\n",
    "import pandas as pd\n",
    "import matplotlib.pyplot as plt\n",
    "\n",
    "%load_ext autoreload\n",
    "%autoreload 2"
   ]
  },
  {
   "cell_type": "code",
   "execution_count": 3,
   "metadata": {},
   "outputs": [],
   "source": [
    "from NLPUtils.datasets import sst\n",
    "tree,label = next(sst.train_reader())"
   ]
  },
  {
   "cell_type": "code",
   "execution_count": 33,
   "metadata": {},
   "outputs": [
    {
     "name": "stdout",
     "output_type": "stream",
     "text": [
      "True\n",
      "\n",
      "True\n",
      "\n",
      "False\n",
      "\n",
      "False\n",
      "\n",
      "True\n",
      "\n"
     ]
    }
   ],
   "source": [
    "for subtree in tree:\n",
    "    for subsubtree in subtree:\n",
    "        for subsubsubtree in subsubtree:\n",
    "            print(isinstance(subsubsubtree,str))\n",
    "            print()"
   ]
  },
  {
   "cell_type": "code",
   "execution_count": 42,
   "metadata": {},
   "outputs": [
    {
     "name": "stdout",
     "output_type": "stream",
     "text": [
      "The Rock\n",
      "The\n",
      "Rock\n",
      "is destined to be the 21st Century 's new `` Conan '' and that he 's going to make a splash even greater than Arnold Schwarzenegger , Jean-Claud Van Damme or Steven Segal .\n",
      "is destined to be the 21st Century 's new `` Conan '' and that he 's going to make a splash even greater than Arnold Schwarzenegger , Jean-Claud Van Damme or Steven Segal\n",
      "is\n",
      "destined to be the 21st Century 's new `` Conan '' and that he 's going to make a splash even greater than Arnold Schwarzenegger , Jean-Claud Van Damme or Steven Segal\n",
      "destined\n",
      "to be the 21st Century 's new `` Conan '' and that he 's going to make a splash even greater than Arnold Schwarzenegger , Jean-Claud Van Damme or Steven Segal\n",
      "to be the 21st Century 's new `` Conan '' and\n",
      "to be the 21st Century 's new `` Conan ''\n",
      "to be the 21st Century 's new `` Conan\n",
      "to\n",
      "be the 21st Century 's new `` Conan\n",
      "be\n",
      "the 21st Century 's new `` Conan\n",
      "the\n",
      "21st Century 's new `` Conan\n",
      "21st\n",
      "Century 's new `` Conan\n",
      "Century 's\n",
      "Century\n",
      "'s\n",
      "new `` Conan\n",
      "new\n",
      "`` Conan\n",
      "``\n",
      "Conan\n",
      "''\n",
      "and\n",
      "that he 's going to make a splash even greater than Arnold Schwarzenegger , Jean-Claud Van Damme or Steven Segal\n",
      "that\n",
      "he 's going to make a splash even greater than Arnold Schwarzenegger , Jean-Claud Van Damme or Steven Segal\n",
      "he\n",
      "'s going to make a splash even greater than Arnold Schwarzenegger , Jean-Claud Van Damme or Steven Segal\n",
      "'s\n",
      "going to make a splash even greater than Arnold Schwarzenegger , Jean-Claud Van Damme or Steven Segal\n",
      "going\n",
      "to make a splash even greater than Arnold Schwarzenegger , Jean-Claud Van Damme or Steven Segal\n",
      "to\n",
      "make a splash even greater than Arnold Schwarzenegger , Jean-Claud Van Damme or Steven Segal\n",
      "make a splash even greater\n",
      "make\n",
      "a splash even greater\n",
      "a splash\n",
      "a\n",
      "splash\n",
      "even greater\n",
      "even\n",
      "greater\n",
      "than Arnold Schwarzenegger , Jean-Claud Van Damme or Steven Segal\n",
      "than\n",
      "Arnold Schwarzenegger , Jean-Claud Van Damme or Steven Segal\n",
      "Arnold Schwarzenegger , Jean-Claud Van Damme or\n",
      "Arnold Schwarzenegger , Jean-Claud Van Damme\n",
      "Arnold Schwarzenegger ,\n",
      "Arnold Schwarzenegger\n",
      "Arnold\n",
      "Schwarzenegger\n",
      ",\n",
      "Jean-Claud Van Damme\n",
      "Jean-Claud\n",
      "Van Damme\n",
      "Van\n",
      "Damme\n",
      "or\n",
      "Steven Segal\n",
      "Steven\n",
      "Segal\n",
      ".\n"
     ]
    }
   ],
   "source": [
    "def print_subtree(tree,lst):\n",
    "    if isinstance(tree,str):\n",
    "        pass\n",
    "    else:\n",
    "        for subtree in tree:\n",
    "            try:\n",
    "                lst.append(subtree.leaves())\n",
    "            except AttributeError:\n",
    "                pass\n",
    "            print_subtree(subtree,lst)\n",
    "\n",
    "\n",
    "lst = []\n",
    "print_subtree(tree,lst)\n",
    "for item in lst:\n",
    "    print(' '.join(item))"
   ]
  }
 ],
 "metadata": {
  "kernelspec": {
   "display_name": "Python 3",
   "language": "python",
   "name": "python3"
  },
  "language_info": {
   "codemirror_mode": {
    "name": "ipython",
    "version": 3
   },
   "file_extension": ".py",
   "mimetype": "text/x-python",
   "name": "python",
   "nbconvert_exporter": "python",
   "pygments_lexer": "ipython3",
   "version": "3.7.7"
  }
 },
 "nbformat": 4,
 "nbformat_minor": 4
}
