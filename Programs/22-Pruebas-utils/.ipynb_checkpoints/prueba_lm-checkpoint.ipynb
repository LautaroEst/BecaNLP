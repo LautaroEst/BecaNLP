{
 "cells": [
  {
   "cell_type": "code",
   "execution_count": 1,
   "metadata": {},
   "outputs": [],
   "source": [
    "import sys\n",
    "import os\n",
    "sys.path.append(os.path.join(sys.path[0].split('BecaNLP')[0],'BecaNLP/Utils'))\n",
    "\n",
    "import torch\n",
    "import torch.nn as nn\n",
    "import NLPUtils as nlp\n",
    "\n",
    "%load_ext autoreload\n",
    "%autoreload 2"
   ]
  },
  {
   "cell_type": "code",
   "execution_count": 8,
   "metadata": {},
   "outputs": [],
   "source": [
    "corpus, vocab = nlp.datasets.utils.get_toy_corpus(10)"
   ]
  },
  {
   "cell_type": "code",
   "execution_count": 3,
   "metadata": {},
   "outputs": [
    {
     "ename": "AttributeError",
     "evalue": "module 'torch.nn.utils' has no attribute 'pad_seq'",
     "output_type": "error",
     "traceback": [
      "\u001b[0;31m---------------------------------------------------------------------------\u001b[0m",
      "\u001b[0;31mAttributeError\u001b[0m                            Traceback (most recent call last)",
      "\u001b[0;32m<ipython-input-3-ad698c2e6156>\u001b[0m in \u001b[0;36m<module>\u001b[0;34m\u001b[0m\n\u001b[1;32m      2\u001b[0m      \u001b[0mtorch\u001b[0m\u001b[0;34m.\u001b[0m\u001b[0mtensor\u001b[0m\u001b[0;34m(\u001b[0m\u001b[0;34m[\u001b[0m\u001b[0;36m1\u001b[0m\u001b[0;34m,\u001b[0m\u001b[0;36m4\u001b[0m\u001b[0;34m,\u001b[0m\u001b[0;36m4\u001b[0m\u001b[0;34m,\u001b[0m\u001b[0;36m3\u001b[0m\u001b[0;34m]\u001b[0m\u001b[0;34m)\u001b[0m\u001b[0;34m.\u001b[0m\u001b[0mview\u001b[0m\u001b[0;34m(\u001b[0m\u001b[0;34m-\u001b[0m\u001b[0;36m1\u001b[0m\u001b[0;34m,\u001b[0m\u001b[0;36m1\u001b[0m\u001b[0;34m)\u001b[0m\u001b[0;34m,\u001b[0m\u001b[0;34m\u001b[0m\u001b[0;34m\u001b[0m\u001b[0m\n\u001b[1;32m      3\u001b[0m      torch.tensor([1,2,3]).view(-1,1)]\n\u001b[0;32m----> 4\u001b[0;31m \u001b[0mx_padded\u001b[0m \u001b[0;34m=\u001b[0m \u001b[0mnn\u001b[0m\u001b[0;34m.\u001b[0m\u001b[0mutils\u001b[0m\u001b[0;34m.\u001b[0m\u001b[0mpad_seq\u001b[0m\u001b[0;34m(\u001b[0m\u001b[0mx\u001b[0m\u001b[0;34m)\u001b[0m\u001b[0;34m\u001b[0m\u001b[0;34m\u001b[0m\u001b[0m\n\u001b[0m\u001b[1;32m      5\u001b[0m \u001b[0mx_packed\u001b[0m \u001b[0;34m=\u001b[0m \u001b[0mnn\u001b[0m\u001b[0;34m.\u001b[0m\u001b[0mutils\u001b[0m\u001b[0;34m.\u001b[0m\u001b[0mpack_padded_seq\u001b[0m\u001b[0;34m(\u001b[0m\u001b[0mx_padded\u001b[0m\u001b[0;34m)\u001b[0m\u001b[0;34m\u001b[0m\u001b[0;34m\u001b[0m\u001b[0m\n",
      "\u001b[0;31mAttributeError\u001b[0m: module 'torch.nn.utils' has no attribute 'pad_seq'"
     ]
    }
   ],
   "source": [
    "x = [torch.tensor([1,2,0,5,2,3]).view(-1,1),\n",
    "     torch.tensor([1,4,4,3]).view(-1,1),\n",
    "     torch.tensor([1,2,3]).view(-1,1)]\n",
    "x_padded = nn.utils.rnn.pad_sequence(x)\n",
    "x_packed = nn.utils.rnn.pack_padded_sequence(x_padded)"
   ]
  },
  {
   "cell_type": "code",
   "execution_count": 114,
   "metadata": {},
   "outputs": [],
   "source": [
    "def rnn_collate_fn(data_batch):\n",
    "    \"\"\"\n",
    "    Función para pasarle al DataLoader cuando entrenamos una RNN.\n",
    "    \"\"\"\n",
    "    x_batch, y_batch = zip(*data_batch)\n",
    "    lenghts = torch.tensor([sample.size(0) for sample in x_batch])\n",
    "    sorted_lenghts_idx = torch.argsort(lenghts,descending=True)\n",
    "    lenghts = lenghts[sorted_lenghts_idx]\n",
    "    x_batch = torch.nn.utils.rnn.pad_sequence(x_batch, batch_first=True)\n",
    "    x_batch = x_batch[sorted_lenghts_idx]\n",
    "    x_batch = torch.nn.utils.rnn.pack_padded_sequence(x_batch, batch_first=True, lengths=lenghts)\n",
    "    return x_batch, torch.tensor(y_batch)\n",
    "\n",
    "N = 512\n",
    "max_len = 100\n",
    "np.random.seed(623423784)\n",
    "#idx = np.random.permutation(N)\n",
    "lenghts = np.random.randint(10,max_len,N)\n",
    "x = [torch.randint(10,(l,)) for l in lenghts]\n",
    "#print(collate_fn())\n",
    "\n",
    "class dummy_dataset(torch.utils.data.Dataset):\n",
    "    \n",
    "    def __init__(self,N):\n",
    "        max_len = 100\n",
    "        n_features = 3\n",
    "        lenghts = np.random.randint(10,max_len,N)\n",
    "        self.x = [torch.randint(10,(l,n_features)).type(torch.float) for l in lenghts]\n",
    "        self.y = torch.randint(10,(N,))\n",
    "        \n",
    "    def __getitem__(self,idx):\n",
    "        return self.x[idx], self.y[idx]\n",
    "    \n",
    "    def __len__(self):\n",
    "        return len(self.y)\n",
    "    \n",
    "data = dummy_dataset(1000)"
   ]
  },
  {
   "cell_type": "code",
   "execution_count": null,
   "metadata": {},
   "outputs": [],
   "source": []
  },
  {
   "cell_type": "code",
   "execution_count": null,
   "metadata": {},
   "outputs": [],
   "source": []
  }
 ],
 "metadata": {
  "kernelspec": {
   "display_name": "Python 3",
   "language": "python",
   "name": "python3"
  },
  "language_info": {
   "codemirror_mode": {
    "name": "ipython",
    "version": 3
   },
   "file_extension": ".py",
   "mimetype": "text/x-python",
   "name": "python",
   "nbconvert_exporter": "python",
   "pygments_lexer": "ipython3",
   "version": "3.7.3"
  }
 },
 "nbformat": 4,
 "nbformat_minor": 2
}
