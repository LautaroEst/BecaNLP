{
 "cells": [
  {
   "cell_type": "code",
   "execution_count": 1,
   "metadata": {},
   "outputs": [],
   "source": [
    "import sys\n",
    "import os\n",
    "ROOT_PATH = os.path.join(sys.path[0].split('BecaNLP')[0],'BecaNLP')\n",
    "DATASETS_ROOT_PATH = os.path.join(ROOT_PATH,'Utils/Datasets')\n",
    "sys.path.append(DATASETS_ROOT_PATH)\n",
    "from read_datasets import *\n",
    "\n",
    "import numpy as np\n",
    "import pandas as pd\n",
    "pd.options.mode.chained_assignment = None\n",
    "\n",
    "import torch\n",
    "import torch.nn as nn\n",
    "import torch.nn.functional as F\n",
    "from torch.utils.data import Dataset, DataLoader\n",
    "import torch.optim as optim\n",
    "\n",
    "%matplotlib inline\n",
    "import matplotlib.pyplot as plt\n",
    "\n",
    "from classifiers import *\n",
    "\n",
    "%load_ext autoreload\n",
    "%autoreload 2"
   ]
  },
  {
   "cell_type": "code",
   "execution_count": 2,
   "metadata": {},
   "outputs": [],
   "source": [
    "class MyDataset(Dataset):\n",
    "    \n",
    "    def __init__(self, N):\n",
    "        np.random.seed(1247123)\n",
    "        X0 = np.random.randn(N,2) + np.array([-5,1])\n",
    "        X1 = np.random.randn(N,2) + np.array([5,-5])\n",
    "        X = np.vstack((X0,X1))\n",
    "        y = np.vstack((np.zeros((N,1)),np.ones((N,1))))\n",
    "        \n",
    "        self.x = torch.from_numpy(X).type(torch.float)\n",
    "        self.y = torch.from_numpy(y).type(torch.float)\n",
    "    \n",
    "    def __getitem__(self,idx):\n",
    "        return self.x[idx], self.y[idx]\n",
    "    \n",
    "    def __len__(self):\n",
    "        return len(self.y)\n",
    "    \n",
    "train_data = MyDataset(1000)\n",
    "dev_data = MyDataset(100)"
   ]
  },
  {
   "cell_type": "code",
   "execution_count": 23,
   "metadata": {},
   "outputs": [
    {
     "name": "stdout",
     "output_type": "stream",
     "text": [
      "Starting training...\n",
      "Epoch 1 finished. Approximate loss: 2.9088\n",
      "Epoch 2 finished. Approximate loss: 3.5253\n",
      "Epoch 3 finished. Approximate loss: 3.4291\n",
      "Epoch 4 finished. Approximate loss: 3.2869\n",
      "Epoch 5 finished. Approximate loss: 3.1589\n",
      "Training finished\n",
      "\n"
     ]
    }
   ],
   "source": [
    "classifier = LogisticRegressionClassifier(2,device='cpu')\n",
    "classifier.train(train_data,epochs=5,lr=1e-3)"
   ]
  },
  {
   "cell_type": "code",
   "execution_count": 24,
   "metadata": {},
   "outputs": [
    {
     "name": "stdout",
     "output_type": "stream",
     "text": [
      "Resuming training from epoch 6...\n",
      "Epoch 6 finished. Approximate loss: 3.0399\n",
      "Epoch 7 finished. Approximate loss: 2.9259\n",
      "Epoch 8 finished. Approximate loss: 2.7952\n",
      "Epoch 9 finished. Approximate loss: 2.6923\n",
      "Epoch 10 finished. Approximate loss: 2.5826\n",
      "Training finished\n",
      "\n"
     ]
    }
   ],
   "source": [
    "classifier.train(train_data,epochs=5,lr=1e-3)"
   ]
  },
  {
   "cell_type": "code",
   "execution_count": 25,
   "metadata": {},
   "outputs": [
    {
     "name": "stdout",
     "output_type": "stream",
     "text": [
      "Total accuracy: 8/200 (4.00%)\n"
     ]
    }
   ],
   "source": [
    "classifier.predict(dev_data)"
   ]
  },
  {
   "cell_type": "code",
   "execution_count": 26,
   "metadata": {},
   "outputs": [
    {
     "name": "stdout",
     "output_type": "stream",
     "text": [
      "Resuming training from epoch 11...\n",
      "Epoch 11 finished. Approximate loss: 2.4615\n",
      "Epoch 12 finished. Approximate loss: 2.3602\n",
      "Epoch 13 finished. Approximate loss: 2.2354\n",
      "Epoch 14 finished. Approximate loss: 2.1454\n",
      "Epoch 15 finished. Approximate loss: 2.0538\n",
      "Epoch 16 finished. Approximate loss: 1.9505\n",
      "Epoch 17 finished. Approximate loss: 1.8573\n",
      "Epoch 18 finished. Approximate loss: 1.7650\n",
      "Epoch 19 finished. Approximate loss: 1.6710\n",
      "Epoch 20 finished. Approximate loss: 1.5856\n",
      "Training finished\n",
      "\n"
     ]
    }
   ],
   "source": [
    "classifier.train(train_data,epochs=10,lr=1e-3)"
   ]
  },
  {
   "cell_type": "code",
   "execution_count": 27,
   "metadata": {},
   "outputs": [
    {
     "name": "stdout",
     "output_type": "stream",
     "text": [
      "Total accuracy: 49/200 (24.50%)\n"
     ]
    }
   ],
   "source": [
    "classifier.predict(dev_data)"
   ]
  },
  {
   "cell_type": "code",
   "execution_count": 28,
   "metadata": {},
   "outputs": [
    {
     "data": {
      "text/plain": [
       "[<matplotlib.lines.Line2D at 0x7f32a20366d8>]"
      ]
     },
     "execution_count": 28,
     "metadata": {},
     "output_type": "execute_result"
    },
    {
     "data": {
      "image/png": "[encoded data removed]",
      "text/plain": [
       "<Figure size 432x288 with 1 Axes>"
      ]
     },
     "metadata": {
      "needs_background": "light"
     },
     "output_type": "display_data"
    }
   ],
   "source": [
    "plt.plot(classifier.loss_history)"
   ]
  },
  {
   "cell_type": "code",
   "execution_count": 29,
   "metadata": {},
   "outputs": [
    {
     "name": "stdout",
     "output_type": "stream",
     "text": [
      "Resuming training from epoch 21...\n",
      "Epoch 21 finished. Approximate loss: 1.5104\n",
      "Epoch 22 finished. Approximate loss: 1.4280\n",
      "Epoch 23 finished. Approximate loss: 1.3514\n",
      "Epoch 24 finished. Approximate loss: 1.2725\n",
      "Epoch 25 finished. Approximate loss: 1.2120\n",
      "Epoch 26 finished. Approximate loss: 1.1494\n",
      "Epoch 27 finished. Approximate loss: 1.0859\n",
      "Epoch 28 finished. Approximate loss: 1.0374\n",
      "Epoch 29 finished. Approximate loss: 0.9765\n",
      "Epoch 30 finished. Approximate loss: 0.9248\n",
      "Training finished\n",
      "\n"
     ]
    }
   ],
   "source": [
    "classifier.train(train_data,epochs=10,lr=1e-2)"
   ]
  },
  {
   "cell_type": "code",
   "execution_count": 30,
   "metadata": {},
   "outputs": [
    {
     "data": {
      "text/plain": [
       "[<matplotlib.lines.Line2D at 0x7f32a1f6d470>]"
      ]
     },
     "execution_count": 30,
     "metadata": {},
     "output_type": "execute_result"
    },
    {
     "data": {
      "image/png": "[encoded data removed]",
      "text/plain": [
       "<Figure size 432x288 with 1 Axes>"
      ]
     },
     "metadata": {
      "needs_background": "light"
     },
     "output_type": "display_data"
    }
   ],
   "source": [
    "plt.plot(classifier.loss_history)"
   ]
  },
  {
   "cell_type": "code",
   "execution_count": 31,
   "metadata": {},
   "outputs": [
    {
     "name": "stdout",
     "output_type": "stream",
     "text": [
      "Resuming training from epoch 31...\n",
      "Epoch 31 finished. Approximate loss: 0.8719\n",
      "Epoch 32 finished. Approximate loss: 0.8288\n",
      "Epoch 33 finished. Approximate loss: 0.7886\n",
      "Epoch 34 finished. Approximate loss: 0.7427\n",
      "Epoch 35 finished. Approximate loss: 0.7163\n",
      "Epoch 36 finished. Approximate loss: 0.6741\n",
      "Epoch 37 finished. Approximate loss: 0.6412\n",
      "Epoch 38 finished. Approximate loss: 0.6148\n",
      "Epoch 39 finished. Approximate loss: 0.5833\n",
      "Epoch 40 finished. Approximate loss: 0.5605\n",
      "Training finished\n",
      "\n"
     ]
    }
   ],
   "source": [
    "classifier.train(train_data,epochs=10,lr=1e-2)"
   ]
  },
  {
   "cell_type": "code",
   "execution_count": 32,
   "metadata": {},
   "outputs": [
    {
     "name": "stdout",
     "output_type": "stream",
     "text": [
      "Total accuracy: 105/200 (52.50%)\n"
     ]
    }
   ],
   "source": [
    "classifier.predict(dev_data)"
   ]
  },
  {
   "cell_type": "code",
   "execution_count": 35,
   "metadata": {},
   "outputs": [],
   "source": [
    "classifier.save_checkpoint('./lr1_checkpoint.tar')"
   ]
  },
  {
   "cell_type": "code",
   "execution_count": 44,
   "metadata": {},
   "outputs": [
    {
     "data": {
      "text/plain": [
       "torch.optim.sgd.SGD"
      ]
     },
     "execution_count": 44,
     "metadata": {},
     "output_type": "execute_result"
    }
   ],
   "source": [
    "classifier.optimizer.state_dict()"
   ]
  },
  {
   "cell_type": "code",
   "execution_count": 36,
   "metadata": {},
   "outputs": [
    {
     "name": "stdout",
     "output_type": "stream",
     "text": [
      "Loading checkpoint from file... "
     ]
    },
    {
     "ename": "AttributeError",
     "evalue": "'LogisticRegressionClassifier' object has no attribute 'optimizer'",
     "output_type": "error",
     "traceback": [
      "\u001b[0;31m---------------------------------------------------------------------------\u001b[0m",
      "\u001b[0;31mAttributeError\u001b[0m                            Traceback (most recent call last)",
      "\u001b[0;32m<ipython-input-36-9ebb3f6d77dd>\u001b[0m in \u001b[0;36m<module>\u001b[0;34m\u001b[0m\n\u001b[1;32m      1\u001b[0m \u001b[0mclassifier2\u001b[0m \u001b[0;34m=\u001b[0m \u001b[0mLogisticRegressionClassifier\u001b[0m\u001b[0;34m(\u001b[0m\u001b[0;36m2\u001b[0m\u001b[0;34m,\u001b[0m\u001b[0mdevice\u001b[0m\u001b[0;34m=\u001b[0m\u001b[0;34m'cuda:1'\u001b[0m\u001b[0;34m)\u001b[0m\u001b[0;34m\u001b[0m\u001b[0;34m\u001b[0m\u001b[0m\n\u001b[0;32m----> 2\u001b[0;31m \u001b[0mclassifier2\u001b[0m\u001b[0;34m.\u001b[0m\u001b[0mload_checkpoint\u001b[0m\u001b[0;34m(\u001b[0m\u001b[0;34m'./lr1_checkpoint.tar'\u001b[0m\u001b[0;34m)\u001b[0m\u001b[0;34m\u001b[0m\u001b[0;34m\u001b[0m\u001b[0m\n\u001b[0m",
      "\u001b[0;32m/mnt/disco.lautaro/home/lestien/Documents/BecaNLP/Programs/22-Classifiers/classifiers.py\u001b[0m in \u001b[0;36mload_checkpoint\u001b[0;34m(self, filename)\u001b[0m\n\u001b[1;32m    132\u001b[0m         \u001b[0mmodel\u001b[0m\u001b[0;34m.\u001b[0m\u001b[0mload_state_dict\u001b[0m\u001b[0;34m(\u001b[0m\u001b[0mcheckpoint\u001b[0m\u001b[0;34m[\u001b[0m\u001b[0;34m'model_state_dict'\u001b[0m\u001b[0;34m]\u001b[0m\u001b[0;34m)\u001b[0m\u001b[0;34m\u001b[0m\u001b[0;34m\u001b[0m\u001b[0m\n\u001b[1;32m    133\u001b[0m         \u001b[0mself\u001b[0m\u001b[0;34m.\u001b[0m\u001b[0mmodel\u001b[0m \u001b[0;34m=\u001b[0m \u001b[0mmodel\u001b[0m\u001b[0;34m.\u001b[0m\u001b[0mto\u001b[0m\u001b[0;34m(\u001b[0m\u001b[0mself\u001b[0m\u001b[0;34m.\u001b[0m\u001b[0mdevice\u001b[0m\u001b[0;34m)\u001b[0m\u001b[0;34m\u001b[0m\u001b[0;34m\u001b[0m\u001b[0m\n\u001b[0;32m--> 134\u001b[0;31m         \u001b[0mself\u001b[0m\u001b[0;34m.\u001b[0m\u001b[0moptimizer\u001b[0m\u001b[0;34m.\u001b[0m\u001b[0mload_state_dict\u001b[0m\u001b[0;34m(\u001b[0m\u001b[0mcheckpoint\u001b[0m\u001b[0;34m[\u001b[0m\u001b[0;34m'optimizer_state_dict'\u001b[0m\u001b[0;34m]\u001b[0m\u001b[0;34m)\u001b[0m\u001b[0;34m\u001b[0m\u001b[0;34m\u001b[0m\u001b[0m\n\u001b[0m\u001b[1;32m    135\u001b[0m         \u001b[0mself\u001b[0m\u001b[0;34m.\u001b[0m\u001b[0mloss_history\u001b[0m \u001b[0;34m=\u001b[0m \u001b[0mcheckpoint\u001b[0m\u001b[0;34m[\u001b[0m\u001b[0;34m'loss'\u001b[0m\u001b[0;34m]\u001b[0m\u001b[0;34m\u001b[0m\u001b[0;34m\u001b[0m\u001b[0m\n\u001b[1;32m    136\u001b[0m         \u001b[0mprint\u001b[0m\u001b[0;34m(\u001b[0m\u001b[0;34m'OK'\u001b[0m\u001b[0;34m)\u001b[0m\u001b[0;34m\u001b[0m\u001b[0;34m\u001b[0m\u001b[0m\n",
      "\u001b[0;31mAttributeError\u001b[0m: 'LogisticRegressionClassifier' object has no attribute 'optimizer'"
     ]
    }
   ],
   "source": [
    "classifier2 = LogisticRegressionClassifier(2,device='cuda:1')\n",
    "classifier2.load_checkpoint('./lr1_checkpoint.tar')"
   ]
  },
  {
   "cell_type": "code",
   "execution_count": 8,
   "metadata": {},
   "outputs": [
    {
     "name": "stdout",
     "output_type": "stream",
     "text": [
      "Saving parameters to file... OK\n"
     ]
    }
   ],
   "source": [
    "classifier.save_parameters('./lr1.pt')"
   ]
  },
  {
   "cell_type": "code",
   "execution_count": 17,
   "metadata": {},
   "outputs": [
    {
     "name": "stdout",
     "output_type": "stream",
     "text": [
      "Loading parameters from file... OK\n"
     ]
    }
   ],
   "source": [
    "classifier2 = LogisticRegressionClassifier(2,device='cpu')\n",
    "classifier2.load_parameters('./lr1.pt')"
   ]
  },
  {
   "cell_type": "code",
   "execution_count": 15,
   "metadata": {},
   "outputs": [
    {
     "name": "stdout",
     "output_type": "stream",
     "text": [
      "Parameter containing:\n",
      "tensor([[0.7620, 0.3200]], requires_grad=True)\n",
      "Parameter containing:\n",
      "tensor([[0.7620, 0.3200]], requires_grad=True)\n"
     ]
    }
   ],
   "source": [
    "print(next(iter(classifier.model.parameters())))\n",
    "print(next(iter(classifier2.model.parameters())))"
   ]
  }
 ],
 "metadata": {
  "kernelspec": {
   "display_name": "Python 3",
   "language": "python",
   "name": "python3"
  },
  "language_info": {
   "codemirror_mode": {
    "name": "ipython",
    "version": 3
   },
   "file_extension": ".py",
   "mimetype": "text/x-python",
   "name": "python",
   "nbconvert_exporter": "python",
   "pygments_lexer": "ipython3",
   "version": "3.7.3"
  }
 },
 "nbformat": 4,
 "nbformat_minor": 2
}
