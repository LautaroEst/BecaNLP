{
 "cells": [
  {
   "cell_type": "code",
   "execution_count": 1,
   "metadata": {},
   "outputs": [
    {
     "name": "stderr",
     "output_type": "stream",
     "text": [
      "[nltk_data] Downloading package punkt to /home/lestien/nltk_data...\n",
      "[nltk_data]   Package punkt is already up-to-date!\n"
     ]
    }
   ],
   "source": [
    "import sys, os\n",
    "sys.path.append(os.path.join(os.getcwd().split('Documents')[0],'Documents/BecaNLP/Utils'))\n",
    "\n",
    "import NLPUtils as nlp\n",
    "\n",
    "%load_ext autoreload\n",
    "%autoreload 2"
   ]
  },
  {
   "cell_type": "code",
   "execution_count": 70,
   "metadata": {},
   "outputs": [
    {
     "name": "stderr",
     "output_type": "stream",
     "text": [
      "100%|██████████| 25000/25000 [05:13<00:00, 79.69it/s] \n"
     ]
    },
    {
     "data": {
      "text/plain": [
       "array([[3.64991e+05, 9.25230e+04, 6.59090e+04, ..., 3.20000e+01,\n",
       "        2.70000e+01, 1.50000e+01],\n",
       "       [9.25230e+04, 3.58818e+05, 4.09960e+04, ..., 4.40000e+01,\n",
       "        4.00000e+01, 1.90000e+01],\n",
       "       [6.59090e+04, 4.09960e+04, 2.46943e+05, ..., 2.50000e+01,\n",
       "        6.60000e+01, 5.80000e+01],\n",
       "       ...,\n",
       "       [3.20000e+01, 4.40000e+01, 2.50000e+01, ..., 8.70000e+01,\n",
       "        0.00000e+00, 0.00000e+00],\n",
       "       [2.70000e+01, 4.00000e+01, 6.60000e+01, ..., 0.00000e+00,\n",
       "        8.70000e+01, 0.00000e+00],\n",
       "       [1.50000e+01, 1.90000e+01, 5.80000e+01, ..., 0.00000e+00,\n",
       "        0.00000e+00, 8.70000e+01]])"
      ]
     },
     "execution_count": 70,
     "metadata": {},
     "output_type": "execute_result"
    }
   ],
   "source": [
    "from NLPUtils.datasets import get_dummy_corpus, imdb\n",
    "from NLPUtils.feature_extraction import word_by_word_cooccurrence\n",
    "\n",
    "\n",
    "# corpus = get_dummy_corpus('small')\n",
    "corpus = imdb.get_train_dataframe()['comment']\n",
    "X, vocab = word_by_word_cooccurrence(corpus,right_n=4,left_n=4,window=None,tokenizer=nlp.preprocessing.tokenize_sentence,\n",
    "                                    min_count=0,max_count=None,max_words=5000)\n",
    "# X, vocab = word_by_word_cooccurrence(corpus,right_n=2,left_n=2,window=None,tokenizer=None)\n",
    "X.toarray()"
   ]
  },
  {
   "cell_type": "code",
   "execution_count": 1,
   "metadata": {},
   "outputs": [
    {
     "ename": "NameError",
     "evalue": "name 'X' is not defined",
     "output_type": "error",
     "traceback": [
      "\u001b[0;31m---------------------------------------------------------------------------\u001b[0m",
      "\u001b[0;31mNameError\u001b[0m                                 Traceback (most recent call last)",
      "\u001b[0;32m<ipython-input-1-e9f417b4ad8c>\u001b[0m in \u001b[0;36m<module>\u001b[0;34m\u001b[0m\n\u001b[1;32m      1\u001b[0m \u001b[0;32mimport\u001b[0m \u001b[0mmatplotlib\u001b[0m\u001b[0;34m.\u001b[0m\u001b[0mpyplot\u001b[0m \u001b[0;32mas\u001b[0m \u001b[0mplt\u001b[0m\u001b[0;34m\u001b[0m\u001b[0;34m\u001b[0m\u001b[0m\n\u001b[1;32m      2\u001b[0m \u001b[0;34m\u001b[0m\u001b[0m\n\u001b[0;32m----> 3\u001b[0;31m \u001b[0mplt\u001b[0m\u001b[0;34m.\u001b[0m\u001b[0mhist\u001b[0m\u001b[0;34m(\u001b[0m\u001b[0mX\u001b[0m\u001b[0;34m.\u001b[0m\u001b[0mtoarray\u001b[0m\u001b[0;34m(\u001b[0m\u001b[0;34m)\u001b[0m\u001b[0;34m.\u001b[0m\u001b[0mreshape\u001b[0m\u001b[0;34m(\u001b[0m\u001b[0;34m-\u001b[0m\u001b[0;36m1\u001b[0m\u001b[0;34m)\u001b[0m\u001b[0;34m,\u001b[0m\u001b[0;36m10\u001b[0m\u001b[0;34m)\u001b[0m\u001b[0;34m\u001b[0m\u001b[0;34m\u001b[0m\u001b[0m\n\u001b[0m",
      "\u001b[0;31mNameError\u001b[0m: name 'X' is not defined"
     ]
    }
   ],
   "source": [
    "import matplotlib.pyplot as plt\n",
    "\n",
    "plt.hist(X.toarray().reshape(-1),10)"
   ]
  },
  {
   "cell_type": "code",
   "execution_count": 64,
   "metadata": {},
   "outputs": [
    {
     "name": "stderr",
     "output_type": "stream",
     "text": [
      "100%|██████████| 3/3 [00:00<00:00, 495.64it/s]\n"
     ]
    },
    {
     "data": {
      "text/plain": [
       "array([[1, 1, 1],\n",
       "       [1, 1, 1],\n",
       "       [1, 1, 0],\n",
       "       [0, 0, 1],\n",
       "       [0, 0, 1],\n",
       "       [0, 0, 1],\n",
       "       [0, 1, 0],\n",
       "       [1, 0, 0],\n",
       "       [1, 0, 0],\n",
       "       [1, 0, 0]], dtype=int64)"
      ]
     },
     "execution_count": 64,
     "metadata": {},
     "output_type": "execute_result"
    }
   ],
   "source": [
    "from NLPUtils.datasets import get_dummy_corpus, imdb\n",
    "from NLPUtils.feature_extraction import word_by_document_cooccurrence\n",
    "\n",
    "#corpus = get_dummy_corpus('small')\n",
    "corpus = imdb.get_train_dataframe()['comment']\n",
    "print(corpus.head())\n",
    "X, vocab = word_by_document_cooccurrence(corpus,tokenizer=nlp.preprocessing.tokenize_sentence)\n",
    "#X, vocab = word_by_document_cooccurrence(corpus,tokenizer=None,min_count=0,max_count=None,max_words=None)\n",
    "X.toarray()"
   ]
  },
  {
   "cell_type": "code",
   "execution_count": 3,
   "metadata": {},
   "outputs": [
    {
     "name": "stdout",
     "output_type": "stream",
     "text": [
      "[['hola', ',', 'esto', 'es', 'una', 'prueba'], ['esto', 'es', 'otra', 'prueba'], ['esta', 'es', 'Una', 'prueba', 'más']]\n",
      "{'hola': 0, ',': 1, 'esto': 2, 'es': 3, 'una': 4, 'prueba': 5, 'otra': 6, 'esta': 7, 'Una': 8, 'más': 9}\n"
     ]
    },
    {
     "data": {
      "text/plain": [
       "array([[1., 0.],\n",
       "       [1., 0.],\n",
       "       [1., 1.],\n",
       "       [1., 2.],\n",
       "       [1., 0.],\n",
       "       [1., 2.],\n",
       "       [0., 1.],\n",
       "       [0., 1.],\n",
       "       [0., 1.],\n",
       "       [0., 1.]])"
      ]
     },
     "execution_count": 3,
     "metadata": {},
     "output_type": "execute_result"
    }
   ],
   "source": [
    "from NLPUtils.datasets import get_dummy_corpus, imdb\n",
    "from NLPUtils.feature_extraction import word_by_category_cooccurrence\n",
    "\n",
    "corpus = get_dummy_corpus('small')\n",
    "print(corpus)\n",
    "X, vocab = word_by_category_cooccurrence(corpus, labels=[0,1,1],tokenizer=None)\n",
    "print(vocab)\n",
    "X.toarray()"
   ]
  },
  {
   "cell_type": "code",
   "execution_count": 5,
   "metadata": {},
   "outputs": [
    {
     "name": "stderr",
     "output_type": "stream",
     "text": [
      "100%|██████████| 3/3 [00:00<00:00, 3215.67it/s]"
     ]
    },
    {
     "name": "stdout",
     "output_type": "stream",
     "text": [
      "[['hola', ',', 'esto', 'es', 'una', 'prueba'], ['esto', 'es', 'otra', 'prueba'], ['esta', 'es', 'Una', 'prueba', 'más']]\n",
      "{'hola': 0, ',': 1, 'esto': 2, 'es': 3, 'una': 4, 'prueba': 5, 'otra': 6, 'esta': 7, 'Una': 8, 'más': 9}\n"
     ]
    },
    {
     "name": "stderr",
     "output_type": "stream",
     "text": [
      "\n"
     ]
    },
    {
     "data": {
      "text/plain": [
       "array([[1, 0, 0],\n",
       "       [1, 0, 0],\n",
       "       [1, 1, 0],\n",
       "       [1, 1, 1],\n",
       "       [1, 0, 0],\n",
       "       [1, 1, 1],\n",
       "       [0, 1, 0],\n",
       "       [0, 0, 1],\n",
       "       [0, 0, 1],\n",
       "       [0, 0, 1]])"
      ]
     },
     "execution_count": 5,
     "metadata": {},
     "output_type": "execute_result"
    }
   ],
   "source": [
    "from NLPUtils.datasets import get_dummy_corpus, imdb\n",
    "from NLPUtils.feature_extraction import word_by_document_cooccurrence\n",
    "\n",
    "corpus = get_dummy_corpus('small')\n",
    "print(corpus)\n",
    "\n",
    "X, vocab = word_by_document_cooccurrence(corpus,tokenizer=None)\n",
    "print(vocab)\n",
    "X.toarray()"
   ]
  },
  {
   "cell_type": "code",
   "execution_count": 8,
   "metadata": {},
   "outputs": [
    {
     "name": "stdout",
     "output_type": "stream",
     "text": [
      "['hola , esto es una prueba', 'esto es otra prueba', 'esta es Una prueba más']\n",
      "{'hola': 0, ',': 1, 'esto': 2, 'es': 3, 'una': 4, 'prueba': 5, 'esta': 6, 'Una': 7, 'otra': 8, 'más': 9, 'esto es': 10}\n"
     ]
    },
    {
     "data": {
      "text/plain": [
       "array([[1, 0, 1, 1, 1, 1, 0, 0, 0, 0, 1],\n",
       "       [0, 0, 1, 1, 0, 1, 0, 0, 1, 0, 1],\n",
       "       [0, 0, 0, 1, 1, 1, 1, 0, 0, 1, 0]])"
      ]
     },
     "execution_count": 8,
     "metadata": {},
     "output_type": "execute_result"
    }
   ],
   "source": [
    "from sklearn.feature_extraction.text import CountVectorizer\n",
    "from NLPUtils.datasets import get_dummy_corpus\n",
    "\n",
    "corpus = [' '.join(doc) for doc in get_dummy_corpus('small')]\n",
    "print(corpus)\n",
    "\n",
    "vec = CountVectorizer(vocabulary='hola , esto es una prueba esta Una otra más'.split(' ') + ['esto es'],\n",
    "                      token_pattern=r'\\b\\w+\\b',ngram_range=(1,3))\n",
    "X = vec.fit_transform(corpus)\n",
    "print(vec.vocabulary_)\n",
    "X.toarray()"
   ]
  },
  {
   "cell_type": "code",
   "execution_count": 55,
   "metadata": {},
   "outputs": [
    {
     "name": "stderr",
     "output_type": "stream",
     "text": [
      "100%|██████████| 3/3 [00:00<00:00, 2621.99it/s]"
     ]
    },
    {
     "name": "stdout",
     "output_type": "stream",
     "text": [
      "[['hola', ',', 'esto', 'es', 'una', 'prueba'], ['esto', 'es', 'otra', 'prueba'], ['esta', 'es', 'Una', 'prueba', 'más']]\n",
      "{'hola': 0, ',': 1, 'esto': 2, 'es': 3, 'una': 4, 'prueba': 5, 'otra': 6, 'esta': 7, 'Una': 8, 'más': 9}\n",
      "[10. 13.  8.  3.  5.  3.  4.  4.  4.  3.]\n"
     ]
    },
    {
     "name": "stderr",
     "output_type": "stream",
     "text": [
      "\n"
     ]
    },
    {
     "data": {
      "text/plain": [
       "array([[3., 3., 0., 1., 1., 0., 1., 1., 0., 0.],\n",
       "       [3., 3., 2., 0., 1., 1., 1., 1., 1., 0.],\n",
       "       [0., 2., 2., 0., 0., 0., 1., 1., 1., 1.],\n",
       "       [1., 0., 0., 1., 1., 0., 0., 0., 0., 0.],\n",
       "       [1., 1., 0., 1., 1., 1., 0., 0., 0., 0.],\n",
       "       [0., 1., 0., 0., 1., 1., 0., 0., 0., 0.],\n",
       "       [1., 1., 1., 0., 0., 0., 1., 0., 0., 0.],\n",
       "       [1., 1., 1., 0., 0., 0., 0., 1., 0., 0.],\n",
       "       [0., 1., 1., 0., 0., 0., 0., 0., 1., 1.],\n",
       "       [0., 0., 1., 0., 0., 0., 0., 0., 1., 1.]])"
      ]
     },
     "execution_count": 55,
     "metadata": {},
     "output_type": "execute_result"
    }
   ],
   "source": [
    "from NLPUtils.datasets import get_dummy_corpus, imdb\n",
    "from NLPUtils.feature_extraction import word_by_word_cooccurrence\n",
    "\n",
    "corpus = get_dummy_corpus('small')\n",
    "print(corpus)\n",
    "\n",
    "X, vocab = word_by_word_cooccurrence(corpus,tokenizer=None,min_count=0,max_count=None,max_words=None)\n",
    "print(vocab)\n",
    "print(X.toarray().sum(axis=1))\n",
    "X.toarray()"
   ]
  },
  {
   "cell_type": "markdown",
   "metadata": {},
   "source": [
    "# word2vec"
   ]
  },
  {
   "cell_type": "code",
   "execution_count": 2,
   "metadata": {},
   "outputs": [],
   "source": [
    "from NLPUtils.feature_extraction import Word2VecTrainer\n",
    "from NLPUtils.datasets import get_dummy_corpus\n",
    "\n",
    "corpus = get_dummy_corpus('small')\n",
    "\n",
    "trainer = Word2VecTrainer(corpus, left_n=2, right_n=2, tokenizer=None, min_count=0., max_count=None, max_words=None, algorithm='SkipGram', embeddings_dim=100, device='cpu')\n"
   ]
  }
 ],
 "metadata": {
  "kernelspec": {
   "display_name": "Python 3",
   "language": "python",
   "name": "python3"
  },
  "language_info": {
   "codemirror_mode": {
    "name": "ipython",
    "version": 3
   },
   "file_extension": ".py",
   "mimetype": "text/x-python",
   "name": "python",
   "nbconvert_exporter": "python",
   "pygments_lexer": "ipython3",
   "version": "3.7.7"
  }
 },
 "nbformat": 4,
 "nbformat_minor": 4
}
