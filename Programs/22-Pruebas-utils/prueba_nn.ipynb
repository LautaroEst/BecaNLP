{
 "cells": [
  {
   "cell_type": "code",
   "execution_count": 1,
   "metadata": {},
   "outputs": [
    {
     "name": "stderr",
     "output_type": "stream",
     "text": [
      "[nltk_data] Downloading package punkt to /home/lestien/nltk_data...\n",
      "[nltk_data]   Package punkt is already up-to-date!\n"
     ]
    }
   ],
   "source": [
    "import sys, os\n",
    "sys.path.append(os.path.join(sys.path[0].split('Documents')[0],'Documents/BecaNLP/Utils'))\n",
    "\n",
    "import NLPUtils as nlp\n",
    "import numpy as np\n",
    "import torch\n",
    "import utils\n",
    "\n",
    "%load_ext autoreload\n",
    "%autoreload 2"
   ]
  },
  {
   "cell_type": "code",
   "execution_count": null,
   "metadata": {},
   "outputs": [],
   "source": [
    "constant_init(tensor,val)\n",
    "ones_init(tensor)\n",
    "zeros_init(tensor)\n",
    "diagonal_init(tensor,fill_value,wrap=False)\n",
    "uniform_init(tensor,a=0.0,b=1.0,random_state=None)\n",
    "normal_init(tensor,mean=0.0,std=1.0,random_state=None)\n",
    "dirac_init(tensor, groups=1)\n",
    "xavier_uniform_init(tensor, gain=1., random_state=None)\n",
    "xavier_normal_init(tensor, gain=1., random_state=None)\n",
    "kaiming_uniform_init(tensor, a=0, mode='fan_in', nonlinearity='leaky_relu', random_state=None)\n",
    "kaiming_normal_init(tensor, a=0, mode='fan_in', nonlinearity='leaky_relu', random_state=None)\n",
    "orthogonal_init(tensor, gain=1, random_state=None)\n",
    "sparse_init(tensor, sparsity, std=0.01, random_state=None)"
   ]
  },
  {
   "cell_type": "code",
   "execution_count": 10,
   "metadata": {},
   "outputs": [
    {
     "name": "stdout",
     "output_type": "stream",
     "text": [
      "True\n",
      "tensor([[2., 2., 2., 2.],\n",
      "        [2., 2., 2., 2.],\n",
      "        [2., 2., 2., 2.]], requires_grad=True)\n"
     ]
    }
   ],
   "source": [
    "from NLPUtils.classifiers import *\n",
    "tensor = torch.ones(3,4,requires_grad=True)\n",
    "print((constant_init(tensor,2) is tensor))\n",
    "print(tensor)"
   ]
  },
  {
   "cell_type": "code",
   "execution_count": 13,
   "metadata": {},
   "outputs": [
    {
     "name": "stdout",
     "output_type": "stream",
     "text": [
      "True\n",
      "tensor([[1., 1., 1., 1.],\n",
      "        [1., 1., 1., 1.],\n",
      "        [1., 1., 1., 1.]], requires_grad=True)\n"
     ]
    }
   ],
   "source": [
    "print(ones_init(tensor) is tensor)\n",
    "print(tensor)"
   ]
  },
  {
   "cell_type": "code",
   "execution_count": 14,
   "metadata": {},
   "outputs": [
    {
     "name": "stdout",
     "output_type": "stream",
     "text": [
      "True\n",
      "tensor([[0., 0., 0., 0.],\n",
      "        [0., 0., 0., 0.],\n",
      "        [0., 0., 0., 0.]], requires_grad=True)\n"
     ]
    }
   ],
   "source": [
    "print(zeros_init(tensor) is tensor)\n",
    "print(tensor)"
   ]
  },
  {
   "cell_type": "code",
   "execution_count": 17,
   "metadata": {},
   "outputs": [
    {
     "name": "stdout",
     "output_type": "stream",
     "text": [
      "True\n",
      "tensor([[3., 0., 0., 0.],\n",
      "        [0., 3., 0., 0.],\n",
      "        [0., 0., 3., 0.]], requires_grad=True)\n"
     ]
    }
   ],
   "source": [
    "print(diagonal_init(tensor,3,wrap=True) is tensor)\n",
    "print(tensor)"
   ]
  },
  {
   "cell_type": "code",
   "execution_count": 22,
   "metadata": {},
   "outputs": [
    {
     "name": "stdout",
     "output_type": "stream",
     "text": [
      "True\n",
      "tensor([[0.4963, 0.7682, 0.0885, 0.1320],\n",
      "        [0.3074, 0.6341, 0.4901, 0.8964],\n",
      "        [0.4556, 0.6323, 0.3489, 0.4017]], requires_grad=True)\n"
     ]
    }
   ],
   "source": [
    "print(uniform_init(tensor,0,1,random_state=0) is tensor)\n",
    "print(tensor)"
   ]
  },
  {
   "cell_type": "code",
   "execution_count": 27,
   "metadata": {},
   "outputs": [
    {
     "name": "stdout",
     "output_type": "stream",
     "text": [
      "True\n",
      "tensor([[ 0.7390, -0.2592, -0.5154,  0.2449],\n",
      "        [ 0.0852, -1.0394,  0.3426,  0.1963],\n",
      "        [ 0.2675, -1.7838,  0.4256, -0.0825]], requires_grad=True)\n"
     ]
    }
   ],
   "source": [
    "print(normal_init(tensor,0,1,random_state=None) is tensor)\n",
    "print(tensor)"
   ]
  },
  {
   "cell_type": "code",
   "execution_count": 38,
   "metadata": {},
   "outputs": [
    {
     "name": "stdout",
     "output_type": "stream",
     "text": [
      "tensor([[[1., 1., 1.],\n",
      "         [1., 1., 1.]],\n",
      "\n",
      "        [[1., 1., 1.],\n",
      "         [1., 1., 1.]]], requires_grad=True)\n",
      "True\n",
      "tensor([[[0., 1., 0.],\n",
      "         [0., 0., 0.]],\n",
      "\n",
      "        [[0., 0., 0.],\n",
      "         [0., 1., 0.]]], requires_grad=True)\n"
     ]
    }
   ],
   "source": [
    "tensor = torch.ones(2,2,3,requires_grad=True)\n",
    "print(tensor)\n",
    "print(dirac_init(tensor, groups=1) is tensor)\n",
    "print(tensor)"
   ]
  },
  {
   "cell_type": "code",
   "execution_count": 43,
   "metadata": {},
   "outputs": [
    {
     "name": "stdout",
     "output_type": "stream",
     "text": [
      "True\n",
      "tensor([[0.4963, 0.7682, 0.0885, 0.1320],\n",
      "        [0.3074, 0.6341, 0.4901, 0.8964],\n",
      "        [0.4556, 0.6323, 0.3489, 0.4017]], requires_grad=True)\n"
     ]
    }
   ],
   "source": [
    "tensor = torch.ones(3,4,requires_grad=True)\n",
    "print(xavier_uniform_init(tensor, gain=1., random_state=0) is tensor)\n",
    "print(tensor)"
   ]
  },
  {
   "cell_type": "code",
   "execution_count": 50,
   "metadata": {},
   "outputs": [
    {
     "name": "stdout",
     "output_type": "stream",
     "text": [
      "True\n",
      "tensor([[-0.4039, -0.8229,  0.1986,  0.7341],\n",
      "        [ 0.3149, -0.4391, -0.1295,  0.1283],\n",
      "        [ 0.5355, -0.2104, -0.3725, -0.2079]], requires_grad=True)\n"
     ]
    }
   ],
   "source": [
    "tensor = torch.ones(3,4,requires_grad=True)\n",
    "print(xavier_normal_init(tensor, gain=1., random_state=None) is tensor)\n",
    "print(tensor)"
   ]
  },
  {
   "cell_type": "code",
   "execution_count": 59,
   "metadata": {},
   "outputs": [
    {
     "name": "stdout",
     "output_type": "stream",
     "text": [
      "True\n",
      "tensor([[0.4963, 0.7682, 0.0885, 0.1320],\n",
      "        [0.3074, 0.6341, 0.4901, 0.8964],\n",
      "        [0.4556, 0.6323, 0.3489, 0.4017]], requires_grad=True)\n"
     ]
    }
   ],
   "source": [
    "tensor = torch.ones(3,4,requires_grad=True)\n",
    "print(kaiming_uniform_init(tensor, a=0, mode='fan_in', nonlinearity='leaky_relu', random_state=0) is tensor)\n",
    "print(tensor)"
   ]
  },
  {
   "cell_type": "code",
   "execution_count": 63,
   "metadata": {},
   "outputs": [
    {
     "name": "stdout",
     "output_type": "stream",
     "text": [
      "True\n",
      "tensor([[-0.1241,  0.5463,  0.0295,  0.7569],\n",
      "        [-0.1883,  0.0880,  0.7876,  0.6951],\n",
      "        [ 0.4222, -0.3180,  0.6913, -1.2418]], requires_grad=True)\n"
     ]
    }
   ],
   "source": [
    "tensor = torch.ones(3,4,requires_grad=True)\n",
    "print(kaiming_normal_init(tensor, a=0, mode='fan_in', nonlinearity='leaky_relu', random_state=None) is tensor)\n",
    "print(tensor)"
   ]
  },
  {
   "cell_type": "code",
   "execution_count": 68,
   "metadata": {},
   "outputs": [
    {
     "name": "stdout",
     "output_type": "stream",
     "text": [
      "True\n",
      "tensor([[ 0.5615, -0.1069, -0.7939,  0.2071],\n",
      "        [-0.3906, -0.7681, -0.0409,  0.5058],\n",
      "        [-0.7138,  0.2110, -0.6063, -0.2798]], requires_grad=True)\n"
     ]
    }
   ],
   "source": [
    "tensor = torch.ones(3,4,requires_grad=True)\n",
    "print(orthogonal_init(tensor, gain=1, random_state=0) is tensor)\n",
    "print(tensor)"
   ]
  },
  {
   "cell_type": "code",
   "execution_count": 80,
   "metadata": {},
   "outputs": [
    {
     "name": "stdout",
     "output_type": "stream",
     "text": [
      "True\n",
      "tensor([[ 0.0000, -0.2934, -2.1788,  0.5684],\n",
      "        [-1.0845,  0.0000,  0.0000,  0.0000],\n",
      "        [ 0.0000,  0.0000,  0.0000,  0.0000]], requires_grad=True)\n"
     ]
    }
   ],
   "source": [
    "tensor = torch.ones(3,4,requires_grad=True)\n",
    "print(sparse_init(tensor, .5, std=0.01, random_state=0) is tensor)\n",
    "print(tensor)"
   ]
  },
  {
   "cell_type": "code",
   "execution_count": 75,
   "metadata": {},
   "outputs": [
    {
     "data": {
      "text/plain": [
       "tensor([2, 0, 1])"
      ]
     },
     "execution_count": 75,
     "metadata": {},
     "output_type": "execute_result"
    }
   ],
   "source": [
    "gen = torch.Generator()\n",
    "gen.manual_seed(0)\n",
    "torch.randperm(3)"
   ]
  },
  {
   "cell_type": "code",
   "execution_count": 90,
   "metadata": {},
   "outputs": [
    {
     "name": "stdout",
     "output_type": "stream",
     "text": [
      "OrderedDict([('linear.weight', tensor([[ 0.0466,  0.3082, -0.4547, -0.3745]])), ('linear.bias', tensor([0.1847]))])\n",
      "OrderedDict([('linear.weight', tensor([[ 1.5410, -0.2934, -2.1788,  0.5684]])), ('linear.bias', tensor([0.]))])\n"
     ]
    }
   ],
   "source": [
    "from NLPUtils.classifiers import LogisticRegressionClassifier as LRC\n",
    "\n",
    "clf = LRC(4)\n",
    "print(clf.model.state_dict())\n",
    "clf.init_parameters(random_state=0)\n",
    "print(clf.model.state_dict())"
   ]
  },
  {
   "cell_type": "markdown",
   "metadata": {},
   "source": [
    "# Entrenamiento con LR\n",
    "\n",
    "Ahora que ya hicimos las funciones de inicialización, podemos entrenar un LR"
   ]
  },
  {
   "cell_type": "code",
   "execution_count": 8,
   "metadata": {},
   "outputs": [],
   "source": [
    "from torch.utils.data import Dataset\n",
    "\n",
    "X_train, y_train, X_test, y_test = utils.load_dataset_norm()\n",
    "\n",
    "class toyDataset(Dataset):\n",
    "    \n",
    "    def __init__(self,test=False):\n",
    "        if test:\n",
    "            self.X = torch.from_numpy(X_test).type(torch.float)\n",
    "            self.y = torch.from_numpy(y_test.reshape(-1,1)).type(torch.float)\n",
    "        else:\n",
    "            self.X = torch.from_numpy(X_train).type(torch.float)\n",
    "            self.y = torch.from_numpy(y_train.reshape(-1,1)).type(torch.float)\n",
    "    def __getitem__(self,idx):\n",
    "        return self.X[idx,:], self.y[idx]\n",
    "    \n",
    "    def __len__(self):\n",
    "        return len(self.y)\n",
    "        \n",
    "train_dataset = toyDataset(test=False)\n",
    "test_dataset = toyDataset(test=True)\n",
    "\n",
    "n_train_samples = len(train_dataset)\n",
    "n_test_samples = len(test_dataset)\n",
    "\n",
    "n_input_features = len(train_dataset[0][0])"
   ]
  },
  {
   "cell_type": "code",
   "execution_count": 88,
   "metadata": {
    "scrolled": true
   },
   "outputs": [],
   "source": [
    "from NLPUtils.classifiers import LogisticRegressionClassifier as LRC\n",
    "\n",
    "clf = LRC(n_input_features,bias=True)\n",
    "clf.init_parameters(mean=0,std=0.001,random_state=0)\n",
    "train_acc = []\n",
    "test_acc = []\n",
    "for i in range(100):    \n",
    "    clf.train(train_dataset, optim_algorithm='SGD',\n",
    "          epochs=100, batch_size=512, lr=0.01, verbose=False)\n",
    "    y_predict = clf.predict(train_dataset).view(-1)\n",
    "    #print('train accuracy: {:.2f}%'.format(nlp.get_score(y_train.reshape(-1),y_predict,metrics='accuracy')*100))\n",
    "    train_acc.append(nlp.get_score(y_train.reshape(-1),y_predict,metrics='accuracy'))\n",
    "    y_predict = clf.predict(test_dataset).view(-1)\n",
    "    #print('test accuracy: {:.2f}%'.format(nlp.get_score(y_test.reshape(-1),y_predict,metrics='accuracy')*100))\n",
    "    test_acc.append(nlp.get_score(y_test.reshape(-1),y_predict,metrics='accuracy'))\n",
    "    "
   ]
  },
  {
   "cell_type": "code",
   "execution_count": 90,
   "metadata": {},
   "outputs": [
    {
     "data": {
      "text/plain": [
       "[<matplotlib.lines.Line2D at 0x7f64db8a8690>]"
      ]
     },
     "execution_count": 90,
     "metadata": {},
     "output_type": "execute_result"
    },
    {
     "data": {
      "image/png": "[encoded data removed]",
      "text/plain": [
       "<Figure size 432x288 with 1 Axes>"
      ]
     },
     "metadata": {
      "needs_background": "light"
     },
     "output_type": "display_data"
    }
   ],
   "source": [
    "fig, ax = plt.subplots()\n",
    "ax.plot(1-np.array(train_acc))\n",
    "ax.plot(1-np.array(test_acc))"
   ]
  },
  {
   "cell_type": "code",
   "execution_count": 77,
   "metadata": {},
   "outputs": [
    {
     "data": {
      "text/plain": [
       "[<matplotlib.lines.Line2D at 0x7f64dba03710>]"
      ]
     },
     "execution_count": 77,
     "metadata": {},
     "output_type": "execute_result"
    },
    {
     "data": {
      "image/png": "[encoded data removed]",
      "text/plain": [
       "<Figure size 432x288 with 1 Axes>"
      ]
     },
     "metadata": {
      "needs_background": "light"
     },
     "output_type": "display_data"
    }
   ],
   "source": [
    "import matplotlib.pyplot as plt\n",
    "plt.plot(np.log(np.array(clf.loss_history)))"
   ]
  },
  {
   "cell_type": "code",
   "execution_count": 78,
   "metadata": {},
   "outputs": [
    {
     "name": "stdout",
     "output_type": "stream",
     "text": [
      "0.9617224880382775\n",
      "0.9617224880382775\n",
      "0.9617224880382775\n"
     ]
    }
   ],
   "source": [
    "y_predict = clf.predict(train_dataset).view(-1)\n",
    "print(nlp.get_score(y_train.reshape(-1),y_predict,metrics='accuracy'))\n",
    "print((y_predict.numpy() == y_train.reshape(-1)).sum() / len(train_dataset))\n",
    "\n",
    "num_corrects = 0\n",
    "for i in range(n_train_samples):\n",
    "    x, y = train_dataset[i]\n",
    "    y_pred = clf.model(x.view(1,-1))\n",
    "    if int(y_pred.item() > 0) == y.item():\n",
    "        num_corrects += 1\n",
    "\n",
    "print(num_corrects / n_train_samples)"
   ]
  },
  {
   "cell_type": "code",
   "execution_count": 79,
   "metadata": {},
   "outputs": [
    {
     "name": "stdout",
     "output_type": "stream",
     "text": [
      "0.54\n",
      "0.54\n",
      "0.54\n"
     ]
    }
   ],
   "source": [
    "y_predict = clf.predict(test_dataset).view(-1)\n",
    "print(nlp.get_score(y_test.reshape(-1),y_predict,metrics='accuracy'))\n",
    "print((y_predict.numpy() == y_test.reshape(-1)).sum() / len(test_dataset))\n",
    "\n",
    "num_corrects = 0\n",
    "for i in range(n_test_samples):\n",
    "    x, y = test_dataset[i]\n",
    "    y_pred = clf.model(x.view(1,-1))\n",
    "    if int(y_pred.item() > 0) == y.item():\n",
    "        num_corrects += 1\n",
    "\n",
    "print(num_corrects / n_test_samples)"
   ]
  },
  {
   "cell_type": "code",
   "execution_count": null,
   "metadata": {},
   "outputs": [],
   "source": []
  }
 ],
 "metadata": {
  "kernelspec": {
   "display_name": "Python 3",
   "language": "python",
   "name": "python3"
  },
  "language_info": {
   "codemirror_mode": {
    "name": "ipython",
    "version": 3
   },
   "file_extension": ".py",
   "mimetype": "text/x-python",
   "name": "python",
   "nbconvert_exporter": "python",
   "pygments_lexer": "ipython3",
   "version": "3.7.7"
  }
 },
 "nbformat": 4,
 "nbformat_minor": 4
}
