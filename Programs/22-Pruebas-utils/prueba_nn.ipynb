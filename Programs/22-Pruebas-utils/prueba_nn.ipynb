{
 "cells": [
  {
   "cell_type": "code",
   "execution_count": 1,
   "metadata": {},
   "outputs": [
    {
     "name": "stderr",
     "output_type": "stream",
     "text": [
      "[nltk_data] Downloading package punkt to /home/lestien/nltk_data...\n",
      "[nltk_data]   Package punkt is already up-to-date!\n"
     ]
    }
   ],
   "source": [
    "import sys, os\n",
    "sys.path.append(os.path.join(sys.path[0].split('Documents')[0],'Documents/BecaNLP/Utils'))\n",
    "\n",
    "import NLPUtils as nlp\n",
    "import numpy as np\n",
    "import torch\n",
    "import utils\n",
    "\n",
    "%load_ext autoreload\n",
    "%autoreload 2"
   ]
  },
  {
   "cell_type": "code",
   "execution_count": null,
   "metadata": {},
   "outputs": [],
   "source": [
    "constant_init(tensor,val)\n",
    "ones_init(tensor)\n",
    "zeros_init(tensor)\n",
    "diagonal_init(tensor,fill_value,wrap=False)\n",
    "uniform_init(tensor,a=0.0,b=1.0,random_state=None)\n",
    "normal_init(tensor,mean=0.0,std=1.0,random_state=None)\n",
    "dirac_init(tensor, groups=1)\n",
    "xavier_uniform_init(tensor, gain=1., random_state=None)\n",
    "xavier_normal_init(tensor, gain=1., random_state=None)\n",
    "kaiming_uniform_init(tensor, a=0, mode='fan_in', nonlinearity='leaky_relu', random_state=None)\n",
    "kaiming_normal_init(tensor, a=0, mode='fan_in', nonlinearity='leaky_relu', random_state=None)\n",
    "orthogonal_init(tensor, gain=1, random_state=None)\n",
    "sparse_init(tensor, sparsity, std=0.01, random_state=None)"
   ]
  },
  {
   "cell_type": "code",
   "execution_count": 10,
   "metadata": {},
   "outputs": [
    {
     "name": "stdout",
     "output_type": "stream",
     "text": [
      "True\n",
      "tensor([[2., 2., 2., 2.],\n",
      "        [2., 2., 2., 2.],\n",
      "        [2., 2., 2., 2.]], requires_grad=True)\n"
     ]
    }
   ],
   "source": [
    "from NLPUtils.classifiers import *\n",
    "tensor = torch.ones(3,4,requires_grad=True)\n",
    "print((constant_init(tensor,2) is tensor))\n",
    "print(tensor)"
   ]
  },
  {
   "cell_type": "code",
   "execution_count": 13,
   "metadata": {},
   "outputs": [
    {
     "name": "stdout",
     "output_type": "stream",
     "text": [
      "True\n",
      "tensor([[1., 1., 1., 1.],\n",
      "        [1., 1., 1., 1.],\n",
      "        [1., 1., 1., 1.]], requires_grad=True)\n"
     ]
    }
   ],
   "source": [
    "print(ones_init(tensor) is tensor)\n",
    "print(tensor)"
   ]
  },
  {
   "cell_type": "code",
   "execution_count": 14,
   "metadata": {},
   "outputs": [
    {
     "name": "stdout",
     "output_type": "stream",
     "text": [
      "True\n",
      "tensor([[0., 0., 0., 0.],\n",
      "        [0., 0., 0., 0.],\n",
      "        [0., 0., 0., 0.]], requires_grad=True)\n"
     ]
    }
   ],
   "source": [
    "print(zeros_init(tensor) is tensor)\n",
    "print(tensor)"
   ]
  },
  {
   "cell_type": "code",
   "execution_count": 17,
   "metadata": {},
   "outputs": [
    {
     "name": "stdout",
     "output_type": "stream",
     "text": [
      "True\n",
      "tensor([[3., 0., 0., 0.],\n",
      "        [0., 3., 0., 0.],\n",
      "        [0., 0., 3., 0.]], requires_grad=True)\n"
     ]
    }
   ],
   "source": [
    "print(diagonal_init(tensor,3,wrap=True) is tensor)\n",
    "print(tensor)"
   ]
  },
  {
   "cell_type": "code",
   "execution_count": 22,
   "metadata": {},
   "outputs": [
    {
     "name": "stdout",
     "output_type": "stream",
     "text": [
      "True\n",
      "tensor([[0.4963, 0.7682, 0.0885, 0.1320],\n",
      "        [0.3074, 0.6341, 0.4901, 0.8964],\n",
      "        [0.4556, 0.6323, 0.3489, 0.4017]], requires_grad=True)\n"
     ]
    }
   ],
   "source": [
    "print(uniform_init(tensor,0,1,random_state=0) is tensor)\n",
    "print(tensor)"
   ]
  },
  {
   "cell_type": "code",
   "execution_count": 27,
   "metadata": {},
   "outputs": [
    {
     "name": "stdout",
     "output_type": "stream",
     "text": [
      "True\n",
      "tensor([[ 0.7390, -0.2592, -0.5154,  0.2449],\n",
      "        [ 0.0852, -1.0394,  0.3426,  0.1963],\n",
      "        [ 0.2675, -1.7838,  0.4256, -0.0825]], requires_grad=True)\n"
     ]
    }
   ],
   "source": [
    "print(normal_init(tensor,0,1,random_state=None) is tensor)\n",
    "print(tensor)"
   ]
  },
  {
   "cell_type": "code",
   "execution_count": 38,
   "metadata": {},
   "outputs": [
    {
     "name": "stdout",
     "output_type": "stream",
     "text": [
      "tensor([[[1., 1., 1.],\n",
      "         [1., 1., 1.]],\n",
      "\n",
      "        [[1., 1., 1.],\n",
      "         [1., 1., 1.]]], requires_grad=True)\n",
      "True\n",
      "tensor([[[0., 1., 0.],\n",
      "         [0., 0., 0.]],\n",
      "\n",
      "        [[0., 0., 0.],\n",
      "         [0., 1., 0.]]], requires_grad=True)\n"
     ]
    }
   ],
   "source": [
    "tensor = torch.ones(2,2,3,requires_grad=True)\n",
    "print(tensor)\n",
    "print(dirac_init(tensor, groups=1) is tensor)\n",
    "print(tensor)"
   ]
  },
  {
   "cell_type": "code",
   "execution_count": 43,
   "metadata": {},
   "outputs": [
    {
     "name": "stdout",
     "output_type": "stream",
     "text": [
      "True\n",
      "tensor([[0.4963, 0.7682, 0.0885, 0.1320],\n",
      "        [0.3074, 0.6341, 0.4901, 0.8964],\n",
      "        [0.4556, 0.6323, 0.3489, 0.4017]], requires_grad=True)\n"
     ]
    }
   ],
   "source": [
    "tensor = torch.ones(3,4,requires_grad=True)\n",
    "print(xavier_uniform_init(tensor, gain=1., random_state=0) is tensor)\n",
    "print(tensor)"
   ]
  },
  {
   "cell_type": "code",
   "execution_count": 50,
   "metadata": {},
   "outputs": [
    {
     "name": "stdout",
     "output_type": "stream",
     "text": [
      "True\n",
      "tensor([[-0.4039, -0.8229,  0.1986,  0.7341],\n",
      "        [ 0.3149, -0.4391, -0.1295,  0.1283],\n",
      "        [ 0.5355, -0.2104, -0.3725, -0.2079]], requires_grad=True)\n"
     ]
    }
   ],
   "source": [
    "tensor = torch.ones(3,4,requires_grad=True)\n",
    "print(xavier_normal_init(tensor, gain=1., random_state=None) is tensor)\n",
    "print(tensor)"
   ]
  },
  {
   "cell_type": "code",
   "execution_count": 59,
   "metadata": {},
   "outputs": [
    {
     "name": "stdout",
     "output_type": "stream",
     "text": [
      "True\n",
      "tensor([[0.4963, 0.7682, 0.0885, 0.1320],\n",
      "        [0.3074, 0.6341, 0.4901, 0.8964],\n",
      "        [0.4556, 0.6323, 0.3489, 0.4017]], requires_grad=True)\n"
     ]
    }
   ],
   "source": [
    "tensor = torch.ones(3,4,requires_grad=True)\n",
    "print(kaiming_uniform_init(tensor, a=0, mode='fan_in', nonlinearity='leaky_relu', random_state=0) is tensor)\n",
    "print(tensor)"
   ]
  },
  {
   "cell_type": "code",
   "execution_count": 63,
   "metadata": {},
   "outputs": [
    {
     "name": "stdout",
     "output_type": "stream",
     "text": [
      "True\n",
      "tensor([[-0.1241,  0.5463,  0.0295,  0.7569],\n",
      "        [-0.1883,  0.0880,  0.7876,  0.6951],\n",
      "        [ 0.4222, -0.3180,  0.6913, -1.2418]], requires_grad=True)\n"
     ]
    }
   ],
   "source": [
    "tensor = torch.ones(3,4,requires_grad=True)\n",
    "print(kaiming_normal_init(tensor, a=0, mode='fan_in', nonlinearity='leaky_relu', random_state=None) is tensor)\n",
    "print(tensor)"
   ]
  },
  {
   "cell_type": "code",
   "execution_count": 68,
   "metadata": {},
   "outputs": [
    {
     "name": "stdout",
     "output_type": "stream",
     "text": [
      "True\n",
      "tensor([[ 0.5615, -0.1069, -0.7939,  0.2071],\n",
      "        [-0.3906, -0.7681, -0.0409,  0.5058],\n",
      "        [-0.7138,  0.2110, -0.6063, -0.2798]], requires_grad=True)\n"
     ]
    }
   ],
   "source": [
    "tensor = torch.ones(3,4,requires_grad=True)\n",
    "print(orthogonal_init(tensor, gain=1, random_state=0) is tensor)\n",
    "print(tensor)"
   ]
  },
  {
   "cell_type": "code",
   "execution_count": 80,
   "metadata": {},
   "outputs": [
    {
     "name": "stdout",
     "output_type": "stream",
     "text": [
      "True\n",
      "tensor([[ 0.0000, -0.2934, -2.1788,  0.5684],\n",
      "        [-1.0845,  0.0000,  0.0000,  0.0000],\n",
      "        [ 0.0000,  0.0000,  0.0000,  0.0000]], requires_grad=True)\n"
     ]
    }
   ],
   "source": [
    "tensor = torch.ones(3,4,requires_grad=True)\n",
    "print(sparse_init(tensor, .5, std=0.01, random_state=0) is tensor)\n",
    "print(tensor)"
   ]
  },
  {
   "cell_type": "code",
   "execution_count": 75,
   "metadata": {},
   "outputs": [
    {
     "data": {
      "text/plain": [
       "tensor([2, 0, 1])"
      ]
     },
     "execution_count": 75,
     "metadata": {},
     "output_type": "execute_result"
    }
   ],
   "source": [
    "gen = torch.Generator()\n",
    "gen.manual_seed(0)\n",
    "torch.randperm(3)"
   ]
  },
  {
   "cell_type": "code",
   "execution_count": 90,
   "metadata": {},
   "outputs": [
    {
     "name": "stdout",
     "output_type": "stream",
     "text": [
      "OrderedDict([('linear.weight', tensor([[ 0.0466,  0.3082, -0.4547, -0.3745]])), ('linear.bias', tensor([0.1847]))])\n",
      "OrderedDict([('linear.weight', tensor([[ 1.5410, -0.2934, -2.1788,  0.5684]])), ('linear.bias', tensor([0.]))])\n"
     ]
    }
   ],
   "source": [
    "from NLPUtils.classifiers import LogisticRegressionClassifier as LRC\n",
    "\n",
    "clf = LRC(4)\n",
    "print(clf.model.state_dict())\n",
    "clf.init_parameters(random_state=0)\n",
    "print(clf.model.state_dict())"
   ]
  },
  {
   "cell_type": "markdown",
   "metadata": {},
   "source": [
    "# Entrenamiento con LR\n",
    "\n",
    "Ahora que ya hicimos las funciones de inicialización, podemos entrenar un LR"
   ]
  },
  {
   "cell_type": "code",
   "execution_count": 40,
   "metadata": {},
   "outputs": [],
   "source": [
    "from torch.utils.data import Dataset\n",
    "\n",
    "X_train, y_train, X_test, y_test = utils.load_dataset_norm()\n",
    "\n",
    "class toyDataset(Dataset):\n",
    "    \n",
    "    def __init__(self,test=False):\n",
    "        if test:\n",
    "            self.X = torch.from_numpy(X_test).type(torch.float)\n",
    "            #self.y = torch.from_numpy(y_test.reshape(-1,1)).type(torch.float)\n",
    "            self.y = torch.from_numpy(y_test.reshape(-1)).type(torch.float)\n",
    "        else:\n",
    "            self.X = torch.from_numpy(X_train).type(torch.float)\n",
    "            #self.y = torch.from_numpy(y_train.reshape(-1,1)).type(torch.float)\n",
    "            self.y = torch.from_numpy(y_train.reshape(-1)).type(torch.float)\n",
    "    def __getitem__(self,idx):\n",
    "        return self.X[idx,:], self.y[idx]\n",
    "    \n",
    "    def __len__(self):\n",
    "        return len(self.y)\n",
    "        \n",
    "train_dataset = toyDataset(test=False)\n",
    "test_dataset = toyDataset(test=True)\n",
    "\n",
    "n_train_samples = len(train_dataset)\n",
    "n_test_samples = len(test_dataset)\n",
    "\n",
    "n_input_features = len(train_dataset[0][0])"
   ]
  },
  {
   "cell_type": "code",
   "execution_count": 49,
   "metadata": {},
   "outputs": [
    {
     "name": "stdout",
     "output_type": "stream",
     "text": [
      "1 0\n",
      "2 1\n",
      "3 2\n",
      "4 3\n",
      "5 4\n",
      "6 5\n",
      "7 6\n",
      "8 7\n",
      "9 8\n",
      "10 9\n"
     ]
    }
   ],
   "source": [
    "for i, j in enumerate(range(10),1):\n",
    "    print(i,j)"
   ]
  },
  {
   "cell_type": "code",
   "execution_count": 47,
   "metadata": {
    "scrolled": true
   },
   "outputs": [
    {
     "name": "stdout",
     "output_type": "stream",
     "text": [
      "Starting training...\n",
      "Training finished\n",
      "\n",
      "train accuracy: 65.55%\n",
      "test accuracy: 34.00%\n",
      "Resuming training from epoch 11...\n",
      "Training finished\n",
      "\n",
      "train accuracy: 65.55%\n",
      "test accuracy: 34.00%\n",
      "Resuming training from epoch 21...\n",
      "Training finished\n",
      "\n",
      "train accuracy: 65.55%\n",
      "test accuracy: 34.00%\n",
      "Resuming training from epoch 31...\n",
      "Training finished\n",
      "\n",
      "train accuracy: 65.55%\n",
      "test accuracy: 34.00%\n",
      "Resuming training from epoch 41...\n",
      "Training finished\n",
      "\n",
      "train accuracy: 65.55%\n",
      "test accuracy: 34.00%\n",
      "Resuming training from epoch 51...\n",
      "Training finished\n",
      "\n",
      "train accuracy: 65.55%\n",
      "test accuracy: 34.00%\n",
      "Resuming training from epoch 61...\n",
      "Training finished\n",
      "\n",
      "train accuracy: 65.55%\n",
      "test accuracy: 34.00%\n",
      "Resuming training from epoch 71...\n",
      "Training finished\n",
      "\n",
      "train accuracy: 65.55%\n",
      "test accuracy: 34.00%\n",
      "Resuming training from epoch 81...\n",
      "Training finished\n",
      "\n",
      "train accuracy: 65.07%\n",
      "test accuracy: 34.00%\n",
      "Resuming training from epoch 91...\n",
      "Training finished\n",
      "\n",
      "train accuracy: 65.07%\n",
      "test accuracy: 34.00%\n",
      "Resuming training from epoch 101...\n",
      "Training finished\n",
      "\n",
      "train accuracy: 65.07%\n",
      "test accuracy: 34.00%\n",
      "Resuming training from epoch 111...\n",
      "Training finished\n",
      "\n",
      "train accuracy: 65.07%\n",
      "test accuracy: 36.00%\n",
      "Resuming training from epoch 121...\n",
      "Training finished\n",
      "\n",
      "train accuracy: 65.07%\n",
      "test accuracy: 36.00%\n",
      "Resuming training from epoch 131...\n",
      "Training finished\n",
      "\n",
      "train accuracy: 65.55%\n",
      "test accuracy: 36.00%\n",
      "Resuming training from epoch 141...\n",
      "Training finished\n",
      "\n",
      "train accuracy: 65.55%\n",
      "test accuracy: 36.00%\n",
      "Resuming training from epoch 151...\n",
      "Training finished\n",
      "\n",
      "train accuracy: 65.55%\n",
      "test accuracy: 36.00%\n",
      "Resuming training from epoch 161...\n",
      "Training finished\n",
      "\n",
      "train accuracy: 65.55%\n",
      "test accuracy: 36.00%\n",
      "Resuming training from epoch 171...\n",
      "Training finished\n",
      "\n",
      "train accuracy: 66.03%\n",
      "test accuracy: 36.00%\n",
      "Resuming training from epoch 181...\n",
      "Training finished\n",
      "\n",
      "train accuracy: 66.03%\n",
      "test accuracy: 36.00%\n",
      "Resuming training from epoch 191...\n",
      "Training finished\n",
      "\n",
      "train accuracy: 66.03%\n",
      "test accuracy: 36.00%\n",
      "Resuming training from epoch 201...\n",
      "Training finished\n",
      "\n",
      "train accuracy: 66.51%\n",
      "test accuracy: 36.00%\n",
      "Resuming training from epoch 211...\n",
      "Training finished\n",
      "\n",
      "train accuracy: 66.99%\n",
      "test accuracy: 36.00%\n",
      "Resuming training from epoch 221...\n",
      "Training finished\n",
      "\n",
      "train accuracy: 67.46%\n",
      "test accuracy: 36.00%\n",
      "Resuming training from epoch 231...\n",
      "Training finished\n",
      "\n",
      "train accuracy: 68.42%\n",
      "test accuracy: 36.00%\n",
      "Resuming training from epoch 241...\n",
      "Training finished\n",
      "\n",
      "train accuracy: 67.94%\n",
      "test accuracy: 36.00%\n",
      "Resuming training from epoch 251...\n",
      "Training finished\n",
      "\n",
      "train accuracy: 67.46%\n",
      "test accuracy: 36.00%\n",
      "Resuming training from epoch 261...\n",
      "Training finished\n",
      "\n",
      "train accuracy: 67.46%\n",
      "test accuracy: 38.00%\n",
      "Resuming training from epoch 271...\n",
      "Training finished\n",
      "\n",
      "train accuracy: 67.94%\n",
      "test accuracy: 38.00%\n",
      "Resuming training from epoch 281...\n",
      "Training finished\n",
      "\n",
      "train accuracy: 68.90%\n",
      "test accuracy: 38.00%\n",
      "Resuming training from epoch 291...\n",
      "Training finished\n",
      "\n",
      "train accuracy: 68.90%\n",
      "test accuracy: 38.00%\n",
      "Resuming training from epoch 301...\n",
      "Training finished\n",
      "\n",
      "train accuracy: 68.90%\n",
      "test accuracy: 38.00%\n",
      "Resuming training from epoch 311...\n",
      "Training finished\n",
      "\n",
      "train accuracy: 69.86%\n",
      "test accuracy: 38.00%\n",
      "Resuming training from epoch 321...\n",
      "Training finished\n",
      "\n",
      "train accuracy: 69.86%\n",
      "test accuracy: 40.00%\n",
      "Resuming training from epoch 331...\n",
      "Training finished\n",
      "\n",
      "train accuracy: 69.86%\n",
      "test accuracy: 38.00%\n",
      "Resuming training from epoch 341...\n",
      "Training finished\n",
      "\n",
      "train accuracy: 69.86%\n",
      "test accuracy: 38.00%\n",
      "Resuming training from epoch 351...\n",
      "Training finished\n",
      "\n",
      "train accuracy: 70.33%\n",
      "test accuracy: 38.00%\n",
      "Resuming training from epoch 361...\n",
      "Training finished\n",
      "\n",
      "train accuracy: 70.33%\n",
      "test accuracy: 40.00%\n",
      "Resuming training from epoch 371...\n",
      "Training finished\n",
      "\n",
      "train accuracy: 70.33%\n",
      "test accuracy: 40.00%\n",
      "Resuming training from epoch 381...\n",
      "Training finished\n",
      "\n",
      "train accuracy: 69.86%\n",
      "test accuracy: 40.00%\n",
      "Resuming training from epoch 391...\n",
      "Training finished\n",
      "\n",
      "train accuracy: 70.81%\n",
      "test accuracy: 40.00%\n",
      "Resuming training from epoch 401...\n",
      "Training finished\n",
      "\n",
      "train accuracy: 70.81%\n",
      "test accuracy: 40.00%\n",
      "Resuming training from epoch 411...\n",
      "Training finished\n",
      "\n",
      "train accuracy: 70.81%\n",
      "test accuracy: 40.00%\n",
      "Resuming training from epoch 421...\n",
      "Training finished\n",
      "\n",
      "train accuracy: 71.29%\n",
      "test accuracy: 40.00%\n",
      "Resuming training from epoch 431...\n",
      "Training finished\n",
      "\n",
      "train accuracy: 71.29%\n",
      "test accuracy: 42.00%\n",
      "Resuming training from epoch 441...\n",
      "Training finished\n",
      "\n",
      "train accuracy: 71.29%\n",
      "test accuracy: 40.00%\n",
      "Resuming training from epoch 451...\n",
      "Training finished\n",
      "\n",
      "train accuracy: 71.29%\n",
      "test accuracy: 40.00%\n",
      "Resuming training from epoch 461...\n",
      "Training finished\n",
      "\n",
      "train accuracy: 71.77%\n",
      "test accuracy: 40.00%\n",
      "Resuming training from epoch 471...\n",
      "Training finished\n",
      "\n",
      "train accuracy: 71.77%\n",
      "test accuracy: 42.00%\n",
      "Resuming training from epoch 481...\n",
      "Training finished\n",
      "\n",
      "train accuracy: 72.25%\n",
      "test accuracy: 44.00%\n",
      "Resuming training from epoch 491...\n",
      "Training finished\n",
      "\n",
      "train accuracy: 72.25%\n",
      "test accuracy: 44.00%\n",
      "Resuming training from epoch 501...\n",
      "Training finished\n",
      "\n",
      "train accuracy: 72.25%\n",
      "test accuracy: 44.00%\n",
      "Resuming training from epoch 511...\n",
      "Training finished\n",
      "\n",
      "train accuracy: 72.25%\n",
      "test accuracy: 44.00%\n",
      "Resuming training from epoch 521...\n",
      "Training finished\n",
      "\n",
      "train accuracy: 72.25%\n",
      "test accuracy: 46.00%\n",
      "Resuming training from epoch 531...\n",
      "Training finished\n",
      "\n",
      "train accuracy: 72.73%\n",
      "test accuracy: 48.00%\n",
      "Resuming training from epoch 541...\n",
      "Training finished\n",
      "\n",
      "train accuracy: 72.73%\n",
      "test accuracy: 48.00%\n",
      "Resuming training from epoch 551...\n",
      "Training finished\n",
      "\n",
      "train accuracy: 72.73%\n",
      "test accuracy: 48.00%\n",
      "Resuming training from epoch 561...\n",
      "Training finished\n",
      "\n",
      "train accuracy: 72.73%\n",
      "test accuracy: 48.00%\n",
      "Resuming training from epoch 571...\n",
      "Training finished\n",
      "\n",
      "train accuracy: 72.73%\n",
      "test accuracy: 48.00%\n",
      "Resuming training from epoch 581...\n",
      "Training finished\n",
      "\n",
      "train accuracy: 72.73%\n",
      "test accuracy: 48.00%\n",
      "Resuming training from epoch 591...\n",
      "Training finished\n",
      "\n",
      "train accuracy: 73.21%\n",
      "test accuracy: 48.00%\n",
      "Resuming training from epoch 601...\n",
      "Training finished\n",
      "\n",
      "train accuracy: 73.68%\n",
      "test accuracy: 48.00%\n",
      "Resuming training from epoch 611...\n",
      "Training finished\n",
      "\n",
      "train accuracy: 73.68%\n",
      "test accuracy: 50.00%\n",
      "Resuming training from epoch 621...\n",
      "Training finished\n",
      "\n",
      "train accuracy: 73.21%\n",
      "test accuracy: 52.00%\n",
      "Resuming training from epoch 631...\n",
      "Training finished\n",
      "\n",
      "train accuracy: 73.21%\n",
      "test accuracy: 52.00%\n",
      "Resuming training from epoch 641...\n",
      "Training finished\n",
      "\n",
      "train accuracy: 73.21%\n",
      "test accuracy: 52.00%\n",
      "Resuming training from epoch 651...\n",
      "Training finished\n",
      "\n",
      "train accuracy: 73.21%\n",
      "test accuracy: 52.00%\n",
      "Resuming training from epoch 661...\n",
      "Training finished\n",
      "\n",
      "train accuracy: 73.21%\n",
      "test accuracy: 52.00%\n",
      "Resuming training from epoch 671...\n",
      "Training finished\n",
      "\n",
      "train accuracy: 73.21%\n",
      "test accuracy: 52.00%\n",
      "Resuming training from epoch 681...\n",
      "Training finished\n",
      "\n",
      "train accuracy: 73.68%\n",
      "test accuracy: 52.00%\n",
      "Resuming training from epoch 691...\n",
      "Training finished\n",
      "\n",
      "train accuracy: 73.68%\n",
      "test accuracy: 52.00%\n",
      "Resuming training from epoch 701...\n",
      "Training finished\n",
      "\n",
      "train accuracy: 73.68%\n",
      "test accuracy: 52.00%\n",
      "Resuming training from epoch 711...\n",
      "Training finished\n",
      "\n",
      "train accuracy: 73.68%\n",
      "test accuracy: 54.00%\n",
      "Resuming training from epoch 721...\n",
      "Training finished\n",
      "\n",
      "train accuracy: 74.16%\n",
      "test accuracy: 56.00%\n",
      "Resuming training from epoch 731...\n",
      "Training finished\n",
      "\n",
      "train accuracy: 74.16%\n",
      "test accuracy: 56.00%\n",
      "Resuming training from epoch 741...\n",
      "Training finished\n",
      "\n",
      "train accuracy: 74.16%\n",
      "test accuracy: 56.00%\n",
      "Resuming training from epoch 751...\n",
      "Training finished\n",
      "\n",
      "train accuracy: 74.16%\n",
      "test accuracy: 56.00%\n",
      "Resuming training from epoch 761...\n",
      "Training finished\n",
      "\n",
      "train accuracy: 74.64%\n",
      "test accuracy: 56.00%\n",
      "Resuming training from epoch 771...\n",
      "Training finished\n",
      "\n",
      "train accuracy: 74.64%\n",
      "test accuracy: 56.00%\n",
      "Resuming training from epoch 781...\n",
      "Training finished\n",
      "\n",
      "train accuracy: 74.64%\n",
      "test accuracy: 56.00%\n",
      "Resuming training from epoch 791...\n",
      "Training finished\n",
      "\n",
      "train accuracy: 74.64%\n",
      "test accuracy: 56.00%\n",
      "Resuming training from epoch 801...\n",
      "Training finished\n",
      "\n",
      "train accuracy: 75.12%\n",
      "test accuracy: 56.00%\n",
      "Resuming training from epoch 811...\n",
      "Training finished\n",
      "\n",
      "train accuracy: 75.12%\n",
      "test accuracy: 56.00%\n",
      "Resuming training from epoch 821...\n"
     ]
    },
    {
     "name": "stdout",
     "output_type": "stream",
     "text": [
      "Training finished\n",
      "\n",
      "train accuracy: 75.12%\n",
      "test accuracy: 56.00%\n",
      "Resuming training from epoch 831...\n",
      "Training finished\n",
      "\n",
      "train accuracy: 75.60%\n",
      "test accuracy: 56.00%\n",
      "Resuming training from epoch 841...\n",
      "Training finished\n",
      "\n",
      "train accuracy: 75.60%\n",
      "test accuracy: 56.00%\n",
      "Resuming training from epoch 851...\n",
      "Training finished\n",
      "\n",
      "train accuracy: 75.60%\n",
      "test accuracy: 56.00%\n",
      "Resuming training from epoch 861...\n",
      "Training finished\n",
      "\n",
      "train accuracy: 75.60%\n",
      "test accuracy: 56.00%\n",
      "Resuming training from epoch 871...\n",
      "Training finished\n",
      "\n",
      "train accuracy: 76.08%\n",
      "test accuracy: 56.00%\n",
      "Resuming training from epoch 881...\n",
      "Training finished\n",
      "\n",
      "train accuracy: 76.08%\n",
      "test accuracy: 56.00%\n",
      "Resuming training from epoch 891...\n",
      "Training finished\n",
      "\n",
      "train accuracy: 76.08%\n",
      "test accuracy: 56.00%\n",
      "Resuming training from epoch 901...\n",
      "Training finished\n",
      "\n",
      "train accuracy: 76.08%\n",
      "test accuracy: 56.00%\n",
      "Resuming training from epoch 911...\n",
      "Training finished\n",
      "\n",
      "train accuracy: 77.03%\n",
      "test accuracy: 56.00%\n",
      "Resuming training from epoch 921...\n",
      "Training finished\n",
      "\n",
      "train accuracy: 77.03%\n",
      "test accuracy: 56.00%\n",
      "Resuming training from epoch 931...\n",
      "Training finished\n",
      "\n",
      "train accuracy: 77.03%\n",
      "test accuracy: 56.00%\n",
      "Resuming training from epoch 941...\n",
      "Training finished\n",
      "\n",
      "train accuracy: 77.03%\n",
      "test accuracy: 56.00%\n",
      "Resuming training from epoch 951...\n",
      "Training finished\n",
      "\n",
      "train accuracy: 77.03%\n",
      "test accuracy: 56.00%\n",
      "Resuming training from epoch 961...\n",
      "Training finished\n",
      "\n",
      "train accuracy: 77.03%\n",
      "test accuracy: 56.00%\n",
      "Resuming training from epoch 971...\n",
      "Training finished\n",
      "\n",
      "train accuracy: 77.03%\n",
      "test accuracy: 56.00%\n",
      "Resuming training from epoch 981...\n",
      "Training finished\n",
      "\n",
      "train accuracy: 77.51%\n",
      "test accuracy: 56.00%\n",
      "Resuming training from epoch 991...\n",
      "Training finished\n",
      "\n",
      "train accuracy: 77.51%\n",
      "test accuracy: 56.00%\n",
      "33.89088273048401\n"
     ]
    }
   ],
   "source": [
    "from NLPUtils.classifiers import LogisticRegressionClassifier as LRC\n",
    "\n",
    "clf = LRC(n_input_features,bias=True)\n",
    "clf.init_parameters(mean=0,std=0.001,random_state=0) #random_state = [0, 123, 4567]\n",
    "train_acc = []\n",
    "test_acc = []\n",
    "import time\n",
    "tic = time.time()\n",
    "for i in range(100):    \n",
    "    clf.train(train_dataset, optim_algorithm='minibatch',\n",
    "          epochs=10, batch_size=512, lr=0.0005, verbose=False)\n",
    "    y_predict = clf.predict(train_dataset)\n",
    "    print('train accuracy: {:.2f}%'.format(nlp.get_score(y_train.reshape(-1),y_predict,metrics='accuracy')*100))\n",
    "    train_acc.append(nlp.get_score(y_train.reshape(-1),y_predict,metrics='accuracy'))\n",
    "    y_predict = clf.predict(test_dataset)\n",
    "    print('test accuracy: {:.2f}%'.format(nlp.get_score(y_test.reshape(-1),y_predict,metrics='accuracy')*100))\n",
    "    test_acc.append(nlp.get_score(y_test.reshape(-1),y_predict,metrics='accuracy'))\n",
    "toc = time.time()\n",
    "print(toc-tic)"
   ]
  },
  {
   "cell_type": "code",
   "execution_count": null,
   "metadata": {},
   "outputs": [],
   "source": [
    "38.53675031661987\n",
    "32.758750677108765"
   ]
  },
  {
   "cell_type": "code",
   "execution_count": 30,
   "metadata": {},
   "outputs": [
    {
     "data": {
      "text/plain": [
       "[<matplotlib.lines.Line2D at 0x7fd3e8cd9f50>]"
      ]
     },
     "execution_count": 30,
     "metadata": {},
     "output_type": "execute_result"
    },
    {
     "data": {
      "image/png": "[encoded data removed]",
      "text/plain": [
       "<Figure size 432x288 with 1 Axes>"
      ]
     },
     "metadata": {
      "needs_background": "light"
     },
     "output_type": "display_data"
    }
   ],
   "source": [
    "import matplotlib.pyplot as plt\n",
    "fig, ax = plt.subplots()\n",
    "ax.plot(1-np.array(train_acc))\n",
    "ax.plot(1-np.array(test_acc))"
   ]
  },
  {
   "cell_type": "code",
   "execution_count": 31,
   "metadata": {},
   "outputs": [
    {
     "data": {
      "text/plain": [
       "[<matplotlib.lines.Line2D at 0x7fd3e8c4e190>]"
      ]
     },
     "execution_count": 31,
     "metadata": {},
     "output_type": "execute_result"
    },
    {
     "data": {
      "image/png": "[encoded data removed]",
      "text/plain": [
       "<Figure size 432x288 with 1 Axes>"
      ]
     },
     "metadata": {
      "needs_background": "light"
     },
     "output_type": "display_data"
    }
   ],
   "source": [
    "import matplotlib.pyplot as plt\n",
    "#plt.plot(np.log(np.array(clf.loss_history)))\n",
    "plt.plot(clf.loss_history)"
   ]
  },
  {
   "cell_type": "code",
   "execution_count": 24,
   "metadata": {},
   "outputs": [
    {
     "name": "stdout",
     "output_type": "stream",
     "text": [
      "0.5885167464114832\n",
      "0.5885167464114832\n",
      "0.5885167464114832\n"
     ]
    }
   ],
   "source": [
    "y_predict = clf.predict(train_dataset).view(-1)\n",
    "print(nlp.get_score(y_train.reshape(-1),y_predict,metrics='accuracy'))\n",
    "print((y_predict.numpy() == y_train.reshape(-1)).sum() / len(train_dataset))\n",
    "\n",
    "num_corrects = 0\n",
    "for i in range(n_train_samples):\n",
    "    x, y = train_dataset[i]\n",
    "    y_pred = clf.model(x.view(1,-1))\n",
    "    if int(y_pred.item() > 0) == y.item():\n",
    "        num_corrects += 1\n",
    "\n",
    "print(num_corrects / n_train_samples)"
   ]
  },
  {
   "cell_type": "code",
   "execution_count": 22,
   "metadata": {},
   "outputs": [
    {
     "data": {
      "text/plain": [
       "1"
      ]
     },
     "execution_count": 22,
     "metadata": {},
     "output_type": "execute_result"
    }
   ],
   "source": [
    "train_dataset[0][1].size(0)"
   ]
  },
  {
   "cell_type": "code",
   "execution_count": 79,
   "metadata": {},
   "outputs": [
    {
     "name": "stdout",
     "output_type": "stream",
     "text": [
      "0.54\n",
      "0.54\n",
      "0.54\n"
     ]
    }
   ],
   "source": [
    "y_predict = clf.predict(test_dataset).view(-1)\n",
    "print(nlp.get_score(y_test.reshape(-1),y_predict,metrics='accuracy'))\n",
    "print((y_predict.numpy() == y_test.reshape(-1)).sum() / len(test_dataset))\n",
    "\n",
    "num_corrects = 0\n",
    "for i in range(n_test_samples):\n",
    "    x, y = test_dataset[i]\n",
    "    y_pred = clf.model(x.view(1,-1))\n",
    "    if int(y_pred.item() > 0) == y.item():\n",
    "        num_corrects += 1\n",
    "\n",
    "print(num_corrects / n_test_samples)"
   ]
  },
  {
   "cell_type": "code",
   "execution_count": 46,
   "metadata": {},
   "outputs": [
    {
     "data": {
      "text/plain": [
       "tensor([[0.],\n",
       "        [0.],\n",
       "        [1.],\n",
       "        [0.],\n",
       "        [0.],\n",
       "        [0.],\n",
       "        [0.],\n",
       "        [1.],\n",
       "        [0.],\n",
       "        [0.],\n",
       "        [0.],\n",
       "        [1.],\n",
       "        [0.],\n",
       "        [1.],\n",
       "        [1.],\n",
       "        [0.],\n",
       "        [0.],\n",
       "        [0.],\n",
       "        [0.],\n",
       "        [1.],\n",
       "        [0.],\n",
       "        [0.],\n",
       "        [0.],\n",
       "        [0.],\n",
       "        [1.],\n",
       "        [1.],\n",
       "        [0.],\n",
       "        [1.],\n",
       "        [0.],\n",
       "        [1.],\n",
       "        [0.],\n",
       "        [0.],\n",
       "        [0.],\n",
       "        [0.],\n",
       "        [0.],\n",
       "        [0.],\n",
       "        [0.],\n",
       "        [0.],\n",
       "        [1.],\n",
       "        [0.],\n",
       "        [0.],\n",
       "        [1.],\n",
       "        [1.],\n",
       "        [0.],\n",
       "        [0.],\n",
       "        [0.],\n",
       "        [0.],\n",
       "        [1.],\n",
       "        [0.],\n",
       "        [0.],\n",
       "        [1.],\n",
       "        [0.],\n",
       "        [0.],\n",
       "        [0.],\n",
       "        [1.],\n",
       "        [0.],\n",
       "        [1.],\n",
       "        [1.],\n",
       "        [0.],\n",
       "        [1.],\n",
       "        [1.],\n",
       "        [1.],\n",
       "        [0.],\n",
       "        [0.],\n",
       "        [0.],\n",
       "        [0.],\n",
       "        [0.],\n",
       "        [0.],\n",
       "        [1.],\n",
       "        [0.],\n",
       "        [0.],\n",
       "        [1.],\n",
       "        [0.],\n",
       "        [0.],\n",
       "        [0.],\n",
       "        [0.],\n",
       "        [0.],\n",
       "        [0.],\n",
       "        [0.],\n",
       "        [0.],\n",
       "        [0.],\n",
       "        [0.],\n",
       "        [0.],\n",
       "        [1.],\n",
       "        [1.],\n",
       "        [0.],\n",
       "        [0.],\n",
       "        [0.],\n",
       "        [1.],\n",
       "        [0.],\n",
       "        [0.],\n",
       "        [0.],\n",
       "        [1.],\n",
       "        [1.],\n",
       "        [1.],\n",
       "        [0.],\n",
       "        [0.],\n",
       "        [1.],\n",
       "        [0.],\n",
       "        [0.],\n",
       "        [0.],\n",
       "        [0.],\n",
       "        [1.],\n",
       "        [0.],\n",
       "        [1.],\n",
       "        [0.],\n",
       "        [1.],\n",
       "        [1.],\n",
       "        [1.],\n",
       "        [1.],\n",
       "        [1.],\n",
       "        [1.],\n",
       "        [0.],\n",
       "        [0.],\n",
       "        [0.],\n",
       "        [0.],\n",
       "        [0.],\n",
       "        [1.],\n",
       "        [0.],\n",
       "        [0.],\n",
       "        [0.],\n",
       "        [1.],\n",
       "        [0.],\n",
       "        [0.],\n",
       "        [1.],\n",
       "        [0.],\n",
       "        [1.],\n",
       "        [0.],\n",
       "        [1.],\n",
       "        [1.],\n",
       "        [0.],\n",
       "        [0.],\n",
       "        [0.],\n",
       "        [1.],\n",
       "        [1.],\n",
       "        [1.],\n",
       "        [1.],\n",
       "        [1.],\n",
       "        [0.],\n",
       "        [0.],\n",
       "        [0.],\n",
       "        [0.],\n",
       "        [1.],\n",
       "        [0.],\n",
       "        [1.],\n",
       "        [1.],\n",
       "        [1.],\n",
       "        [0.],\n",
       "        [1.],\n",
       "        [1.],\n",
       "        [0.],\n",
       "        [0.],\n",
       "        [0.],\n",
       "        [1.],\n",
       "        [0.],\n",
       "        [0.],\n",
       "        [1.],\n",
       "        [0.],\n",
       "        [0.],\n",
       "        [0.],\n",
       "        [0.],\n",
       "        [0.],\n",
       "        [1.],\n",
       "        [0.],\n",
       "        [1.],\n",
       "        [0.],\n",
       "        [1.],\n",
       "        [0.],\n",
       "        [0.],\n",
       "        [1.],\n",
       "        [1.],\n",
       "        [1.],\n",
       "        [0.],\n",
       "        [0.],\n",
       "        [1.],\n",
       "        [1.],\n",
       "        [0.],\n",
       "        [1.],\n",
       "        [0.],\n",
       "        [1.],\n",
       "        [0.],\n",
       "        [0.],\n",
       "        [0.],\n",
       "        [0.],\n",
       "        [0.],\n",
       "        [1.],\n",
       "        [0.],\n",
       "        [0.],\n",
       "        [1.],\n",
       "        [0.],\n",
       "        [0.],\n",
       "        [0.],\n",
       "        [1.],\n",
       "        [0.],\n",
       "        [0.],\n",
       "        [0.],\n",
       "        [0.],\n",
       "        [1.],\n",
       "        [0.],\n",
       "        [0.],\n",
       "        [1.],\n",
       "        [0.],\n",
       "        [0.],\n",
       "        [0.],\n",
       "        [0.],\n",
       "        [0.],\n",
       "        [0.],\n",
       "        [0.],\n",
       "        [0.]])"
      ]
     },
     "execution_count": 46,
     "metadata": {},
     "output_type": "execute_result"
    }
   ],
   "source": [
    "train_dataset.y"
   ]
  }
 ],
 "metadata": {
  "kernelspec": {
   "display_name": "Python 3",
   "language": "python",
   "name": "python3"
  },
  "language_info": {
   "codemirror_mode": {
    "name": "ipython",
    "version": 3
   },
   "file_extension": ".py",
   "mimetype": "text/x-python",
   "name": "python",
   "nbconvert_exporter": "python",
   "pygments_lexer": "ipython3",
   "version": "3.7.7"
  }
 },
 "nbformat": 4,
 "nbformat_minor": 4
}
