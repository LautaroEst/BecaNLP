{
 "cells": [
  {
   "cell_type": "markdown",
   "metadata": {},
   "source": [
    "# Entrenamiento de word embeddings con EM"
   ]
  },
  {
   "cell_type": "markdown",
   "metadata": {},
   "source": [
    "Voy a definir un modelo de variables latentes $\\mathbf{z}_1,\\ldots,\\mathbf{z}_N$ con realizaciones en $\\mathbb{R}^{|V|}$, que representan la palabra central, y variables observables $\\mathbf{x}_1,\\ldots,\\mathbf{x}_N$ también con realizaciones en $\\mathbb{R}^{|V|}$ que representan la palabra del contexto.\n",
    "\n",
    "De esta forma, queda que la probabilidad de obtener en el contexto la palabra $o$ del vocabulario, dado que salió la palabra $c$ como palabra central, es:\n",
    "\n",
    "$$\n",
    "P(x_o = 1 | z_c = 1) = P(u_o|v_c) = Softmax(\\mathcal{U}^Tv_c) = \\frac{\\exp(u_o^Tv_c)}{\\sum_u \\exp(u^Tv_c)}\n",
    "$$\n",
    "\n",
    "con $u_o$ y $v_c$ los word embeddings de las palabras $o$ y $c$ del vocabulario.\n",
    "\n",
    "Definimos, además la probabilidad de obtener la palabra $c$ del vocabulario como palabra central:\n",
    "\n",
    "$$\n",
    "P(z_c = 1) = \\pi_c\n",
    "$$\n",
    "\n",
    "de manera que la probabilidad $P(\\mathbf{x})$ queda definida por la siguiente ecuación:\n",
    "\n",
    "$$\n",
    "P(x_o = 1) = \\sum_{c=1}^{|V|} P(z_c = 1) P(x_o = 1 | z_c = 1) = \\sum_{c=1}^{|V|} \\pi_c P(u_o|v_c) \\;\\;\\;\\;\\;\\; o=1,\\ldots,|V|\n",
    "$$\n",
    "\n",
    "\n",
    "Deducimos el algoritmo EM para este modelo. Dada una cantidad de muestras $\\mathbf{x}_1,\\ldots,\\mathbf{x}_N$ La función log-likelihood queda definida por\n",
    "\n",
    "$$\n",
    "\\begin{align*}\n",
    "\\mathcal{LL}(\\mathbf{x}_1,\\ldots,\\mathbf{x}_N|u_1,\\ldots,u_{|V|},v_1,\\ldots,v_{|V|}) &=\n",
    "\\mathcal{LL}(\\mathbf{x}_1,\\ldots,\\mathbf{x}_N|\\theta) \\\\\n",
    "&= \\log \\left( \\prod_{n=1}^N P(\\mathbf{x}_n | \\theta) \\right) \\\\\n",
    "&=\\sum_{n=1}^N \\log\\left(P(\\mathbf{x}_n | \\theta) \\right) \\\\\n",
    "&=\\sum_{n=1}^N \\log\\left( \\sum_{c=1}^{|V|} \\pi_c P(u_{\\mathbf{x_n}}|v_c) \\right) \n",
    "\\end{align*}\n",
    "$$"
   ]
  },
  {
   "cell_type": "markdown",
   "metadata": {},
   "source": [
    "Ahora, buscamos las ecuaciones del algoritmo EM para este modelo derivando con respecto a $v_j$ y a $u_j$ para todo $j=1,\\ldots,|V|$:\n",
    "\n",
    "$$\n",
    "\\begin{align*}\n",
    "\\frac{\\partial \\mathcal{LL}}{\\partial v_j} &= \\sum_{n=1}^N \n",
    "\\frac{\\sum_{c=1}^{|V|} \\pi_c \\frac{\\partial}{\\partial v_j} P(u_{\\mathbf{x_n}}|v_c)}{\\sum_{c=1}^{|V|} \\pi_c P(u_{\\mathbf{x_n}}|v_c)} \\\\[1em]\n",
    "&= \\sum_{n=1}^N \\frac{\\pi_j \\frac{\\partial}{\\partial v_j} P(u_{\\mathbf{x_n}}|v_j)}{\\sum_{c=1}^{|V|} \\pi_c P(u_{\\mathbf{x_n}}|v_c)} \\\\\n",
    "\\end{align*}\n",
    "$$\n",
    "\n",
    "Obtenemos $\\frac{\\partial}{\\partial v_j} P(u_o|v_j)$:\n",
    "\n",
    "$$\n",
    "\\begin{align*}\n",
    "\\frac{\\partial}{\\partial v_j} P(u_o|v_j) &= \\frac{\\partial}{\\partial v_j} \\frac{\\exp(u_o^Tv_j)}{\\sum_{k=1}^{|V|} \\exp(u_k^Tv_j)} \\\\[1em]\n",
    "&= \\frac{ \\frac{\\partial \\exp(u_o^Tv_j)}{\\partial v_j} \\sum_{k=1}^{|V|} \\exp(u_k^Tv_j) - \n",
    "\\exp(u_o^Tv_j) \\frac{\\partial \\sum_{k=1}^{|V|} \\exp(u_k^Tv_j)}{\\partial v_j}}{ \\left(\\sum_{k=1}^{|V|} \\exp(u_k^Tv_j) \\right)^2}\\\\[1em]\n",
    "&= \\frac{ u_o \\exp(u_o^Tv_j) \\sum_{k=1}^{|V|} \\exp(u_k^Tv_j) - \n",
    "\\exp(u_o^Tv_j) \\sum_{k=1}^{|V|} u_k \\exp(u_k^Tv_j) }{ \\left(\\sum_{k=1}^{|V|} \\exp(u_k^Tv_j) \\right)^2}\\\\[1em]\n",
    "&= \\frac{\\exp(u_o^Tv_j)}{\\sum_{k=1}^{|V|} u_k \\exp(u_k^Tv_j)} \n",
    "\\left( u_o - \\sum_{k'=1}^{|V|} \\frac{ u_{k'} \\exp(u_{k'}^Tv_j)}{\\sum_{k=1}^{|V|} \\exp(u_k^Tv_j)}\\right)\\\\[1em]\n",
    "&= P(u_o|v_j) \n",
    "\\sum_{k'=1}^{|V|} u_{k'} \\delta_{ok'} - \\frac{ u_{k'} \\exp(u_{k'}^Tv_j)}{\\sum_{k=1}^{|V|} \\exp(u_k^Tv_j)}\\\\[1em]\n",
    "&= P(u_o|v_j) \\sum_{k'=1}^{|V|} \\left(\\delta_{ok'} - \\frac{ \\exp(u_{k'}^Tv_j)}{\\sum_{k=1}^{|V|} \\exp(u_k^Tv_j)} \\right) u_{k'}\\\\[1em]\n",
    "&= P(u_o|v_j) \\mathcal{U} (\\mathbf{y}_o - \\hat{\\mathbf{y}})\n",
    "\\end{align*}\n",
    "$$\n",
    "\n",
    "donde se definieron las coordenadas de $\\mathbf{y}_o$ y de $\\hat{\\mathbf{y}}$, respectivamente, como\n",
    "\n",
    "$$\n",
    "\\begin{align*}\n",
    "y_i = \\begin{cases} 1 & i=o \\\\ 0 & i\\neq o \\end{cases} & & \n",
    "\\hat{y}_i = P(u_i|v_j) & \\hspace{3em} & i=1,\\ldots,|V|\n",
    "\\end{align*}\n",
    "$$\n",
    "\n"
   ]
  }
 ],
 "metadata": {
  "kernelspec": {
   "display_name": "Python 3",
   "language": "python",
   "name": "python3"
  },
  "language_info": {
   "codemirror_mode": {
    "name": "ipython",
    "version": 3
   },
   "file_extension": ".py",
   "mimetype": "text/x-python",
   "name": "python",
   "nbconvert_exporter": "python",
   "pygments_lexer": "ipython3",
   "version": "3.7.3"
  }
 },
 "nbformat": 4,
 "nbformat_minor": 2
}
