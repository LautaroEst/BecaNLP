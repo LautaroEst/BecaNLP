{
 "cells": [
  {
   "cell_type": "code",
   "execution_count": 24,
   "metadata": {},
   "outputs": [],
   "source": [
    "import json\n",
    "from io import StringIO\n",
    "import os"
   ]
  },
  {
   "cell_type": "code",
   "execution_count": 25,
   "metadata": {},
   "outputs": [],
   "source": [
    "def get_data(root):\n",
    "    filenames = sorted(['{}/{}/{}'.format(root,d,filename) for d in os.listdir('./files/') \\\n",
    "                        for filename in os.listdir('{}/{}'.format(root,d))])\n",
    "    for filename in filenames:\n",
    "        with open(filename,'r') as file:\n",
    "            for line in file.readlines():\n",
    "                yield json.load(StringIO(line))['text']"
   ]
  },
  {
   "cell_type": "code",
   "execution_count": 28,
   "metadata": {},
   "outputs": [],
   "source": [
    "root = './files'\n",
    "data = next(get_data(root))"
   ]
  },
  {
   "cell_type": "code",
   "execution_count": 46,
   "metadata": {},
   "outputs": [],
   "source": [
    "from collections import Counter\n",
    "import pandas as pd\n",
    "import matplotlib.pyplot as plt\n",
    "import re"
   ]
  },
  {
   "cell_type": "code",
   "execution_count": 67,
   "metadata": {},
   "outputs": [
    {
     "data": {
      "text/plain": [
       "n    0.047300\n",
       "D    0.027027\n",
       "S    0.022989\n",
       "R    0.022222\n",
       ")    0.019231\n",
       "C    0.016000\n",
       "I    0.014706\n",
       "\"    0.007692\n",
       "u    0.007005\n",
       "r    0.004822\n",
       "c    0.003748\n",
       ".    0.003279\n",
       "l    0.003266\n",
       "p    0.003071\n",
       "d    0.001431\n",
       "     0.001295\n",
       "m    0.001186\n",
       "s    0.000784\n",
       "t    0.000632\n",
       "i    0.000407\n",
       "T    0.000000\n",
       "H    0.000000\n",
       "P    0.000000\n",
       "Q    0.000000\n",
       "J    0.000000\n",
       "K    0.000000\n",
       "L    0.000000\n",
       "G    0.000000\n",
       "N    0.000000\n",
       "O    0.000000\n",
       "M    0.000000\n",
       "€    0.000000\n",
       "F    0.000000\n",
       "E    0.000000\n",
       "%    0.000000\n",
       "'    0.000000\n",
       "(    0.000000\n",
       "*    0.000000\n",
       "+    0.000000\n",
       ",    0.000000\n",
       "-    0.000000\n",
       "/    0.000000\n",
       "0    0.000000\n",
       "1    0.000000\n",
       "2    0.000000\n",
       "3    0.000000\n",
       "4    0.000000\n",
       "5    0.000000\n",
       "6    0.000000\n",
       "7    0.000000\n",
       "dtype: float64"
      ]
     },
     "execution_count": 67,
     "metadata": {},
     "output_type": "execute_result"
    }
   ],
   "source": [
    "ds_un = pd.Series(dict(Counter(data))).sort_values(ascending=False)\n",
    "\n",
    "#char, count = next(iter(ds_un.items()))\n",
    "#for char, count in ds_un.items():\n",
    "char = 'A'\n",
    "pattern = re.compile(r'{}(.)'.format(char))\n",
    "ds_bi = pd.Series(dict(Counter([match.group(1) for match in pattern.finditer(data)])))\n",
    "ds_bi = ds_bi.divide(ds_un,fill_value=0.).sort_values(ascending=False)\n",
    "ds_bi.head(50)"
   ]
  }
 ],
 "metadata": {
  "kernelspec": {
   "display_name": "Python 3",
   "language": "python",
   "name": "python3"
  },
  "language_info": {
   "codemirror_mode": {
    "name": "ipython",
    "version": 3
   },
   "file_extension": ".py",
   "mimetype": "text/x-python",
   "name": "python",
   "nbconvert_exporter": "python",
   "pygments_lexer": "ipython3",
   "version": "3.7.6"
  }
 },
 "nbformat": 4,
 "nbformat_minor": 4
}
