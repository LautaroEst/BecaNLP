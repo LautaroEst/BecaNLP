{
 "cells": [
  {
   "cell_type": "code",
   "execution_count": 1,
   "metadata": {},
   "outputs": [],
   "source": [
    "import sys\n",
    "import os\n",
    "ROOT_PATH = os.path.join(sys.path[0].split('BecaNLP')[0],'BecaNLP')\n",
    "DATASETS_ROOT_PATH = os.path.join(ROOT_PATH,'Utils/Datasets')\n",
    "sys.path.append(DATASETS_ROOT_PATH)\n",
    "from read_datasets import *\n",
    "\n",
    "import numpy as np\n",
    "import pandas as pd\n",
    "pd.options.mode.chained_assignment = None\n",
    "\n",
    "import torch\n",
    "import torch.nn as nn\n",
    "import torch.nn.functional as F\n",
    "from torch.utils.data import Dataset, DataLoader\n",
    "import torch.optim as optim\n",
    "\n",
    "%matplotlib inline\n",
    "import matplotlib.pyplot as plt\n",
    "\n",
    "from classifiers import *\n",
    "\n",
    "%load_ext autoreload\n",
    "%autoreload 2"
   ]
  },
  {
   "cell_type": "code",
   "execution_count": 2,
   "metadata": {},
   "outputs": [],
   "source": [
    "class MyDataset(Dataset):\n",
    "    \n",
    "    def __init__(self, N):\n",
    "        np.random.seed(1247123)\n",
    "        X0 = np.random.randn(N,2) + np.array([-5,1])\n",
    "        X1 = np.random.randn(N,2) + np.array([5,-5])\n",
    "        X = np.vstack((X0,X1))\n",
    "        y = np.vstack((np.zeros((N,1)),np.ones((N,1))))\n",
    "        \n",
    "        self.x = torch.from_numpy(X).type(torch.float)\n",
    "        self.y = torch.from_numpy(y).type(torch.float)\n",
    "    \n",
    "    def __getitem__(self,idx):\n",
    "        return self.x[idx], self.y[idx]\n",
    "    \n",
    "    def __len__(self):\n",
    "        return len(self.y)\n",
    "    \n",
    "train_data = MyDataset(1000)\n",
    "dev_data = MyDataset(100)"
   ]
  },
  {
   "cell_type": "code",
   "execution_count": 23,
   "metadata": {},
   "outputs": [
    {
     "name": "stdout",
     "output_type": "stream",
     "text": [
      "Starting training...\n",
      "Epoch 1 finished. Approximate loss: 2.9088\n",
      "Epoch 2 finished. Approximate loss: 3.5253\n",
      "Epoch 3 finished. Approximate loss: 3.4291\n",
      "Epoch 4 finished. Approximate loss: 3.2869\n",
      "Epoch 5 finished. Approximate loss: 3.1589\n",
      "Training finished\n",
      "\n"
     ]
    }
   ],
   "source": [
    "classifier = LogisticRegressionClassifier(2,device='cpu')\n",
    "classifier.train(train_data,epochs=5,lr=1e-3)"
   ]
  },
  {
   "cell_type": "code",
   "execution_count": 24,
   "metadata": {},
   "outputs": [
    {
     "name": "stdout",
     "output_type": "stream",
     "text": [
      "Resuming training from epoch 6...\n",
      "Epoch 6 finished. Approximate loss: 3.0399\n",
      "Epoch 7 finished. Approximate loss: 2.9259\n",
      "Epoch 8 finished. Approximate loss: 2.7952\n",
      "Epoch 9 finished. Approximate loss: 2.6923\n",
      "Epoch 10 finished. Approximate loss: 2.5826\n",
      "Training finished\n",
      "\n"
     ]
    }
   ],
   "source": [
    "classifier.train(train_data,epochs=5,lr=1e-3)"
   ]
  },
  {
   "cell_type": "code",
   "execution_count": 25,
   "metadata": {},
   "outputs": [
    {
     "name": "stdout",
     "output_type": "stream",
     "text": [
      "Total accuracy: 8/200 (4.00%)\n"
     ]
    }
   ],
   "source": [
    "classifier.predict(dev_data)"
   ]
  }
 ],
 "metadata": {
  "kernelspec": {
   "display_name": "Python 3",
   "language": "python",
   "name": "python3"
  },
  "language_info": {
   "codemirror_mode": {
    "name": "ipython",
    "version": 3
   },
   "file_extension": ".py",
   "mimetype": "text/x-python",
   "name": "python",
   "nbconvert_exporter": "python",
   "pygments_lexer": "ipython3",
   "version": "3.7.3"
  }
 },
 "nbformat": 4,
 "nbformat_minor": 2
}
