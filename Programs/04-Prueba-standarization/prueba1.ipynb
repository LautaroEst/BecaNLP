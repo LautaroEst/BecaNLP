{
 "cells": [
  {
   "cell_type": "code",
   "execution_count": 2,
   "metadata": {},
   "outputs": [],
   "source": [
    "import torch\n",
    "import torchtext"
   ]
  },
  {
   "cell_type": "code",
   "execution_count": 3,
   "metadata": {},
   "outputs": [
    {
     "name": "stderr",
     "output_type": "stream",
     "text": [
      "120000lines [00:09, 12144.34lines/s]\n",
      "120000lines [00:13, 9227.61lines/s] \n",
      "7600lines [00:00, 12703.24lines/s]"
     ]
    },
    {
     "name": "stdout",
     "output_type": "stream",
     "text": [
      "dict_keys(['_data', '_labels', '_vocab'])\n"
     ]
    },
    {
     "name": "stderr",
     "output_type": "stream",
     "text": [
      "\n"
     ]
    }
   ],
   "source": [
    "from torchtext.datasets import text_classification\n",
    "NGRAMS = 2\n",
    "import os\n",
    "if not os.path.isdir('../AG_NEWS'):\n",
    "    os.mkdir('../AG_NEWS')\n",
    "train_dataset, test_dataset = text_classification.DATASETS['AG_NEWS'](\n",
    "    root='../AG_NEWS', ngrams=NGRAMS, vocab=None)\n",
    "BATCH_SIZE = 16\n",
    "\n",
    "print(train_dataset.__dict__.keys())"
   ]
  },
  {
   "cell_type": "code",
   "execution_count": 12,
   "metadata": {},
   "outputs": [
    {
     "name": "stdout",
     "output_type": "stream",
     "text": [
      "['wall', 'st', '.', 'bears', 'claw', 'back', 'into', 'the', 'black', '(', 'reuters', ')', 'reuters', '-', 'short-sellers', ',', 'wall', 'street', \"'\", 's', 'dwindling\\\\band', 'of', 'ultra-cynics', ',', 'are', 'seeing', 'green', 'again', '.', 'wall st', 'st .', '. bears', 'bears claw', 'claw back', 'back into', 'into the', 'the black', 'black (', '( reuters', 'reuters )', ') reuters', 'reuters -', '- short-sellers', 'short-sellers ,', ', wall', 'wall street', \"street '\", \"' s\", 's dwindling\\\\band', 'dwindling\\\\band of', 'of ultra-cynics', 'ultra-cynics ,', ', are', 'are seeing', 'seeing green', 'green again', 'again .']\n",
      "{0, 1, 2, 3}\n",
      "tensor([    572,     564,       2,    2326,   49106,     150,      88,       3,\n",
      "           1143,      14,      32,      15,      32,      16,  443749,       4,\n",
      "            572,     499,      17,      10,  741769,       7,  468770,       4,\n",
      "             52,    7019,    1050,     442,       2,   14341,     673,  141447,\n",
      "         326092,   55044,    7887,     411,    9870,  628642,      43,      44,\n",
      "            144,     145,  299709,  443750,   51274,     703,   14312,      23,\n",
      "        1111134,  741770,  411508,  468771,    3779,   86384,  135944,  371666,\n",
      "           4052])\n",
      "2\n"
     ]
    }
   ],
   "source": [
    "label, text = train_dataset[0]\n",
    "print([train_dataset._vocab.itos[idx] for idx in text])\n",
    "print(train_dataset._labels)\n",
    "print(text)\n",
    "print(label)"
   ]
  },
  {
   "cell_type": "code",
   "execution_count": 10,
   "metadata": {},
   "outputs": [
    {
     "name": "stdout",
     "output_type": "stream",
     "text": [
      "tensor([   227,    377,   4085,  81800,   1910,   1790,   3038,      4,   6645,\n",
      "            14,     36,     15,     67,    227,   2631,   1384,     31,     74,\n",
      "            90,     49,   2393,     50,   1790,      7,      6,    164,    312,\n",
      "           101,    115,      2,     14,   4406,     15,      9,    134,   1910,\n",
      "            85,      2,      2,      2,   1068, 469452, 358665,  81801, 474085,\n",
      "        433611,  18201,  16373,  62492,     62,     63,    584,  71591,  44508,\n",
      "         26665,  25055,    979,  19427,   1845,  52443,  17357, 165870,  10476,\n",
      "           107,   1187,  23580,  51777,    981,    126,    384,  13942,  12119,\n",
      "          2404,  16413,   3225,   9773,     89,     37,     37])\n",
      "3\n",
      "tensor([   1968,    1025,     181,    3153,   22347,      14,      32,      15,\n",
      "             32,      16,       3,      27,     430, 1029946,     184,       3,\n",
      "           4162,       7,    7000,    3061,    3153,  622440,       2,      21,\n",
      "            677,     148,    1247,       4,    2358,       7,       3,    3389,\n",
      "            208,      17,      10,     164, 1283369,     466,       2,  418788,\n",
      "         205275,   84380,  420603,  474767,      43,      44,     144,     145,\n",
      "            119,     324,    2872,  753763, 1029947,    3056,   38172,   30591,\n",
      "         158144,   49428,   26084, 1037969,  622441,    3782,   54761,   75502,\n",
      "          70592,   15745,  170329,    7607,      29,   84113,   18112,  355484,\n",
      "             23,   32659,  713718, 1283370,   23833])\n",
      "1\n",
      "tensor([   1014,   18821,    2678,    3324,      21,      64,       2,      10,\n",
      "              2,    7578,     375,    4086,     474,      14,      32,      15,\n",
      "             16,     562,   23900,    8123,   18821,     500,   46316,     774,\n",
      "           3324,       8,       3,     574,      17,      10,   19601,   10871,\n",
      "             11,      74,      21,       3,     116,     216,   41334,     157,\n",
      "              4,     368,       9,     259,       8,       3,    4519,    5012,\n",
      "             11,     182,     127,       7,       3,     427,     302,       2,\n",
      "         265179,  461821,  326320,  199713,   10640,      65,      73,      68,\n",
      "         300877,  778218,  370575,  368470,    3345,      43,      44,      46,\n",
      "          16110,  176518,  282458,   34763,  461820,  326131,  319917,    6706,\n",
      "         115410,      26,    3207,    3963,      23,  135368,   57872,  186679,\n",
      "            167,    2712,     194,     231,     284, 1171061, 1066809,    3398,\n",
      "           5149,   14390,   14863,   29318,      26,  104107,  259500,   92606,\n",
      "          11154,   44384,    5519,      29,    2070,    5316,    2862])\n",
      "1\n",
      "tensor([     64,       2,      10,       2,    8773,   13285,      11,    3469,\n",
      "           2337,      14,      36,      15,      36,      16,     311,      41,\n",
      "            102,   46730,   27050,       7,    1257,       8,    3469,      17,\n",
      "             10,   29044,      19,     393,     100,    7125,    4821,       8,\n",
      "            716,      55,       6,     295,   13285,   33306,      11,     245,\n",
      "           7592,     201,       4,       3,     176,     772,      31,      74,\n",
      "              2,      65,      73,      68,  217081,  605966,   74506,  265559,\n",
      "        1265608,  139454,      62,      63,      71,      70,   12995,    2768,\n",
      "           6981,  984072,  761381,   64580,   16261,   22062,   23690,   19993,\n",
      "             23, 1110232,  227622,    9170,  916956,    8587,    7834,   79308,\n",
      "          12731,  197729,    4550,    6739,  779392,  897022,   38837,   13665,\n",
      "        1284151,  991114,   12275,      42,    1771,    9643,    6017,     979,\n",
      "            571])\n",
      "0\n",
      "tensor([    175,       4,     567,     445,      12,     674,      17,      10,\n",
      "           2654,      14,      36,      15,      36,      16,   19729,  646202,\n",
      "             24,       6,   10268,    5727,      99,    3138,      12,     100,\n",
      "            175,       8,    2596,       4,   19448,      38,    1247,      11,\n",
      "             93,       9,     906,    2987,       2,     380,     567,       6,\n",
      "            729, 1302580,    3717,       2,     919,     346,  181074,       2,\n",
      "           3959,   10302,  901354,   36404,   40727,    4481,      23,  437589,\n",
      "          48282,      62,      63,      71,      70,  299296,  749566,  646203,\n",
      "            748,  545406, 1086180,  237854,  213155,   41797,    7831,     707,\n",
      "          19304,    9040,   11486,  298221, 1011391,   99159,   33757,    4124,\n",
      "           3724,   72208,  654718,    3070,    3641,    1298,   68796,    2760,\n",
      "         924485, 1302581,   48965,   94514,  654115,  840715,  690994])\n",
      "0\n",
      "tensor([   5084,     590,    2291,    1240,     646,    5084,      52,    6843,\n",
      "              3,    1064,       7,     654,    4940,       8,     608,       4,\n",
      "             20,     348,    2233,    2312,    4496,      21,     322,      21,\n",
      "         307603,      14,     412,       2,     526,  302801,    4969,      15,\n",
      "              2,  154047,  242105,  942964, 1175842,  626803,  154046,  175688,\n",
      "          49184,    5839,    4281,    5759,    7835,  179903,    5666,    9127,\n",
      "            504,  168618,  743026,  709808,  757982, 1079223,   20974,   19372,\n",
      "         593782,  537440,   24623,    2836,    1574,  530770,  514733,   63128,\n",
      "           1160])\n",
      "0\n",
      "tensor([  8485,   2813,      5,   1796,      5,    294,    382,  35117,     64,\n",
      "             2,     10,      2,  19313,    191,  18563,    737,   4277,   8485,\n",
      "           184,    210,     74,      5,  26976,      6,    617,    647,  18563,\n",
      "           396,      9,   8025,      5,   1008,      7,    176,   2632,   1796,\n",
      "             5,    294,    382,  35117,     64,      2,     10,      2,  19313,\n",
      "             4,      3,    415,      8,      6,    317,      7,   1692,     21,\n",
      "            59,   1369,      5,   2332,   5455,      5,  33307,    382,      5,\n",
      "             3,    116,    216,      2, 783889,  35681, 464320,  53251,    686,\n",
      "         52463, 376386, 431977,     65,     73,     68, 217138, 675140,  98477,\n",
      "         33242,  37213,  20530, 783887,   5421,  64636,   2356,  36747, 156357,\n",
      "          4802, 193121, 387587, 670466, 114821, 122849,  16137, 287260,   2841,\n",
      "          2573,   4130,   4279,  53251,    686,  52463, 376386, 431977,     65,\n",
      "            73,     68, 217138, 125229,     42,    744,   9305,     69,   2285,\n",
      "          1938, 264298, 114113,   1542,  52451,   4792,   4164, 329311,   8702,\n",
      "         35358,  79731,   3745,     75,    231,    284,   3223])\n",
      "0\n",
      "tensor([  3469,     17,     10,   4821,    537,   3363,   4666,  11929,      4,\n",
      "          3469,     14,     32,     15,     16,   3469,     17,     10,  37657,\n",
      "           100,   7125,   4821,    258,      6,   3363,   4666,     11,     38,\n",
      "         34593,   1934,      8,      6,    653,   3870,     11,     74,     28,\n",
      "           188,   7592,     99,    443,    102,  34619,      7,   1257,      2,\n",
      "         19993,     23, 102697, 179927, 478163,  36439, 202049,  16685,  17252,\n",
      "         24590,     43,     44,     46,  48501,  19993,     23, 203463,  89748,\n",
      "          8587,   7834,  62707,   3504,  25922,  36439,  12599,   1440, 845295,\n",
      "        731956,  35141,     69,   9892, 473302, 227463,    167,  14257,  67228,\n",
      "         68594, 409536,  51117,  22060, 408040,  55328,  16261,  14917])\n",
      "2\n",
      "tensor([   4088,     112,     628,   11323,   32943,    1047,     197,      14,\n",
      "             32,      15,      16,    4088,      31,      11,      74,       3,\n",
      "             64,       2,      10,       2,     628,     114,    1536,       5,\n",
      "            668,       3,      72,      56,     134,       5,    4332,       6,\n",
      "          20529,    1690,     226,   48363,    5252,       7,      53,       5,\n",
      "            795,     139,       7,       3,      72,      17,      10,    2740,\n",
      "              8,      93,       9,    7126,       2,   73977,  439004,  592282,\n",
      "        1188199, 1296726,  166013,    1126,      43,      44,      46,   46020,\n",
      "         128626,     177,     167,   17113,     464,      65,      73,      68,\n",
      "          15325,  144744,   49587,    3060,    1443,    5887,     202,   55085,\n",
      "           8577,    2620,    5643,   27865,   94975,   78971,  350896,  326865,\n",
      "         479271,   41282,   12265,     568,   32830,    9100,    1705,      29,\n",
      "            202,    1840,      23,  436317,   86801,     274,    3724,   62253,\n",
      "         100062])\n",
      "2\n",
      "tensor([  58405,     720,    1188,      12,    2260,   23831,      27,      96,\n",
      "             14,      32,      15,      16,     556,      72,   58405,     115,\n",
      "              2,      51,       6,     349,     344,       2,     342,       2,\n",
      "             32,       2,     422,       2,     420,     106,  286402,       2,\n",
      "            187,     424,  229572,       2,     662,     347,      11,      74,\n",
      "             31,      30,     128,   21235,   16639,     110,       5,   16961,\n",
      "            409,       7,       6,    9376,    1926,      22,      25,    2190,\n",
      "            903,     186,    1895,       4,   20757,       8,       6,    1188,\n",
      "             84,     369,       8,       3,    1473,     353,       2,  621730,\n",
      "          53698,   24153,   80281,  556263, 1085551,      97,     276,      43,\n",
      "             44,      46,   48497,   14486,  341480,  108279,     126,     122,\n",
      "            350,     351,     362,     345,     419,     416,     363,     355,\n",
      "            418,     423,     417,     421,  219920,  286403,     261,     710,\n",
      "         283020,  229573,     661,     663,    1948,     167,    3726,     478,\n",
      "            943, 1301228, 1085523,   78080,    2484,  209966,  556187,     859,\n",
      "            107,   78127,   55038,   35168,    2331,  130150,   79639,   64176,\n",
      "         262756,   41171,   38386,   28704,      69,   18501,   35797,  312914,\n",
      "          26813,      26,    3937,   20566,    4744])\n",
      "2\n"
     ]
    }
   ],
   "source": [
    "for i in range(1000,1010):\n",
    "    label, text = train_dataset[i]\n",
    "    #print([train_dataset._vocab.itos[idx] for idx in text])\n",
    "    print(text)\n",
    "    print(label)"
   ]
  },
  {
   "cell_type": "code",
   "execution_count": 10,
   "metadata": {},
   "outputs": [
    {
     "data": {
      "text/plain": [
       "dict_keys(['_data', '_labels', '_vocab'])"
      ]
     },
     "execution_count": 10,
     "metadata": {},
     "output_type": "execute_result"
    }
   ],
   "source": [
    "train_dataset.__dict__.keys()"
   ]
  },
  {
   "cell_type": "code",
   "execution_count": 22,
   "metadata": {},
   "outputs": [
    {
     "data": {
      "text/plain": [
       "dict_keys(['freqs', 'itos', 'unk_index', 'stoi', 'vectors'])"
      ]
     },
     "execution_count": 22,
     "metadata": {},
     "output_type": "execute_result"
    }
   ],
   "source": [
    "train_dataset._vocab.__dict__.keys()"
   ]
  },
  {
   "cell_type": "code",
   "execution_count": 46,
   "metadata": {},
   "outputs": [],
   "source": [
    "train_dataset._vocab.vectors"
   ]
  },
  {
   "cell_type": "code",
   "execution_count": 54,
   "metadata": {},
   "outputs": [
    {
     "name": "stderr",
     "output_type": "stream",
     "text": [
      "120000lines [00:06, 18986.18lines/s]\n",
      "120000lines [00:12, 9830.98lines/s] \n",
      "7600lines [00:01, 6956.23lines/s] \n",
      "120000lines [00:06, 19395.22lines/s]\n",
      "120000lines [00:12, 9637.79lines/s] \n",
      "7600lines [00:00, 10519.38lines/s]\n",
      "120000lines [00:06, 17637.29lines/s]\n",
      "120000lines [00:12, 9850.71lines/s] \n",
      "7600lines [00:00, 10292.33lines/s]\n"
     ]
    }
   ],
   "source": [
    "from torchtext.datasets import text_classification\n",
    "NGRAMS = 2\n",
    "import os\n",
    "if not os.path.isdir('./AG_NEWS'):\n",
    "    os.mkdir('../AG_NEWS')\n",
    "\n",
    "\n",
    "class AgNewsDataset(torch.utils.data.Dataset):\n",
    "    \n",
    "    def __init__(self, n_grams=2, train=True):\n",
    "        \n",
    "        super(AgNewsDataset, self).__init__()\n",
    "        train_dataset, test_dataset = text_classification.DATASETS['AG_NEWS'](\n",
    "            root='./AG_NEWS', ngrams=n_grams, vocab=None)\n",
    "        \n",
    "        if train:\n",
    "            self.samples = train_dataset._data\n",
    "            self.vocabulary = list(dict(train_dataset._vocab.freqs).keys())\n",
    "            self.freqs = dict(train_dataset._vocab.freqs)\n",
    "        else:\n",
    "            self.samples = test_dataset._data\n",
    "            self.vocabulary = list(dict(test_dataset._vocab.freqs).keys())\n",
    "            self.freqs = dict(test_dataset._vocab.freqs)\n",
    "            \n",
    "        self.vocabulary.insert(0,'UNK_TOKEN')\n",
    "        self.vocabulary.insert(1,'PAD_TOKEN')\n",
    "        self.word_to_index = {w: idx for (idx, w) in enumerate(self.vocabulary)}\n",
    "        self.index_to_word = {idx: w for (idx, w) in enumerate(self.vocabulary)}\n",
    "        self.size_of_longest_sentence = max([len(sample[1]) for sample in self.samples])\n",
    "        self.categories = ['World', 'Sports', 'Business', 'Sci/Tec']\n",
    "    \n",
    "    def __len__(self):\n",
    "        return len(self.samples)\n",
    "    \n",
    "    def __getitem__(self, idx):\n",
    "        label, text = self.samples[idx]\n",
    "        text = torch.nn.functional.pad(text, pad=(0,self.size_of_longest_sentence - len(text)),mode='constant', value=0)\n",
    "        return text, label\n",
    "\n",
    "train_dataset = AgNewsDataset(n_grams=2, train=True)\n",
    "val_dataset = AgNewsDataset(n_grams=2, train=True)\n",
    "test_dataset = AgNewsDataset(n_grams=2, train=False)"
   ]
  },
  {
   "cell_type": "code",
   "execution_count": 1,
   "metadata": {},
   "outputs": [
    {
     "ename": "NameError",
     "evalue": "name 'train_dataset' is not defined",
     "output_type": "error",
     "traceback": [
      "\u001b[0;31m---------------------------------------------------------------------------\u001b[0m",
      "\u001b[0;31mNameError\u001b[0m                                 Traceback (most recent call last)",
      "\u001b[0;32m<ipython-input-1-63f6f2f9501e>\u001b[0m in \u001b[0;36m<module>\u001b[0;34m\u001b[0m\n\u001b[1;32m      1\u001b[0m \u001b[0mbatch_size\u001b[0m \u001b[0;34m=\u001b[0m \u001b[0;36m64\u001b[0m\u001b[0;34m\u001b[0m\u001b[0;34m\u001b[0m\u001b[0m\n\u001b[1;32m      2\u001b[0m \u001b[0mval_size\u001b[0m \u001b[0;34m=\u001b[0m \u001b[0;36m.02\u001b[0m\u001b[0;34m\u001b[0m\u001b[0;34m\u001b[0m\u001b[0m\n\u001b[0;32m----> 3\u001b[0;31m \u001b[0mNUM_TRAIN\u001b[0m \u001b[0;34m=\u001b[0m \u001b[0mint\u001b[0m\u001b[0;34m(\u001b[0m\u001b[0;34m(\u001b[0m\u001b[0;36m1\u001b[0m \u001b[0;34m-\u001b[0m \u001b[0mval_size\u001b[0m\u001b[0;34m)\u001b[0m \u001b[0;34m*\u001b[0m \u001b[0mlen\u001b[0m\u001b[0;34m(\u001b[0m\u001b[0mtrain_dataset\u001b[0m\u001b[0;34m)\u001b[0m\u001b[0;34m)\u001b[0m\u001b[0;34m\u001b[0m\u001b[0;34m\u001b[0m\u001b[0m\n\u001b[0m\u001b[1;32m      4\u001b[0m \u001b[0mNUM_VAL\u001b[0m \u001b[0;34m=\u001b[0m \u001b[0mlen\u001b[0m\u001b[0;34m(\u001b[0m\u001b[0mtrain_dataset\u001b[0m\u001b[0;34m)\u001b[0m \u001b[0;34m-\u001b[0m \u001b[0mNUM_TRAIN\u001b[0m\u001b[0;34m\u001b[0m\u001b[0;34m\u001b[0m\u001b[0m\n\u001b[1;32m      5\u001b[0m \u001b[0msampler\u001b[0m \u001b[0;34m=\u001b[0m \u001b[0;32mlambda\u001b[0m \u001b[0mstart\u001b[0m\u001b[0;34m,\u001b[0m \u001b[0mend\u001b[0m\u001b[0;34m:\u001b[0m \u001b[0mtorch\u001b[0m\u001b[0;34m.\u001b[0m\u001b[0mutils\u001b[0m\u001b[0;34m.\u001b[0m\u001b[0mdata\u001b[0m\u001b[0;34m.\u001b[0m\u001b[0mSubsetRandomSampler\u001b[0m\u001b[0;34m(\u001b[0m\u001b[0mrange\u001b[0m\u001b[0;34m(\u001b[0m\u001b[0mstart\u001b[0m\u001b[0;34m,\u001b[0m \u001b[0mend\u001b[0m\u001b[0;34m)\u001b[0m\u001b[0;34m)\u001b[0m\u001b[0;34m\u001b[0m\u001b[0;34m\u001b[0m\u001b[0m\n",
      "\u001b[0;31mNameError\u001b[0m: name 'train_dataset' is not defined"
     ]
    }
   ],
   "source": [
    "batch_size = 64\n",
    "val_size = .02\n",
    "NUM_TRAIN = int((1 - val_size) * len(train_dataset))\n",
    "NUM_VAL = len(train_dataset) - NUM_TRAIN\n",
    "sampler = lambda start, end: torch.utils.data.SubsetRandomSampler(range(start, end))\n",
    "\n",
    "train_dataloader = torch.utils.data.DataLoader(train_dataset, \n",
    "                                               batch_size=batch_size, \n",
    "                                               sampler=sampler(0, NUM_TRAIN))\n",
    "\n",
    "val_dataloader = torch.utils.data.DataLoader(val_dataset, \n",
    "                                             batch_size=batch_size, \n",
    "                                             sampler=sampler(NUM_TRAIN, NUM_TRAIN+NUM_VAL))"
   ]
  },
  {
   "cell_type": "code",
   "execution_count": null,
   "metadata": {},
   "outputs": [],
   "source": []
  }
 ],
 "metadata": {
  "kernelspec": {
   "display_name": "Python 3",
   "language": "python",
   "name": "python3"
  },
  "language_info": {
   "codemirror_mode": {
    "name": "ipython",
    "version": 3
   },
   "file_extension": ".py",
   "mimetype": "text/x-python",
   "name": "python",
   "nbconvert_exporter": "python",
   "pygments_lexer": "ipython3",
   "version": "3.7.3"
  }
 },
 "nbformat": 4,
 "nbformat_minor": 2
}
