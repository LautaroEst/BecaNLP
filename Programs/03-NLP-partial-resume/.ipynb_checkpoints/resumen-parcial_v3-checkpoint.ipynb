{
 "cells": [
  {
   "cell_type": "code",
   "execution_count": 1,
   "metadata": {},
   "outputs": [],
   "source": [
    "import torch"
   ]
  },
  {
   "cell_type": "markdown",
   "metadata": {},
   "source": [
    "# Ciclo de trabajo en un problema de NLP\n",
    "\n",
    "Hay muchas formas de entrenar una red que se usa para NLP. Nada de esto está muy estandarizado, así que voy a suponer que se trata de un problema de ML normal y olvidarme de la eficiencia computacional por un rato. \n",
    "\n",
    "Resumen del ciclo de trabajo:\n",
    "\n",
    "* Nuestro dataset es conjunto de muestras, cada una de ellas conformada por una secuencia de texto y un label. Además, se dispone de un vocabulario, de manera que todas las palabras de la secuencia de texto de la muestra se pueden mapear a un índice en ese vocabulario (incluído los caracteres especiales para denotar \"fin de párrafo\", \"palabra desconocida\", \"padding token\", etc.). Todo esto se va a definir en una subclase de la clase `torch.utils.data.Dataset`, en donde se sobreescriben los métodos `__len__` y `__getitem__`.\n",
    "\n",
    "* Una vez definido el dataset, se obtiene el dataloader, el cual es una subclase de la clase `torch.utils.data.DataLoader` y recibe como argumentos una función para muestrear, el tamaño del batch y la instancia de `torch.utils.data.Dataset` definida anteriormente.\n",
    "\n",
    "* Por otro lado, se define el objeto que representa al modelo, lo cual se hace creando una subclase de `torch.nn.Module`.\n",
    "\n",
    "* Finalmente se hace el entrenamiento y se verifican los resultados en el conjunto de validación. "
   ]
  },
  {
   "cell_type": "code",
   "execution_count": null,
   "metadata": {},
   "outputs": [],
   "source": []
  }
 ],
 "metadata": {
  "kernelspec": {
   "display_name": "Python 3",
   "language": "python",
   "name": "python3"
  },
  "language_info": {
   "codemirror_mode": {
    "name": "ipython",
    "version": 3
   },
   "file_extension": ".py",
   "mimetype": "text/x-python",
   "name": "python",
   "nbconvert_exporter": "python",
   "pygments_lexer": "ipython3",
   "version": "3.7.3"
  }
 },
 "nbformat": 4,
 "nbformat_minor": 2
}
