{
 "cells": [
  {
   "cell_type": "markdown",
   "metadata": {},
   "source": [
    "# Resumen parcial de NLP\n",
    "\n",
    "La idea es hacer un pequeño resumen de lo que se vio hasta ahora de NLP. Esto incluiría:\n",
    "\n",
    "* Introducción al tema, ejemplos de tareas, estado del arte de cada una de ellas, y algo más.\n",
    "\n",
    "* Ciclo de trabajo en las tareas o en alguna de ellas (modelo de lenguaje, extracción de features en forma de significado, definición del modelo y cómo se miden los resultados).\n",
    "\n",
    "* Extracción de features con word embeddings. Ejemplos de algoritmos: frecuentistas, word2vec, GloVe, y no sé si alguno más."
   ]
  },
  {
   "cell_type": "markdown",
   "metadata": {},
   "source": [
    "# Introducción a NLP"
   ]
  },
  {
   "cell_type": "markdown",
   "metadata": {},
   "source": [
    "# Ciclo de trabajo en NLP (NLP y Machine Learning)"
   ]
  },
  {
   "cell_type": "markdown",
   "metadata": {},
   "source": [
    "# Meaning representation"
   ]
  }
 ],
 "metadata": {
  "kernelspec": {
   "display_name": "Python 3",
   "language": "python",
   "name": "python3"
  },
  "language_info": {
   "codemirror_mode": {
    "name": "ipython",
    "version": 3
   },
   "file_extension": ".py",
   "mimetype": "text/x-python",
   "name": "python",
   "nbconvert_exporter": "python",
   "pygments_lexer": "ipython3",
   "version": "3.7.3"
  }
 },
 "nbformat": 4,
 "nbformat_minor": 2
}
