{
 "cells": [
  {
   "cell_type": "code",
   "execution_count": 1,
   "metadata": {},
   "outputs": [],
   "source": [
    "import torch\n",
    "import torch.nn as nn\n",
    "import torch.optim as optim\n",
    "from torch.utils.data import sampler, Dataset, DataLoader"
   ]
  },
  {
   "cell_type": "markdown",
   "metadata": {},
   "source": [
    "# Muestras:"
   ]
  },
  {
   "cell_type": "code",
   "execution_count": null,
   "metadata": {},
   "outputs": [],
   "source": [
    "class CBOWSamples(Dataset):\n",
    "\n",
    "    unk_token = '<UNK>'\n",
    "\n",
    "    def samples_generator(self, doc):\n",
    "        for t, token in enumerate(doc):\n",
    "            if token in self.vocabulary:\n",
    "                len_doc = len(doc)\n",
    "                cond1 = max(-1,t-self.window_size) == -1\n",
    "                cond2 = min(t+self.window_size, len_doc) == len_doc\n",
    "                if cond1 and cond2:\n",
    "                    context = itertools.chain(doc[:t],doc[t+1:])\n",
    "                if cond1 and not cond2:\n",
    "                    context = itertools.chain(doc[:t],doc[t+1:t+self.window_size+1])\n",
    "                if cond2 and not cond1:\n",
    "                    context = itertools.chain(doc[t-self.window_size:t],doc[t+1:])\n",
    "                if not cond1 and not cond2:\n",
    "                    context = itertools.chain(doc[t-self.window_size:t],doc[t+1:t+self.window_size+1])\n",
    "\n",
    "                context_list = [self.vocabulary.token_to_index(tk) for tk in context if tk in self.vocabulary]\n",
    "                if len(context_list) != 0:\n",
    "                    yield (self.vocabulary.token_to_index(token), context_list)\n",
    "\n",
    "\n",
    "    def __init__(self, corpus, window_size=2, cutoff_freq=0):\n",
    "\n",
    "        # Obtengo el vocabulario a partir del corpus ya tokenizado:\n",
    "        self.vocabulary = Vocabulary.from_corpus(corpus,cutoff_freq=cutoff_freq)\n",
    "\n",
    "        # Obtengo el contexto a partir del corpus:\n",
    "        self.padding_idx = len(self.vocabulary)\n",
    "        self.window_size = window_size\n",
    "\n",
    "        word_indeces = []\n",
    "        word_contexts = []\n",
    "        for doc in corpus:\n",
    "            gen = self.samples_generator(doc)\n",
    "            for word_index, word_context in gen:\n",
    "                word_indeces.append(word_index)\n",
    "                padd_num = 2 * window_size - len(word_context)\n",
    "                if padd_num > 0:\n",
    "                    word_contexts.append(word_context + [self.padding_idx for i in range(padd_num)])\n",
    "                else:\n",
    "                    word_contexts.append(word_context)\n",
    "\n",
    "        self.word_indeces = torch.tensor(word_indeces,dtype=torch.long)\n",
    "        self.context_indeces = torch.tensor(word_contexts,dtype=torch.long)\n",
    "\n",
    "    def __getitem__(self,idx):\n",
    "        return self.context_indeces[idx,:], self.word_indeces[idx]\n",
    "\n",
    "    def __len__(self):\n",
    "        return len(self.word_indeces)\n",
    "    \n"
   ]
  },
  {
   "cell_type": "markdown",
   "metadata": {},
   "source": [
    "# Modelo:"
   ]
  },
  {
   "cell_type": "code",
   "execution_count": null,
   "metadata": {},
   "outputs": [],
   "source": [
    "class CBOWModel(nn.Module):\n",
    "\n",
    "    def __init__(self, vocab_size, embedding_dim):\n",
    "        super().__init__()\n",
    "        self.emb = nn.Embedding(vocab_size+1, embedding_dim, padding_idx=vocab_size)\n",
    "        self.out = nn.Linear(embedding_dim, vocab_size, bias=False)\n",
    "\n",
    "    def forward(self,x):\n",
    "        embedding = self.emb(x).mean(dim=1)\n",
    "        return self.out(embedding)"
   ]
  },
  {
   "cell_type": "markdown",
   "metadata": {},
   "source": [
    "# Costo:"
   ]
  },
  {
   "cell_type": "code",
   "execution_count": null,
   "metadata": {},
   "outputs": [],
   "source": [
    "class CrossEntropyLoss(nn.CrossEntropyLoss):\n",
    "    \n",
    "    def __init__(self, **kwargs):\n",
    "        super().__init__(**kwargs)"
   ]
  },
  {
   "cell_type": "markdown",
   "metadata": {},
   "source": [
    "# Evaluación de la performance:"
   ]
  },
  {
   "cell_type": "code",
   "execution_count": null,
   "metadata": {},
   "outputs": [],
   "source": [
    "class CheckAccuracy(object):\n",
    "    \n",
    "    def __init__(self, samples, model):\n",
    "        self.samples = samples\n",
    "        self.model = model\n",
    "        self.input_dtype = next(iter(samples))[0].dtype\n",
    "        self.target_dtype = next(iter(samples))[1].dtype\n",
    "        \n",
    "    def __call__(self):\n",
    "        \n",
    "        num_correct = 0\n",
    "        num_samples = 0\n",
    "        \n",
    "        self.model.eval()\n",
    "        with torch.no_grad():\n",
    "            for x, y in samples:\n",
    "                x = x.to(device=self.device, dtype=self.input_dtype)  \n",
    "                y = y.to(device=self.device, dtype=self.target_dtype)\n",
    "\n",
    "                scores = self.model(x)\n",
    "                _, preds = scores.max(1)\n",
    "                num_correct += (preds == y).sum()\n",
    "                num_samples += preds.size(0)\n",
    "\n",
    "        self.model.train()\n",
    "        \n",
    "        print('Resultados:')"
   ]
  },
  {
   "cell_type": "code",
   "execution_count": null,
   "metadata": {},
   "outputs": [],
   "source": [
    "class Trainer(object):\n",
    "    \n",
    "    def __init__(self,samples,model,loss,evalperformance):\n",
    "        "
   ]
  },
  {
   "cell_type": "code",
   "execution_count": null,
   "metadata": {},
   "outputs": [],
   "source": []
  }
 ],
 "metadata": {
  "kernelspec": {
   "display_name": "Python 3",
   "language": "python",
   "name": "python3"
  },
  "language_info": {
   "codemirror_mode": {
    "name": "ipython",
    "version": 3
   },
   "file_extension": ".py",
   "mimetype": "text/x-python",
   "name": "python",
   "nbconvert_exporter": "python",
   "pygments_lexer": "ipython3",
   "version": "3.7.3"
  }
 },
 "nbformat": 4,
 "nbformat_minor": 2
}
