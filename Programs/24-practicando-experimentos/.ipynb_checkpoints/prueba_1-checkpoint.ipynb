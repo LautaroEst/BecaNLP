{
 "cells": [
  {
   "cell_type": "code",
   "execution_count": 2,
   "metadata": {},
   "outputs": [],
   "source": [
    "import sys, os\n",
    "sys.path.append(os.path.join(sys.path[0].split('BecaNLP')[0],'BecaNLP/Utils'))\n",
    "\n",
    "import NLPUtils as nlp\n",
    "import numpy as np\n",
    "import pandas as pd\n",
    "import matplotlib.pyplot as plt\n",
    "\n",
    "%load_ext autoreload\n",
    "%autoreload 2"
   ]
  },
  {
   "cell_type": "markdown",
   "metadata": {},
   "source": [
    "# Spliting the data\n",
    "\n",
    "Lo importante es que los experimentos se hagan en forma consistente. Cuando trabajo con un dataset que no viene ya separado, tengo que determinar un criterio para hacerlo yo mismo y comparar todos los modelos con ese mismo método.Por ejemplo, si hago k-fold cross validation tengo que usar los mismos folds para cada prueba."
   ]
  },
  {
   "cell_type": "code",
   "execution_count": 3,
   "metadata": {},
   "outputs": [
    {
     "name": "stdout",
     "output_type": "stream",
     "text": [
      "Good movie, very 70s, you can not expect much from a film like this,, Sirpa Lane is an actress of erotic films, a nice body but nothing exceptional savant to a pornographic actress from the body disappears, but the '70s were characterized a small breasts and a simple eroticism. Not demand a lot from these films are light years away from the movies today, the world has changed incredibly. The plot is simple and the actors not extraordinary. And the brunette actress has a single body, has one breast slightly bigger. Be satisfied. Papaya also is not great but at least these films have a certain charm ... Download them again but then again who knows what you pretend not to them. 10\n",
      "If the very thought of Arthur Askey twists your guts, don't worry, you can still watch and love The Ghost Train, like the equally marvellous Back Room Boy, it is a film that is simply too damn good to be sunk by a single performance, even that of the lead actor. Personally, I love Askey, perhaps it's because I go into his world, rather than unreasonably expecting him to come into mine, which is a mistake too many people make. The Ghost Train is so intensely atmospheric that you couldn't conceivably watch it without being amazed at the deep, dark world it transports you to, it is immersive in a way that few cheap and cheerful flag-wavers managed to be during the desperate early '40s and it's a film that I would imagine few people have ever watched just the once. The cast are, without exception, extraordinarily good, perhaps Linden Travers lays it on a bit thick, but against the backdrop of a lonely railway station in wartime, she could hardly play a nutter and not stand out. The sad passing of the lovely Carole Lynne earlier this year broke the last link we had with this incredible film and now it really is in the past, but waiting patiently for us to press play. 10\n",
      "Poorly written conspiracy drama/mystery about the possibility that AIDS was introduced to the public by the government. Wlaschiha plays a gay researcher looking for answers--that within this foggy plot would be hard for anyone to find. Despite the cinematography itself being commendable, the camera hungers for characters of true depth instead of the shallow, amateur acting it unfortunately has to convey. Grade: D+ 3\n",
      "Taiwanese director Ang Lee, whose previous films include 'Sense and Sensibility' and 'The Ice Storm', turned to the American Civil War for his latest feature. Based on a novel by Daniel Woodrell, it follows the exploits of a group of Southern guerrillas, known as bushwhackers, as they fight their Northern equivalents, the jayhawkers in the backwater of Missouri.<br /><br />As one might expect, there is plenty of visceral action, but the focus is on the tension that the war put on the young men who fought it - many of whom were fighting against their former neighbours and even family. Jake Roedel (Tobey Maguire) is such a man, or rather, boy, as he is only seventeen when the war reaches Missouri. He is the son of a German immigrant, but instead of following his countrymen and becoming a Unionist, he joins his lifelong friend Jack Bull Chiles (Skeet Ulrich) and rides with the bushwhackers. Despite a lack of acceptance because of his ancestry and an unwillingness to participate in the murder of unarmed Union men, he remains loyal to the cause. So does his friend Daniel Holt (Jeffrey Wright), a black slave freed by another bushwhacker and so fighting for the South.<br /><br />Lee handles the subject with aplomb, never rushing the deep introspection that the plot demands in favour of action and this lends the film a sense of the reality of war - long periods of boredom and waiting interposed with occasional flashes of intensely terrifying fighting. The action is unglamorised and admirably candid, recognising that both sides committed a great number of atrocities.<br /><br />The performances are superb, with Maguire and Wright both courageous and dignified. Up-and-coming Irish actor Jonathan Rhys Meyers is particularly chilling as a cold-blooded killer, while Skeet Ulrich is enjoyably suave and arrogant. Lee never flinches from the reality of war, but his actors do an admirable job of showing the good that comes from it - the growth of friendship, the demonstration of courage and, on a wider scale, the emancipation of oppressed peoples. Ride With the Devil is a beautiful and deeply compassionate film that regularly shocks but always moves the audience. 8\n"
     ]
    }
   ],
   "source": [
    "from NLPUtils.datasets import imdb\n",
    "\n"
   ]
  }
 ],
 "metadata": {
  "kernelspec": {
   "display_name": "Python 3",
   "language": "python",
   "name": "python3"
  },
  "language_info": {
   "codemirror_mode": {
    "name": "ipython",
    "version": 3
   },
   "file_extension": ".py",
   "mimetype": "text/x-python",
   "name": "python",
   "nbconvert_exporter": "python",
   "pygments_lexer": "ipython3",
   "version": "3.7.3"
  }
 },
 "nbformat": 4,
 "nbformat_minor": 2
}
