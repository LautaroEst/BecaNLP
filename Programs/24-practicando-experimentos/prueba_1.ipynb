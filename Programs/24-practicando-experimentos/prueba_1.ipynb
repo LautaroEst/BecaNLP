{
 "cells": [
  {
   "cell_type": "code",
   "execution_count": 2,
   "metadata": {},
   "outputs": [],
   "source": [
    "import sys, os\n",
    "sys.path.append(os.path.join(sys.path[0].split('BecaNLP')[0],'BecaNLP/Utils'))\n",
    "\n",
    "import NLPUtils as nlp\n",
    "import numpy as np\n",
    "import pandas as pd\n",
    "import matplotlib.pyplot as plt\n",
    "\n",
    "%load_ext autoreload\n",
    "%autoreload 2"
   ]
  },
  {
   "cell_type": "markdown",
   "metadata": {},
   "source": [
    "# Spliting the data\n",
    "\n",
    "Lo importante es que los experimentos se hagan en forma consistente. Cuando trabajo con un dataset que no viene ya separado, tengo que determinar un criterio para hacerlo yo mismo y comparar todos los modelos con ese mismo método.Por ejemplo, si hago k-fold cross validation tengo que usar los mismos folds para cada prueba."
   ]
  },
  {
   "cell_type": "code",
   "execution_count": 35,
   "metadata": {},
   "outputs": [
    {
     "name": "stdout",
     "output_type": "stream",
     "text": [
      "                                                 comment  rate\n",
      "14149  if.... is the cinematic equivalent of Sgt. Pep...     4\n",
      "8946   Daddy's girls Florence Lawrence and Dorothy We...     3\n",
      "22378  I rented this one to see Vanesa Talor one more...     2\n",
      "12162  I recently watched the '54 version of this fil...     9\n",
      "4879   Before starting to watch the show, I've heard ...     2 20000\n",
      "                                                 comment  rate\n",
      "15096  THIS IS NOT A CHILDREN'S MOVIE!!!<br /><br />T...     1\n",
      "14428  Let's see, here are the \"highlights\" of The Br...     2\n",
      "2144   Anyone who has watched Comedy Central around m...     1\n",
      "5826   I voted this a 10 out of 10 simply because it ...    10\n",
      "1452   Before Lost everything shown on TV was predict...    10 5000\n"
     ]
    }
   ],
   "source": [
    "from NLPUtils.datasets import imdb\n",
    "\n",
    "df_train, df_dev = imdb.split_train(dev_size=.2,random_state=0)\n",
    "print(df_train.head(),len(df_train))\n",
    "print(df_dev.head(),len(df_dev))"
   ]
  }
 ],
 "metadata": {
  "kernelspec": {
   "display_name": "Python 3",
   "language": "python",
   "name": "python3"
  },
  "language_info": {
   "codemirror_mode": {
    "name": "ipython",
    "version": 3
   },
   "file_extension": ".py",
   "mimetype": "text/x-python",
   "name": "python",
   "nbconvert_exporter": "python",
   "pygments_lexer": "ipython3",
   "version": "3.7.3"
  }
 },
 "nbformat": 4,
 "nbformat_minor": 2
}
