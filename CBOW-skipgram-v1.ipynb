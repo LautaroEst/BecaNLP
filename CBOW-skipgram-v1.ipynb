{
 "cells": [
  {
   "cell_type": "markdown",
   "metadata": {},
   "source": [
    "# Implementación de CBOW y Skip-Gram\n",
    "\n",
    "\n",
    "Vamos a implementar los algoritmos de `word2vec` con un corpus de prueba."
   ]
  },
  {
   "cell_type": "code",
   "execution_count": 2,
   "metadata": {},
   "outputs": [],
   "source": [
    "import torch\n",
    "from torch.utils.data import Dataset, DataLoader\n",
    "import torch.nn as nn\n",
    "import torch.functional as F"
   ]
  },
  {
   "cell_type": "code",
   "execution_count": 48,
   "metadata": {},
   "outputs": [
    {
     "name": "stdout",
     "output_type": "stream",
     "text": [
      "['La', 'historia', 'de', 'la', 'pizza', 'comienza', 'probablemente', 'hace', 'tiempo', 'con']\n"
     ]
    },
    {
     "ename": "TypeError",
     "evalue": "'<' not supported between instances of 'slice' and 'int'",
     "output_type": "error",
     "traceback": [
      "\u001b[0;31m---------------------------------------------------------------------------\u001b[0m",
      "\u001b[0;31mTypeError\u001b[0m                                 Traceback (most recent call last)",
      "\u001b[0;32m<ipython-input-48-e49ad83cafea>\u001b[0m in \u001b[0;36m<module>\u001b[0;34m\u001b[0m\n\u001b[1;32m     46\u001b[0m \u001b[0mdata\u001b[0m \u001b[0;34m=\u001b[0m \u001b[0mCorpusDataset\u001b[0m\u001b[0;34m(\u001b[0m\u001b[0;34m'historia_de_la_pizza.txt'\u001b[0m\u001b[0;34m,\u001b[0m \u001b[0mdelimiters\u001b[0m\u001b[0;34m,\u001b[0m \u001b[0mwindow_size\u001b[0m\u001b[0;34m)\u001b[0m\u001b[0;34m\u001b[0m\u001b[0;34m\u001b[0m\u001b[0m\n\u001b[1;32m     47\u001b[0m \u001b[0mprint\u001b[0m\u001b[0;34m(\u001b[0m\u001b[0mdata\u001b[0m\u001b[0;34m.\u001b[0m\u001b[0mcorpus\u001b[0m\u001b[0;34m[\u001b[0m\u001b[0;34m:\u001b[0m\u001b[0;36m10\u001b[0m\u001b[0;34m]\u001b[0m\u001b[0;34m)\u001b[0m\u001b[0;34m\u001b[0m\u001b[0;34m\u001b[0m\u001b[0m\n\u001b[0;32m---> 48\u001b[0;31m \u001b[0mprint\u001b[0m\u001b[0;34m(\u001b[0m\u001b[0mdata\u001b[0m\u001b[0;34m[\u001b[0m\u001b[0;36m10\u001b[0m\u001b[0;34m:\u001b[0m\u001b[0;36m12\u001b[0m\u001b[0;34m]\u001b[0m\u001b[0;34m)\u001b[0m\u001b[0;34m\u001b[0m\u001b[0;34m\u001b[0m\u001b[0m\n\u001b[0m",
      "\u001b[0;32m<ipython-input-48-e49ad83cafea>\u001b[0m in \u001b[0;36m__getitem__\u001b[0;34m(self, idx)\u001b[0m\n\u001b[1;32m     21\u001b[0m         \u001b[0ml\u001b[0m \u001b[0;34m=\u001b[0m \u001b[0mlen\u001b[0m\u001b[0;34m(\u001b[0m\u001b[0mself\u001b[0m\u001b[0;34m.\u001b[0m\u001b[0mcorpus\u001b[0m\u001b[0;34m)\u001b[0m\u001b[0;34m\u001b[0m\u001b[0;34m\u001b[0m\u001b[0m\n\u001b[1;32m     22\u001b[0m         \u001b[0mword\u001b[0m \u001b[0;34m=\u001b[0m \u001b[0mself\u001b[0m\u001b[0;34m.\u001b[0m\u001b[0mcorpus\u001b[0m\u001b[0;34m[\u001b[0m\u001b[0midx\u001b[0m\u001b[0;34m]\u001b[0m\u001b[0;34m\u001b[0m\u001b[0;34m\u001b[0m\u001b[0m\n\u001b[0;32m---> 23\u001b[0;31m         \u001b[0;32mif\u001b[0m \u001b[0midx\u001b[0m \u001b[0;34m<\u001b[0m \u001b[0;36m0\u001b[0m\u001b[0;34m:\u001b[0m\u001b[0;34m\u001b[0m\u001b[0;34m\u001b[0m\u001b[0m\n\u001b[0m\u001b[1;32m     24\u001b[0m             \u001b[0midx\u001b[0m \u001b[0;34m=\u001b[0m \u001b[0ml\u001b[0m \u001b[0;34m+\u001b[0m \u001b[0midx\u001b[0m\u001b[0;34m\u001b[0m\u001b[0;34m\u001b[0m\u001b[0m\n\u001b[1;32m     25\u001b[0m \u001b[0;34m\u001b[0m\u001b[0m\n",
      "\u001b[0;31mTypeError\u001b[0m: '<' not supported between instances of 'slice' and 'int'"
     ]
    }
   ],
   "source": [
    "import re \n",
    "\n",
    "class CorpusDataset(Dataset):\n",
    "    \n",
    "    def __init__(self, filename, delimiters, window_size):\n",
    "        \n",
    "        f = open(filename, 'r')\n",
    "        text = f.read()\n",
    "        f.close()\n",
    "        d_list = '|'.join(map(re.escape, delimiters))\n",
    "        parsed_text = re.split(d_list,text)\n",
    "        self.corpus = parsed_text\n",
    "        self.corpus_words = sorted(list(set([item for item in self.corpus])))\n",
    "        self.num_corpus_words = len(self.corpus_words)\n",
    "        self.window_size = window_size\n",
    "        \n",
    "    def __len__(self):\n",
    "        return len(self.corpus)\n",
    "    \n",
    "    def __getitem__(self, idx):\n",
    "        l = len(self.corpus)\n",
    "        word = self.corpus[idx]\n",
    "        if idx < 0:\n",
    "            idx = l + idx\n",
    "            \n",
    "        if idx - self.window_size >= 0 and idx + self.window_size < l:\n",
    "            context = [w for w in self.corpus[idx-self.window_size:idx+self.window_size+1]]\n",
    "            context.pop(self.window_size)\n",
    "        elif idx - self.window_size >= 0 and idx < l:\n",
    "            context = [w for w in self.corpus[idx - self.window_size:]]\n",
    "            context.pop(-1)\n",
    "        elif idx + window_size < l and idx >=0:\n",
    "            context = [w for w in self.corpus[:idx+self.window_size+1]]\n",
    "            context.pop(0)\n",
    "        else:\n",
    "            print('Índice no encontrado')\n",
    "            return\n",
    "            \n",
    "        return word, context\n",
    "    #def __getitem__(self,idx):\n",
    "        \n",
    "    \n",
    "    \n",
    "delimiters = [' ', ',', '.', '?', '¿', '<', '>', ':', ';', '\"', '-', '(', ')']    \n",
    "window_size = 3\n",
    "data = CorpusDataset('historia_de_la_pizza.txt', delimiters, window_size)\n",
    "print(data.corpus[:10])\n",
    "print(data[10:12])"
   ]
  }
 ],
 "metadata": {
  "kernelspec": {
   "display_name": "Python 3",
   "language": "python",
   "name": "python3"
  },
  "language_info": {
   "codemirror_mode": {
    "name": "ipython",
    "version": 3
   },
   "file_extension": ".py",
   "mimetype": "text/x-python",
   "name": "python",
   "nbconvert_exporter": "python",
   "pygments_lexer": "ipython3",
   "version": "3.7.3"
  }
 },
 "nbformat": 4,
 "nbformat_minor": 2
}
