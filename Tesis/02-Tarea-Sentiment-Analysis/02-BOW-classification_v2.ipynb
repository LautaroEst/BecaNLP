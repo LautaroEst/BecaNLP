{
 "cells": [
  {
   "cell_type": "markdown",
   "metadata": {},
   "source": [
    "# Clasificación de sentimientos con extracción de features manual\n",
    "---"
   ]
  },
  {
   "cell_type": "code",
   "execution_count": 1,
   "metadata": {},
   "outputs": [],
   "source": [
    "import numpy as np\n",
    "import pandas as pd\n",
    "%matplotlib inline\n",
    "import matplotlib.pyplot as plt\n",
    "\n",
    "import sys, os\n",
    "sys.path.append(os.path.join(sys.path[0].split('BecaNLP')[0],'BecaNLP/Utils'))\n",
    "import NLPUtils as nlp\n",
    "\n",
    "%load_ext autoreload\n",
    "%autoreload 2"
   ]
  },
  {
   "cell_type": "markdown",
   "metadata": {},
   "source": [
    "## Introducción\n",
    "\n",
    "En este notebook vamos a investigar la primera forma de hacer análisis de sentimientos, que consiste en decidir si un texto tiene una connotación positiva o negativa. A continuación vemos un ejemplo de cada uno de estos casos:\n",
    "\n",
    "1. Positivo: \"*I realize that alot of people hate this movie, but i must admit that it is one of my favorites. I happen to like it better then its predeccesor and happy to like it better than alot of movies. First off, I think that people never give the story any credit, much like Back to the Future, Time Travel is hard to write, and in this movie they included Time Travel and a Spiritual Journey.I also feel that Keanu and Alex were on there best performances in this movie, they looked cooler, acted cooler, and said cooler things. The set design of this movie is awsome as well, The sets are quite detailed and massive at times and it can be hard to believe that these sets were made for a movie about two teenage buds who can hardly spell...but isnt that the genius of the whole franchise, making these two idiots bigger than life characters that are responsible for the entire utopian future of earth. The costume design was awsome as well. Bill and Ted actually look cool in Bogus Journey, where as in Excellent Adventure they look rather like, well as they would put it, FAGS!!! Even the music in this movie is awsome, the score especially. There so much i could say about this film, cause i love it. But this is one of those movies i grew up watching and everytime i did i liked it more, so i can understand why people hate or just think its Bogus compared to Excellent adventure (which i also love by the way). GET DOWN WITH YOUR BAD SELF!!!!*\"\n",
    "\n",
    "\n",
    "2. Negativo: \"*This is definitely the worst bigfoot movie I've ever seen and quite possibly the overall worst movie I've ever seen in my life. The actors and actresses were horrible and it seemed like they were trying way too hard to play their roles as dorks, tough guys, jerks, know it alls, etc. And the bigfoot itself was terrible. It appeared to be some kind of computer generated image from the days of Atari & Intellivision. At one point near the end of the movie as an army of sasquatches were chasing after the remaining survivors, one gets shot and as it's running it looked like a poor man's version of donkey kong himself! And one gets hit by a bullet and the blood that comes out of it was just awful animation. Another thing that was annoying was the music. Way way way too much music (classical score or whatever you call it) throughout the entire film. It was never ending. Oh yeah, the movie is boring too. Absolutely one of the worst films I've ever seen. I highly recommend taking your 3 USS or whatever they charge to rent this movie and spending it on a gallon of gas or a value menu somewhere. TRULY AWFUL!*\"\n",
    "\n",
    "Si bien este proceso ya es bastante complejo por sí mismo, esta tarea es una gran simplificación de el proceso de analizar sentimientos o emociones en un texto. Por lo general, no sólo se desea tomar una decisión en base a si \"un texto es positivo o negativo\", sino que muchas veces interesan cosas como:\n",
    "\n",
    "* los diferentes grados de positividad o negativadad,\n",
    "* los aspectos que aparecen en el texto y su correspondiente emotividad\n",
    "* las causas por las cuales se calificó al texto como positivo o negativo\n",
    "\n",
    "En este notebook, sin embargo, nos concentraremos en la tarea descrita en primer lugar. Concretamente, lo que queremos hacer es lo siguiente:\n",
    "\n",
    "1. Representar un texto (comentario, exclamación, etc.) con un vector de características o *features* $\\mathbf{x}\\in \\mathbb{R}^d$ que contenga la información suficiente como para determinar a qué clase pertenece el texto.\n",
    "\n",
    "2. Definir un modelo que permita clasificar cualquier vector $\\mathbf{x}$ obtenido de la manera anterior.\n",
    "\n",
    "Esta es la forma clásica de encarar un problema con machine learning. Sin embargo, existen otros enfoques posibles que consisten en codificar al texto de manera que la extracción de features se realice de forma automática con el modelo. Estos modelos serán vistos más adelante."
   ]
  },
  {
   "cell_type": "markdown",
   "metadata": {},
   "source": [
    "## 1. Extracción de características"
   ]
  },
  {
   "cell_type": "markdown",
   "metadata": {},
   "source": [
    "### Modelo de Bolsa de Palabras (*Bag of Words*)\n",
    "\n",
    "El primer problema que enfrentamos para discriminar entre comentarios positivos y negativos es representar un texto con un vector. Para esto hay muchas formas, pero una de las más comunes y usadas como primera opción es la representación en **bolsa de palabras** o *bag of words* (BOW).\n",
    "\n",
    "Este método consiste en definir un vocabulario de palabras $V=\\{ w_1, w_2,\\ldots, w_n\\}$ y contar la cantidad de veces que apareció cada una de estas palabras en el texto. De esta manera, la $i$-ésima coordenada del vector $\\mathbf{x}$ corresponde a la cantidad de veces que apareció la palabra $w_i$ en el texto.\n",
    "\n",
    "Por ejemplo, supongamos que se tiene el siguiente texto:\n",
    "\n",
    "```\n",
    "<START> I am Sam. Sam I am. I do not like green eggs and ham. <END>\n",
    "```\n",
    "\n",
    "y se define un vocabulario `V = ['I', 'am', 'Sam', 'do', 'not', 'like', 'green', 'eggs', 'and', 'ham', '.', '<START>', '<END>']`. Entonces, el vector de features que representa el texto anterior es\n",
    "\n",
    "$$\n",
    "x = \\begin{bmatrix}\n",
    "count(I) \\\\\n",
    "count(am) \\\\\n",
    "count(Sam) \\\\\n",
    "\\vdots \\\\\n",
    "count(.) \\\\\n",
    "count(<START>) \\\\\n",
    "count(<END>) \n",
    "\\end{bmatrix}\n",
    "=\n",
    "\\begin{bmatrix}\n",
    "3 \\\\ 2 \\\\ 2 \\\\ \\vdots \\\\ 3 \\\\ 1 \\\\ 1 \n",
    "\\end{bmatrix}\n",
    "$$\n",
    "\n",
    "Notemos varias cosas:\n",
    "\n",
    "* Esta representación es equivalente a representar un histograma de las palabras de que aparecen en cada muestra.\n",
    "\n",
    "* No se tiene en cuenta el orden en el que aparecen las palabras, por lo que se está perdiendo información (¡y muy valiosa!)\n",
    "\n",
    "* Existen elementos del vocabulario, como el punto y los signos de comienzo y fin del texto, que no son palabras pero que, sin embargo, forma parte del texto. Esto se hace porque aportan información valiosa sobre el texto, y descartarlos, muchas veces disminuye el desempeño del algoritmo. Por otro lado, se verá que tener muchos componentes en el vocabulario también puede jugar en contra de la cantidad de aciertos. Es común denominar a los integrantes del vocabulario ***tokens*** cuando se refiere a los ejemplos de estos elementos en el texto, y ***types*** cuando se refieren a los elementos en sí.\n",
    "\n",
    "* Existe la posibilidad de que en el texto aparezcan tokens (como por ejemplo `green`) que no forman parte del vocabulario. En este caso se suelen ignorar estas apariciones, aunque a veces se suele incorporar un token especial de tipo desconocido (representado como `<UNK>`) que contabilice las palabras que están fuera del vocabulario. En el caso de proceder de esta manera, el vocabulario se define como `V = ['I', 'am', 'Sam', 'do', 'not', 'like', 'green', 'eggs', 'and', 'ham', '.', '<START>', '<END>', '<UNK>']` y el vector del ejemplo tendrá una coordenada extra de valor 1, correspondiente a la cantidad de palabras fuera del vocabulario que aparecieron en el ejemplo (en este caso, `'green'`)."
   ]
  },
  {
   "cell_type": "markdown",
   "metadata": {},
   "source": [
    "### Contando n-gramas\n",
    "\n",
    "Un n-grama es una sucesión de n elementos pertenecientes al vocabulario $V$. Como alternativa al modelo BOW, suele implementarse por lo general una extracción de *features* que consiste en contar la cantidad de n-gramas que aparecen en el texto, siendo n un valor a decidir. \n",
    "\n",
    "Algunas observaciones:\n",
    "\n",
    "* Vemos que el modelo de contar n-gramas para el caso en que $n=1$ es idéntico al modelo BOW.\n",
    "\n",
    "* Muchas veces se suelen incluír varios valores de $n$ para la misma extracción de features. Es decir, por ejemplo para $n=1$ y $n=2$, el vector de *features* uncluye la cantidad de unigramas y bigramas que aparecieron en cada documento. Esto suele traer problemas de dispersión en las cuentas, que se solucionan de diferentes maneras, pero también ayudan a capturar relaciones entre palabras que no se obtienen fácilmente con el modelo BOW."
   ]
  },
  {
   "cell_type": "markdown",
   "metadata": {},
   "source": [
    "### El tamaño del vocabulario\n",
    "\n",
    "En todos los casos que se extraen características de un texto con métodos frecuentistas, es necesario definir previamente un vocabulario $V$. Este paso tiene muchas variantes:\n",
    "\n",
    "* Puede considerarse las $N$ palabras más frecuentes que aparecen en el texto de entrenamiento como vocabulario. Por lo genera, un vocabulario no baja de las 10000 palabras.\n",
    "\n",
    "* Puede seleccionarse a través de un lexicon o un wordnet, ciertas palabras claves y tomar eso como como vocabulario. Para el caso de análisis de sentimientos suelen implementarse modelos que cuentan las palabras del campo semántico de las emociones. Sin embargo, esto implicaría agregar conocimiento previo al modelo.\n",
    "\n",
    "* Muchas veces se suelen descartar palabras que aparecen muy frecuentemente y que no aportan información significativa al modelo. Palabras como *the*, *a*, *is*, *are*, etc. suelen descartarse a la hora de contar n-gramas, y se conocen como **Stop Words**.\n",
    "\n",
    "* Lo que más se suele hacer, sin embargo, (y que además es lo que menos costo computacional tiene) es considerar como palabras del vocabulario a todos los n-gramas del conjunto de entrenamiento. Es decir, sin agregar información previa al modelo.\n",
    "\n",
    "* El proceso de tokenización es importante en este caso porque cambia, a veces, significativamente la cantidad de palabras en el vocabulario. Lo más común es utilizar *regular expressions* para esto y no agregar modificaciones que impliquen *lemmatization* o *stemming*. \n",
    "\n",
    "Todas estas variantes son importantes e influyen bastante en el resultado final, pero es importante tener en cuenta que lo más importante es tener experimentos consistentes. Es decir, yo puede tomar diferentes formas de tokenización, pero a la hora de sacar conclusiones tengo que comparar dos modelos con iguales condiciones de definición del vocabulario. "
   ]
  },
  {
   "cell_type": "markdown",
   "metadata": {},
   "source": [
    "### Caso práctico: inspección del modelo BOW en  el IMDb dataset\n",
    "\n",
    "El dataset IMDb consiste en un conjunto de reviews de películas, es decir que cada muestra contiene un comentario sobre una película (una cadena de caracteres) y su respectiva calificación en una escala de valores de `1` a `10`. "
   ]
  },
  {
   "cell_type": "code",
   "execution_count": 2,
   "metadata": {},
   "outputs": [
    {
     "data": {
      "text/html": [
       "<div>\n",
       "<style scoped>\n",
       "    .dataframe tbody tr th:only-of-type {\n",
       "        vertical-align: middle;\n",
       "    }\n",
       "\n",
       "    .dataframe tbody tr th {\n",
       "        vertical-align: top;\n",
       "    }\n",
       "\n",
       "    .dataframe thead th {\n",
       "        text-align: right;\n",
       "    }\n",
       "</style>\n",
       "<table border=\"1\" class=\"dataframe\">\n",
       "  <thead>\n",
       "    <tr style=\"text-align: right;\">\n",
       "      <th></th>\n",
       "      <th>comment</th>\n",
       "      <th>rate</th>\n",
       "    </tr>\n",
       "  </thead>\n",
       "  <tbody>\n",
       "    <tr>\n",
       "      <th>13701</th>\n",
       "      <td>Louis Sachar's compelling children's classic i...</td>\n",
       "      <td>10</td>\n",
       "    </tr>\n",
       "    <tr>\n",
       "      <th>23820</th>\n",
       "      <td>For quite a long time in my life, I either did...</td>\n",
       "      <td>8</td>\n",
       "    </tr>\n",
       "    <tr>\n",
       "      <th>11397</th>\n",
       "      <td>The original Thunderbirds earned a place in TV...</td>\n",
       "      <td>3</td>\n",
       "    </tr>\n",
       "    <tr>\n",
       "      <th>4178</th>\n",
       "      <td>This is a ripsnorting, old-fashioned adventure...</td>\n",
       "      <td>10</td>\n",
       "    </tr>\n",
       "    <tr>\n",
       "      <th>7828</th>\n",
       "      <td>If you came into the film with expectations, t...</td>\n",
       "      <td>10</td>\n",
       "    </tr>\n",
       "    <tr>\n",
       "      <th>13175</th>\n",
       "      <td>This installment very much makes the CIA look ...</td>\n",
       "      <td>8</td>\n",
       "    </tr>\n",
       "    <tr>\n",
       "      <th>22</th>\n",
       "      <td>hi.. I consider Just Cause one of my favorite ...</td>\n",
       "      <td>10</td>\n",
       "    </tr>\n",
       "    <tr>\n",
       "      <th>709</th>\n",
       "      <td>The 1997 low-key indie dramedy Henry Fool woul...</td>\n",
       "      <td>7</td>\n",
       "    </tr>\n",
       "    <tr>\n",
       "      <th>15290</th>\n",
       "      <td>Stumbling upon this HBO special late one night...</td>\n",
       "      <td>10</td>\n",
       "    </tr>\n",
       "    <tr>\n",
       "      <th>13028</th>\n",
       "      <td>I have copies of both these Movies the classic...</td>\n",
       "      <td>10</td>\n",
       "    </tr>\n",
       "  </tbody>\n",
       "</table>\n",
       "</div>"
      ],
      "text/plain": [
       "                                                 comment  rate\n",
       "13701  Louis Sachar's compelling children's classic i...    10\n",
       "23820  For quite a long time in my life, I either did...     8\n",
       "11397  The original Thunderbirds earned a place in TV...     3\n",
       "4178   This is a ripsnorting, old-fashioned adventure...    10\n",
       "7828   If you came into the film with expectations, t...    10\n",
       "13175  This installment very much makes the CIA look ...     8\n",
       "22     hi.. I consider Just Cause one of my favorite ...    10\n",
       "709    The 1997 low-key indie dramedy Henry Fool woul...     7\n",
       "15290  Stumbling upon this HBO special late one night...    10\n",
       "13028  I have copies of both these Movies the classic...    10"
      ]
     },
     "execution_count": 2,
     "metadata": {},
     "output_type": "execute_result"
    }
   ],
   "source": [
    "import NLPUtils.datasets.imdb as imdb\n",
    "\n",
    "df_train = imdb.train_reader()\n",
    "df_train.head(10)"
   ]
  },
  {
   "cell_type": "markdown",
   "metadata": {},
   "source": [
    "En este caso vamos a querer representar los textos como una bolsa de n-gramas. Además, para simplificar la tarea, vamos a considerar que todas las clases con una puntuación mayor a 6 fueron positivas, mientras que las que tienen menor a 5 fueron negativas."
   ]
  },
  {
   "cell_type": "code",
   "execution_count": 90,
   "metadata": {},
   "outputs": [
    {
     "data": {
      "image/png": "[encoded data removed]",
      "text/plain": [
       "<Figure size 432x288 with 4 Axes>"
      ]
     },
     "metadata": {
      "needs_background": "light"
     },
     "output_type": "display_data"
    }
   ],
   "source": [
    "from NLPUtils.datasets import imdb\n",
    "from NLPUtils.vsm import reduce_to_k_dim\n",
    "\n",
    "def get_binary_count_dataset(df,vocab,token_pattern,ngram_range):\n",
    "    data = imdb.count_ngrams_and_vectorize(df,dev_size=0,k_folds=None,\n",
    "                                      random_state=0,labels_func=None,\n",
    "                                      vocabulary=vocab,token_pattern=token_pattern,\n",
    "                                      ngram_range=ngram_range)\n",
    "    X, y = data['train']\n",
    "    y[y < 5] = 0\n",
    "    y[y > 6] = 1\n",
    "    return X, y\n",
    "\n",
    "\n",
    "def plot_bows(X,y,ax=None,transform=None):\n",
    "    \n",
    "    if ax is None:\n",
    "        fig, ax = plt.subplots()\n",
    "    \n",
    "    if transform is None:\n",
    "        transform = lambda x: x\n",
    "        \n",
    "    reduced_X = reduce_to_k_dim(transform(X),k=2)\n",
    "    reduced_pos_comments = reduced_X[y == 1]\n",
    "    reduced_neg_comments = reduced_X[y == 0]\n",
    "    \n",
    "    ax.scatter(reduced_pos_comments[:,0],reduced_pos_comments[:,1])\n",
    "    ax.scatter(reduced_neg_comments[:,0],reduced_neg_comments[:,1])\n",
    "    \n",
    "    \n",
    "# Graficamos los vectores reducidos en dimensión para diferentes N-gramas\n",
    "    \n",
    "#vocab = imdb.vocab_file_reader() # Palabras del vocabulario\n",
    "vocab = None\n",
    "token_pattern = r'\\b\\w+\\b' # Tokenización \n",
    "df_train = imdb.train_reader()#.sample(n=100, replace=False, random_state=12636)\n",
    "\n",
    "fig, ax = plt.subplots(2,2)\n",
    "fig.tight_layout()\n",
    "for i, ngram_range in enumerate([(1,1), (2,2), (1,2), (1,3)]):\n",
    "    X, y = get_binary_count_dataset(df_train,vocab,token_pattern,ngram_range)\n",
    "    plot_bows(X,y,ax=ax[i//2,i%2],transform=None)"
   ]
  },
  {
   "cell_type": "markdown",
   "metadata": {},
   "source": [
    "### Reponderamiento\n",
    "\n",
    "También podemos ver si la representación cambia con los métodos de reponderamiento. Es decir, dada una matriz de muestras en sus filas, un reponderamiento de sus índices corresponde a una nueva distribución de dichas muestras. \n",
    "\n",
    "Métodos a considerar:\n",
    "\n",
    "* Normalización por filas y por columnas\n",
    "* PPMI\n",
    "* Tf-Idf"
   ]
  },
  {
   "cell_type": "code",
   "execution_count": 93,
   "metadata": {},
   "outputs": [
    {
     "data": {
      "image/png": "[encoded data removed]",
      "text/plain": [
       "<Figure size 432x288 with 4 Axes>"
      ]
     },
     "metadata": {
      "needs_background": "light"
     },
     "output_type": "display_data"
    }
   ],
   "source": [
    "from scipy.sparse import csr_matrix\n",
    "\n",
    "def tfid_transform(X,smooth=True):\n",
    "    tf = csr_matrix((np.log10(X.data+1),X.indices,X.indptr))\n",
    "    idf = np.log10(X.shape[0] / np.array((X != 0).sum(axis=0)).reshape(-1))\n",
    "    return tf.multiply(idf)\n",
    "\n",
    "def pmi_transform(comments_bow):\n",
    "    return comments_bow\n",
    "\n",
    "def oe_transform(comments_bow):\n",
    "    return comments_bow\n",
    "\n",
    "for transform, name in zip([tfid_transform],['tf-idf']):#, pmi_transform, oe_transform]\n",
    "    fig, ax = plt.subplots(2,2)\n",
    "    fig.tight_layout()\n",
    "    fig.suptitle(name)\n",
    "    for i, ngram_range in enumerate([(1,1), (2,2), (1,2), (1,3)]):\n",
    "        X, y = get_binary_count_dataset(df_train,vocab,token_pattern,ngram_range)\n",
    "        plot_bows(X,y,ax=ax[i//2,i%2],transform=transform)"
   ]
  },
  {
   "cell_type": "markdown",
   "metadata": {},
   "source": [
    "### Inspección para diferentes vocabularios\n",
    "\n",
    "Podemos variar el tamaño del vocabulario y ver si la representación varía en algo"
   ]
  },
  {
   "cell_type": "code",
   "execution_count": 8,
   "metadata": {},
   "outputs": [
    {
     "data": {
      "image/png": "[encoded data removed]",
      "text/plain": [
       "<Figure size 432x288 with 4 Axes>"
      ]
     },
     "metadata": {
      "needs_background": "light"
     },
     "output_type": "display_data"
    }
   ],
   "source": [
    "include_unk = True \n",
    "include_startend = True \n",
    "    \n",
    "vocab_sizes = [10000, 20000, 50000, 80000]\n",
    "n_columns = 1\n",
    "n_filas = int(np.ceil(len(vocab_sizes)/n_columns))\n",
    "fig, ax = plt.subplots(n_filas,n_columns)\n",
    "fig.tight_layout()\n",
    "\n",
    "for i, N_vocab in enumerate(vocab_sizes):\n",
    "    \n",
    "    dataset = BinaryBOWDataset.split(dev_size=.1, \n",
    "                                     vocab=N_vocab, \n",
    "                                     test=False, \n",
    "                                     include_unk=include_unk, \n",
    "                                     include_startend=include_startend, \n",
    "                                     in_dtype=torch.float, \n",
    "                                     out_dtype=torch.long)\n",
    "    \n",
    "    comments_bow = np.array(dataset['train'].x).astype(np.float)\n",
    "    labels = np.array(dataset['train'].y).astype(np.int)\n",
    "    \n",
    "    try:\n",
    "        plot_reduced_bows(comments_bow,labels,ax=ax[i//n_columns,i%n_columns],transform=None)\n",
    "        ax[i//n_columns,i%n_columns].set_title('Vocab size: {}'.format(N_vocab))\n",
    "    except TypeError:\n",
    "        plot_reduced_bows(comments_bow,labels,ax=ax,transform=None)\n",
    "        ax.set_title('Vocab size: {}'.format(N_vocab))"
   ]
  },
  {
   "cell_type": "markdown",
   "metadata": {},
   "source": [
    "## 2. Clasificación\n",
    "\n",
    "A continuación vamos a obtener un sistema para clasificar muestras como las obtenidas anteriormente. Para ello vamos a estudiar el método de Regresión Logística y el algoritmo de Naive Bayes.\n",
    "\n",
    "### Logistic Regression\n",
    "\n",
    "El modelo de regresión logística es un modelo discriminativo que forma parte de la familia de modelos discriminativos paramétricos conocida como **Modelos Lineales Generalizados** (*Generalized Linear Models*, GLM). Un modelo de este tipo puede construirse de la siguiente manera:\n",
    "\n",
    "1. Se define que la variable aleatoria $y|\\mathbf{x}$ que relaciona la entrada con la salida depende de un conjunto de parámetros $\\theta$ y pertenece a la familia de exponenciales de parámetro $\\eta$ de tal manera que $\\eta = \\theta^T \\mathbf{x}$. Esto es:\n",
    "\n",
    "$$\n",
    "\\begin{align*}\n",
    "y|\\mathbf{x} &\\sim \\mathrm{ExpFamily}\\left(\\eta\\right) \\\\[.5em]\n",
    "P(y|\\mathbf{x}) &= b(y)\\exp\\left( \\eta^T y - a\\left(\\eta\\right)\\right) \\\\[.5em]\n",
    "P(y|\\mathbf{x};\\theta) &= b(y)\\exp\\left( \\mathbf{x}^T \\theta y - a(\\theta^T \\mathbf{x})\\right)\n",
    "\\end{align*}\n",
    "$$\n",
    "\n",
    "2. La salida del modelo se obtiene por medio de\n",
    "\n",
    "$$\n",
    "h_\\theta(\\mathbf{x}) = E\\left[ y|\\mathbf{x}\\right]\n",
    "$$\n",
    "\n",
    "El modelo de regresión logistica consiste en definir la probabilidad a posteriori \n",
    "\n",
    "$$\n",
    "P(y|\\mathbf{x};\\theta) = \\sigma\\left( \\theta^T \\mathbf{x} \\right)^y \\left( 1 - \\sigma\\left( \\theta^T \\mathbf{x} \\right) \\right)^{(1-y)}\n",
    "$$\n",
    "\n",
    "donde \n",
    "\n",
    "$$\n",
    "\\sigma(z) = \\frac{1}{1+ e^{-z}}\n",
    "$$ \n",
    "\n",
    "y puede mostrarse que forma parte de los modelos GLM para el caso en que $T(y)=y$, $b(y)=1$ y $a(\\theta^T\\mathbf{x})=\\log\\left(1+e^{\\theta^T\\mathbf{x}}\\right)$. \n",
    "\n",
    "También puede verse que \n",
    "\n",
    "$$\n",
    "h_\\theta(\\mathbf{x}) = E\\left[ y|\\mathbf{x}\\right] = P(y=1|\\mathbf{x};\\theta)\\cdot 1 + P(y=0|\\mathbf{x};\\theta)\\cdot 0 = \\sigma\\left( \\theta^T \\mathbf{x} \\right)\n",
    "$$\n",
    "\n",
    "por lo que la salida del modelo da la probabilidad de pertenecer a la clase $y=1$, y por lo tanto, aporta todo lo necesario para realizar una nueva predicción.\n",
    "\n",
    "En lo que sigue, adoptaremos el criterio de **máxima verosimilitud** para estimar los parámetros del modelo. De esta forma:\n",
    "\n",
    "$$\n",
    "\\begin{align*}\n",
    "\\hat{\\theta} &= \\mathrm{argmax}_\\theta \\prod_{i=1}^N P\\left(y^{(i)}|\\mathbf{x}^{(i)};\\theta\\right) \\\\\n",
    "&= \\mathrm{argmax}_\\theta \\prod_{i=1}^N \\sigma\\left( \\theta^T \\mathbf{x}^{(i)} \\right)^{y^{(i)}} \\left( 1 - \\sigma\\left( \\theta^T \\mathbf{x}^{(i)} \\right) \\right)^{(1-y^{(i)})}\\\\\n",
    "&= \\mathrm{argmax}_\\theta \\log\\left(\\prod_{i=1}^N \\sigma\\left( \\theta^T \\mathbf{x}^{(i)} \\right)^{y^{(i)}} \\left( 1 - \\sigma\\left( \\theta^T \\mathbf{x}^{(i)} \\right) \\right)^{(1-y^{(i)})}\\right)\\\\\n",
    "&= \\mathrm{argmax}_\\theta \\sum_{i=1}^N y^{(i)} \\log\\left(\\sigma\\left( \\theta^T \\mathbf{x}^{(i)} \\right)\\right) + \\left(1 - y^{(i)}\\right) \\log\\left(1 - \\sigma\\left( \\theta^T \\mathbf{x}^{(i)} \\right)\\right)\\\\\n",
    "\\end{align*}\n",
    "$$"
   ]
  },
  {
   "cell_type": "code",
   "execution_count": 103,
   "metadata": {},
   "outputs": [
    {
     "name": "stderr",
     "output_type": "stream",
     "text": [
      "/home/lestien/anaconda3/lib/python3.7/site-packages/ipykernel_launcher.py:5: RuntimeWarning: divide by zero encountered in true_divide\n",
      "  \"\"\"\n"
     ]
    },
    {
     "ename": "ValueError",
     "evalue": "inconsistent shapes",
     "output_type": "error",
     "traceback": [
      "\u001b[0;31m---------------------------------------------------------------------------\u001b[0m",
      "\u001b[0;31mValueError\u001b[0m                                Traceback (most recent call last)",
      "\u001b[0;32m<ipython-input-103-a010e50c998f>\u001b[0m in \u001b[0;36m<module>\u001b[0;34m\u001b[0m\n\u001b[1;32m     30\u001b[0m             random_state=0,labels_func=binarize,vocabulary=None,token_pattern=token_pattern)\n\u001b[1;32m     31\u001b[0m \u001b[0mtrain_dataset\u001b[0m \u001b[0;34m=\u001b[0m \u001b[0mBinaryIMDbDataset\u001b[0m\u001b[0;34m(\u001b[0m\u001b[0mdata\u001b[0m\u001b[0;34m[\u001b[0m\u001b[0;34m'train'\u001b[0m\u001b[0;34m]\u001b[0m\u001b[0;34m[\u001b[0m\u001b[0;36m0\u001b[0m\u001b[0;34m]\u001b[0m\u001b[0;34m,\u001b[0m\u001b[0mdata\u001b[0m\u001b[0;34m[\u001b[0m\u001b[0;34m'train'\u001b[0m\u001b[0;34m]\u001b[0m\u001b[0;34m[\u001b[0m\u001b[0;36m1\u001b[0m\u001b[0;34m]\u001b[0m\u001b[0;34m,\u001b[0m\u001b[0mtfid_transform\u001b[0m\u001b[0;34m)\u001b[0m\u001b[0;34m\u001b[0m\u001b[0;34m\u001b[0m\u001b[0m\n\u001b[0;32m---> 32\u001b[0;31m \u001b[0mdev_dataset\u001b[0m \u001b[0;34m=\u001b[0m \u001b[0mBinaryIMDbDataset\u001b[0m\u001b[0;34m(\u001b[0m\u001b[0mdata\u001b[0m\u001b[0;34m[\u001b[0m\u001b[0;34m'dev'\u001b[0m\u001b[0;34m]\u001b[0m\u001b[0;34m[\u001b[0m\u001b[0;36m0\u001b[0m\u001b[0;34m]\u001b[0m\u001b[0;34m,\u001b[0m\u001b[0mdata\u001b[0m\u001b[0;34m[\u001b[0m\u001b[0;34m'dev'\u001b[0m\u001b[0;34m]\u001b[0m\u001b[0;34m[\u001b[0m\u001b[0;36m1\u001b[0m\u001b[0;34m]\u001b[0m\u001b[0;34m,\u001b[0m\u001b[0mtfid_transform\u001b[0m\u001b[0;34m)\u001b[0m\u001b[0;34m\u001b[0m\u001b[0;34m\u001b[0m\u001b[0m\n\u001b[0m\u001b[1;32m     33\u001b[0m \u001b[0;34m\u001b[0m\u001b[0m\n\u001b[1;32m     34\u001b[0m \u001b[0min_features\u001b[0m \u001b[0;34m=\u001b[0m \u001b[0mtrain_dataset\u001b[0m\u001b[0;34m.\u001b[0m\u001b[0mX\u001b[0m\u001b[0;34m.\u001b[0m\u001b[0mshape\u001b[0m\u001b[0;34m[\u001b[0m\u001b[0;36m1\u001b[0m\u001b[0;34m]\u001b[0m\u001b[0;34m\u001b[0m\u001b[0;34m\u001b[0m\u001b[0m\n",
      "\u001b[0;32m<ipython-input-103-a010e50c998f>\u001b[0m in \u001b[0;36m__init__\u001b[0;34m(self, X, y, transform)\u001b[0m\n\u001b[1;32m      8\u001b[0m         \u001b[0;32mif\u001b[0m \u001b[0mtransform\u001b[0m \u001b[0;32mis\u001b[0m \u001b[0;32mNone\u001b[0m\u001b[0;34m:\u001b[0m\u001b[0;34m\u001b[0m\u001b[0;34m\u001b[0m\u001b[0m\n\u001b[1;32m      9\u001b[0m             \u001b[0mtransform\u001b[0m \u001b[0;34m=\u001b[0m \u001b[0;32mlambda\u001b[0m \u001b[0mx\u001b[0m\u001b[0;34m:\u001b[0m \u001b[0mx\u001b[0m\u001b[0;34m\u001b[0m\u001b[0;34m\u001b[0m\u001b[0m\n\u001b[0;32m---> 10\u001b[0;31m         \u001b[0mself\u001b[0m\u001b[0;34m.\u001b[0m\u001b[0mX\u001b[0m \u001b[0;34m=\u001b[0m \u001b[0mtransform\u001b[0m\u001b[0;34m(\u001b[0m\u001b[0mX\u001b[0m\u001b[0;34m)\u001b[0m\u001b[0;34m\u001b[0m\u001b[0;34m\u001b[0m\u001b[0m\n\u001b[0m\u001b[1;32m     11\u001b[0m         \u001b[0mself\u001b[0m\u001b[0;34m.\u001b[0m\u001b[0my\u001b[0m \u001b[0;34m=\u001b[0m \u001b[0mtorch\u001b[0m\u001b[0;34m.\u001b[0m\u001b[0mtensor\u001b[0m\u001b[0;34m(\u001b[0m\u001b[0my\u001b[0m\u001b[0;34m)\u001b[0m\u001b[0;34m.\u001b[0m\u001b[0mtype\u001b[0m\u001b[0;34m(\u001b[0m\u001b[0mtorch\u001b[0m\u001b[0;34m.\u001b[0m\u001b[0mfloat\u001b[0m\u001b[0;34m)\u001b[0m\u001b[0;34m.\u001b[0m\u001b[0mview\u001b[0m\u001b[0;34m(\u001b[0m\u001b[0;34m-\u001b[0m\u001b[0;36m1\u001b[0m\u001b[0;34m,\u001b[0m\u001b[0;36m1\u001b[0m\u001b[0;34m)\u001b[0m\u001b[0;34m\u001b[0m\u001b[0;34m\u001b[0m\u001b[0m\n\u001b[1;32m     12\u001b[0m \u001b[0;34m\u001b[0m\u001b[0m\n",
      "\u001b[0;32m<ipython-input-93-c355a4a5ffad>\u001b[0m in \u001b[0;36mtfid_transform\u001b[0;34m(X, smooth)\u001b[0m\n\u001b[1;32m      4\u001b[0m     \u001b[0mtf\u001b[0m \u001b[0;34m=\u001b[0m \u001b[0mcsr_matrix\u001b[0m\u001b[0;34m(\u001b[0m\u001b[0;34m(\u001b[0m\u001b[0mnp\u001b[0m\u001b[0;34m.\u001b[0m\u001b[0mlog10\u001b[0m\u001b[0;34m(\u001b[0m\u001b[0mX\u001b[0m\u001b[0;34m.\u001b[0m\u001b[0mdata\u001b[0m\u001b[0;34m+\u001b[0m\u001b[0;36m1\u001b[0m\u001b[0;34m)\u001b[0m\u001b[0;34m,\u001b[0m\u001b[0mX\u001b[0m\u001b[0;34m.\u001b[0m\u001b[0mindices\u001b[0m\u001b[0;34m,\u001b[0m\u001b[0mX\u001b[0m\u001b[0;34m.\u001b[0m\u001b[0mindptr\u001b[0m\u001b[0;34m)\u001b[0m\u001b[0;34m)\u001b[0m\u001b[0;34m\u001b[0m\u001b[0;34m\u001b[0m\u001b[0m\n\u001b[1;32m      5\u001b[0m     \u001b[0midf\u001b[0m \u001b[0;34m=\u001b[0m \u001b[0mnp\u001b[0m\u001b[0;34m.\u001b[0m\u001b[0mlog10\u001b[0m\u001b[0;34m(\u001b[0m\u001b[0mX\u001b[0m\u001b[0;34m.\u001b[0m\u001b[0mshape\u001b[0m\u001b[0;34m[\u001b[0m\u001b[0;36m0\u001b[0m\u001b[0;34m]\u001b[0m \u001b[0;34m/\u001b[0m \u001b[0mnp\u001b[0m\u001b[0;34m.\u001b[0m\u001b[0marray\u001b[0m\u001b[0;34m(\u001b[0m\u001b[0;34m(\u001b[0m\u001b[0mX\u001b[0m \u001b[0;34m!=\u001b[0m \u001b[0;36m0\u001b[0m\u001b[0;34m)\u001b[0m\u001b[0;34m.\u001b[0m\u001b[0msum\u001b[0m\u001b[0;34m(\u001b[0m\u001b[0maxis\u001b[0m\u001b[0;34m=\u001b[0m\u001b[0;36m0\u001b[0m\u001b[0;34m)\u001b[0m\u001b[0;34m)\u001b[0m\u001b[0;34m.\u001b[0m\u001b[0mreshape\u001b[0m\u001b[0;34m(\u001b[0m\u001b[0;34m-\u001b[0m\u001b[0;36m1\u001b[0m\u001b[0;34m)\u001b[0m\u001b[0;34m)\u001b[0m\u001b[0;34m\u001b[0m\u001b[0;34m\u001b[0m\u001b[0m\n\u001b[0;32m----> 6\u001b[0;31m     \u001b[0;32mreturn\u001b[0m \u001b[0mtf\u001b[0m\u001b[0;34m.\u001b[0m\u001b[0mmultiply\u001b[0m\u001b[0;34m(\u001b[0m\u001b[0midf\u001b[0m\u001b[0;34m)\u001b[0m\u001b[0;34m\u001b[0m\u001b[0;34m\u001b[0m\u001b[0m\n\u001b[0m\u001b[1;32m      7\u001b[0m \u001b[0;34m\u001b[0m\u001b[0m\n\u001b[1;32m      8\u001b[0m \u001b[0;32mdef\u001b[0m \u001b[0mpmi_transform\u001b[0m\u001b[0;34m(\u001b[0m\u001b[0mcomments_bow\u001b[0m\u001b[0;34m)\u001b[0m\u001b[0;34m:\u001b[0m\u001b[0;34m\u001b[0m\u001b[0;34m\u001b[0m\u001b[0m\n",
      "\u001b[0;32m~/anaconda3/lib/python3.7/site-packages/scipy/sparse/compressed.py\u001b[0m in \u001b[0;36mmultiply\u001b[0;34m(self, other)\u001b[0m\n\u001b[1;32m    454\u001b[0m             \u001b[0mdata\u001b[0m \u001b[0;34m=\u001b[0m \u001b[0mnp\u001b[0m\u001b[0;34m.\u001b[0m\u001b[0mmultiply\u001b[0m\u001b[0;34m(\u001b[0m\u001b[0mret\u001b[0m\u001b[0;34m.\u001b[0m\u001b[0mdata\u001b[0m\u001b[0;34m,\u001b[0m \u001b[0mother\u001b[0m\u001b[0;34m[\u001b[0m\u001b[0mret\u001b[0m\u001b[0;34m.\u001b[0m\u001b[0mrow\u001b[0m\u001b[0;34m]\u001b[0m\u001b[0;34m.\u001b[0m\u001b[0mravel\u001b[0m\u001b[0;34m(\u001b[0m\u001b[0;34m)\u001b[0m\u001b[0;34m)\u001b[0m\u001b[0;34m\u001b[0m\u001b[0;34m\u001b[0m\u001b[0m\n\u001b[1;32m    455\u001b[0m         \u001b[0;32melse\u001b[0m\u001b[0;34m:\u001b[0m\u001b[0;34m\u001b[0m\u001b[0;34m\u001b[0m\u001b[0m\n\u001b[0;32m--> 456\u001b[0;31m             \u001b[0;32mraise\u001b[0m \u001b[0mValueError\u001b[0m\u001b[0;34m(\u001b[0m\u001b[0;34m\"inconsistent shapes\"\u001b[0m\u001b[0;34m)\u001b[0m\u001b[0;34m\u001b[0m\u001b[0;34m\u001b[0m\u001b[0m\n\u001b[0m\u001b[1;32m    457\u001b[0m         \u001b[0mret\u001b[0m\u001b[0;34m.\u001b[0m\u001b[0mdata\u001b[0m \u001b[0;34m=\u001b[0m \u001b[0mdata\u001b[0m\u001b[0;34m.\u001b[0m\u001b[0mview\u001b[0m\u001b[0;34m(\u001b[0m\u001b[0mnp\u001b[0m\u001b[0;34m.\u001b[0m\u001b[0mndarray\u001b[0m\u001b[0;34m)\u001b[0m\u001b[0;34m.\u001b[0m\u001b[0mravel\u001b[0m\u001b[0;34m(\u001b[0m\u001b[0;34m)\u001b[0m\u001b[0;34m\u001b[0m\u001b[0;34m\u001b[0m\u001b[0m\n\u001b[1;32m    458\u001b[0m         \u001b[0;32mreturn\u001b[0m \u001b[0mret\u001b[0m\u001b[0;34m\u001b[0m\u001b[0;34m\u001b[0m\u001b[0m\n",
      "\u001b[0;31mValueError\u001b[0m: inconsistent shapes"
     ]
    }
   ],
   "source": [
    "from NLPUtils.classifiers import LogisticRegressionClassifier as LR\n",
    "import torch\n",
    "from torch.utils.data import Dataset\n",
    "\n",
    "class BinaryIMDbDataset(Dataset):\n",
    "    \n",
    "    def __init__(self,X,y,transform=None):\n",
    "        if transform is None:\n",
    "            transform = lambda x: x\n",
    "        self.X = transform(X)\n",
    "        self.y = torch.tensor(y).type(torch.float).view(-1,1)\n",
    "        \n",
    "    def __getitem__(self,idx):\n",
    "        x = torch.tensor(self.X[idx,:].toarray(),dtype=torch.float).view(-1)\n",
    "        y = self.y[idx]\n",
    "        return x, y\n",
    "    \n",
    "    def __len__(self):\n",
    "        return len(self.y)\n",
    "    \n",
    "token_pattern = r'\\b\\w+\\b'\n",
    "df_train = imdb.train_reader()\n",
    "\n",
    "def binarize(y):\n",
    "    y[y < 5] = 0\n",
    "    y[y > 6] = 1\n",
    "    return y\n",
    "\n",
    "data = imdb.count_ngrams_and_vectorize(df_train,dev_size=.2,k_folds=None,\n",
    "            random_state=0,labels_func=binarize,vocabulary=None,token_pattern=token_pattern)\n",
    "train_dataset = BinaryIMDbDataset(data['train'][0],data['train'][1],tfid_transform)\n",
    "dev_dataset = BinaryIMDbDataset(data['dev'][0],data['dev'][1],tfid_transform)\n",
    "\n",
    "in_features = train_dataset.X.shape[1]\n",
    "classifier = LR(in_features,bias=True,device='cpu')"
   ]
  },
  {
   "cell_type": "code",
   "execution_count": 101,
   "metadata": {},
   "outputs": [
    {
     "name": "stdout",
     "output_type": "stream",
     "text": [
      "Starting training...\n",
      "Epoch 1 finished. Approximate loss: 0.6848\n",
      "Training finished\n",
      "\n"
     ]
    }
   ],
   "source": [
    "classifier.train(train_dataset, \n",
    "                 optim_algorithm='SGD', \n",
    "                 epochs=1,\n",
    "                 batch_size=512,\n",
    "                 lr=1e-3)"
   ]
  },
  {
   "cell_type": "code",
   "execution_count": 102,
   "metadata": {},
   "outputs": [
    {
     "name": "stdout",
     "output_type": "stream",
     "text": [
      "Total accuracy: 2996/5000 (59.92%)\n"
     ]
    }
   ],
   "source": [
    "classifier.predict(dev_dataset)"
   ]
  },
  {
   "cell_type": "markdown",
   "metadata": {},
   "source": [
    "### Modelo Feed-Froward con Logistic Regression\n",
    "\n",
    "Otra opción es agregar un layer intermedio entre la entrada y la salida."
   ]
  },
  {
   "cell_type": "code",
   "execution_count": 12,
   "metadata": {},
   "outputs": [],
   "source": [
    "from NLPUtils.classifiers import TwoLayerLRNet\n",
    "\n",
    "class BinaryReducedIMDbDataset(Dataset):\n",
    "    \n",
    "    def __init__(self,df,vectorizer,k):\n",
    "        x = vectorizer.transform(df['comment'])\n",
    "        self.comments_bow = torch.tensor(reduce_to_k_dim(x,k=k),dtype=torch.float)\n",
    "        self.labels = torch.tensor(df['rate'].values.copy(),dtype=torch.float).view(-1,1)\n",
    "        self.labels[self.labels < 5] = 0\n",
    "        self.labels[self.labels > 6] = 1\n",
    "        \n",
    "    def __getitem__(self,idx):\n",
    "        x = self.comments_bow[idx,:]\n",
    "        y = self.labels[idx]\n",
    "        return x, y\n",
    "    \n",
    "    def __len__(self):\n",
    "        return len(self.labels)\n",
    "\n",
    "vectorizer = get_vectorizer(df_train,vocab,token_pattern,ngram_range=(1,1))\n",
    "k = 100\n",
    "train_dataset = BinaryReducedIMDbDataset(df_train,vectorizer,k)\n",
    "dev_dataset = BinaryReducedIMDbDataset(df_dev,vectorizer,k)\n",
    "\n",
    "in_features = train_dataset.comments_bow.shape[1]\n",
    "hidden_features = 200\n",
    "classifier = TwoLayerLRNet(in_features,hidden_features,bias=True,device='cpu')"
   ]
  },
  {
   "cell_type": "code",
   "execution_count": 13,
   "metadata": {},
   "outputs": [
    {
     "name": "stdout",
     "output_type": "stream",
     "text": [
      "Starting training...\n",
      "Epoch 1 finished. Approximate loss: 0.7119\n",
      "Epoch 2 finished. Approximate loss: 0.7096\n",
      "Epoch 3 finished. Approximate loss: 0.6988\n",
      "Epoch 4 finished. Approximate loss: 0.6955\n",
      "Epoch 5 finished. Approximate loss: 0.6820\n",
      "Epoch 6 finished. Approximate loss: 0.6778\n",
      "Epoch 7 finished. Approximate loss: 0.6684\n",
      "Epoch 8 finished. Approximate loss: 0.6793\n",
      "Epoch 9 finished. Approximate loss: 0.6702\n",
      "Epoch 10 finished. Approximate loss: 0.6753\n",
      "Epoch 11 finished. Approximate loss: 0.6609\n",
      "Epoch 12 finished. Approximate loss: 0.6631\n",
      "Epoch 13 finished. Approximate loss: 0.6606\n",
      "Epoch 14 finished. Approximate loss: 0.6640\n",
      "Epoch 15 finished. Approximate loss: 0.6614\n",
      "Epoch 16 finished. Approximate loss: 0.6420\n",
      "Epoch 17 finished. Approximate loss: 0.6591\n",
      "Epoch 18 finished. Approximate loss: 0.6360\n",
      "Epoch 19 finished. Approximate loss: 0.6416\n",
      "Epoch 20 finished. Approximate loss: 0.6435\n",
      "Training finished\n",
      "\n",
      "Total accuracy: 2183/5000 (43.66%)\n"
     ]
    }
   ],
   "source": [
    "classifier.train(train_dataset, \n",
    "                 optim_algorithm='SGD', \n",
    "                 epochs=20,\n",
    "                 batch_size=512,\n",
    "                 lr=1e-3)\n",
    "classifier.predict(dev_dataset)"
   ]
  },
  {
   "cell_type": "code",
   "execution_count": 14,
   "metadata": {},
   "outputs": [
    {
     "name": "stdout",
     "output_type": "stream",
     "text": [
      "Resuming training from epoch 21...\n",
      "Epoch 21 finished. Approximate loss: 0.6431\n",
      "Epoch 22 finished. Approximate loss: 0.6339\n",
      "Epoch 23 finished. Approximate loss: 0.6262\n",
      "Epoch 24 finished. Approximate loss: 0.6528\n",
      "Epoch 25 finished. Approximate loss: 0.6245\n",
      "Epoch 26 finished. Approximate loss: 0.6324\n",
      "Epoch 27 finished. Approximate loss: 0.6238\n",
      "Epoch 28 finished. Approximate loss: 0.6237\n",
      "Epoch 29 finished. Approximate loss: 0.6257\n",
      "Epoch 30 finished. Approximate loss: 0.6320\n",
      "Epoch 31 finished. Approximate loss: 0.6449\n",
      "Epoch 32 finished. Approximate loss: 0.6155\n",
      "Epoch 33 finished. Approximate loss: 0.6294\n",
      "Epoch 34 finished. Approximate loss: 0.6321\n",
      "Epoch 35 finished. Approximate loss: 0.6058\n",
      "Epoch 36 finished. Approximate loss: 0.6194\n",
      "Epoch 37 finished. Approximate loss: 0.6153\n",
      "Epoch 38 finished. Approximate loss: 0.6183\n",
      "Epoch 39 finished. Approximate loss: 0.6137\n",
      "Epoch 40 finished. Approximate loss: 0.6150\n",
      "Training finished\n",
      "\n",
      "Total accuracy: 2151/5000 (43.02%)\n"
     ]
    }
   ],
   "source": [
    "classifier.train(train_dataset, \n",
    "                 optim_algorithm='SGD', \n",
    "                 epochs=20,\n",
    "                 batch_size=512,\n",
    "                 lr=1e-3)\n",
    "classifier.predict(dev_dataset)"
   ]
  },
  {
   "cell_type": "markdown",
   "metadata": {},
   "source": [
    "### Naive Bayes\n",
    "\n",
    "Este modelo pertenece a la familia de **modelos generativos**, los cuales (a grandes rasgos) modelan la forma en cómo se generan los datos. De esta forma, el método de decisión bayesiano que consiste en decidir por la clase que tiene máxima probabilidad a posteriori\n",
    "\n",
    "$$\n",
    "\\hat{\\mathcal{C}} = \\mathrm{argmax}_{k} P(\\mathcal{C}_k|\\mathbf{x})\n",
    "$$\n",
    "\n",
    "puede reescribirse utilizando la regla de Bayes de la siguiente manera:\n",
    "\n",
    "$$\n",
    "\\begin{align*}\n",
    "\\hat{\\mathcal{C}} &= \\mathrm{argmax}_{k} P(\\mathcal{C}_k|\\mathbf{x}) \\\\[.5em]\n",
    "& = \\mathrm{argmax}_{k} \\frac{P(\\mathbf{x}|\\mathcal{C}_k)P(\\mathcal{C}_k)}{P(\\mathbf{x})} \\\\[.5em]\n",
    "& = \\mathrm{argmax}_{k} P(\\mathbf{x}|\\mathcal{C}_k)P(\\mathcal{C}_k)\n",
    "\\end{align*}\n",
    "$$\n",
    "\n",
    "de manera que pueden modelarse las probabilidades $P(\\mathbf{x}|\\mathcal{C}_k)$ y $P(\\mathcal{C}_k)$ por separado, y utilizarse para estimar la probabilidad $P(\\mathcal{C}_k|\\mathbf{x})$. \n",
    "\n",
    "Por otra parte, para el caso en que el espacio de features $\\mathbb{R}^d$ tiene una dimensión muy grande, hacer un modelo discriminativo para clasificación suele tener que implicar una gran cantidad de parámetros. Por eso, se suele asumir la independencia condicional de los features entre sí:\n",
    "\n",
    "$$\n",
    "\\begin{align*}\n",
    "P(\\mathbf{x}|\\mathcal{C}_k) &= P(x_1,\\ldots,x_n|\\mathcal{C}_k)\\\\[.5em]\n",
    "&= P(x_1|\\mathcal{C}_k),\\ldots,P(x_m|\\mathcal{C}_k)\\\\[.5em]\n",
    "&= \\prod_{j=1}^m P(x_i|\\mathcal{C}_k)\\\\[.5em]\n",
    "\\end{align*}\n",
    "$$\n",
    "\n",
    "de manera que las únicas probabilidades a modelar y a estimar sean $P(x_i|\\mathcal{C}_k)$ para y $P(\\mathcal{C}_k)$ $k\\in \\{ 0, 1\\}$. \n",
    "\n",
    "Una forma muy común de modelar $P(x_i|\\mathcal{C}_k)$ es a través de una distribución Bernoulli de parámetro $\\phi_{i|k}$ que representa la probabilidad de que la palabra $w_i$ haya aparecido en la bolsa de palabras $\\mathbf{x}$, dado que se obtuvo la clase $\\mathcal{C}_k$. Es decir:\n",
    "\n",
    "$$\n",
    "P(\\mathbf{x}|\\mathcal{C}_k) = \\phi_{i|k}\n",
    "$$\n",
    "\n",
    "Aplicando máxima verosimilitud, pueden obtenerse el valor de estos parámetros:\n",
    "\n",
    "$$\n",
    "\\begin{align*}\n",
    "LL &=  \\sum_{i=1}^N \\log\\left(P(\\mathbf{x}^{(i)}|y^{(i)})P(y^{(i)})\\right) \\\\[.5em]\n",
    "&=  \\sum_{i=1}^N \\log\\left(P(\\mathbf{x}^{(i)}|y^{(i)})\\right) + \\log\\left(P(y^{(i)})\\right) \\\\[.5em]\n",
    "&=  \\sum_{i=1}^N \\log\\left(\\prod_{j=1}^m P(x_j^{(i)}|y^{(i)})\\right) + \\log\\left(P(y^{(i)})\\right) \\\\[.5em]\n",
    "&=  \\sum_{i=1}^N \\sum_{j=1}^m \\log\\left(P(x_j^{(i)}|y^{(i)})\\right) + \\log\\left(P(y^{(i)})\\right) \\\\[.5em]\n",
    "&=  \\sum_{i=1}^N \\sum_{j=1}^m \\log\\left(\\phi_{j|k=0}\\mathbb{1}_{\\{ y^{(i)} = 0 \\}} + \\phi_{j|k=1}\\mathbb{1}_{\\{ y^{(i)} = 1 \\}}\\right)  + \\log\\left(P(y^{(i)})\\right) \\\\[.5em]\n",
    "\\end{align*}\n",
    "$$\n",
    "\n",
    "$$\n",
    "\\begin{align*}\n",
    "\\phi_{j|k=0} &=  \\frac{\\sum_{i=1}^N \\mathbb{1}_{\\{ x_j^{(i)}>0 \\;\\wedge\\; y^{(i)} = 0\\}} }{\\sum_{i=1}^N \\mathbb{1}_{\\{ y^{(i)} = 0\\}}}\\\\[.5em]\n",
    "\\phi_{j|k=1} &=  \\frac{\\sum_{i=1}^N \\mathbb{1}_{\\{ x_j^{(i)}>0 \\;\\wedge\\; y^{(i)} = 1\\}} }{\\sum_{i=1}^N \\mathbb{1}_{\\{ y^{(i)} = 1\\}}}\\\\[.5em]\n",
    "\\phi_{k} &=  \\frac{\\sum_{i=1}^N \\mathbb{1}_{\\{ y^{(i)} = 1\\}} }{N}\n",
    "\\end{align*}\n",
    "$$"
   ]
  },
  {
   "cell_type": "code",
   "execution_count": null,
   "metadata": {},
   "outputs": [],
   "source": []
  }
 ],
 "metadata": {
  "kernelspec": {
   "display_name": "Python 3",
   "language": "python",
   "name": "python3"
  },
  "language_info": {
   "codemirror_mode": {
    "name": "ipython",
    "version": 3
   },
   "file_extension": ".py",
   "mimetype": "text/x-python",
   "name": "python",
   "nbconvert_exporter": "python",
   "pygments_lexer": "ipython3",
   "version": "3.7.7"
  }
 },
 "nbformat": 4,
 "nbformat_minor": 2
}
