{
 "cells": [
  {
   "cell_type": "markdown",
   "metadata": {},
   "source": [
    "# VERSIÓN EN DESARROLLO!\n",
    "\n",
    "* Hay que hacer una introducción a lo que se quiere hacer en la tesis. Básicamente, queremos hacer algoritmos que resulvan alguna (o más de una) tarea a determinar que involucra lenguaje, y queremos estudiar el proceso de comprensión del lenguaje en esos algoritmos. \n",
    "\n",
    "\n",
    "* Podemos contar un poco qué implica comprender el lenguaje y cómo se hizo a lo largo de la historia, como para saber con qué herramientas contamos. \n",
    "\n",
    "\n",
    "* Resumen de los diferentes algoritmos que nos permiten comprender el lenguaje (Word vectors, knoledge graphs, etc.)\n",
    "\n",
    "\n",
    "* ¿Algo más? Creo que no.\n",
    "\n",
    "---"
   ]
  },
  {
   "cell_type": "markdown",
   "metadata": {},
   "source": [
    "# Objetivo General\n",
    "\n",
    "El objetivo general de esta tesis/nota será estudiar las herramientas que existen en la actualidad para diseñar algoritmos computacionales que realicen algún tipo de procesamiento de lenguaje para resolver una determinada tarea. Particularmente, se desea estudiar en el proceso por el cual el algoritmo *comprende* la fuente de lenguaje y cómo determinar el rendimiento y la validez de dicho algoritmo. \n",
    "\n",
    "Concretamente, se elegirá un conjunto de tareas que involucran tomar una decisión a partir de un texto dado y se estudiarán los algoritmos que permiten realizar una mejor comprensión del lenguaje utilizado en dicho texto, con el objetivo de tomar una mejor decisión. \n",
    "\n",
    "Las tareas elegidas son el análisis de sentimientos en comentarios extraídos de Internet, ¿el resumen de texto?, mientras que para la comprensión del lenguaje se utilizarán métodos pertenecientes al área de lexical y compositional semantics, como por ejemplo la definición de un espacio semántico o la extracción de relaciones."
   ]
  },
  {
   "cell_type": "markdown",
   "metadata": {},
   "source": [
    "# Computación y Lenguaje\n",
    "\n",
    "Hablar de lenguaje es complicado. Definirlo, explicar qué es y cómo funciona, comprenderlo, caracterizarlo, analizar y justificar sus ambigüedades son tareas que representaron (y siguen representando) mucha dificultad para los lingüistas a lo largo de la historia. Incluso, otras áreas como la neurociencia, la psicología y la computación se vieron involucradas en el proceso de caracterización del lenguaje durante muchos años, aportando diferentes visiones a este problema. \n",
    "\n",
    "Sin embargo, no es la intención de esta tesis/nota trabajar y discutir la caracterización del lenguaje, sino entender cómo utilizarlo. Más aún, entender cómo hacer un algoritmo computacional que pueda procesar correctamente una fuente de lenguaje escrito, como podría ser un párrafo de un libro, un *tweet*, una transcripción de un diálogo, una conferencia o una nota periodística. \n",
    "\n",
    "En este sentido, se distinguen dos visiones que involucran computación y lenguaje. La primera (y la más antigua) se conoce como linguística computacional (***computational linguistics*** en inglés), y la segunda (que es la que nos interesa en esta nota) es el procesamiento de lenguaje natural (o ***natural language porcessing*** en inglés). Ambas visiones son válidas y, en muchos sentidos, complementarias. La primera se preocupa fundamentalmente por el problema de la lingüística y cómo puede explicarse mediante reglas formales, para lo cual utiliza la computación como herramienta fundamental de sus teorías. Por otro lado, el procesamiento de lenguaje natural utiliza herramientas como machine learning y estadística para encontrar patrones en el lenguaje y resolver tareas específicas que involucran procesar lenguaje. \n",
    "\n",
    "En esta tesis/nota se adoptará una metodología de trabajo más similar a la visión estadística del procesamiento del lenguaje (NLP) que a la linguística computacional.\n",
    "\n",
    "Bibliorgrafía:\n",
    "* Christopher D. Manning, Hinrich Schütze - Foundations of Statistical Natural Language Processing-The MIT Press (1999)\n",
    "* Mitkov Ruslan (Editor) - The Oxford Handbook of Computational Linguistics"
   ]
  },
  {
   "cell_type": "markdown",
   "metadata": {},
   "source": [
    "# Herramientas\n",
    "\n",
    "Estadística, Probabilidad, Machine learning, Deep Learning"
   ]
  },
  {
   "cell_type": "markdown",
   "metadata": {},
   "source": [
    "# Clasificación\n",
    "\n",
    "En los capítulos siguientes vamos a estar modelando muchos de los problemas de NLP como problemas de clasificación, por lo que es necesario hacer una explicación detallada del mismo. \n",
    "\n",
    "# Aprendizaje supervisado\n",
    "\n",
    "El problema de clasificación explicado anteriormente presenta buenos resultados cuando se pueden estimar las probabilidades a posteriori de cada clase. Una forma de hacer eso es estimar las dichas probabilidades a partir de un conjunto de datos de muestras con sus respectivas etiquetas. Este proceso se conoce como **aprendizaje supervisado**.\n",
    "\n",
    "modelos paramétricos y no paramétricos, modelos discriminativos y generativos."
   ]
  }
 ],
 "metadata": {
  "kernelspec": {
   "display_name": "Python 3",
   "language": "python",
   "name": "python3"
  },
  "language_info": {
   "codemirror_mode": {
    "name": "ipython",
    "version": 3
   },
   "file_extension": ".py",
   "mimetype": "text/x-python",
   "name": "python",
   "nbconvert_exporter": "python",
   "pygments_lexer": "ipython3",
   "version": "3.7.3"
  }
 },
 "nbformat": 4,
 "nbformat_minor": 2
}
