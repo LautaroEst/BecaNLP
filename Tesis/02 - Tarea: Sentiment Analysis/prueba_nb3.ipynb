{
 "cells": [
  {
   "cell_type": "code",
   "execution_count": 1,
   "metadata": {},
   "outputs": [],
   "source": [
    "import sys, os\n",
    "sys.path.append(os.path.join(sys.path[0].split('BecaNLP')[0],'BecaNLP/Utils'))\n",
    "\n",
    "import NLPUtils as nlp\n",
    "from NLPUtils.datasets import imdb\n",
    "\n",
    "import matplotlib.pyplot as plt\n",
    "import numpy as np\n",
    "import pandas as pd\n",
    "\n",
    "%load_ext autoreload\n",
    "%autoreload 2"
   ]
  },
  {
   "cell_type": "code",
   "execution_count": null,
   "metadata": {},
   "outputs": [],
   "source": [
    "from NLPUtils.datasets.utils import NgramTextVectorizer\n",
    "from sklearn.naive_bayes import MultinomialNB\n",
    "\n",
    "train_corpus = imdb.train_reader()\n",
    "indices = nlp.datasets.utils.split_dev_kfolds(len(train_corpus),dev_size=.2,random_state=1273)\n",
    "train_idx, dev_idx = indices[0]\n",
    "dev_corpus, train_corpus = train_corpus.iloc[dev_idx,:], train_corpus.iloc[train_idx,:]\n",
    "\n",
    "vocabulary = None#imdb.vocab_file_reader()\n",
    "unk_token = 'UNK'\n",
    "ngram_range = (1,1)\n",
    "token_pattern = r'\\b\\w+\\b'\n",
    "min_freq, max_freq = 0, np.inf\n",
    "max_features = 10000\n",
    "vectorizer = NgramTextVectorizer(vocabulary=vocabulary,ngram_range=ngram_range,\n",
    "                min_freq=min_freq,max_freq=max_freq,unk_token=unk_token,max_features=max_features)\n",
    "vectorizer.fit(train_corpus['comment'])\n",
    "\n",
    "X_train = vectorizer.transform(train_corpus['comment'])\n",
    "X_dev = vectorizer.transform(dev_corpus['comment'])\n",
    "print(X_train.shape)\n",
    "print(X_dev.shape)"
   ]
  },
  {
   "cell_type": "code",
   "execution_count": 6,
   "metadata": {},
   "outputs": [
    {
     "name": "stdout",
     "output_type": "stream",
     "text": [
      "Binary classification:\n",
      "----------------------\n",
      "Number of zeros in train:  9965\n",
      "Number of ones in train:  10035\n",
      "Number of zeros in dev:  2535\n",
      "Number of ones in dev:  2465\n",
      "Number of correctly predicted samples: 4256/5000 (85.12%)\n"
     ]
    }
   ],
   "source": [
    "y_train = train_corpus['rate'].values.copy()\n",
    "y_train[y_train < 5] = 0\n",
    "y_train[y_train > 6] = 1\n",
    "y_dev = dev_corpus['rate'].values.copy()\n",
    "y_dev[y_dev < 5] = 0\n",
    "y_dev[y_dev > 6] = 1\n",
    "\n",
    "print('Binary classification:')\n",
    "print('----------------------')\n",
    "print('Number of zeros in train: ',(y_train == 0).sum())\n",
    "print('Number of ones in train: ',(y_train == 1).sum())\n",
    "print('Number of zeros in dev: ',(y_dev == 0).sum())\n",
    "print('Number of ones in dev: ',(y_dev == 1).sum())\n",
    "\n",
    "classifier1 = MultinomialNB()\n",
    "classifier1.fit(X_train,y_train)\n",
    "y_predict = classifier1.predict(X_dev)\n",
    "n_correct = (y_predict == y_dev).sum()\n",
    "n_total = y_predict.size\n",
    "print('Number of correctly predicted samples: {}/{} ({:.2f}%)'.format(n_correct,n_total,n_correct/n_total*100))"
   ]
  },
  {
   "cell_type": "code",
   "execution_count": 7,
   "metadata": {},
   "outputs": [
    {
     "name": "stdout",
     "output_type": "stream",
     "text": [
      "4-category classification:\n",
      "--------------------------\n",
      "N 0 train:  0\n",
      "N 1 train:  4089\n",
      "N 2 train:  1791\n",
      "N 3 train:  1923\n",
      "N 0 dev:  0\n",
      "N 1 dev:  1011\n",
      "N 2 dev:  493\n",
      "N 3 dev:  497\n",
      "Number of correctly predicted samples: 1997/5000 (39.94%)\n"
     ]
    }
   ],
   "source": [
    "y_train = train_corpus['rate'].values.copy()\n",
    "y_train[(y_train == 1) * (y_train == 2)] = 0\n",
    "y_train[(y_train == 3) * (y_train == 4)] = 1\n",
    "y_train[(y_train == 7) * (y_train == 8)] = 2\n",
    "y_train[(y_train == 9) * (y_train == 10)] = 3\n",
    "\n",
    "\n",
    "y_dev = dev_corpus['rate'].values.copy()\n",
    "y_dev[(y_dev == 1) * (y_dev == 2)] = 0\n",
    "y_dev[(y_dev == 3) * (y_dev == 4)] = 1\n",
    "y_dev[(y_dev == 7) * (y_dev == 8)] = 2\n",
    "y_dev[(y_dev == 9) * (y_dev == 10)] = 3\n",
    "\n",
    "print('4-category classification:')\n",
    "print('--------------------------')\n",
    "print('N 0 train: ',(y_train == 0).sum())\n",
    "print('N 1 train: ',(y_train == 1).sum())\n",
    "print('N 2 train: ',(y_train == 2).sum())\n",
    "print('N 3 train: ',(y_train == 3).sum())\n",
    "\n",
    "print('N 0 dev: ',(y_dev == 0).sum())\n",
    "print('N 1 dev: ',(y_dev == 1).sum())\n",
    "print('N 2 dev: ',(y_dev == 2).sum())\n",
    "print('N 3 dev: ',(y_dev == 3).sum())\n",
    "\n",
    "classifier1 = MultinomialNB()\n",
    "classifier1.fit(X_train,y_train)\n",
    "y_predict = classifier1.predict(X_dev)\n",
    "n_correct = (y_predict == y_dev).sum()\n",
    "n_total = y_predict.size\n",
    "print('Number of correctly predicted samples: {}/{} ({:.2f}%)'.format(n_correct,n_total,n_correct/n_total*100))"
   ]
  }
 ],
 "metadata": {
  "kernelspec": {
   "display_name": "Python 3",
   "language": "python",
   "name": "python3"
  },
  "language_info": {
   "codemirror_mode": {
    "name": "ipython",
    "version": 3
   },
   "file_extension": ".py",
   "mimetype": "text/x-python",
   "name": "python",
   "nbconvert_exporter": "python",
   "pygments_lexer": "ipython3",
   "version": "3.7.3"
  }
 },
 "nbformat": 4,
 "nbformat_minor": 2
}
