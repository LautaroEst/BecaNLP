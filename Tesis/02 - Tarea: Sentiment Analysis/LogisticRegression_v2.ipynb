{
 "cells": [
  {
   "cell_type": "markdown",
   "metadata": {},
   "source": [
    "# Regresión losgística para análisis de sentimientos"
   ]
  },
  {
   "cell_type": "code",
   "execution_count": 1,
   "metadata": {},
   "outputs": [],
   "source": [
    "import sys\n",
    "import os\n",
    "ROOT_PATH = os.path.join(sys.path[0].split('BecaNLP')[0],'BecaNLP')\n",
    "DATASETS_ROOT_PATH = os.path.join(ROOT_PATH,'Utils/Datasets')\n",
    "NLPUTILS_PATH = os.path.join(ROOT_PATH,'Utils/')\n",
    "sys.path += [DATASETS_ROOT_PATH, NLPUTILS_PATH]\n",
    "\n",
    "import pandas as pd\n",
    "pd.options.mode.chained_assignment = None\n",
    "import numpy as np\n",
    "import torch\n",
    "%matplotlib notebook\n",
    "import matplotlib.pyplot as plt\n",
    "\n",
    "from NLPUtils import *\n",
    "                \n",
    "%load_ext autoreload\n",
    "%autoreload 2"
   ]
  },
  {
   "cell_type": "markdown",
   "metadata": {},
   "source": [
    "En este notebook se va a estudiar el modelo de Regresión Logística aplicado a análisis de sentimientos."
   ]
  },
  {
   "cell_type": "markdown",
   "metadata": {},
   "source": [
    "## Problema general\n",
    "\n",
    "Vamos a formular el problema de análisis de sentimientos como un problema de clasificación binaria. Se dispondrá de un conjunto de datos de entrenamiento que consisten en una serie de comentarios conformados por una secuencia de palabras, y su respectiva connotación (positiva o negativa). El objetivo de esta parte será estudiar el modelo de **regresión logística** utilizado para resolver este problema.\n",
    "\n",
    "Antes de continuar, detallamos la notación que vamos a utilizar:\n",
    "\n",
    "* El texto de entrada va a ser mapeado a un ejemplo de un vector aleatorio $\\mathbf{x}=\\begin{bmatrix} x_1 & x_2 & \\ldots & x_n \\end{bmatrix}^T$ que representa el conjunto de features de ese texto.\n",
    "\n",
    "* La clase a la que pertenece cada comentario se denota con un ejemplo de una variable aleatoria $y$, con realizaciones en el conjunto $\\{ 0,1 \\}$. De esta manera, hacemos corresponder a $y=1$ cuando el texto tiene una connotación positiva y a $y=0$ cuando ésta es negativa.\n",
    "\n",
    "* El conjunto de $N$ muestras de entrenamiento se representa por $\\left\\{ \\left(\\mathbf{x}^{(i)}, y^{(i)}\\right) \\right\\}_{i=1}^N$."
   ]
  },
  {
   "cell_type": "markdown",
   "metadata": {},
   "source": [
    "## El modelo\n",
    "\n",
    "El modelo de regresión logística es un modelo discriminativo que forma parte de la familia de modelos discriminativos paramétricos conocida como **Modelos Lineales Generalizados** (*Generalized Linear Models*, GLM). Un modelo de este tipo puede construirse de la siguiente manera:\n",
    "\n",
    "1. Se define que la variable aleatoria $y|\\mathbf{x}$ que relaciona la entrada con la salida depende de un conjunto de parámetros $\\theta$ y pertenece a la familia de exponenciales de parámetro $\\eta$ de tal manera que $\\eta = \\theta^T \\mathbf{x}$. Esto es:\n",
    "\n",
    "$$\n",
    "\\begin{align*}\n",
    "y|\\mathbf{x} &\\sim \\mathrm{ExpFamily}\\left(\\eta\\right) \\\\[.5em]\n",
    "P(y|\\mathbf{x}) &= b(y)\\exp\\left( \\eta^T y - a\\left(\\eta\\right)\\right) \\\\[.5em]\n",
    "P(y|\\mathbf{x};\\theta) &= b(y)\\exp\\left( \\mathbf{x}^T \\theta y - a(\\theta^T \\mathbf{x})\\right)\n",
    "\\end{align*}\n",
    "$$\n",
    "\n",
    "2. La salida del modelo se obtiene por medio de\n",
    "\n",
    "$$\n",
    "h_\\theta(\\mathbf{x}) = E\\left[ y|\\mathbf{x}\\right]\n",
    "$$\n",
    "\n",
    "El modelo de regresión logistica consiste en definir la probabilidad a posteriori \n",
    "\n",
    "$$\n",
    "P(y|\\mathbf{x};\\theta) = \\sigma\\left( \\theta^T \\mathbf{x} \\right)^y \\left( 1 - \\sigma\\left( \\theta^T \\mathbf{x} \\right) \\right)^{(1-y)}\n",
    "$$\n",
    "\n",
    "donde \n",
    "\n",
    "$$\n",
    "\\sigma(z) = \\frac{1}{1+ e^{-z}}\n",
    "$$ \n",
    "\n",
    "y puede mostrarse que forma parte de los modelos GLM para el caso en que $T(y)=y$, $b(y)=1$ y $a(\\theta^T\\mathbf{x})=\\log\\left(1+e^{\\theta^T\\mathbf{x}}\\right)$. \n",
    "\n",
    "También puede verse que \n",
    "\n",
    "$$\n",
    "h_\\theta(\\mathbf{x}) = E\\left[ y|\\mathbf{x}\\right] = P(y=1|\\mathbf{x};\\theta)\\cdot 1 + P(y=0|\\mathbf{x};\\theta)\\cdot 0 = \\sigma\\left( \\theta^T \\mathbf{x} \\right)\n",
    "$$\n",
    "\n",
    "por lo que la salida del modelo da la probabilidad de pertenecer a la clase $y=1$, y por lo tanto, aporta todo lo necesario para realizar una nueva predicción.\n",
    "\n",
    "En lo que sigue, adoptaremos el criterio de **máxima verosimilitud** para estimar los parámetros del modelo. De esta forma:\n",
    "\n",
    "$$\n",
    "\\begin{align*}\n",
    "\\hat{\\theta} &= \\mathrm{argmax}_\\theta \\prod_{i=1}^N P\\left(y^{(i)}|\\mathbf{x}^{(i)};\\theta\\right) \\\\\n",
    "&= \\mathrm{argmax}_\\theta \\prod_{i=1}^N \\sigma\\left( \\theta^T \\mathbf{x}^{(i)} \\right)^{y^{(i)}} \\left( 1 - \\sigma\\left( \\theta^T \\mathbf{x}^{(i)} \\right) \\right)^{(1-y^{(i)})}\\\\\n",
    "&= \\mathrm{argmax}_\\theta \\log\\left(\\prod_{i=1}^N \\sigma\\left( \\theta^T \\mathbf{x}^{(i)} \\right)^{y^{(i)}} \\left( 1 - \\sigma\\left( \\theta^T \\mathbf{x}^{(i)} \\right) \\right)^{(1-y^{(i)})}\\right)\\\\\n",
    "&= \\mathrm{argmax}_\\theta \\sum_{i=1}^N y^{(i)} \\log\\left(\\sigma\\left( \\theta^T \\mathbf{x}^{(i)} \\right)\\right) + \\left(1 - y^{(i)}\\right) \\log\\left(1 - \\sigma\\left( \\theta^T \\mathbf{x}^{(i)} \\right)\\right)\\\\\n",
    "\\end{align*}\n",
    "$$"
   ]
  },
  {
   "cell_type": "markdown",
   "metadata": {},
   "source": [
    "## Extracción de features\n",
    "\n",
    "Si bien extraer características es el principal problema en procesamiento de lenguaje, en este caso sólo se experimentará con una serie de variantes en la tarea de representar un texto como una serie de características o *features*. Sin embargo, la parte en la que se comprende lo que se está diciendo en el texto está incluída, sin duda, en la extracción de features del texto. \n",
    "\n",
    "### Bolsa de Palabras\n",
    "\n",
    "Una forma muy común de representar un texto es con una **Bolsa de Palabras** (*Bag of Words*, BOW). Este método consiste en definir un vocabulario de palabras $V=\\{ w_1, w_2,\\ldots, w_n\\}$ y contar la cantidad de veces que apareció cada una de estas palabras en el texto. De esta manera, la $i$-ésima coordenada del vector $\\mathbf{x}$ corresponde a la cantidad de veces que apareció la palabra $w_i$ en el texto.\n",
    "\n",
    "Por ejemplo, supongamos que se tiene el siguiente texto:\n",
    "\n",
    "```\n",
    "<START> I am Sam. Sam I am. I do not like green eggs and ham. <END>\n",
    "```\n",
    "\n",
    "y se define un vocabulario `V = ['I', 'am', 'Sam', 'do', 'not', 'like', 'green', 'eggs', 'and', 'ham', '.', '<START>', '<END>']`. Entonces, el vector de features que representa el texto anterior es\n",
    "\n",
    "$$\n",
    "x = \\begin{bmatrix}\n",
    "count(I) \\\\\n",
    "count(am) \\\\\n",
    "count(Sam) \\\\\n",
    "\\vdots \\\\\n",
    "count(.) \\\\\n",
    "count(<START>) \\\\\n",
    "count(<END>) \n",
    "\\end{bmatrix}\n",
    "=\n",
    "\\begin{bmatrix}\n",
    "3 \\\\ 2 \\\\ 2 \\\\ \\vdots \\\\ 3 \\\\ 1 \\\\ 1 \n",
    "\\end{bmatrix}\n",
    "$$\n",
    "\n",
    "Notemos varias cosas:\n",
    "\n",
    "* Esta representación es equivalente a representar un histograma de las palabras de que aparecen en cada muestra.\n",
    "\n",
    "* No se tiene en cuenta el orden en el que aparecen las palabras, por lo que se está perdiendo información (¡y muy valiosa!)\n",
    "\n",
    "* Existen elementos del vocabulario, como el punto y los signos de comienzo y fin del texto, que no son palabras pero que, sin embargo, forma parte del texto. Esto se hace porque aportan información valiosa sobre el texto, y descartarlos, muchas veces disminuye el desempeño del algoritmo. Por otro lado, se verá que tener muchos componentes en el vocabulario también puede jugar en contra de la cantidad de aciertos. Es común denominar a los integrantes del vocabulario ***tokens*** cuando se refiere a los ejemplos de estos elementos en el texto, y ***types*** cuando se refieren a los elementos en sí.\n",
    "\n",
    "* Existe la posibilidad de que en el texto aparezcan tokens (como por ejemplo `green`) que no forman parte del vocabulario. En este caso se suelen ignorar estas apariciones, aunque a veces se suele incorporar un token especial de tipo desconocido (representado como `<UNK>`) que contabilice las palabras que están fuera del vocabulario. "
   ]
  },
  {
   "cell_type": "code",
   "execution_count": null,
   "metadata": {},
   "outputs": [],
   "source": []
  }
 ],
 "metadata": {
  "kernelspec": {
   "display_name": "Python 3",
   "language": "python",
   "name": "python3"
  },
  "language_info": {
   "codemirror_mode": {
    "name": "ipython",
    "version": 3
   },
   "file_extension": ".py",
   "mimetype": "text/x-python",
   "name": "python",
   "nbconvert_exporter": "python",
   "pygments_lexer": "ipython3",
   "version": "3.7.3"
  }
 },
 "nbformat": 4,
 "nbformat_minor": 2
}
