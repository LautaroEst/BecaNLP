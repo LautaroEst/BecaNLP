{
 "cells": [
  {
   "cell_type": "markdown",
   "metadata": {},
   "source": [
    "# Introducción a Sentiment Analysis\n",
    "\n",
    "Bibliografía: \n",
    "\n",
    "* [Sentiment Symposium Tutorial](http://sentiment.christopherpotts.net/)\n",
    "* Notebooks del [curso cs224u](https://web.stanford.edu/class/cs224u/) de Stanford: [Stanford Sentiment Treebank](https://nbviewer.jupyter.org/github/cgpotts/cs224u/blob/master/sst_01_overview.ipynb), [Feature Representations](https://nbviewer.jupyter.org/github/cgpotts/cs224u/blob/master/sst_02_hand_built_features.ipynb), [Models](https://nbviewer.jupyter.org/github/cgpotts/cs224u/blob/master/sst_03_neural_networks.ipynb)"
   ]
  },
  {
   "cell_type": "markdown",
   "metadata": {},
   "source": [
    "\"Análisis de sentimientos\" (*sentiment analysis* en inglés) es la tarea que involucra identificar y estudiar, entre otras cosas, emociones, sentimientos, actitudes y opiniones que aparecen en el lenguaje. \n",
    "\n",
    "FALTA:\n",
    "* Aplicaciones\n",
    "* Estudios cognitivos y lingüísticos sobre la forma de expresar sentimientos"
   ]
  },
  {
   "cell_type": "markdown",
   "metadata": {},
   "source": [
    "## Preparando el texto\n",
    "\n",
    "En general, todas las tareas de NLP pueden variar mucho su performance según cómo sea preprocesado el texto. En este caso no nos vamos a hacer problema por esto y suponemos que la tarea de tokenización ya fue resulta en una forma en que fue tomado en cuenta que el problema a encarar es el análisis de sentimientos. ¿Qué significa esto? Supongamos el siguiente *tweet*:\n",
    "```\n",
    "@SentimentSymp:  can't wait for the Nov 9 #Sentiment talks! \n",
    "YAAAAAAY!!! >:-D http://sentimentsymposium.com/.\n",
    "```\n",
    "Esto puede tener varias formas de dividir en tokens, y más aún teniendo en cuenta que algunas palabras denotan emociones. Por ejemplo, `YAAAAAAY!!!`, `YAAAY!!!`, `YAAAY!` o `yaay!` podrían corresponder al mismo token y mantener el mismo sentido. De esta manera, se evitan problemas de esparcicidad en la codificación de las palabras. \n",
    "\n",
    "En lo que sigue vamos a utilizar el [*Large Movie Review Dataset v1.0* dataset](https://ai.stanford.edu/~amaas/data/sentiment/) que contiene *reviews* de películas y su correspondiente clasificación en \"positiva\" o \"negativa\". Además, utilizaremos la librería [NLTK](https://www.nltk.org/api/nltk.tokenize.html) para realizar la tokenización."
   ]
  },
  {
   "cell_type": "code",
   "execution_count": 1,
   "metadata": {},
   "outputs": [
    {
     "name": "stdout",
     "output_type": "stream",
     "text": [
      "['@SentimentSymp', ':', \"can't\", 'wait', 'for', 'the', 'Nov', '9', '#Sentiment', 'talks', '!', 'YAAAAAAY', '!', '!', '!', '>:-D', 'http://sentimentsymposium.com/', '.']\n"
     ]
    }
   ],
   "source": [
    "import nltk\n",
    "from nltk.tokenize import TweetTokenizer\n",
    "\n",
    "t = \"\"\"@SentimentSymp:  can't wait for the Nov 9 #Sentiment talks! \n",
    "YAAAAAAY!!! >:-D http://sentimentsymposium.com/.\"\"\"\n",
    "\n",
    "tokenizer = TweetTokenizer()\n",
    "t_tokenized = tokenizer.tokenize(t)\n",
    "print(t_tokenized)"
   ]
  },
  {
   "cell_type": "markdown",
   "metadata": {},
   "source": [
    "Además de la tokenización existen varios procesos que aportan información y mejoran la performance de los modelos de análisis de sentimientos. Por ejemplo, ciertos tipos de *stemming* ayudan a reducir la dimensión del vocabulario y por lo tanto, suele aumentar el rendimiento significativamente para datasets con pocas muestras. Sin embargo a veces esto puede ser contraproducente. Por otro lado, también suelen existir datasets que contienen *Part-Of-Speech (POS) Tagging*, lo que significa que cada token viene acompañado de información semántica, sintáctica o inclusive con información sobre el sentimiento de la palabra. Por el momento no se implentará ninguna de estas técnicas más que la tokenización con conocimiento de sentimientos (descrita más arriba)."
   ]
  },
  {
   "cell_type": "code",
   "execution_count": 2,
   "metadata": {},
   "outputs": [
    {
     "name": "stdout",
     "output_type": "stream",
     "text": [
      "Number of documents in corpus: 6\n",
      "Number of total tokens in corpus: 1640\n"
     ]
    }
   ],
   "source": [
    "# Obtenemos el corpus\n",
    "\n",
    "import os\n",
    "import nltk\n",
    "from nltk.tokenize import TweetTokenizer\n",
    "\n",
    "POS_ROOT_PATH = '../../Utils/Datasets/aclImdb/train/pos'\n",
    "NEG_ROOT_PATH = '../../Utils/Datasets/aclImdb/train/neg'\n",
    "pos_filenames = os.listdir(POS_ROOT_PATH)[:3]\n",
    "neg_filenames = os.listdir(NEG_ROOT_PATH)[:3]\n",
    "tokenizer = TweetTokenizer()\n",
    "corpus = []\n",
    "for filename in pos_filenames:\n",
    "    with open(os.path.join(POS_ROOT_PATH,filename), 'r') as f:\n",
    "        corpus.append(tokenizer.tokenize(f.read()))\n",
    "for filename in neg_filenames:\n",
    "    with open(os.path.join(NEG_ROOT_PATH,filename), 'r') as f:\n",
    "        corpus.append(tokenizer.tokenize(f.read()))\n",
    "\n",
    "print('Number of documents in corpus: {}'.format(len(corpus)))\n",
    "print('Number of total tokens in corpus: {}'.format(sum([len(doc) for doc in corpus])))"
   ]
  },
  {
   "cell_type": "code",
   "execution_count": 3,
   "metadata": {},
   "outputs": [
    {
     "name": "stdout",
     "output_type": "stream",
     "text": [
      "Vocabulary size: 690\n"
     ]
    },
    {
     "data": {
      "text/plain": [
       "Text(0, 0.5, 'frequencies')"
      ]
     },
     "execution_count": 3,
     "metadata": {},
     "output_type": "execute_result"
    },
    {
     "data": {
      "image/png": "[encoded data removed]",
      "text/plain": [
       "<Figure size 432x288 with 1 Axes>"
      ]
     },
     "metadata": {
      "needs_background": "light"
     },
     "output_type": "display_data"
    }
   ],
   "source": [
    "# Definimos el vocabulario para el corpus\n",
    "\n",
    "import itertools\n",
    "%matplotlib inline\n",
    "import matplotlib.pyplot as plt\n",
    "import numpy as np\n",
    "\n",
    "def get_vocab_from_corpus(corpus):\n",
    "    vocab = {token: 0 for token in list(set(itertools.chain.from_iterable(corpus)))}\n",
    "    for token in itertools.chain.from_iterable(corpus):\n",
    "        vocab[token] += 1\n",
    "    return vocab\n",
    "    \n",
    "vocab = get_vocab_from_corpus(corpus)\n",
    "print('Vocabulary size: {}'.format(len(vocab)))\n",
    "plt.semilogx(np.arange(len(vocab)), sorted(vocab.values(),reverse=True), marker='o', fillstyle='none', linestyle='none')\n",
    "plt.xlabel('words')\n",
    "plt.ylabel('frequencies')"
   ]
  },
  {
   "cell_type": "markdown",
   "metadata": {},
   "source": [
    "En base a esto definimos un vocabulario de xxxxx palabras que va a contener a los tokens más frecuentes, y el resto serán considerados como `<UNK>` (desconocidos) y serán ignorados, tanto para el entrenamiento como para la evaluación."
   ]
  },
  {
   "cell_type": "code",
   "execution_count": 12,
   "metadata": {},
   "outputs": [
    {
     "name": "stdout",
     "output_type": "stream",
     "text": [
      "['<START>', 'Exquisite', 'comedy', 'starring', 'Marian', 'Davies', '(', 'with', 'the', 'affable', 'William', 'Haines', ')', '.', 'Young', 'Peggy', 'arrives', 'in', 'Hollywood', 'seeking', 'stardom', '.', 'Cameo', 'performances', 'showcase', '\"', 'all', 'the', 'stars', 'in', \"MGM's\", 'heaven', '\"', 'in', 'the', 'famous', 'commissary', 'scene', ',', 'plus', 'lots', 'of', 'vintage', 'film', 'making', 'detail', 'for', 'the', 'scholar', '.', 'Pic', 'also', 'captures', 'for', 'posterity', 'Davies', \"'\", 'famous', ',', 'wickedly', 'sarcastic', 'impersonations', 'of', 'the', 'top', 'stars', 'of', 'the', 'day', '(', 'her', 'Swanson', 'is', '<UNK>', 'beaut', '!', ')', '.', '<', 'br', '/', '>', '<', 'br', '/', '>', '\"', 'Peggy', ',', '\"', 'even', 'catches', 'herself', 'as', 'she', 'encounters', 'the', 'famous', 'star', 'Marian', 'Davies', 'at', 'tennis', ',', 'turns', 'up', 'her', 'nose', 'and', 'comments', ',', '\"', 'Ohh', ',', 'I', \"don't\", 'like', 'her', '!', '\"', '<', 'br', '/', '>', '<', 'br', '/', '>', 'My', 'print', 'was', 'perfect', '.', 'Story', ',', 'direction', ',', 'acting', 'an', 'authentic', 'charm', 'and', '<UNK>', 'must', 'for', 'all', 'silent', 'afficinados', '.', '<END>']\n"
     ]
    }
   ],
   "source": [
    "def get_dataset_and_vocab(root, vocab_list):\n",
    "    tk_to_idx = {tk: idx for idx, tk in enumerate(vocab_list)}\n",
    "    idx_to_tk = {idx: tk for idx, tk in enumerate(vocab_list)}\n",
    "    POS_ROOT_PATH = os.path.join(root,'pos')\n",
    "    NEG_ROOT_PATH = os.path.join(root,'neg')\n",
    "    pos_filenames = os.listdir(POS_ROOT_PATH)[:3]\n",
    "    neg_filenames = os.listdir(NEG_ROOT_PATH)[:3]\n",
    "    data_len = len(pos_filenames) + len(neg_filenames)\n",
    "    tokenizer = TweetTokenizer()\n",
    "    data = [] # Neg sample: ([1,4,5,...], 0), Pos sample: ([1,4,5,...], 1)\n",
    "    for filename in pos_filenames:\n",
    "        with open(os.path.join(POS_ROOT_PATH,filename), 'r') as f:\n",
    "            data.append((['<START>'] + tokenizer.tokenize(f.read()) + ['<END>'],1))\n",
    "    for filename in neg_filenames:\n",
    "        with open(os.path.join(NEG_ROOT_PATH,filename), 'r') as f:\n",
    "            data.append((['<START>'] + tokenizer.tokenize(f.read()) + ['<END>'],0))\n",
    "    data_idx = [([tk_to_idx.get(tk,-1) for tk in data[i][0]],data[i][1]) for i in range(data_len)]\n",
    "    return data_idx, idx_to_tk\n",
    "\n",
    "ROOT_PATH = '../../Utils/Datasets/aclImdb/train/'\n",
    "vocab_list = sorted(list(vocab.keys()) + ['<START>', '<END>'])\n",
    "data, idx_to_tk = get_dataset_and_vocab(ROOT_PATH, vocab_list)\n",
    "print([idx_to_tk.get(idx,'<UNK>') for idx in data[0][0]])"
   ]
  },
  {
   "cell_type": "markdown",
   "metadata": {},
   "source": [
    "A continuación se verán algunos modelos de clasificación para implementar el analizador de sentimientos. En todos los casos se considerará que las únicas clases posibles son \"Poistivo\" y \"Negativo\", y se utilizará el dataset definido anteriormente."
   ]
  },
  {
   "cell_type": "markdown",
   "metadata": {},
   "source": [
    "## Clasificación con Naive Bayes\n",
    "\n",
    "El método de Naive Bayes es un ejemplo de modelos generativos que se utilizan para clasificar texto. \n",
    "\n",
    "EXPLICAR QUÉ ES BAG OF WORDS"
   ]
  },
  {
   "cell_type": "code",
   "execution_count": null,
   "metadata": {},
   "outputs": [],
   "source": []
  },
  {
   "cell_type": "markdown",
   "metadata": {},
   "source": [
    "## Clasificación con Bag-Of-Words lineal\n",
    "\n",
    "A continuación se implementará un modelo neuronal que consiste en una capa que convierte a la entrada en un elemento del espacio semántico (un *word embedding*), y una capa de salida que realiza la clasificación binaria (regresión logística)."
   ]
  },
  {
   "cell_type": "code",
   "execution_count": null,
   "metadata": {},
   "outputs": [],
   "source": []
  },
  {
   "cell_type": "markdown",
   "metadata": {},
   "source": [
    "## Clasificación con RNN"
   ]
  },
  {
   "cell_type": "code",
   "execution_count": null,
   "metadata": {},
   "outputs": [],
   "source": []
  }
 ],
 "metadata": {
  "kernelspec": {
   "display_name": "Python 3",
   "language": "python",
   "name": "python3"
  },
  "language_info": {
   "codemirror_mode": {
    "name": "ipython",
    "version": 3
   },
   "file_extension": ".py",
   "mimetype": "text/x-python",
   "name": "python",
   "nbconvert_exporter": "python",
   "pygments_lexer": "ipython3",
   "version": "3.7.3"
  }
 },
 "nbformat": 4,
 "nbformat_minor": 2
}
