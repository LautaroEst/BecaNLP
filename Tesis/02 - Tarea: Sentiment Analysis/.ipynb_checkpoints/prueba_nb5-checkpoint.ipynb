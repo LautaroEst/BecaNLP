{
 "cells": [
  {
   "cell_type": "code",
   "execution_count": 1,
   "metadata": {},
   "outputs": [],
   "source": [
    "import numpy as np\n",
    "import pandas as pd\n",
    "import torch\n",
    "\n",
    "import sys, os\n",
    "sys.path.append(os.path.join(sys.path[0].split('BecaNLP')[0],'BecaNLP/Utils'))\n",
    "\n",
    "%matplotlib notebook\n",
    "import matplotlib.pyplot as plt\n",
    "\n",
    "import NLPUtils as nlp\n",
    "from NLPUtils.datasets import imdb\n",
    "\n",
    "%load_ext autoreload\n",
    "%autoreload 2"
   ]
  },
  {
   "cell_type": "code",
   "execution_count": 12,
   "metadata": {},
   "outputs": [
    {
     "name": "stdout",
     "output_type": "stream",
     "text": [
      "{'es': 0, 'es otra': 1, 'es una': 2, 'esto': 3, 'esto es': 4, 'esto también': 5, 'otra': 6, 'otra prueba': 7, 'prueba': 8, 'también': 9, 'una': 10, 'una prueba': 11}\n",
      "[[1 0 1 1 1 0 0 0 1 0 1 1]\n",
      " [0 0 0 1 0 1 0 0 0 1 0 0]\n",
      " [1 1 0 1 1 0 1 1 1 0 0 0]]\n",
      "{'es': 0, 'es otra': 1, 'es una': 2, 'esto': 3, 'esto es': 4, 'esto también': 5, 'otra': 6, 'otra prueba': 7, 'prueba': 8, 'también': 9, 'una': 10, 'una prueba': 11}\n",
      "[[1 0 1 1 1 0 0 0 1 0 1 1]\n",
      " [1 0 0 0 0 0 0 0 0 1 0 0]\n",
      " [0 0 0 1 0 0 0 0 0 0 0 0]]\n"
     ]
    }
   ],
   "source": [
    "from NLPUtils.datasets.utils import NgramCountVectorizer, split_dev_kfolds\n",
    "\n",
    "# train_corpus = ['esto es una prueba',\n",
    "#                 'esto también',\n",
    "#                 'esto es otra prueba.']\n",
    "\n",
    "# dev_corpus = ['esto es una prueba para dev',\n",
    "#               'Esto también lo es',\n",
    "#               'esto ya no importa pero igual']\n",
    "\n",
    "corpus = imdb.train_reader()['comment']\n",
    "train_idx, dev_idx = split_dev_kfolds(len(corpus),dev_size=.2,k_folds=None,random_state=0)\n",
    "train_corpus = corpus.iloc[:,train_idx]\n",
    "dev_corpus = corpus.iloc[:,dev_idx]\n",
    "\n",
    "token_pattern = r'\\b\\w+\\b'\n",
    "unk_token = None\n",
    "max_features = None\n",
    "ngram_range = (1,1)\n",
    "min_freq, max_freq = 0, np.inf\n",
    "vectorizer = NgramCountVectorizer(token_pattern=token_pattern,unk_token=unk_token,\n",
    "             min_freq=min_freq,max_freq=max_freq,ngram_range=ngram_range,max_features=max_features)\n",
    "\n",
    "X_train = vectorizer.fit_transform(train_corpus)\n",
    "#print(vectorizer.vocabulary_)\n",
    "#print(X_train.toarray())\n",
    "\n",
    "X_dev = vectorizer.transform(dev_corpus)\n",
    "print(len(vectorizer.vocabulary_))\n",
    "#print(X_dev.toarray())"
   ]
  }
 ],
 "metadata": {
  "kernelspec": {
   "display_name": "Python 3",
   "language": "python",
   "name": "python3"
  },
  "language_info": {
   "codemirror_mode": {
    "name": "ipython",
    "version": 3
   },
   "file_extension": ".py",
   "mimetype": "text/x-python",
   "name": "python",
   "nbconvert_exporter": "python",
   "pygments_lexer": "ipython3",
   "version": "3.7.7"
  }
 },
 "nbformat": 4,
 "nbformat_minor": 4
}
