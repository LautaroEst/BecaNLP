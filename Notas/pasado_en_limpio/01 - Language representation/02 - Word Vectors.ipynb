{
 "cells": [
  {
   "cell_type": "markdown",
   "metadata": {},
   "source": [
    "# *Procesamiento de Lenguaje Natural: Vectores de palabras*\n",
    "\n",
    "---"
   ]
  },
  {
   "cell_type": "markdown",
   "metadata": {},
   "source": [
    "Hay lenguajes y lenguajes. Sin embargo, en muchos de ellos, la forma de operar en la mayoría de ellos es a través de la representación de las palabras que aparecen en una fuente de lenguaje. Esto es así porque, si bien las palabras no son la unidad mínima de significado posible, hay una muy buena relación entre la capacidad de los modelos para aprender a representar palabras y los resultados de esa representación en las aplicaciones posteriores."
   ]
  }
 ],
 "metadata": {
  "kernelspec": {
   "display_name": "Python 3",
   "language": "python",
   "name": "python3"
  },
  "language_info": {
   "codemirror_mode": {
    "name": "ipython",
    "version": 3
   },
   "file_extension": ".py",
   "mimetype": "text/x-python",
   "name": "python",
   "nbconvert_exporter": "python",
   "pygments_lexer": "ipython3",
   "version": "3.7.6"
  }
 },
 "nbformat": 4,
 "nbformat_minor": 4
}
