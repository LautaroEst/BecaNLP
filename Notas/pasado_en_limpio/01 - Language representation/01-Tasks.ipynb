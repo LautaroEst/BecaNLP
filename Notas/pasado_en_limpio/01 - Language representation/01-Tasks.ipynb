{
 "cells": [
  {
   "cell_type": "markdown",
   "metadata": {},
   "source": [
    "# *Procesamiento del Lenguaje Natural: Aplicaciones y Tareas*\n",
    "\n",
    "---"
   ]
  },
  {
   "cell_type": "markdown",
   "metadata": {},
   "source": [
    "El objetivo de todo esto es tener un manejo operativo del lenguaje natural, es decir, algoritmos concretos que puedan manejar lenguaje eficientemente. Para eso, lo primero que hay que hacer es encontrar formas de representar el lenguaje sobre el cual se desea operar, y por eso, toda esta serie de notebooks se van a dedicar eso.\n",
    "\n",
    "Sin embargo, primero debemos tener en claro qué es lo que queremos hacer, y por eso, en esta introducción se van a dar ejemplos de aplicaciones de procesamiento del lenguaje natural. Esto también va a servir para repasar el modo de trabajo de ML y DL."
   ]
  },
  {
   "cell_type": "code",
   "execution_count": null,
   "metadata": {},
   "outputs": [],
   "source": []
  }
 ],
 "metadata": {
  "kernelspec": {
   "display_name": "Python 3",
   "language": "python",
   "name": "python3"
  },
  "language_info": {
   "codemirror_mode": {
    "name": "ipython",
    "version": 3
   },
   "file_extension": ".py",
   "mimetype": "text/x-python",
   "name": "python",
   "nbconvert_exporter": "python",
   "pygments_lexer": "ipython3",
   "version": "3.7.6"
  }
 },
 "nbformat": 4,
 "nbformat_minor": 4
}
