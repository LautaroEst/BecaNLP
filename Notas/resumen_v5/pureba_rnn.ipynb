{
 "cells": [
  {
   "cell_type": "code",
   "execution_count": 1,
   "metadata": {},
   "outputs": [],
   "source": [
    "import torch\n",
    "import torch.nn as nn\n",
    "import numpy as np"
   ]
  },
  {
   "cell_type": "code",
   "execution_count": 23,
   "metadata": {},
   "outputs": [
    {
     "data": {
      "text/plain": [
       "OrderedDict([('weight_ih_l0', Parameter containing:\n",
       "              tensor([[-0.0033],\n",
       "                      [ 0.2399],\n",
       "                      [-0.3681],\n",
       "                      [-0.3291],\n",
       "                      [-0.1722]], requires_grad=True)),\n",
       "             ('weight_hh_l0', Parameter containing:\n",
       "              tensor([[ 0.1199, -0.0089,  0.3546, -0.0397,  0.1183],\n",
       "                      [-0.1352, -0.0879, -0.4272, -0.2962, -0.1844],\n",
       "                      [ 0.0166,  0.1768,  0.2683, -0.3032, -0.1947],\n",
       "                      [ 0.1624,  0.3714, -0.0920,  0.3347, -0.0721],\n",
       "                      [ 0.0473,  0.4049, -0.4149, -0.2815, -0.1132]], requires_grad=True))])"
      ]
     },
     "execution_count": 23,
     "metadata": {},
     "output_type": "execute_result"
    }
   ],
   "source": [
    "torch.manual_seed(0)\n",
    "input_size = 1\n",
    "hidden_size = 5\n",
    "num_layers = 1\n",
    "rnn = nn.RNN(input_size,hidden_size,num_layers,bias=False)\n",
    "rnn._parameters"
   ]
  },
  {
   "cell_type": "code",
   "execution_count": 44,
   "metadata": {},
   "outputs": [
    {
     "name": "stdout",
     "output_type": "stream",
     "text": [
      "tensor([[ 0.1166],\n",
      "        [ 0.1047],\n",
      "        [-0.3515],\n",
      "        [-0.1667],\n",
      "        [-0.1249]])\n",
      "tensor([[[ 0.1161,  0.1044, -0.3377, -0.1652, -0.1243]]],\n",
      "       grad_fn=<StackBackward>) tensor([[[ 0.1161,  0.1044, -0.3377, -0.1652, -0.1243]]],\n",
      "       grad_fn=<StackBackward>)\n"
     ]
    }
   ],
   "source": [
    "W_ih = torch.tensor([[-0.0033],\n",
    "                     [ 0.2399],\n",
    "                     [-0.3681],\n",
    "                     [-0.3291],\n",
    "                     [-0.1722]])\n",
    "W_hh = torch.tensor([[ 0.1199, -0.0089,  0.3546, -0.0397,  0.1183],\n",
    "                     [-0.1352, -0.0879, -0.4272, -0.2962, -0.1844],\n",
    "                     [ 0.0166,  0.1768,  0.2683, -0.3032, -0.1947],\n",
    "                     [ 0.1624,  0.3714, -0.0920,  0.3347, -0.0721],\n",
    "                     [ 0.0473,  0.4049, -0.4149, -0.2815, -0.1132]])\n",
    "x = torch.tensor([[[1.]]])\n",
    "hidden = torch.tensor([[1.,0.,0.,0.,0.]]).view(1,1,-1)\n",
    "print(W_ih + torch.matmul(W_hh,torch.tensor([[1.,0.,0.,0.,0.]]).T))\n",
    "out, h = rnn(x,hidden)\n",
    "print(out, h)"
   ]
  }
 ],
 "metadata": {
  "kernelspec": {
   "display_name": "Python 3",
   "language": "python",
   "name": "python3"
  },
  "language_info": {
   "codemirror_mode": {
    "name": "ipython",
    "version": 3
   },
   "file_extension": ".py",
   "mimetype": "text/x-python",
   "name": "python",
   "nbconvert_exporter": "python",
   "pygments_lexer": "ipython3",
   "version": "3.7.3"
  }
 },
 "nbformat": 4,
 "nbformat_minor": 2
}
