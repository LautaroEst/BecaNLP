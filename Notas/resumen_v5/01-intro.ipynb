{
 "cells": [
  {
   "cell_type": "markdown",
   "metadata": {},
   "source": [
    "# Introducción a Natural Language Processing\n",
    "\n",
    "Procesamiento de Lenguaje Natural involucra muchas tareas que pueden encararse con todas las herramientas de Machine Learning y Deep Learning existentes. Por ejemplo, las tareas de análisis de sentimientos o identificación de tópicos textuales se puede ver como problemas de clasificación, y por lo tanto, pueden resolverse con cualquiera de los algoritmos de ML o DL. \n",
    "\n",
    "Sin embargo, si bien se pueden obtener muy buenos resultados con las herramientas generales, es difícil hacer un algoritmo que pueda *comprender* con éxito el lenguaje, por lo que el objetivo de representar palabras en un espacio vectorial es en parte encarar este problema. Este problema no implica únicamente esto, pero es un buen comienzo.\n",
    "\n",
    "## Repaso de ML y DL\n",
    "\n",
    "Completar\n",
    "\n",
    "* Problema de decisión, haciendo hincapié en clasificación\n",
    "* Estimación bayesiana y maximum likelihood\n",
    "* Filosofía de trabajo: buscar algoritmos que usen datos disponibles para resolver la tarea y que sean lo más generales posibles.\n",
    "\n",
    "## Ejemplos de tareas de NLP\n",
    "\n",
    "Completar\n",
    "\n",
    "## Preprocesamiento de los datos\n",
    "\n",
    "Completar"
   ]
  }
 ],
 "metadata": {
  "kernelspec": {
   "display_name": "Python 3",
   "language": "python",
   "name": "python3"
  },
  "language_info": {
   "codemirror_mode": {
    "name": "ipython",
    "version": 3
   },
   "file_extension": ".py",
   "mimetype": "text/x-python",
   "name": "python",
   "nbconvert_exporter": "python",
   "pygments_lexer": "ipython3",
   "version": "3.7.3"
  }
 },
 "nbformat": 4,
 "nbformat_minor": 2
}
