{
 "cells": [
  {
   "cell_type": "markdown",
   "metadata": {},
   "source": [
    "# Introducción a Vectors Semantic Spaces\n",
    "\n",
    "La manera de visualizar la comprensión del lenguaje más utilizada en la actualidad es a través de un espacio vectorial semántico (*VSM*, *Vector Semantic Space*). Los vectores que integran este espacio representan las características lingüísticas de las palabras, de manera que uno pueda cuantificar medidas de similitud entre estas características. Por ejemplo, puedo identificar si palabras tienen el mismo contenido semántico a partir de una métrica de distancia. En esta sección se estudiarán los distintos métodos para obtener word vectors y cómo evaluar su capacidad de comprensión lingüística.\n",
    "\n",
    "* Explicar los diferentes métodos para construir word vectors y sus hipótesis\n",
    "\n",
    "* Explicar los métodos de evaluación de word vectors"
   ]
  }
 ],
 "metadata": {
  "kernelspec": {
   "display_name": "Python 3",
   "language": "python",
   "name": "python3"
  },
  "language_info": {
   "codemirror_mode": {
    "name": "ipython",
    "version": 3
   },
   "file_extension": ".py",
   "mimetype": "text/x-python",
   "name": "python",
   "nbconvert_exporter": "python",
   "pygments_lexer": "ipython3",
   "version": "3.7.3"
  }
 },
 "nbformat": 4,
 "nbformat_minor": 2
}
