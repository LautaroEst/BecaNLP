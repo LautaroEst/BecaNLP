{
 "cells": [
  {
   "cell_type": "markdown",
   "metadata": {},
   "source": [
    "NOTA: La idea central de un proyecto científico (como una tesis o una beca) es **el estudio de los algoritmos para la comprensión del lenguaje natural**. Esto significa que el objetivo de este proyecto es estudiar todo lo que se sabe hasta el momento sobre comprensión de lenguaje y aplicaciones que usan comprensión de lenguaje, no sólo en un ambiente tecnológico de computación, sino también en aplicaciones científicas o disciplinas sociales (historia, antropología, etc.). Esto hay que tenerlo presente cuando no sepa qué hacer.\n",
    "\n",
    "NOTA2: También es importante recordar que DL es sólo una herramienta para encarar los problemas de NLP o NLU. Es decir, primero fue el álgebra lineal, después el procesamiento de señales y ahora esto. Puede que mañana exista una herramienta nueva que funcione mejor, por lo que es necesario pensar en un problema concreto para resolver y tener la cabeza abierta a las diferentes herramientas. Además, esta postura no cambia muy rápidamente en el tiempo. Si uno piensa en las herramientas como las redes neuronales, siente que no le alcanzan las horas del día para entender un modelo que ya apareció uno nuevo que funciona diez veces mejor. Por eso, ocuparse sólamente de las herramientas es importante porque permite avanzar y profundizar mucho, tiene esta desventaja. En cambio, ocuparse de una problemática que utiliza estas herramientas no da la misma sensación, puesto que los objetivos ya están fijados (hacer una traducción automática, clasificar texto, etc.) y no van a cambiar dentro de mucho."
   ]
  },
  {
   "cell_type": "markdown",
   "metadata": {},
   "source": [
    "# Procesamiento y Comprensión del Lenguaje Natural"
   ]
  },
  {
   "cell_type": "markdown",
   "metadata": {},
   "source": [
    "## Introducción\n",
    "\n",
    "**(Definición de la tarea)** Acá hay que explicar de qué se trata NLP y NLU, y qué aplicaciones tiene. \n",
    "\n",
    "**(Herramientas para la tarea)** Acá hay que explicar básicamente qué es DL y ML, y cómo se utiliza para resolver NLP y NLU.\n",
    "\n",
    "**(Evaluación de la tarea)** ?"
   ]
  },
  {
   "cell_type": "markdown",
   "metadata": {},
   "source": [
    "## Algoritmos de NLP y NLU\n",
    "\n",
    "Acá empezamos a reproducir el material de los cursos cs224n y cs224u. Ver notebooks correspondientes..."
   ]
  }
 ],
 "metadata": {
  "kernelspec": {
   "display_name": "Python 3",
   "language": "python",
   "name": "python3"
  },
  "language_info": {
   "codemirror_mode": {
    "name": "ipython",
    "version": 3
   },
   "file_extension": ".py",
   "mimetype": "text/x-python",
   "name": "python",
   "nbconvert_exporter": "python",
   "pygments_lexer": "ipython3",
   "version": "3.7.3"
  }
 },
 "nbformat": 4,
 "nbformat_minor": 2
}
