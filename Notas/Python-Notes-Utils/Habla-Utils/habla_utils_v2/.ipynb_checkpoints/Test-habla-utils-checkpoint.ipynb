{
 "cells": [
  {
   "cell_type": "code",
   "execution_count": 2,
   "metadata": {},
   "outputs": [],
   "source": [
    "import numpy as np\n",
    "%matplotlib notebook\n",
    "from matplotlib import pyplot as plt\n",
    "from matplotlib import rcParams\n",
    "rcParams['figure.figsize'] = (8.0, 4.0)\n",
    "\n",
    "from utils import *\n",
    "from LPC import *\n",
    "\n",
    "%load_ext autoreload\n",
    "%autoreload 2"
   ]
  },
  {
   "cell_type": "code",
   "execution_count": 11,
   "metadata": {},
   "outputs": [
    {
     "name": "stdout",
     "output_type": "stream",
     "text": [
      "Cuantización original: int16. El vector x es de tipo np.float64\n",
      "sig_int16.x.dtype = float64\n",
      "sig_int16.bits =  <class 'numpy.int16'>\n",
      "Cuantización original: int32. El vector x es de tipo np.float64\n",
      "sig_int32.x.dtype = float64\n",
      "sig_int32.bits =  <class 'numpy.int32'>\n"
     ]
    }
   ],
   "source": [
    "sig_int16 = Signal.from_wav('./fantasia_int16.wav')\n",
    "print('sig_int16.x.dtype =', sig_int16.x.dtype)\n",
    "print('sig_int16.bits = ',sig_int16.bits)\n",
    "#sig_int16.to_wav('fantasia_int16.wav')\n",
    "\n",
    "#sig_int32 = Signal(sig_int16.x.copy().astype(np.int32),Fs=sig_int16.Fs,bits=np.int32)\n",
    "#print('sig_int32.x.dtype =', sig_int32.x.dtype)\n",
    "#print('sig_int32.bits = ',sig_int32.bits)\n",
    "#sig_int32.to_wav('fantasia_int32.wav')\n",
    "\n",
    "sig_int32 = Signal.from_wav('./fantasia_int32.wav')\n",
    "print('sig_int32.x.dtype =', sig_int32.x.dtype)\n",
    "print('sig_int32.bits = ',sig_int32.bits)\n",
    "\n",
    "\n",
    "sig_float32 = Signal(sig_int16.x.copy().astype(np.int32),Fs=sig_int16.Fs,bits=np.int32)\n"
   ]
  }
 ],
 "metadata": {
  "kernelspec": {
   "display_name": "Python 3",
   "language": "python",
   "name": "python3"
  },
  "language_info": {
   "codemirror_mode": {
    "name": "ipython",
    "version": 3
   },
   "file_extension": ".py",
   "mimetype": "text/x-python",
   "name": "python",
   "nbconvert_exporter": "python",
   "pygments_lexer": "ipython3",
   "version": "3.6.5"
  }
 },
 "nbformat": 4,
 "nbformat_minor": 2
}
