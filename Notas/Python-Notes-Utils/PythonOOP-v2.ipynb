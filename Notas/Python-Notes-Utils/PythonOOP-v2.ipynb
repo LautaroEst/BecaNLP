{
 "cells": [
  {
   "cell_type": "markdown",
   "metadata": {},
   "source": [
    "# Back to basics: Python OOP\n",
    "\n",
    "Todas las cosas en Python se representan con objetos o con relaciones entre los objetos. (Ver [link](https://docs.python.org/3/reference/datamodel.html)). En la práctica, esto va a ser útil para trabajar con conjuntos de datos que después van a ser usados por funciones de entrenamiento. Por ejemplo:"
   ]
  },
  {
   "cell_type": "code",
   "execution_count": 1,
   "metadata": {},
   "outputs": [
    {
     "name": "stdout",
     "output_type": "stream",
     "text": [
      "Entrenando modelo...\n",
      "Entrenando modelo...\n",
      "Entrenando modelo...\n",
      "Entrenando modelo...\n",
      "Los resultados fueron  buenos resultados\n"
     ]
    }
   ],
   "source": [
    "class myDataset(object):    \n",
    "    atr1 = []\n",
    "    atr2 = []\n",
    "    def LoadData(self):\n",
    "        pass\n",
    "\n",
    "def TrainModel(myData, epochs=2):    \n",
    "    for e in range(epochs):\n",
    "        print('Entrenando modelo...')\n",
    "    return 'buenos resultados'\n",
    "\n",
    "data = myDataset()\n",
    "history = TrainModel(data,epochs=4) \n",
    "print('Los resultados fueron ', history)"
   ]
  },
  {
   "cell_type": "markdown",
   "metadata": {},
   "source": [
    "Los objetos tienen una **identidad**, un **tipo** y un **valor**.\n",
    "\n",
    "La función `id()` me devuelve la identidad del objeto (su dirección de memoria).\n",
    "\n",
    "La función `type()` me devuelve un objeto que representa su tipo. "
   ]
  },
  {
   "cell_type": "code",
   "execution_count": 10,
   "metadata": {},
   "outputs": [
    {
     "ename": "AttributeError",
     "evalue": "'int' object has no attribute '__bases__'",
     "output_type": "error",
     "traceback": [
      "\u001b[0;31m---------------------------------------------------------------------------\u001b[0m",
      "\u001b[0;31mAttributeError\u001b[0m                            Traceback (most recent call last)",
      "\u001b[0;32m<ipython-input-10-048f307c72d7>\u001b[0m in \u001b[0;36m<module>\u001b[0;34m\u001b[0m\n\u001b[1;32m      1\u001b[0m \u001b[0ma\u001b[0m \u001b[0;34m=\u001b[0m \u001b[0;36m1\u001b[0m\u001b[0;34m\u001b[0m\u001b[0;34m\u001b[0m\u001b[0m\n\u001b[0;32m----> 2\u001b[0;31m \u001b[0ma\u001b[0m\u001b[0;34m.\u001b[0m\u001b[0m__bases__\u001b[0m\u001b[0;34m\u001b[0m\u001b[0;34m\u001b[0m\u001b[0m\n\u001b[0m",
      "\u001b[0;31mAttributeError\u001b[0m: 'int' object has no attribute '__bases__'"
     ]
    }
   ],
   "source": [
    "a = 1\n",
    "a."
   ]
  },
  {
   "cell_type": "code",
   "execution_count": 17,
   "metadata": {},
   "outputs": [
    {
     "name": "stdout",
     "output_type": "stream",
     "text": [
      "<class 'int'>\n",
      "<class 'list'>\n",
      "<class 'module'>\n",
      "<class 'type'>\n",
      "<class '__main__.MyClass'>\n",
      "<class '__main__.MyClass'>\n"
     ]
    }
   ],
   "source": [
    "a = 1\n",
    "\n",
    "b = [1,2,3,4]\n",
    "\n",
    "import numpy as np\n",
    "\n",
    "class MyClass(object):\n",
    "    i = 1\n",
    "    def method1(self):\n",
    "        pass\n",
    "    \n",
    "c = MyClass()    \n",
    "\n",
    "print(a.__class__)\n",
    "print(b.__class__)\n",
    "print(np.__class__)\n",
    "print(float.__class__)\n",
    "print(c.__class__)"
   ]
  },
  {
   "cell_type": "code",
   "execution_count": 26,
   "metadata": {},
   "outputs": [
    {
     "name": "stdout",
     "output_type": "stream",
     "text": [
      "False\n",
      "False\n",
      "<class 'module'>\n",
      "<class 'module'>\n"
     ]
    }
   ],
   "source": [
    "import torch\n",
    "print('__class__' in dir(torch))\n",
    "print('__class__' in inspect.getmembers(torch))\n",
    "\n",
    "print(torch.__class__)\n",
    "print(type(torch))\n"
   ]
  }
 ],
 "metadata": {
  "kernelspec": {
   "display_name": "Python 3",
   "language": "python",
   "name": "python3"
  },
  "language_info": {
   "codemirror_mode": {
    "name": "ipython",
    "version": 3
   },
   "file_extension": ".py",
   "mimetype": "text/x-python",
   "name": "python",
   "nbconvert_exporter": "python",
   "pygments_lexer": "ipython3",
   "version": "3.7.3"
  }
 },
 "nbformat": 4,
 "nbformat_minor": 2
}
