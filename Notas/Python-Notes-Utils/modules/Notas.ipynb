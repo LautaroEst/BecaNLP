{
 "cells": [
  {
   "cell_type": "markdown",
   "metadata": {},
   "source": [
    "# Importación de módulos y archivos\n",
    "\n",
    "El comando \n",
    "\n",
    "```Python\n",
    "import module1\n",
    "```\n",
    "\n",
    "busca en ciertos directorios (entre ellos, el que se está trabajando) si hay un archivo o una carpeta llamada `module1`. Si hay un archivo con ese nombre, va a devolver un objeto de tipo *módulo* llamado `module1` que va contener a todas las funciones y variables definidas dentro de él. Si, en cambio, hay una carpeta con ese nombre entonces va a devolver un objeto de tipo *módulo* llamado `module1`, con el cual no se va a poder hacer nada interesante. Ahora, si esa carpeta tiene adentro un archivo `__init__.py` entonces el objeto anterior ahora sí va contener a todas las variables y funciones definidas en ese archivo. "
   ]
  }
 ],
 "metadata": {
  "kernelspec": {
   "display_name": "Python 3",
   "language": "python",
   "name": "python3"
  },
  "language_info": {
   "codemirror_mode": {
    "name": "ipython",
    "version": 3
   },
   "file_extension": ".py",
   "mimetype": "text/x-python",
   "name": "python",
   "nbconvert_exporter": "python",
   "pygments_lexer": "ipython3",
   "version": "3.7.3"
  }
 },
 "nbformat": 4,
 "nbformat_minor": 2
}
