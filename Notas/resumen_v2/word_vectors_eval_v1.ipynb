{
 "cells": [
  {
   "cell_type": "markdown",
   "metadata": {},
   "source": [
    "# Word Vectors Evaluation\n",
    "\n",
    "Una vez entrenado el modelo SkipGram (o el que fuere), es necesario comprobar que los word vectors aprendidos forman una buena representación del significado. Para eso, existen diferentes tareas de evaluación y diferentes corpus estándares que permiten mostrar si los vectores se comportan como deberían. A continuación mostramos ejemplos de estas tareas."
   ]
  },
  {
   "cell_type": "code",
   "execution_count": null,
   "metadata": {},
   "outputs": [],
   "source": []
  }
 ],
 "metadata": {
  "kernelspec": {
   "display_name": "Python 3",
   "language": "python",
   "name": "python3"
  },
  "language_info": {
   "codemirror_mode": {
    "name": "ipython",
    "version": 3
   },
   "file_extension": ".py",
   "mimetype": "text/x-python",
   "name": "python",
   "nbconvert_exporter": "python",
   "pygments_lexer": "ipython3",
   "version": "3.7.3"
  }
 },
 "nbformat": 4,
 "nbformat_minor": 2
}
