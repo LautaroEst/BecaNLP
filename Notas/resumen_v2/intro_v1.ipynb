{
 "cells": [
  {
   "cell_type": "markdown",
   "metadata": {},
   "source": [
    "# Introducción a NLP\n",
    "\n",
    "Vamos a trabajar con las tareas de Procesamiento de Languaje Natural que involucran recibir un texto y tomar una decisión a partir de él.\n",
    "\n",
    "Por ejemplo, si se quiere deducir si el contenido de un *tweet* tiene una connotación positiva o negativa va a ser necesario hacer una función capaz de recibir el contenido del *tweet* y decidir si pertence a alguna de las clases \"positivo\" y \"negativo\".\n",
    "\n",
    "FOTO DE DOS TWEETS POSITIVOS Y NEGATIVOS\n",
    "\n",
    "Como puede observarse, esta tarea puede resultar muy ambigua a veces, por lo que habría que determinar un criterio bien claro de qué se considera positivo y qué se considera negativo. \n",
    "\n",
    "Otro ejemplo es el de predicción de texto. Dado una secuencia de palabras, se desea decidir la siguiente palabra que completa la frase:\n",
    "\n",
    "EJEMPLO DE PREDICCIÓN DE TEXTO\n",
    "\n",
    "Acá se ve que no hay una única opción para completar la frase y que el texto mantenga una coherencia. Por ahora no vamos a lidiar con el problema de la ambigüedad, puesto que hay que determinar otras cosas más básicas antes.\n",
    "\n",
    "## Modelo de lenguaje\n",
    "\n",
    "Dado que siempre vamos a considerar que recibimos un texto, el primer paso para automatizar tareas como las mencionadas anteriormente es **identificar el contenido del texto de entrada**. \n",
    "\n",
    "De esta tarea que parece tan simple a primera vista, puede hablarse un capítulo entero. Nosotros vamos a considerar que el texto recibido puede representarse como una secuencia temporal de elementos llamados **tokens**, y lo que queremos hacer es mapear cada uno de estos tokens en un objeto matemático más manejable. De nuevo, hay muchas formas de hacer este mapeo, y la mejor de ellas va a depender del tipo de tarea que se quiera realizar (y de la cantidad de recursos que se disponga y de la velocidad de ejecución y de la tasa de aciertos y del resto de requerimientos que se definan para el problema).\n",
    "\n",
    "Cuando existe un conjunto de posibles tokens que pueden aparecer en el texto, definimos un **vocabulario**, con lo cual sólo hay que encontrar un mapeo para cada uno de los elementos pertenecientes a él.\n",
    "\n",
    "Ahora, para hacer un mapeo de este tipo se suele asignar una probabilidad a cada una de las secuencias de tokens que aparecen en el texto y tomar una desición al respecto. Una manera sería...\n",
    "\n",
    "\n",
    "## Word Vectors\n",
    "\n",
    "A pesar de que no hay una única manera de mapear cada token en un objeto, una de las maneras más populares en este momento es con *word vectors*, es decir, vectores que representan el significado de la palabra en un espacio de gran dimensión ($\\mathbb{R}^{50}$, $\\mathbb{R}^{100}$, $\\mathbb{R}^{200}$ e inclusive más) de manera que las propiedades algebráicas de ese espacio permiten encontrar relaciones útiles para resolver la tarea en cuestión.\n",
    "\n",
    "Por ejemplo, dado un texto con connotación positiva, sería posible asignar un vector de este espacio a cada token del texto y representar al texto como la suma de estos vectores. Luego, si el vector resultante está más cerca (según una cierta métrica definida sobre ese espacio) de palabras como \"bueno\", \"positivo\", \"bien\" que de palabras como \"malo\" o \"mal\", entonces clasificar al texto como positivo.\n",
    "\n",
    "Este proceso puede verse como una primera extracción de features, dado que la idea es obtener una mejor representación de la entrada al modelo. En este caso, las características extraídas suelen estar relacionadas con el significado de las palabras.\n",
    "\n"
   ]
  }
 ],
 "metadata": {
  "kernelspec": {
   "display_name": "Python 3",
   "language": "python",
   "name": "python3"
  },
  "language_info": {
   "codemirror_mode": {
    "name": "ipython",
    "version": 3
   },
   "file_extension": ".py",
   "mimetype": "text/x-python",
   "name": "python",
   "nbconvert_exporter": "python",
   "pygments_lexer": "ipython3",
   "version": "3.7.3"
  }
 },
 "nbformat": 4,
 "nbformat_minor": 2
}
