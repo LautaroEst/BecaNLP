{
 "cells": [
  {
   "cell_type": "markdown",
   "metadata": {},
   "source": [
    "# Procesamiento de texto para tareas de NLP\n",
    "\n",
    "Si quisieramos hacer un modelo de Machine Learning para clasificación de imágenes, la primera parte del trabajo sería obtener las imágenes a clasificar (posiblemente en un formato .png o similar) y cargar cada una de ellas en la memoria como una matriz RGB, es decir, como un tensor de dimensión 3xWxH, donde W y H son el ancho y el alto de la imagen, respectivamente. Esta codificación es estándar para imágenes y es casi la única que existe para este tipo de tareas.\n",
    "\n",
    "Sin embargo, para los conjuntos de datos de texto que se utilizan en NLP no hay una codificación estándar (es decir, no hay algo como el \"RGB\" para texto). Por eso, resulta necesario definir, además del modelo y de las muestras, la codificación entre palabras del texto con el que se trabaja, y los vectores que serán utilizados en el modelo de aprendizaje.\n",
    "\n",
    "Por ejemplo, "
   ]
  }
 ],
 "metadata": {
  "kernelspec": {
   "display_name": "Python 3",
   "language": "python",
   "name": "python3"
  },
  "language_info": {
   "codemirror_mode": {
    "name": "ipython",
    "version": 3
   },
   "file_extension": ".py",
   "mimetype": "text/x-python",
   "name": "python",
   "nbconvert_exporter": "python",
   "pygments_lexer": "ipython3",
   "version": "3.7.3"
  }
 },
 "nbformat": 4,
 "nbformat_minor": 2
}
