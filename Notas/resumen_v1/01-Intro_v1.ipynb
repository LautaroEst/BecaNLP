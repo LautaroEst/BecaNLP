{
 "cells": [
  {
   "cell_type": "markdown",
   "metadata": {},
   "source": [
    "# Natural Language Processing\n",
    "\n",
    "---\n",
    "\n",
    "## 1. El vocabulario\n",
    "\n",
    "Todas las tareas de NLP tienen como punto de partida un canjunto de texto. Quizás, se desee hacer traducción de idioma, predicción de texto o simplemente encontrar patrones comunes en el texto, pero siempre partimos de una sucesión de símbolos (o **tokens**) que conforman el texto sobre el cual se realiza la tarea. Por este motivo, el primer paso para realizar la tarea es definir el **vocabulario**, es decir, el conjunto de posibles tokens que pueden aparecer en el texto, sobre el cual se realizará la tarea. \n",
    "\n",
    "*EXPLICAR UN POCO MÁS EN DETALLE EL VOCABULARIO*\n",
    "\n",
    "\n",
    "## 2. Lenguaje\n",
    "\n",
    "Una vez definido el vocabulario, se tiene acceso a un conjunto de vectores que representan a los tokens que conforman el vocabulario. Podrías hacerse hincapié en la forma de representar estos tokens, pero la manera más común (por lejos) es mediante vectores one-hot. \n",
    "\n",
    "*EXPLAYARSE UN POCO MÁS*\n",
    "\n",
    "Ahora bien, queda claro que una simple disposición de los tokens no contribuye a una comprensión a nivel lenguaje del texto. Para ello, es necesario estimar algún tipo de información sobre las reglas de ese lenguaje, es decir, hacer un modelo del lenguaje que constituye al texto. Concretamente, un **modelo de lenguaje** es tener acceso a las probabilidades que permiten predecir una palabra a partir de una secuencia de palabras.\n",
    "\n",
    "*SEGUIR EXPLICANDO*\n",
    "\n",
    "Al tener esta información, es posible realizar muchas tareas de NLP. Por ejemplo... *CONTINUAR*\n",
    "\n",
    "## 3. Word Vectors\n",
    "\n"
   ]
  }
 ],
 "metadata": {
  "kernelspec": {
   "display_name": "Python 3",
   "language": "python",
   "name": "python3"
  },
  "language_info": {
   "codemirror_mode": {
    "name": "ipython",
    "version": 3
   },
   "file_extension": ".py",
   "mimetype": "text/x-python",
   "name": "python",
   "nbconvert_exporter": "python",
   "pygments_lexer": "ipython3",
   "version": "3.7.3"
  }
 },
 "nbformat": 4,
 "nbformat_minor": 2
}
