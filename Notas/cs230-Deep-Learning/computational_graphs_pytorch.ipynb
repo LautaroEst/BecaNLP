{
 "cells": [
  {
   "cell_type": "code",
   "execution_count": 1,
   "metadata": {},
   "outputs": [],
   "source": [
    "import torch"
   ]
  },
  {
   "cell_type": "code",
   "execution_count": 37,
   "metadata": {},
   "outputs": [
    {
     "name": "stdout",
     "output_type": "stream",
     "text": [
      "None None None\n",
      "tensor([3.]) tensor([6.]) tensor([9.])\n"
     ]
    }
   ],
   "source": [
    "a = torch.tensor([5.],requires_grad=True)\n",
    "b = torch.tensor([3.],requires_grad=True)\n",
    "c = torch.tensor([2.],requires_grad=True)\n",
    "\n",
    "u = b * c\n",
    "v = a + u\n",
    "J = 3 * v # J = 3 * (a + b * c)\n",
    "\n",
    "print(a.grad, b.grad, c.grad)\n",
    "J.backward() \n",
    "# dJ/da = 3\n",
    "# dJ/db = 3*c = 6\n",
    "# dJ/dc = 3*b = 9\n",
    "print(a.grad, b.grad, c.grad)"
   ]
  }
 ],
 "metadata": {
  "kernelspec": {
   "display_name": "Python 3",
   "language": "python",
   "name": "python3"
  },
  "language_info": {
   "codemirror_mode": {
    "name": "ipython",
    "version": 3
   },
   "file_extension": ".py",
   "mimetype": "text/x-python",
   "name": "python",
   "nbconvert_exporter": "python",
   "pygments_lexer": "ipython3",
   "version": "3.7.7"
  }
 },
 "nbformat": 4,
 "nbformat_minor": 4
}
