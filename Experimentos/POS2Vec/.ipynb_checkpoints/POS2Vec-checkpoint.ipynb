{
 "cells": [
  {
   "cell_type": "markdown",
   "metadata": {},
   "source": [
    "# POS2Vec\n",
    "\n",
    "En este experimento vamos a hacer 2 cosas:\n",
    "\n",
    "1. Entrenar un modelo de atención que sirva para clasificar sentimientos.\n",
    "\n",
    "2. Entrenar un conjunto de vectores posicionales con POS2Vec y probar a ver si da alguna mejora en el modelo anterior.\n",
    "\n",
    "Para todo esto vamos a usar SST y GloVe.\n",
    "\n",
    "Desventajas del modelo:\n",
    "\n",
    "* No sirve para tokenizaciones con subwords directamente, ya que no se le asigna un POS tag al subword. Se podría pensar en asignar el mismo tag a todas las subpalabras de una palabra. No sé. Hay que verlo.\n",
    "\n",
    "* Sólo tiene sentido para modelos con atención ya que la red recurrente tiene una estructura y no necesita vectores posicionales.\n",
    "\n",
    "POS2Vec consiste en entrenar POS tags con los mismos algoritmos que se usan para entrenar word embeddings. Esto puede funcionar o no."
   ]
  },
  {
   "cell_type": "code",
   "execution_count": 4,
   "metadata": {},
   "outputs": [
    {
     "data": {
      "text/html": [
       "<div>\n",
       "<style scoped>\n",
       "    .dataframe tbody tr th:only-of-type {\n",
       "        vertical-align: middle;\n",
       "    }\n",
       "\n",
       "    .dataframe tbody tr th {\n",
       "        vertical-align: top;\n",
       "    }\n",
       "\n",
       "    .dataframe thead th {\n",
       "        text-align: right;\n",
       "    }\n",
       "</style>\n",
       "<table border=\"1\" class=\"dataframe\">\n",
       "  <thead>\n",
       "    <tr style=\"text-align: right;\">\n",
       "      <th></th>\n",
       "      <th>comment</th>\n",
       "      <th>rate</th>\n",
       "    </tr>\n",
       "  </thead>\n",
       "  <tbody>\n",
       "    <tr>\n",
       "      <th>0</th>\n",
       "      <td>[The, Rock, is, destined, to, be, the, 21st, C...</td>\n",
       "      <td>3</td>\n",
       "    </tr>\n",
       "    <tr>\n",
       "      <th>1</th>\n",
       "      <td>[The, gorgeously, elaborate, continuation, of,...</td>\n",
       "      <td>4</td>\n",
       "    </tr>\n",
       "    <tr>\n",
       "      <th>2</th>\n",
       "      <td>[Singer\\/composer, Bryan, Adams, contributes, ...</td>\n",
       "      <td>3</td>\n",
       "    </tr>\n",
       "    <tr>\n",
       "      <th>3</th>\n",
       "      <td>[You, 'd, think, by, now, America, would, have...</td>\n",
       "      <td>2</td>\n",
       "    </tr>\n",
       "    <tr>\n",
       "      <th>4</th>\n",
       "      <td>[Yet, the, act, is, still, charming, here, .]</td>\n",
       "      <td>3</td>\n",
       "    </tr>\n",
       "  </tbody>\n",
       "</table>\n",
       "</div>"
      ],
      "text/plain": [
       "                                             comment  rate\n",
       "0  [The, Rock, is, destined, to, be, the, 21st, C...     3\n",
       "1  [The, gorgeously, elaborate, continuation, of,...     4\n",
       "2  [Singer\\/composer, Bryan, Adams, contributes, ...     3\n",
       "3  [You, 'd, think, by, now, America, would, have...     2\n",
       "4      [Yet, the, act, is, still, charming, here, .]     3"
      ]
     },
     "execution_count": 4,
     "metadata": {},
     "output_type": "execute_result"
    }
   ],
   "source": [
    "import sst\n",
    "\n",
    "df = sst.as_frame(data='train',n_classes=2)\n",
    "#df['comment'] = df['comment'].str.join(' ')\n",
    "df.head(5)"
   ]
  },
  {
   "cell_type": "code",
   "execution_count": 8,
   "metadata": {},
   "outputs": [
    {
     "data": {
      "text/plain": [
       "{'the': 0}"
      ]
     },
     "execution_count": 8,
     "metadata": {},
     "output_type": "execute_result"
    }
   ],
   "source": [
    "from collections import defaultdict\n",
    "\n",
    "token2idx = defaultdict()\n",
    "token2idx.default_factory = token2idx.__len__\n",
    "\n",
    "df['comment']"
   ]
  }
 ],
 "metadata": {
  "kernelspec": {
   "display_name": "Python 3",
   "language": "python",
   "name": "python3"
  },
  "language_info": {
   "codemirror_mode": {
    "name": "ipython",
    "version": 3
   },
   "file_extension": ".py",
   "mimetype": "text/x-python",
   "name": "python",
   "nbconvert_exporter": "python",
   "pygments_lexer": "ipython3",
   "version": "3.7.7"
  }
 },
 "nbformat": 4,
 "nbformat_minor": 4
}
