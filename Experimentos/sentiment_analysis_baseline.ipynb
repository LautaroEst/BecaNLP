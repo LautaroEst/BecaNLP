{
 "cells": [
  {
   "cell_type": "code",
   "execution_count": 2,
   "metadata": {},
   "outputs": [],
   "source": [
    "import sys, os\n",
    "sys.path.append(os.path.join(sys.path[0].split('BecaNLP')[0],'BecaNLP/Utils'))\n",
    "\n",
    "import NLPUtils as nlp\n",
    "\n",
    "import numpy as np\n",
    "import pandas as pd\n",
    "import matplotlib.pyplot as plt\n",
    "\n",
    "%load_ext autoreload\n",
    "%autoreload 2"
   ]
  },
  {
   "cell_type": "code",
   "execution_count": null,
   "metadata": {},
   "outputs": [],
   "source": [
    "from NLPUtils.datasets.utils import split_dev_kfolds, NgramCountVectorizer\n",
    "from NLPUtils.classifiers import MultinomialNB, BernoulliNB\n",
    "from sklearn.metrics import f1_score"
   ]
  },
  {
   "cell_type": "markdown",
   "metadata": {},
   "source": [
    "# Baseline para Sentiment Analisis binario"
   ]
  },
  {
   "cell_type": "markdown",
   "metadata": {},
   "source": [
    "## IMDb corpus"
   ]
  },
  {
   "cell_type": "code",
   "execution_count": 11,
   "metadata": {},
   "outputs": [
    {
     "data": {
      "text/plain": [
       "array([0.87377499, 0.86851776])"
      ]
     },
     "execution_count": 11,
     "metadata": {},
     "output_type": "execute_result"
    }
   ],
   "source": [
    "from NLPUtils.datasets import imdb\n",
    "\n",
    "def vectorize_imdb_data(df_all,train_idx,dev_idx):\n",
    "    train_corpus = df_all.iloc[train_idx,0]\n",
    "    dev_corpus = df_all.iloc[dev_idx,0]\n",
    "\n",
    "    vectorizer = NgramCountVectorizer(token_pattern=r'\\b\\w+\\b',unk_token=None,\n",
    "                 min_freq=1,max_freq=np.inf,ngram_range=(1,2),max_features=50000)\n",
    "    X_train = vectorizer.fit_transform(train_corpus)\n",
    "    X_dev = vectorizer.transform(dev_corpus)\n",
    "\n",
    "    y_train = df_all.iloc[train_idx,1].values.copy()\n",
    "    y_train[y_train < 5] = 0\n",
    "    y_train[y_train > 6] = 1\n",
    "    y_dev = df_all.iloc[dev_idx,1].values.copy()\n",
    "    y_dev[y_dev < 5] = 0\n",
    "    y_dev[y_dev > 6] = 1\n",
    "    \n",
    "    return X_train, y_train, X_dev, y_dev\n",
    "\n",
    "df_all = imdb.train_reader()\n",
    "k_folds = split_dev_kfolds(len(df_all),k_folds=5,random_state=12345)\n",
    "train_idx, dev_idx = k_folds[0] # falta hacer un k-fold de verdad\n",
    "X_train, y_train, X_dev, y_dev = vectorize_imdb_data(df_all,train_idx,dev_idx)\n",
    "classifier = MultinomialNB()\n",
    "classifier.fit(X_train,y_train)\n",
    "y_predict = classifier.predict(X_dev)\n",
    "score = f1_score(y_dev,y_predict,average=None) # falta implementar f1_score de verdad\n",
    "score"
   ]
  },
  {
   "cell_type": "markdown",
   "metadata": {},
   "source": [
    "## SST Corpus"
   ]
  },
  {
   "cell_type": "code",
   "execution_count": 45,
   "metadata": {},
   "outputs": [
    {
     "data": {
      "text/plain": [
       "array([0.75456712, 0.79522863])"
      ]
     },
     "execution_count": 45,
     "metadata": {},
     "output_type": "execute_result"
    }
   ],
   "source": [
    "from NLPUtils.datasets import sst\n",
    "\n",
    "def vectorize_sst_data(corpus_all,train_idx,dev_idx):\n",
    "    train_corpus = (corpus_all[i][0] for i in train_idx)\n",
    "    dev_corpus = (corpus_all[i][0] for i in dev_idx)\n",
    "\n",
    "    vectorizer = NgramCountVectorizer(token_pattern=None,unk_token=None,\n",
    "                 min_freq=1,max_freq=np.inf,ngram_range=(1,1),max_features=None)\n",
    "    X_train = vectorizer.fit_transform(train_corpus)\n",
    "    X_dev = vectorizer.transform(dev_corpus)\n",
    "\n",
    "    y_train = np.array([corpus_all[i][1] for i in train_idx])\n",
    "    y_dev = np.array([corpus_all[i][1] for i in dev_idx])\n",
    "    \n",
    "    return X_train, y_train, X_dev, y_dev\n",
    "\n",
    "def binary_class_func(y):\n",
    "    if y in ('0','1'):\n",
    "        return 0\n",
    "    elif y in ('3','4'):\n",
    "        return 1\n",
    "\n",
    "corpus_all = [(tree.leaves(), label) for tree, label in sst.train_reader(class_func=binary_class_func)]\n",
    "k_folds = split_dev_kfolds(len(corpus_all),k_folds=5,random_state=12345)\n",
    "train_idx, dev_idx = k_folds[0] # falta hacer un k-fold de verdad\n",
    "X_train, y_train, X_dev, y_dev = vectorize_sst_data(corpus_all,train_idx,dev_idx)\n",
    "classifier = MultinomialNB()\n",
    "classifier.fit(X_train,y_train)\n",
    "y_predict = classifier.predict(X_dev)\n",
    "score = f1_score(y_dev,y_predict,average=None) # falta implementar f1_score de verdad\n",
    "score"
   ]
  }
 ],
 "metadata": {
  "kernelspec": {
   "display_name": "Python 3",
   "language": "python",
   "name": "python3"
  },
  "language_info": {
   "codemirror_mode": {
    "name": "ipython",
    "version": 3
   },
   "file_extension": ".py",
   "mimetype": "text/x-python",
   "name": "python",
   "nbconvert_exporter": "python",
   "pygments_lexer": "ipython3",
   "version": "3.7.7"
  }
 },
 "nbformat": 4,
 "nbformat_minor": 4
}
