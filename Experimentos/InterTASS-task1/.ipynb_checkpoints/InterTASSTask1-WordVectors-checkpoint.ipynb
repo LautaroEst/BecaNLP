{
 "cells": [
  {
   "cell_type": "markdown",
   "metadata": {},
   "source": [
    "# InterTASS (task 1) con word vectors\n",
    "\n",
    "Vamos a probar resolver la tarea 1 del InterTASS pero con modelos que hagan uso de los word vectors. Es decir, ahora voy a tener que representar cada tweet como un conjunto de word vectors y eso lo voy a tener que mandar a una red que tome la decisión.\n",
    "\n",
    "## Experimentos a realizar:\n",
    "\n",
    "* Representar a cada palabra como un conjunto de cuentas de cada clase (P, N, Neu, None) y meterlo en una red. Es decir, para cada palabra, cuento la cantidad de veces que apareció en un tweet P, N, Neu y None, y armo un vector con esas cuentas. Variantes:\n",
    "    * Probar diferentes arquitecturas\n",
    "    * Probar normalizar el texto\n",
    "    * Probar normalizar las cuentas de esos vectores\n",
    "    * Probar con secuencias de caracteres de diferentes longitudes en lugar de palabras."
   ]
  }
 ],
 "metadata": {
  "kernelspec": {
   "display_name": "Python 3",
   "language": "python",
   "name": "python3"
  },
  "language_info": {
   "codemirror_mode": {
    "name": "ipython",
    "version": 3
   },
   "file_extension": ".py",
   "mimetype": "text/x-python",
   "name": "python",
   "nbconvert_exporter": "python",
   "pygments_lexer": "ipython3",
   "version": "3.7.7"
  }
 },
 "nbformat": 4,
 "nbformat_minor": 4
}
