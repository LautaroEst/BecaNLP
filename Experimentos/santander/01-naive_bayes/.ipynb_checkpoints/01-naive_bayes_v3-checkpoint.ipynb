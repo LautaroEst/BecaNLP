{
 "cells": [
  {
   "cell_type": "code",
   "execution_count": 1,
   "metadata": {},
   "outputs": [
    {
     "name": "stderr",
     "output_type": "stream",
     "text": [
      "[nltk_data] Downloading package punkt to /home/lestien/nltk_data...\n",
      "[nltk_data]   Package punkt is already up-to-date!\n"
     ]
    }
   ],
   "source": [
    "import sys, os\n",
    "sys.path.append(os.path.join(sys.path[0].split('Documents')[0],'Documents/BecaNLP/Utils'))\n",
    "\n",
    "import NLPUtils as nlp\n",
    "import pandas as pd\n",
    "import numpy as np\n",
    "\n",
    "%matplotlib inline\n",
    "import matplotlib.pyplot as plt\n",
    "\n",
    "%load_ext autoreload\n",
    "%autoreload 2"
   ]
  },
  {
   "cell_type": "markdown",
   "metadata": {},
   "source": [
    "# Cargamos el dataset"
   ]
  },
  {
   "cell_type": "code",
   "execution_count": 40,
   "metadata": {},
   "outputs": [],
   "source": [
    "df = pd.read_csv('../train.csv',sep = '|')\n",
    "df['Intencion'] = df.Intencion.str.findall(r'\\d+').apply(lambda x: int(x[0]))\n",
    "\n",
    "# # Me quedo con las n categorías más frecuentes:\n",
    "# n = 20\n",
    "# counts_values = df['Intencion'].value_counts()\n",
    "# keep_cats = counts_values.loc[counts_values >= n].index.tolist()\n",
    "# df = df.loc[df['Intencion'].isin(keep_cats)]\n",
    "# df.head()"
   ]
  },
  {
   "cell_type": "markdown",
   "metadata": {},
   "source": [
    "# Clasificación por Naive Bayes"
   ]
  },
  {
   "cell_type": "markdown",
   "metadata": {},
   "source": [
    "## Resultados importantes:\n",
    "\n",
    "* Los resultados no mejoran si saco clases.\n",
    "* No cambia si `fit_prior=False`\n",
    "* Con Bernoulli classifier da siempre lo mismo. No sé por qué."
   ]
  },
  {
   "cell_type": "code",
   "execution_count": 47,
   "metadata": {},
   "outputs": [
    {
     "name": "stderr",
     "output_type": "stream",
     "text": [
      "/home/lestien/anaconda3/envs/nlpenv-gpu/lib/python3.7/site-packages/sklearn/metrics/_classification.py:1859: UserWarning: y_pred contains classes not in y_true\n",
      "  warnings.warn('y_pred contains classes not in y_true')\n",
      "/home/lestien/anaconda3/envs/nlpenv-gpu/lib/python3.7/site-packages/sklearn/metrics/_classification.py:1859: UserWarning: y_pred contains classes not in y_true\n",
      "  warnings.warn('y_pred contains classes not in y_true')\n",
      "/home/lestien/anaconda3/envs/nlpenv-gpu/lib/python3.7/site-packages/sklearn/metrics/_classification.py:1859: UserWarning: y_pred contains classes not in y_true\n",
      "  warnings.warn('y_pred contains classes not in y_true')\n",
      "/home/lestien/anaconda3/envs/nlpenv-gpu/lib/python3.7/site-packages/sklearn/metrics/_classification.py:1859: UserWarning: y_pred contains classes not in y_true\n",
      "  warnings.warn('y_pred contains classes not in y_true')\n",
      "/home/lestien/anaconda3/envs/nlpenv-gpu/lib/python3.7/site-packages/sklearn/metrics/_classification.py:1859: UserWarning: y_pred contains classes not in y_true\n",
      "  warnings.warn('y_pred contains classes not in y_true')\n"
     ]
    },
    {
     "name": "stdout",
     "output_type": "stream",
     "text": [
      "threshold = 1.0\n",
      "{'accuracy': 0.046458038004903376, 'balanced_accuracy': 0.008075005783888964}\n",
      "threshold = 5.0\n",
      "{'accuracy': 0.02984446242185393, 'balanced_accuracy': 0.003269783057419788}\n",
      "threshold = 10.0\n",
      "{'accuracy': 0.02984446242185393, 'balanced_accuracy': 0.003269783057419788}\n",
      "threshold = 20.0\n",
      "{'accuracy': 0.02984446242185393, 'balanced_accuracy': 0.003269783057419788}\n",
      "threshold = 50.0\n",
      "{'accuracy': 0.02984446242185393, 'balanced_accuracy': 0.003269783057419788}\n",
      "threshold = 100.0\n",
      "{'accuracy': 0.02984446242185393, 'balanced_accuracy': 0.003269783057419788}\n"
     ]
    }
   ],
   "source": [
    "from sklearn.feature_extraction.text import CountVectorizer\n",
    "from sklearn.naive_bayes import MultinomialNB, BernoulliNB\n",
    "from utils import *\n",
    "\n",
    "ngram_range = (1,2)\n",
    "max_features_list = np.linspace(5000,80000,10)\n",
    "max_features_list = [None]\n",
    "#alphas = np.logspace(.00001,.01,10) - 1\n",
    "alpha = 0.002\n",
    "thresholds = [1., 5., 10., 20., 50., 100.]\n",
    "\n",
    "for threshold in thresholds:\n",
    "    vec = CountVectorizer(ngram_range=ngram_range,max_features=None,token_pattern=r'\\b\\w+\\b')\n",
    "    #model = MultinomialNB(alpha=alpha,fit_prior=False)\n",
    "    model = BernoulliNB(alpha=alpha,binarize=threshold)\n",
    "\n",
    "    scores = k_fold_validation(model,df,vec,reweight=None,k_folds=10,random_state=0,metrics=['accuracy','balanced_accuracy'])\n",
    "    #print('alpha = {:.5g}'.format(alpha))\n",
    "    print('threshold = {}'.format(threshold))\n",
    "    print(scores)\n",
    "    "
   ]
  },
  {
   "cell_type": "markdown",
   "metadata": {},
   "source": [
    "# Evaluamos en Test"
   ]
  },
  {
   "cell_type": "code",
   "execution_count": 44,
   "metadata": {},
   "outputs": [],
   "source": [
    "df_train = df\n",
    "df_test = pd.read_csv('../test_santander.csv')\n",
    "\n",
    "ngram_range = (1,2)\n",
    "max_features = None\n",
    "alpha = 0.0002\n",
    "vec = CountVectorizer(ngram_range=ngram_range, max_features=max_features,token_pattern=r'\\b\\w+\\b')\n",
    "\n",
    "model = MultinomialNB(alpha=alpha)\n",
    "\n",
    "X_train = vec.fit_transform(df_train['Pregunta'])\n",
    "X_test = vec.transform(df_test['Pregunta'])\n",
    "\n",
    "model.fit(X_train,df_train['Intencion'].values)\n",
    "y_pred = model.predict(X_test)\n",
    "df_test['Pregunta'] = y_pred\n",
    "df_test.to_csv('./results.csv',index=False,header=False)"
   ]
  }
 ],
 "metadata": {
  "kernelspec": {
   "display_name": "Python 3",
   "language": "python",
   "name": "python3"
  },
  "language_info": {
   "codemirror_mode": {
    "name": "ipython",
    "version": 3
   },
   "file_extension": ".py",
   "mimetype": "text/x-python",
   "name": "python",
   "nbconvert_exporter": "python",
   "pygments_lexer": "ipython3",
   "version": "3.7.7"
  }
 },
 "nbformat": 4,
 "nbformat_minor": 4
}
