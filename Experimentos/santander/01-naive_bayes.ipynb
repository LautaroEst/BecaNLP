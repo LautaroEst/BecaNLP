{
 "cells": [
  {
   "cell_type": "code",
   "execution_count": 8,
   "metadata": {},
   "outputs": [
    {
     "name": "stdout",
     "output_type": "stream",
     "text": [
      "The autoreload extension is already loaded. To reload it, use:\n",
      "  %reload_ext autoreload\n"
     ]
    }
   ],
   "source": [
    "import sys, os\n",
    "sys.path.append(os.path.join(sys.path[0].split('Documents')[0],'Documents/BecaNLP/Utils'))\n",
    "\n",
    "import NLPUtils as nlp\n",
    "import pandas as pd\n",
    "import numpy as np\n",
    "\n",
    "%load_ext autoreload\n",
    "%autoreload 2"
   ]
  },
  {
   "cell_type": "markdown",
   "metadata": {},
   "source": [
    "# Cargamos el dataset"
   ]
  },
  {
   "cell_type": "code",
   "execution_count": 5,
   "metadata": {},
   "outputs": [
    {
     "data": {
      "text/html": [
       "<div>\n",
       "<style scoped>\n",
       "    .dataframe tbody tr th:only-of-type {\n",
       "        vertical-align: middle;\n",
       "    }\n",
       "\n",
       "    .dataframe tbody tr th {\n",
       "        vertical-align: top;\n",
       "    }\n",
       "\n",
       "    .dataframe thead th {\n",
       "        text-align: right;\n",
       "    }\n",
       "</style>\n",
       "<table border=\"1\" class=\"dataframe\">\n",
       "  <thead>\n",
       "    <tr style=\"text-align: right;\">\n",
       "      <th></th>\n",
       "      <th>Pregunta</th>\n",
       "      <th>Intencion</th>\n",
       "    </tr>\n",
       "  </thead>\n",
       "  <tbody>\n",
       "    <tr>\n",
       "      <th>0</th>\n",
       "      <td>como puedo trabajar en santander rio</td>\n",
       "      <td>5</td>\n",
       "    </tr>\n",
       "    <tr>\n",
       "      <th>1</th>\n",
       "      <td>pagar tarjeta visa querer reintegro</td>\n",
       "      <td>272</td>\n",
       "    </tr>\n",
       "    <tr>\n",
       "      <th>2</th>\n",
       "      <td>pagar tarjeta naranja sistema</td>\n",
       "      <td>32</td>\n",
       "    </tr>\n",
       "    <tr>\n",
       "      <th>3</th>\n",
       "      <td>no se debitó la primera cuota del plan de bien...</td>\n",
       "      <td>28</td>\n",
       "    </tr>\n",
       "    <tr>\n",
       "      <th>4</th>\n",
       "      <td>abonar tarjeta credito</td>\n",
       "      <td>263</td>\n",
       "    </tr>\n",
       "  </tbody>\n",
       "</table>\n",
       "</div>"
      ],
      "text/plain": [
       "                                            Pregunta  Intencion\n",
       "0               como puedo trabajar en santander rio          5\n",
       "1                pagar tarjeta visa querer reintegro        272\n",
       "2                      pagar tarjeta naranja sistema         32\n",
       "3  no se debitó la primera cuota del plan de bien...         28\n",
       "4                             abonar tarjeta credito        263"
      ]
     },
     "execution_count": 5,
     "metadata": {},
     "output_type": "execute_result"
    }
   ],
   "source": [
    "df = pd.read_csv('train.csv',sep = '|')\n",
    "df.columns = ['Pregunta', 'Intencion']\n",
    "name2idx = {name:idx for idx, name in enumerate(sorted(list(df['Intencion'].unique())))}\n",
    "idx2name = {idx:name for idx, name in enumerate(sorted(list(df['Intencion'].unique())))}\n",
    "df['Intencion'] = df['Intencion'].apply(lambda name: name2idx[name])\n",
    "df.head()"
   ]
  },
  {
   "cell_type": "markdown",
   "metadata": {},
   "source": [
    "# Clasificación por Naive Bayes"
   ]
  },
  {
   "cell_type": "code",
   "execution_count": 13,
   "metadata": {},
   "outputs": [
    {
     "name": "stdout",
     "output_type": "stream",
     "text": [
      "[{'accuracy': 0.4276479363500746, 'f1_macro': 0.11083037255824181, 'balanced_accuracy': 0.11203234857896825}, {'accuracy': 0.4415713575335654, 'f1_macro': 0.11992319472422132, 'balanced_accuracy': 0.11991564180269566}, {'accuracy': 0.43709597215315765, 'f1_macro': 0.1138150779138369, 'balanced_accuracy': 0.11385251748423704}, {'accuracy': 0.4380905022376927, 'f1_macro': 0.11491178117173476, 'balanced_accuracy': 0.1181289664751111}, {'accuracy': 0.4318407960199005, 'f1_macro': 0.1080634650078449, 'balanced_accuracy': 0.11062202614078946}, {'accuracy': 0.42786069651741293, 'f1_macro': 0.12116740624533971, 'balanced_accuracy': 0.1236939453337916}, {'accuracy': 0.43333333333333335, 'f1_macro': 0.11992503460014857, 'balanced_accuracy': 0.12247858390975883}, {'accuracy': 0.42039800995024873, 'f1_macro': 0.11582367922981826, 'balanced_accuracy': 0.11714002133496677}, {'accuracy': 0.41890547263681593, 'f1_macro': 0.10761296387552796, 'balanced_accuracy': 0.10921750845227293}, {'accuracy': 0.43781094527363185, 'f1_macro': 0.1122013805492862, 'balanced_accuracy': 0.11542450503819356}]\n",
      "accuracy: 0.43146\n",
      "balanced accuracy: 0.11625\n",
      "f1 score macro: 0.11443\n"
     ]
    }
   ],
   "source": [
    "from NLPUtils.classification import k_fold_validation, BagOfNgramsVectorizer, MultinomialNB, SVCClassifier\n",
    "\n",
    "ngram_range = (1,1)\n",
    "max_features = 10000\n",
    "\n",
    "#model = MultinomialNB()\n",
    "model = SVCClassifier(C=2)\n",
    "dataset = df\n",
    "#vectorizer = BagOfNgramsVectorizer(ngram_range=ngram_range,max_features=max_features)\n",
    "vectorizer = BagOfNgramsVectorizer()\n",
    "\n",
    "scores = k_fold_validation(model,\n",
    "                           dataset,\n",
    "                           vectorizer,\n",
    "                           k_folds=10,\n",
    "                           random_state=0,\n",
    "                           metrics=['accuracy','f1_macro','balanced_accuracy'])\n",
    "\n",
    "accuracy = np.mean([score['accuracy'] for score in scores])\n",
    "f1_macro = np.mean([score['f1_macro'] for score in scores])\n",
    "balanced_accuracy = np.mean([score['balanced_accuracy'] for score in scores])\n",
    "print('accuracy: {:.5f}'.format(accuracy))\n",
    "print('balanced accuracy: {:.5f}'.format(balanced_accuracy))\n",
    "print('f1 score macro: {:.5f}'.format(f1_macro))"
   ]
  }
 ],
 "metadata": {
  "kernelspec": {
   "display_name": "Python 3",
   "language": "python",
   "name": "python3"
  },
  "language_info": {
   "codemirror_mode": {
    "name": "ipython",
    "version": 3
   },
   "file_extension": ".py",
   "mimetype": "text/x-python",
   "name": "python",
   "nbconvert_exporter": "python",
   "pygments_lexer": "ipython3",
   "version": "3.7.7"
  }
 },
 "nbformat": 4,
 "nbformat_minor": 4
}
